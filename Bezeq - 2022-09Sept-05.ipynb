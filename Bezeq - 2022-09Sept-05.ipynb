{
 "cells": [
  {
   "cell_type": "markdown",
   "metadata": {},
   "source": [
    "# Day 1:\n",
    "\n",
    "- Advanced data structures\n",
    "- function objects, function scoping\n",
    "- Inner functions\n",
    "- attribute lookup in objects\n",
    "- signals\n",
    "\n",
    "# Day 2:\n",
    "\n",
    "- iterators\n",
    "- generators\n",
    "- decorators\n",
    "- context managers\n",
    "- working with files\n",
    "- working with directories\n",
    "\n",
    "\n",
    "# Day 3:\n",
    "\n",
    "- file timestamps, hash functions, popular formats\n",
    "- logging\n",
    "- threads, processes, multiprocessing\n",
    "- simple Web apps for monitoring\n"
   ]
  },
  {
   "cell_type": "markdown",
   "metadata": {},
   "source": [
    "# Repo for the course: \n",
    "\n",
    "https://github.com/reuven/bezeq-2022-09Sept-advanced"
   ]
  },
  {
   "cell_type": "markdown",
   "metadata": {},
   "source": [
    "# `None`\n",
    "\n"
   ]
  },
  {
   "cell_type": "code",
   "execution_count": 1,
   "metadata": {},
   "outputs": [],
   "source": [
    "x = None"
   ]
  },
  {
   "cell_type": "code",
   "execution_count": 2,
   "metadata": {},
   "outputs": [
    {
     "data": {
      "text/plain": [
       "NoneType"
      ]
     },
     "execution_count": 2,
     "metadata": {},
     "output_type": "execute_result"
    }
   ],
   "source": [
    "type(x)"
   ]
  },
  {
   "cell_type": "code",
   "execution_count": 4,
   "metadata": {},
   "outputs": [
    {
     "name": "stdout",
     "output_type": "stream",
     "text": [
      "Yes, it is None!\n"
     ]
    }
   ],
   "source": [
    "if x == None:   # not Pythonic\n",
    "    print('Yes, it is None!')"
   ]
  },
  {
   "cell_type": "code",
   "execution_count": 6,
   "metadata": {},
   "outputs": [
    {
     "name": "stdout",
     "output_type": "stream",
     "text": [
      "Yes, it is None!\n"
     ]
    }
   ],
   "source": [
    "if x is None:   # Pythonic!\n",
    "    print('Yes, it is None!')"
   ]
  },
  {
   "cell_type": "code",
   "execution_count": 7,
   "metadata": {},
   "outputs": [
    {
     "data": {
      "text/plain": [
       "4501920112"
      ]
     },
     "execution_count": 7,
     "metadata": {},
     "output_type": "execute_result"
    }
   ],
   "source": [
    "# what does is do?\n",
    "\n",
    "id(x)"
   ]
  },
  {
   "cell_type": "code",
   "execution_count": 8,
   "metadata": {},
   "outputs": [
    {
     "data": {
      "text/plain": [
       "4501920112"
      ]
     },
     "execution_count": 8,
     "metadata": {},
     "output_type": "execute_result"
    }
   ],
   "source": [
    "id(None)"
   ]
  },
  {
   "cell_type": "code",
   "execution_count": 9,
   "metadata": {},
   "outputs": [
    {
     "name": "stdout",
     "output_type": "stream",
     "text": [
      "yes!\n"
     ]
    }
   ],
   "source": [
    "if id(x) == id(None):   # same as saying x is None\n",
    "    print('yes!')"
   ]
  },
  {
   "cell_type": "code",
   "execution_count": 10,
   "metadata": {},
   "outputs": [
    {
     "data": {
      "text/plain": [
       "True"
      ]
     },
     "execution_count": 10,
     "metadata": {},
     "output_type": "execute_result"
    }
   ],
   "source": [
    "x = 5\n",
    "y = 5\n",
    "\n",
    "x == y"
   ]
  },
  {
   "cell_type": "code",
   "execution_count": 11,
   "metadata": {},
   "outputs": [
    {
     "data": {
      "text/plain": [
       "True"
      ]
     },
     "execution_count": 11,
     "metadata": {},
     "output_type": "execute_result"
    }
   ],
   "source": [
    "x is y"
   ]
  },
  {
   "cell_type": "code",
   "execution_count": 12,
   "metadata": {},
   "outputs": [
    {
     "data": {
      "text/plain": [
       "True"
      ]
     },
     "execution_count": 12,
     "metadata": {},
     "output_type": "execute_result"
    }
   ],
   "source": [
    "x = 5000\n",
    "y = 5000\n",
    "\n",
    "x == y"
   ]
  },
  {
   "cell_type": "code",
   "execution_count": 13,
   "metadata": {},
   "outputs": [
    {
     "data": {
      "text/plain": [
       "False"
      ]
     },
     "execution_count": 13,
     "metadata": {},
     "output_type": "execute_result"
    }
   ],
   "source": [
    "x is y"
   ]
  },
  {
   "cell_type": "code",
   "execution_count": 14,
   "metadata": {},
   "outputs": [
    {
     "data": {
      "text/plain": [
       "True"
      ]
     },
     "execution_count": 14,
     "metadata": {},
     "output_type": "execute_result"
    }
   ],
   "source": [
    "x = 'abcd'\n",
    "y = 'abcd'\n",
    "\n",
    "x == y"
   ]
  },
  {
   "cell_type": "code",
   "execution_count": 15,
   "metadata": {},
   "outputs": [
    {
     "data": {
      "text/plain": [
       "True"
      ]
     },
     "execution_count": 15,
     "metadata": {},
     "output_type": "execute_result"
    }
   ],
   "source": [
    "x is y"
   ]
  },
  {
   "cell_type": "code",
   "execution_count": 16,
   "metadata": {},
   "outputs": [
    {
     "data": {
      "text/plain": [
       "True"
      ]
     },
     "execution_count": 16,
     "metadata": {},
     "output_type": "execute_result"
    }
   ],
   "source": [
    "x = 'abcd' * 100_000\n",
    "y = 'abcd' * 100_000\n",
    "\n",
    "x == y"
   ]
  },
  {
   "cell_type": "code",
   "execution_count": 17,
   "metadata": {},
   "outputs": [
    {
     "data": {
      "text/plain": [
       "False"
      ]
     },
     "execution_count": 17,
     "metadata": {},
     "output_type": "execute_result"
    }
   ],
   "source": [
    "x is y"
   ]
  },
  {
   "cell_type": "code",
   "execution_count": 18,
   "metadata": {},
   "outputs": [
    {
     "data": {
      "text/plain": [
       "True"
      ]
     },
     "execution_count": 18,
     "metadata": {},
     "output_type": "execute_result"
    }
   ],
   "source": [
    "x = 'a.b'\n",
    "y = 'a.b'\n",
    "\n",
    "x == y"
   ]
  },
  {
   "cell_type": "code",
   "execution_count": 19,
   "metadata": {},
   "outputs": [
    {
     "data": {
      "text/plain": [
       "False"
      ]
     },
     "execution_count": 19,
     "metadata": {},
     "output_type": "execute_result"
    }
   ],
   "source": [
    "x is y"
   ]
  },
  {
   "cell_type": "code",
   "execution_count": 20,
   "metadata": {},
   "outputs": [
    {
     "data": {
      "text/plain": [
       "24"
      ]
     },
     "execution_count": 20,
     "metadata": {},
     "output_type": "execute_result"
    }
   ],
   "source": [
    "import sys\n",
    "\n",
    "x = 0\n",
    "sys.getsizeof(x)"
   ]
  },
  {
   "cell_type": "code",
   "execution_count": 21,
   "metadata": {},
   "outputs": [
    {
     "data": {
      "text/plain": [
       "28"
      ]
     },
     "execution_count": 21,
     "metadata": {},
     "output_type": "execute_result"
    }
   ],
   "source": [
    "x = 1\n",
    "sys.getsizeof(x)"
   ]
  },
  {
   "cell_type": "code",
   "execution_count": 22,
   "metadata": {},
   "outputs": [
    {
     "data": {
      "text/plain": [
       "32"
      ]
     },
     "execution_count": 22,
     "metadata": {},
     "output_type": "execute_result"
    }
   ],
   "source": [
    "x = 100_000_000_000_000\n",
    "sys.getsizeof(x)"
   ]
  },
  {
   "cell_type": "code",
   "execution_count": 23,
   "metadata": {},
   "outputs": [
    {
     "data": {
      "text/plain": [
       "13"
      ]
     },
     "execution_count": 23,
     "metadata": {},
     "output_type": "execute_result"
    }
   ],
   "source": [
    "x = 10\n",
    "y = 3\n",
    "\n",
    "x + y"
   ]
  },
  {
   "cell_type": "code",
   "execution_count": 24,
   "metadata": {},
   "outputs": [
    {
     "data": {
      "text/plain": [
       "7"
      ]
     },
     "execution_count": 24,
     "metadata": {},
     "output_type": "execute_result"
    }
   ],
   "source": [
    "x - y"
   ]
  },
  {
   "cell_type": "code",
   "execution_count": 25,
   "metadata": {},
   "outputs": [
    {
     "data": {
      "text/plain": [
       "30"
      ]
     },
     "execution_count": 25,
     "metadata": {},
     "output_type": "execute_result"
    }
   ],
   "source": [
    "x * y"
   ]
  },
  {
   "cell_type": "code",
   "execution_count": 28,
   "metadata": {},
   "outputs": [
    {
     "data": {
      "text/plain": [
       "3.3333333333333335"
      ]
     },
     "execution_count": 28,
     "metadata": {},
     "output_type": "execute_result"
    }
   ],
   "source": [
    "x / y  # always returns a float -- truediv"
   ]
  },
  {
   "cell_type": "code",
   "execution_count": 29,
   "metadata": {},
   "outputs": [
    {
     "data": {
      "text/plain": [
       "3"
      ]
     },
     "execution_count": 29,
     "metadata": {},
     "output_type": "execute_result"
    }
   ],
   "source": [
    "x // y   # this returns an integer -- floordiv"
   ]
  },
  {
   "cell_type": "code",
   "execution_count": 30,
   "metadata": {},
   "outputs": [
    {
     "data": {
      "text/plain": [
       "1000"
      ]
     },
     "execution_count": 30,
     "metadata": {},
     "output_type": "execute_result"
    }
   ],
   "source": [
    "x ** y  "
   ]
  },
  {
   "cell_type": "code",
   "execution_count": 31,
   "metadata": {},
   "outputs": [
    {
     "data": {
      "text/plain": [
       "1"
      ]
     },
     "execution_count": 31,
     "metadata": {},
     "output_type": "execute_result"
    }
   ],
   "source": [
    "x % y"
   ]
  },
  {
   "cell_type": "code",
   "execution_count": 32,
   "metadata": {},
   "outputs": [],
   "source": [
    "x = 10\n",
    "x += 1   #  x = x + 1"
   ]
  },
  {
   "cell_type": "code",
   "execution_count": 33,
   "metadata": {},
   "outputs": [
    {
     "data": {
      "text/plain": [
       "11"
      ]
     },
     "execution_count": 33,
     "metadata": {},
     "output_type": "execute_result"
    }
   ],
   "source": [
    "x"
   ]
  },
  {
   "cell_type": "code",
   "execution_count": 34,
   "metadata": {},
   "outputs": [
    {
     "data": {
      "text/plain": [
       "74565"
      ]
     },
     "execution_count": 34,
     "metadata": {},
     "output_type": "execute_result"
    }
   ],
   "source": [
    "0x12345"
   ]
  },
  {
   "cell_type": "code",
   "execution_count": 35,
   "metadata": {},
   "outputs": [
    {
     "data": {
      "text/plain": [
       "12345"
      ]
     },
     "execution_count": 35,
     "metadata": {},
     "output_type": "execute_result"
    }
   ],
   "source": [
    "s = '12345'\n",
    "int(s)   # returns a new int, based on s"
   ]
  },
  {
   "cell_type": "code",
   "execution_count": 36,
   "metadata": {},
   "outputs": [
    {
     "data": {
      "text/plain": [
       "74565"
      ]
     },
     "execution_count": 36,
     "metadata": {},
     "output_type": "execute_result"
    }
   ],
   "source": [
    "int(s, 16)   # returns a new int, based on s, seeing s as hex"
   ]
  },
  {
   "cell_type": "code",
   "execution_count": 37,
   "metadata": {},
   "outputs": [
    {
     "data": {
      "text/plain": [
       "43"
      ]
     },
     "execution_count": 37,
     "metadata": {},
     "output_type": "execute_result"
    }
   ],
   "source": [
    "0b101011"
   ]
  },
  {
   "cell_type": "code",
   "execution_count": 40,
   "metadata": {},
   "outputs": [
    {
     "data": {
      "text/plain": [
       "5349"
      ]
     },
     "execution_count": 40,
     "metadata": {},
     "output_type": "execute_result"
    }
   ],
   "source": [
    "0o12345  # Octal "
   ]
  },
  {
   "cell_type": "code",
   "execution_count": 41,
   "metadata": {},
   "outputs": [
    {
     "data": {
      "text/plain": [
       "10"
      ]
     },
     "execution_count": 41,
     "metadata": {},
     "output_type": "execute_result"
    }
   ],
   "source": [
    "x = 10\n",
    "y = x\n",
    "\n",
    "x = 20\n",
    "y"
   ]
  },
  {
   "cell_type": "code",
   "execution_count": 42,
   "metadata": {},
   "outputs": [
    {
     "data": {
      "text/plain": [
       "float"
      ]
     },
     "execution_count": 42,
     "metadata": {},
     "output_type": "execute_result"
    }
   ],
   "source": [
    "x = 10.5\n",
    "type(x)"
   ]
  },
  {
   "cell_type": "code",
   "execution_count": 43,
   "metadata": {},
   "outputs": [
    {
     "data": {
      "text/plain": [
       "10"
      ]
     },
     "execution_count": 43,
     "metadata": {},
     "output_type": "execute_result"
    }
   ],
   "source": [
    "int(x)"
   ]
  },
  {
   "cell_type": "code",
   "execution_count": 44,
   "metadata": {},
   "outputs": [
    {
     "data": {
      "text/plain": [
       "10.5"
      ]
     },
     "execution_count": 44,
     "metadata": {},
     "output_type": "execute_result"
    }
   ],
   "source": [
    "x"
   ]
  },
  {
   "cell_type": "code",
   "execution_count": 45,
   "metadata": {},
   "outputs": [],
   "source": [
    "x = int(x)"
   ]
  },
  {
   "cell_type": "code",
   "execution_count": 46,
   "metadata": {},
   "outputs": [
    {
     "data": {
      "text/plain": [
       "10"
      ]
     },
     "execution_count": 46,
     "metadata": {},
     "output_type": "execute_result"
    }
   ],
   "source": [
    "x"
   ]
  },
  {
   "cell_type": "code",
   "execution_count": 47,
   "metadata": {},
   "outputs": [
    {
     "data": {
      "text/plain": [
       "10.0"
      ]
     },
     "execution_count": 47,
     "metadata": {},
     "output_type": "execute_result"
    }
   ],
   "source": [
    "x = float(x)\n",
    "x"
   ]
  },
  {
   "cell_type": "code",
   "execution_count": 48,
   "metadata": {},
   "outputs": [
    {
     "data": {
      "text/plain": [
       "0.30000000000000004"
      ]
     },
     "execution_count": 48,
     "metadata": {},
     "output_type": "execute_result"
    }
   ],
   "source": [
    "0.1 + 0.2 "
   ]
  },
  {
   "cell_type": "code",
   "execution_count": 49,
   "metadata": {},
   "outputs": [
    {
     "data": {
      "text/plain": [
       "26"
      ]
     },
     "execution_count": 49,
     "metadata": {},
     "output_type": "execute_result"
    }
   ],
   "source": [
    "s = 'abcdefghijklmnopqrstuvwxyz'\n",
    "len(s)"
   ]
  },
  {
   "cell_type": "code",
   "execution_count": 50,
   "metadata": {},
   "outputs": [
    {
     "data": {
      "text/plain": [
       "'a'"
      ]
     },
     "execution_count": 50,
     "metadata": {},
     "output_type": "execute_result"
    }
   ],
   "source": [
    "s[0]   # --> s.__getitem__(0)"
   ]
  },
  {
   "cell_type": "code",
   "execution_count": 51,
   "metadata": {},
   "outputs": [
    {
     "data": {
      "text/plain": [
       "'b'"
      ]
     },
     "execution_count": 51,
     "metadata": {},
     "output_type": "execute_result"
    }
   ],
   "source": [
    "s[1]"
   ]
  },
  {
   "cell_type": "code",
   "execution_count": 52,
   "metadata": {},
   "outputs": [
    {
     "data": {
      "text/plain": [
       "'c'"
      ]
     },
     "execution_count": 52,
     "metadata": {},
     "output_type": "execute_result"
    }
   ],
   "source": [
    "s[2]"
   ]
  },
  {
   "cell_type": "code",
   "execution_count": 53,
   "metadata": {},
   "outputs": [
    {
     "data": {
      "text/plain": [
       "'z'"
      ]
     },
     "execution_count": 53,
     "metadata": {},
     "output_type": "execute_result"
    }
   ],
   "source": [
    "s[len(s)-1]"
   ]
  },
  {
   "cell_type": "code",
   "execution_count": 54,
   "metadata": {},
   "outputs": [
    {
     "data": {
      "text/plain": [
       "'z'"
      ]
     },
     "execution_count": 54,
     "metadata": {},
     "output_type": "execute_result"
    }
   ],
   "source": [
    "s[-1]"
   ]
  },
  {
   "cell_type": "code",
   "execution_count": 55,
   "metadata": {},
   "outputs": [
    {
     "data": {
      "text/plain": [
       "'y'"
      ]
     },
     "execution_count": 55,
     "metadata": {},
     "output_type": "execute_result"
    }
   ],
   "source": [
    "s[-2]"
   ]
  },
  {
   "cell_type": "code",
   "execution_count": 56,
   "metadata": {},
   "outputs": [
    {
     "ename": "IndexError",
     "evalue": "string index out of range",
     "output_type": "error",
     "traceback": [
      "\u001b[0;31m---------------------------------------------------------------------------\u001b[0m",
      "\u001b[0;31mIndexError\u001b[0m                                Traceback (most recent call last)",
      "Input \u001b[0;32mIn [56]\u001b[0m, in \u001b[0;36m<cell line: 1>\u001b[0;34m()\u001b[0m\n\u001b[0;32m----> 1\u001b[0m \u001b[43ms\u001b[49m\u001b[43m[\u001b[49m\u001b[38;5;241;43m30\u001b[39;49m\u001b[43m]\u001b[49m\n",
      "\u001b[0;31mIndexError\u001b[0m: string index out of range"
     ]
    }
   ],
   "source": [
    "s[30]"
   ]
  },
  {
   "cell_type": "code",
   "execution_count": 57,
   "metadata": {},
   "outputs": [
    {
     "ename": "IndexError",
     "evalue": "string index out of range",
     "output_type": "error",
     "traceback": [
      "\u001b[0;31m---------------------------------------------------------------------------\u001b[0m",
      "\u001b[0;31mIndexError\u001b[0m                                Traceback (most recent call last)",
      "Input \u001b[0;32mIn [57]\u001b[0m, in \u001b[0;36m<cell line: 1>\u001b[0;34m()\u001b[0m\n\u001b[0;32m----> 1\u001b[0m \u001b[43ms\u001b[49m\u001b[43m[\u001b[49m\u001b[38;5;241;43m-\u001b[39;49m\u001b[38;5;241;43m30\u001b[39;49m\u001b[43m]\u001b[49m\n",
      "\u001b[0;31mIndexError\u001b[0m: string index out of range"
     ]
    }
   ],
   "source": [
    "s[-30]"
   ]
  },
  {
   "cell_type": "code",
   "execution_count": 58,
   "metadata": {},
   "outputs": [
    {
     "data": {
      "text/plain": [
       "'abcdefghijklmnopqrstuvwxyz'"
      ]
     },
     "execution_count": 58,
     "metadata": {},
     "output_type": "execute_result"
    }
   ],
   "source": [
    "s"
   ]
  },
  {
   "cell_type": "code",
   "execution_count": 59,
   "metadata": {},
   "outputs": [
    {
     "data": {
      "text/plain": [
       "'klmnopqrst'"
      ]
     },
     "execution_count": 59,
     "metadata": {},
     "output_type": "execute_result"
    }
   ],
   "source": [
    "# slice\n",
    "\n",
    "s[10:20]   # from 10 until (not including) 20"
   ]
  },
  {
   "cell_type": "code",
   "execution_count": 60,
   "metadata": {},
   "outputs": [
    {
     "data": {
      "text/plain": [
       "'fghijklmnopqrstuvwxy'"
      ]
     },
     "execution_count": 60,
     "metadata": {},
     "output_type": "execute_result"
    }
   ],
   "source": [
    "s[5:25]"
   ]
  },
  {
   "cell_type": "code",
   "execution_count": 61,
   "metadata": {},
   "outputs": [
    {
     "data": {
      "text/plain": [
       "'abcdefghijklmno'"
      ]
     },
     "execution_count": 61,
     "metadata": {},
     "output_type": "execute_result"
    }
   ],
   "source": [
    "s[:15]   # from the start, until (not including) 15"
   ]
  },
  {
   "cell_type": "code",
   "execution_count": 62,
   "metadata": {},
   "outputs": [
    {
     "data": {
      "text/plain": [
       "'pqrstuvwxyz'"
      ]
     },
     "execution_count": 62,
     "metadata": {},
     "output_type": "execute_result"
    }
   ],
   "source": [
    "s[15:]   # from 15, through the end"
   ]
  },
  {
   "cell_type": "code",
   "execution_count": 63,
   "metadata": {},
   "outputs": [
    {
     "data": {
      "text/plain": [
       "'dfhjlnprtv'"
      ]
     },
     "execution_count": 63,
     "metadata": {},
     "output_type": "execute_result"
    }
   ],
   "source": [
    "s[3:22:2]   # from 3, until (not including) 22, step size 2"
   ]
  },
  {
   "cell_type": "code",
   "execution_count": 64,
   "metadata": {},
   "outputs": [
    {
     "data": {
      "text/plain": [
       "'acegikmoqsuwy'"
      ]
     },
     "execution_count": 64,
     "metadata": {},
     "output_type": "execute_result"
    }
   ],
   "source": [
    "s[::2]   # from the start, to the end, step size 2"
   ]
  },
  {
   "cell_type": "code",
   "execution_count": 65,
   "metadata": {},
   "outputs": [
    {
     "data": {
      "text/plain": [
       "'zyxwvutsrqponmlkjihgfedcba'"
      ]
     },
     "execution_count": 65,
     "metadata": {},
     "output_type": "execute_result"
    }
   ],
   "source": [
    "s[::-1]  "
   ]
  },
  {
   "cell_type": "code",
   "execution_count": 66,
   "metadata": {},
   "outputs": [
    {
     "data": {
      "text/plain": [
       "'abcdefghijklmnopqrstuvwxyz'"
      ]
     },
     "execution_count": 66,
     "metadata": {},
     "output_type": "execute_result"
    }
   ],
   "source": [
    "s"
   ]
  },
  {
   "cell_type": "code",
   "execution_count": 67,
   "metadata": {},
   "outputs": [
    {
     "ename": "TypeError",
     "evalue": "'str' object does not support item assignment",
     "output_type": "error",
     "traceback": [
      "\u001b[0;31m---------------------------------------------------------------------------\u001b[0m",
      "\u001b[0;31mTypeError\u001b[0m                                 Traceback (most recent call last)",
      "Input \u001b[0;32mIn [67]\u001b[0m, in \u001b[0;36m<cell line: 1>\u001b[0;34m()\u001b[0m\n\u001b[0;32m----> 1\u001b[0m s[\u001b[38;5;241m0\u001b[39m] \u001b[38;5;241m=\u001b[39m \u001b[38;5;124m'\u001b[39m\u001b[38;5;124m!\u001b[39m\u001b[38;5;124m'\u001b[39m\n",
      "\u001b[0;31mTypeError\u001b[0m: 'str' object does not support item assignment"
     ]
    }
   ],
   "source": [
    "s[0] = '!'   # let's change the alphabet!"
   ]
  },
  {
   "cell_type": "code",
   "execution_count": 69,
   "metadata": {},
   "outputs": [
    {
     "name": "stdout",
     "output_type": "stream",
     "text": [
      "4547353968\n",
      "4547352944\n"
     ]
    },
    {
     "data": {
      "text/plain": [
       "'abcdefgh'"
      ]
     },
     "execution_count": 69,
     "metadata": {},
     "output_type": "execute_result"
    }
   ],
   "source": [
    "# strings are immutable\n",
    "\n",
    "s = 'abcd'\n",
    "print(id(s))\n",
    "s += 'efgh'\n",
    "print(id(s))\n",
    "s"
   ]
  },
  {
   "cell_type": "code",
   "execution_count": 70,
   "metadata": {},
   "outputs": [
    {
     "data": {
      "text/plain": [
       "'abcd efgh'"
      ]
     },
     "execution_count": 70,
     "metadata": {},
     "output_type": "execute_result"
    }
   ],
   "source": [
    "s = 'aBcD eFgH'\n",
    "s.lower()"
   ]
  },
  {
   "cell_type": "code",
   "execution_count": 71,
   "metadata": {},
   "outputs": [
    {
     "data": {
      "text/plain": [
       "'ABCD EFGH'"
      ]
     },
     "execution_count": 71,
     "metadata": {},
     "output_type": "execute_result"
    }
   ],
   "source": [
    "s.upper()"
   ]
  },
  {
   "cell_type": "code",
   "execution_count": 72,
   "metadata": {},
   "outputs": [
    {
     "data": {
      "text/plain": [
       "'AbCd EfGh'"
      ]
     },
     "execution_count": 72,
     "metadata": {},
     "output_type": "execute_result"
    }
   ],
   "source": [
    "s.swapcase()"
   ]
  },
  {
   "cell_type": "code",
   "execution_count": 73,
   "metadata": {},
   "outputs": [
    {
     "data": {
      "text/plain": [
       "'abcd efgh'"
      ]
     },
     "execution_count": 73,
     "metadata": {},
     "output_type": "execute_result"
    }
   ],
   "source": [
    "s.casefold()"
   ]
  },
  {
   "cell_type": "code",
   "execution_count": 74,
   "metadata": {},
   "outputs": [
    {
     "data": {
      "text/plain": [
       "4"
      ]
     },
     "execution_count": 74,
     "metadata": {},
     "output_type": "execute_result"
    }
   ],
   "source": [
    "s = 'abcd'\n",
    "len(s)"
   ]
  },
  {
   "cell_type": "code",
   "execution_count": 75,
   "metadata": {},
   "outputs": [
    {
     "data": {
      "text/plain": [
       "4"
      ]
     },
     "execution_count": 75,
     "metadata": {},
     "output_type": "execute_result"
    }
   ],
   "source": [
    "s = 'שלום'\n",
    "len(s)"
   ]
  },
  {
   "cell_type": "code",
   "execution_count": 76,
   "metadata": {},
   "outputs": [
    {
     "data": {
      "text/plain": [
       "2"
      ]
     },
     "execution_count": 76,
     "metadata": {},
     "output_type": "execute_result"
    }
   ],
   "source": [
    "s = '你好'\n",
    "len(s)"
   ]
  },
  {
   "cell_type": "code",
   "execution_count": 77,
   "metadata": {},
   "outputs": [
    {
     "data": {
      "text/plain": [
       "b'\\xe4\\xbd\\xa0\\xe5\\xa5\\xbd'"
      ]
     },
     "execution_count": 77,
     "metadata": {},
     "output_type": "execute_result"
    }
   ],
   "source": [
    "s.encode()   # this returns a bytestring, based on the string s"
   ]
  },
  {
   "cell_type": "code",
   "execution_count": 78,
   "metadata": {},
   "outputs": [
    {
     "data": {
      "text/plain": [
       "b'\\xd7\\xa9\\xd7\\x9c\\xd7\\x95\\xd7\\x9d'"
      ]
     },
     "execution_count": 78,
     "metadata": {},
     "output_type": "execute_result"
    }
   ],
   "source": [
    "s = 'שלום'\n",
    "s.encode()"
   ]
  },
  {
   "cell_type": "code",
   "execution_count": 80,
   "metadata": {},
   "outputs": [
    {
     "data": {
      "text/plain": [
       "b'\\xa9\\xd7\\x9c\\xd7\\x95\\xd7\\x9d'"
      ]
     },
     "execution_count": 80,
     "metadata": {},
     "output_type": "execute_result"
    }
   ],
   "source": [
    "s.encode()[1:]"
   ]
  },
  {
   "cell_type": "code",
   "execution_count": 81,
   "metadata": {},
   "outputs": [
    {
     "ename": "UnicodeDecodeError",
     "evalue": "'utf-8' codec can't decode byte 0xa9 in position 0: invalid start byte",
     "output_type": "error",
     "traceback": [
      "\u001b[0;31m---------------------------------------------------------------------------\u001b[0m",
      "\u001b[0;31mUnicodeDecodeError\u001b[0m                        Traceback (most recent call last)",
      "Input \u001b[0;32mIn [81]\u001b[0m, in \u001b[0;36m<cell line: 2>\u001b[0;34m()\u001b[0m\n\u001b[1;32m      1\u001b[0m \u001b[38;5;66;03m# try to return the final 7 bytes to a string \u001b[39;00m\n\u001b[0;32m----> 2\u001b[0m \u001b[43ms\u001b[49m\u001b[38;5;241;43m.\u001b[39;49m\u001b[43mencode\u001b[49m\u001b[43m(\u001b[49m\u001b[43m)\u001b[49m\u001b[43m[\u001b[49m\u001b[38;5;241;43m1\u001b[39;49m\u001b[43m:\u001b[49m\u001b[43m]\u001b[49m\u001b[38;5;241;43m.\u001b[39;49m\u001b[43mdecode\u001b[49m\u001b[43m(\u001b[49m\u001b[43m)\u001b[49m\n",
      "\u001b[0;31mUnicodeDecodeError\u001b[0m: 'utf-8' codec can't decode byte 0xa9 in position 0: invalid start byte"
     ]
    }
   ],
   "source": [
    "# try to return the final 7 bytes to a string \n",
    "s.encode()[1:].decode()"
   ]
  },
  {
   "cell_type": "code",
   "execution_count": 83,
   "metadata": {},
   "outputs": [
    {
     "name": "stdout",
     "output_type": "stream",
     "text": [
      "Enter your name:              Reuven           \n",
      "Hello,              Reuven           !\n"
     ]
    }
   ],
   "source": [
    "name = input('Enter your name: ')\n",
    "print(f'Hello, {name}!')   # f-string (format string / fancy string)"
   ]
  },
  {
   "cell_type": "code",
   "execution_count": 84,
   "metadata": {},
   "outputs": [
    {
     "data": {
      "text/plain": [
       "'Reuven'"
      ]
     },
     "execution_count": 84,
     "metadata": {},
     "output_type": "execute_result"
    }
   ],
   "source": [
    "name.strip()   # returns a new string, without whitespace on the edges"
   ]
  },
  {
   "cell_type": "code",
   "execution_count": 85,
   "metadata": {},
   "outputs": [
    {
     "name": "stdout",
     "output_type": "stream",
     "text": [
      "Enter your name:     Reuven    \n",
      "Hello, Reuven!\n"
     ]
    }
   ],
   "source": [
    "name = input('Enter your name: ').strip()\n",
    "print(f'Hello, {name}!')   # f-string (format string / fancy string)"
   ]
  },
  {
   "cell_type": "markdown",
   "metadata": {},
   "source": [
    "# Exercise: Which comes first?\n",
    "\n",
    "1. Ask the user to enter two separate words.\n",
    "2. Indicate which word comes first alphabetically.\n",
    "3. BONUS: Check them without regard to case.\n",
    "\n",
    "Example:\n",
    "\n",
    "    First word: dog\n",
    "    Second word: cat\n",
    "    cat comes before dog\n",
    "    \n",
    "    \n"
   ]
  },
  {
   "cell_type": "code",
   "execution_count": 88,
   "metadata": {},
   "outputs": [
    {
     "name": "stdout",
     "output_type": "stream",
     "text": [
      "First number: 100\n",
      "Second number: 100\n",
      "100 and 100 are the same\n"
     ]
    }
   ],
   "source": [
    "first = input('First number: ').strip()\n",
    "second = input('Second number: ').strip()\n",
    "\n",
    "first = int(first)\n",
    "second = int(second)\n",
    "\n",
    "if first < second:\n",
    "    print(f'{first} comes before {second}')\n",
    "elif second < first:\n",
    "    print(f'{second} comes before {first}') \n",
    "else:\n",
    "    print(f'{first} and {second} are the same')"
   ]
  },
  {
   "cell_type": "code",
   "execution_count": 91,
   "metadata": {},
   "outputs": [
    {
     "name": "stdout",
     "output_type": "stream",
     "text": [
      "First word: Taxi\n",
      "Second word: cab\n",
      "Taxi comes before cab\n"
     ]
    }
   ],
   "source": [
    "first = input('First word: ').strip()\n",
    "second = input('Second word: ').strip()\n",
    "\n",
    "if first < second:\n",
    "    print(f'{first} comes before {second}')\n",
    "elif second < first:\n",
    "    print(f'{second} comes before {first}') \n",
    "else:\n",
    "    print(f'{first} and {second} are the same')"
   ]
  },
  {
   "cell_type": "code",
   "execution_count": 92,
   "metadata": {},
   "outputs": [
    {
     "name": "stdout",
     "output_type": "stream",
     "text": [
      "First word: Taxi\n",
      "Second word: cab\n",
      "cab comes before Taxi\n"
     ]
    }
   ],
   "source": [
    "first = input('First word: ').strip()\n",
    "second = input('Second word: ').strip()\n",
    "\n",
    "if first.casefold() < second.casefold():\n",
    "    print(f'{first} comes before {second}')\n",
    "elif second.casefold() < first.casefold():\n",
    "    print(f'{second} comes before {first}') \n",
    "else:\n",
    "    print(f'{first} and {second} are the same')"
   ]
  },
  {
   "cell_type": "code",
   "execution_count": 98,
   "metadata": {},
   "outputs": [],
   "source": [
    "# sequence -- string, list tuple\n",
    "# so they do a lot of the same things!\n",
    "\n",
    "mylist = [10, 20, 30, 40, 50, 60, 70, 80]"
   ]
  },
  {
   "cell_type": "code",
   "execution_count": 99,
   "metadata": {},
   "outputs": [
    {
     "data": {
      "text/plain": [
       "8"
      ]
     },
     "execution_count": 99,
     "metadata": {},
     "output_type": "execute_result"
    }
   ],
   "source": [
    "len(mylist)"
   ]
  },
  {
   "cell_type": "code",
   "execution_count": 100,
   "metadata": {},
   "outputs": [
    {
     "data": {
      "text/plain": [
       "10"
      ]
     },
     "execution_count": 100,
     "metadata": {},
     "output_type": "execute_result"
    }
   ],
   "source": [
    "mylist[0]"
   ]
  },
  {
   "cell_type": "code",
   "execution_count": 101,
   "metadata": {},
   "outputs": [
    {
     "data": {
      "text/plain": [
       "20"
      ]
     },
     "execution_count": 101,
     "metadata": {},
     "output_type": "execute_result"
    }
   ],
   "source": [
    "mylist[1]"
   ]
  },
  {
   "cell_type": "code",
   "execution_count": 102,
   "metadata": {},
   "outputs": [
    {
     "data": {
      "text/plain": [
       "80"
      ]
     },
     "execution_count": 102,
     "metadata": {},
     "output_type": "execute_result"
    }
   ],
   "source": [
    "mylist[-1]"
   ]
  },
  {
   "cell_type": "code",
   "execution_count": 104,
   "metadata": {},
   "outputs": [
    {
     "data": {
      "text/plain": [
       "[[10, 20, 30], [10, 20, 30], [10, 20, 30]]"
      ]
     },
     "execution_count": 104,
     "metadata": {},
     "output_type": "execute_result"
    }
   ],
   "source": [
    "mylist = [10, 20, 30]\n",
    "biglist = [mylist, mylist, mylist]\n",
    "biglist"
   ]
  },
  {
   "cell_type": "code",
   "execution_count": 105,
   "metadata": {},
   "outputs": [
    {
     "data": {
      "text/plain": [
       "3"
      ]
     },
     "execution_count": 105,
     "metadata": {},
     "output_type": "execute_result"
    }
   ],
   "source": [
    "len(biglist)"
   ]
  },
  {
   "cell_type": "code",
   "execution_count": 108,
   "metadata": {},
   "outputs": [],
   "source": [
    "mylist[0] = '!'    # lists are mutable!"
   ]
  },
  {
   "cell_type": "code",
   "execution_count": 109,
   "metadata": {},
   "outputs": [
    {
     "data": {
      "text/plain": [
       "['!', 20, 30]"
      ]
     },
     "execution_count": 109,
     "metadata": {},
     "output_type": "execute_result"
    }
   ],
   "source": [
    "mylist"
   ]
  },
  {
   "cell_type": "code",
   "execution_count": 110,
   "metadata": {},
   "outputs": [
    {
     "data": {
      "text/plain": [
       "[['!', 20, 30], ['!', 20, 30], ['!', 20, 30]]"
      ]
     },
     "execution_count": 110,
     "metadata": {},
     "output_type": "execute_result"
    }
   ],
   "source": [
    "biglist"
   ]
  },
  {
   "cell_type": "code",
   "execution_count": 111,
   "metadata": {},
   "outputs": [
    {
     "data": {
      "text/plain": [
       "[10, 20, 30, 40, 50]"
      ]
     },
     "execution_count": 111,
     "metadata": {},
     "output_type": "execute_result"
    }
   ],
   "source": [
    "mylist = [10, 20, 30]\n",
    "\n",
    "mylist.append(40)\n",
    "mylist.append(50)\n",
    "\n",
    "mylist"
   ]
  },
  {
   "cell_type": "code",
   "execution_count": 112,
   "metadata": {},
   "outputs": [
    {
     "data": {
      "text/plain": [
       "[10, 20, 30, 40, 50, [60, 70, 80]]"
      ]
     },
     "execution_count": 112,
     "metadata": {},
     "output_type": "execute_result"
    }
   ],
   "source": [
    "mylist.append([60, 70, 80])\n",
    "mylist"
   ]
  },
  {
   "cell_type": "code",
   "execution_count": 113,
   "metadata": {},
   "outputs": [
    {
     "data": {
      "text/plain": [
       "[60, 70, 80]"
      ]
     },
     "execution_count": 113,
     "metadata": {},
     "output_type": "execute_result"
    }
   ],
   "source": [
    "mylist.pop()   # removes + returns the final element"
   ]
  },
  {
   "cell_type": "code",
   "execution_count": 114,
   "metadata": {},
   "outputs": [
    {
     "data": {
      "text/plain": [
       "[10, 20, 30, 40, 50]"
      ]
     },
     "execution_count": 114,
     "metadata": {},
     "output_type": "execute_result"
    }
   ],
   "source": [
    "mylist"
   ]
  },
  {
   "cell_type": "code",
   "execution_count": 115,
   "metadata": {},
   "outputs": [],
   "source": [
    "# don't do this -- list.append returns None!\n",
    "mylist = mylist.append(60)"
   ]
  },
  {
   "cell_type": "code",
   "execution_count": 116,
   "metadata": {},
   "outputs": [
    {
     "name": "stdout",
     "output_type": "stream",
     "text": [
      "None\n"
     ]
    }
   ],
   "source": [
    "print(mylist)"
   ]
  },
  {
   "cell_type": "code",
   "execution_count": 117,
   "metadata": {},
   "outputs": [
    {
     "data": {
      "text/plain": [
       "['abcd', 'efgh', 'ijkl']"
      ]
     },
     "execution_count": 117,
     "metadata": {},
     "output_type": "execute_result"
    }
   ],
   "source": [
    "s = 'abcd efgh ijkl'\n",
    "\n",
    "s.split()   # returns a list of strings -- use any whitespace, any length"
   ]
  },
  {
   "cell_type": "code",
   "execution_count": 119,
   "metadata": {},
   "outputs": [
    {
     "data": {
      "text/plain": [
       "['abcd efg', ' ijkl']"
      ]
     },
     "execution_count": 119,
     "metadata": {},
     "output_type": "execute_result"
    }
   ],
   "source": [
    "s.split('h')"
   ]
  },
  {
   "cell_type": "code",
   "execution_count": 120,
   "metadata": {},
   "outputs": [
    {
     "data": {
      "text/plain": [
       "['abcd efgh ijkl']"
      ]
     },
     "execution_count": 120,
     "metadata": {},
     "output_type": "execute_result"
    }
   ],
   "source": [
    "s.split('!')"
   ]
  },
  {
   "cell_type": "code",
   "execution_count": 121,
   "metadata": {},
   "outputs": [
    {
     "data": {
      "text/plain": [
       "['this', 'is', 'a', 'bunch', 'of', 'words', 'for', 'my', 'course']"
      ]
     },
     "execution_count": 121,
     "metadata": {},
     "output_type": "execute_result"
    }
   ],
   "source": [
    "words = 'this is a bunch of words for my course'.split()\n",
    "words"
   ]
  },
  {
   "cell_type": "code",
   "execution_count": 122,
   "metadata": {},
   "outputs": [
    {
     "data": {
      "text/plain": [
       "'this is a bunch of words for my course'"
      ]
     },
     "execution_count": 122,
     "metadata": {},
     "output_type": "execute_result"
    }
   ],
   "source": [
    "# str.join returns a string\n",
    "\n",
    "' '.join(words)"
   ]
  },
  {
   "cell_type": "code",
   "execution_count": 123,
   "metadata": {},
   "outputs": [
    {
     "data": {
      "text/plain": [
       "'this*is*a*bunch*of*words*for*my*course'"
      ]
     },
     "execution_count": 123,
     "metadata": {},
     "output_type": "execute_result"
    }
   ],
   "source": [
    "'*'.join(words)"
   ]
  },
  {
   "cell_type": "code",
   "execution_count": 124,
   "metadata": {},
   "outputs": [
    {
     "data": {
      "text/plain": [
       "'a*b*c*d*e'"
      ]
     },
     "execution_count": 124,
     "metadata": {},
     "output_type": "execute_result"
    }
   ],
   "source": [
    "'*'.join('abcde')"
   ]
  },
  {
   "cell_type": "code",
   "execution_count": 125,
   "metadata": {},
   "outputs": [
    {
     "data": {
      "text/plain": [
       "tuple"
      ]
     },
     "execution_count": 125,
     "metadata": {},
     "output_type": "execute_result"
    }
   ],
   "source": [
    "# tuples\n",
    "\n",
    "t = (10, 20, 30)\n",
    "type(t)"
   ]
  },
  {
   "cell_type": "code",
   "execution_count": 126,
   "metadata": {},
   "outputs": [
    {
     "data": {
      "text/plain": [
       "tuple"
      ]
     },
     "execution_count": 126,
     "metadata": {},
     "output_type": "execute_result"
    }
   ],
   "source": [
    "t = (10, 20)\n",
    "type(t)"
   ]
  },
  {
   "cell_type": "code",
   "execution_count": 130,
   "metadata": {},
   "outputs": [
    {
     "data": {
      "text/plain": [
       "tuple"
      ]
     },
     "execution_count": 130,
     "metadata": {},
     "output_type": "execute_result"
    }
   ],
   "source": [
    "t = (10,)  \n",
    "type(t)"
   ]
  },
  {
   "cell_type": "code",
   "execution_count": 128,
   "metadata": {},
   "outputs": [
    {
     "data": {
      "text/plain": [
       "tuple"
      ]
     },
     "execution_count": 128,
     "metadata": {},
     "output_type": "execute_result"
    }
   ],
   "source": [
    "t = ()\n",
    "type(t)"
   ]
  },
  {
   "cell_type": "code",
   "execution_count": 131,
   "metadata": {},
   "outputs": [
    {
     "data": {
      "text/plain": [
       "56"
      ]
     },
     "execution_count": 131,
     "metadata": {},
     "output_type": "execute_result"
    }
   ],
   "source": [
    "mylist = []\n",
    "sys.getsizeof(mylist)"
   ]
  },
  {
   "cell_type": "code",
   "execution_count": 132,
   "metadata": {},
   "outputs": [
    {
     "data": {
      "text/plain": [
       "88"
      ]
     },
     "execution_count": 132,
     "metadata": {},
     "output_type": "execute_result"
    }
   ],
   "source": [
    "mylist = [10, 20, 30]\n",
    "sys.getsizeof(mylist)"
   ]
  },
  {
   "cell_type": "code",
   "execution_count": 133,
   "metadata": {},
   "outputs": [
    {
     "data": {
      "text/plain": [
       "64"
      ]
     },
     "execution_count": 133,
     "metadata": {},
     "output_type": "execute_result"
    }
   ],
   "source": [
    "t = (10, 20, 30)\n",
    "sys.getsizeof(t)"
   ]
  },
  {
   "cell_type": "code",
   "execution_count": 134,
   "metadata": {},
   "outputs": [
    {
     "data": {
      "text/plain": [
       "[10, 20, 30]"
      ]
     },
     "execution_count": 134,
     "metadata": {},
     "output_type": "execute_result"
    }
   ],
   "source": [
    "mylist = [10, 20, 30]\n",
    "x = mylist\n",
    "\n",
    "x"
   ]
  },
  {
   "cell_type": "code",
   "execution_count": 136,
   "metadata": {},
   "outputs": [],
   "source": [
    "# tuple unpacking\n",
    "\n",
    "x,y,z = mylist"
   ]
  },
  {
   "cell_type": "code",
   "execution_count": 137,
   "metadata": {},
   "outputs": [
    {
     "data": {
      "text/plain": [
       "10"
      ]
     },
     "execution_count": 137,
     "metadata": {},
     "output_type": "execute_result"
    }
   ],
   "source": [
    "x"
   ]
  },
  {
   "cell_type": "code",
   "execution_count": 139,
   "metadata": {},
   "outputs": [
    {
     "data": {
      "text/plain": [
       "20"
      ]
     },
     "execution_count": 139,
     "metadata": {},
     "output_type": "execute_result"
    }
   ],
   "source": [
    "y"
   ]
  },
  {
   "cell_type": "code",
   "execution_count": 140,
   "metadata": {},
   "outputs": [
    {
     "data": {
      "text/plain": [
       "30"
      ]
     },
     "execution_count": 140,
     "metadata": {},
     "output_type": "execute_result"
    }
   ],
   "source": [
    "z"
   ]
  },
  {
   "cell_type": "code",
   "execution_count": 141,
   "metadata": {},
   "outputs": [
    {
     "ename": "ValueError",
     "evalue": "too many values to unpack (expected 2)",
     "output_type": "error",
     "traceback": [
      "\u001b[0;31m---------------------------------------------------------------------------\u001b[0m",
      "\u001b[0;31mValueError\u001b[0m                                Traceback (most recent call last)",
      "Input \u001b[0;32mIn [141]\u001b[0m, in \u001b[0;36m<cell line: 1>\u001b[0;34m()\u001b[0m\n\u001b[0;32m----> 1\u001b[0m x,y \u001b[38;5;241m=\u001b[39m mylist\n",
      "\u001b[0;31mValueError\u001b[0m: too many values to unpack (expected 2)"
     ]
    }
   ],
   "source": [
    "x,y = mylist"
   ]
  },
  {
   "cell_type": "code",
   "execution_count": 142,
   "metadata": {},
   "outputs": [],
   "source": [
    "mylist = [10, 20, 30]\n",
    "\n",
    "first, _, last = mylist"
   ]
  },
  {
   "cell_type": "code",
   "execution_count": 143,
   "metadata": {},
   "outputs": [],
   "source": [
    "mylist = [10, 20, 30, 40]\n",
    "\n",
    "first, _, _, last = mylist"
   ]
  },
  {
   "cell_type": "code",
   "execution_count": 144,
   "metadata": {},
   "outputs": [
    {
     "data": {
      "text/plain": [
       "10"
      ]
     },
     "execution_count": 144,
     "metadata": {},
     "output_type": "execute_result"
    }
   ],
   "source": [
    "first"
   ]
  },
  {
   "cell_type": "code",
   "execution_count": 145,
   "metadata": {},
   "outputs": [
    {
     "data": {
      "text/plain": [
       "40"
      ]
     },
     "execution_count": 145,
     "metadata": {},
     "output_type": "execute_result"
    }
   ],
   "source": [
    "last"
   ]
  },
  {
   "cell_type": "code",
   "execution_count": 147,
   "metadata": {},
   "outputs": [],
   "source": [
    "# *middle means: middle will be a list!\n",
    "\n",
    "first, *middle, last = mylist"
   ]
  },
  {
   "cell_type": "code",
   "execution_count": 148,
   "metadata": {},
   "outputs": [
    {
     "data": {
      "text/plain": [
       "10"
      ]
     },
     "execution_count": 148,
     "metadata": {},
     "output_type": "execute_result"
    }
   ],
   "source": [
    "first"
   ]
  },
  {
   "cell_type": "code",
   "execution_count": 149,
   "metadata": {},
   "outputs": [
    {
     "data": {
      "text/plain": [
       "[20, 30]"
      ]
     },
     "execution_count": 149,
     "metadata": {},
     "output_type": "execute_result"
    }
   ],
   "source": [
    "middle"
   ]
  },
  {
   "cell_type": "code",
   "execution_count": 150,
   "metadata": {},
   "outputs": [
    {
     "data": {
      "text/plain": [
       "40"
      ]
     },
     "execution_count": 150,
     "metadata": {},
     "output_type": "execute_result"
    }
   ],
   "source": [
    "last"
   ]
  },
  {
   "cell_type": "code",
   "execution_count": 151,
   "metadata": {},
   "outputs": [],
   "source": [
    "first, *_, last = mylist"
   ]
  },
  {
   "cell_type": "code",
   "execution_count": 152,
   "metadata": {},
   "outputs": [
    {
     "data": {
      "text/plain": [
       "[20, 30]"
      ]
     },
     "execution_count": 152,
     "metadata": {},
     "output_type": "execute_result"
    }
   ],
   "source": [
    "_"
   ]
  },
  {
   "cell_type": "code",
   "execution_count": 153,
   "metadata": {},
   "outputs": [
    {
     "data": {
      "text/plain": [
       "([10, 20, 30], [40, 50, 60])"
      ]
     },
     "execution_count": 153,
     "metadata": {},
     "output_type": "execute_result"
    }
   ],
   "source": [
    "t = ([10, 20, 30], \n",
    "    [40, 50, 60])\n",
    "\n",
    "t"
   ]
  },
  {
   "cell_type": "code",
   "execution_count": 154,
   "metadata": {},
   "outputs": [],
   "source": [
    "t[0].append(31)"
   ]
  },
  {
   "cell_type": "code",
   "execution_count": 155,
   "metadata": {},
   "outputs": [
    {
     "data": {
      "text/plain": [
       "([10, 20, 30, 31], [40, 50, 60])"
      ]
     },
     "execution_count": 155,
     "metadata": {},
     "output_type": "execute_result"
    }
   ],
   "source": [
    "t"
   ]
  },
  {
   "cell_type": "code",
   "execution_count": 156,
   "metadata": {},
   "outputs": [
    {
     "ename": "TypeError",
     "evalue": "'tuple' object does not support item assignment",
     "output_type": "error",
     "traceback": [
      "\u001b[0;31m---------------------------------------------------------------------------\u001b[0m",
      "\u001b[0;31mTypeError\u001b[0m                                 Traceback (most recent call last)",
      "Input \u001b[0;32mIn [156]\u001b[0m, in \u001b[0;36m<cell line: 1>\u001b[0;34m()\u001b[0m\n\u001b[0;32m----> 1\u001b[0m t[\u001b[38;5;241m0\u001b[39m] \u001b[38;5;241m+\u001b[39m\u001b[38;5;241m=\u001b[39m [\u001b[38;5;241m40\u001b[39m, \u001b[38;5;241m50\u001b[39m, \u001b[38;5;241m60\u001b[39m]\n",
      "\u001b[0;31mTypeError\u001b[0m: 'tuple' object does not support item assignment"
     ]
    }
   ],
   "source": [
    "t[0] += [40, 50, 60]"
   ]
  },
  {
   "cell_type": "code",
   "execution_count": 157,
   "metadata": {},
   "outputs": [
    {
     "data": {
      "text/plain": [
       "([10, 20, 30, 31, 40, 50, 60], [40, 50, 60])"
      ]
     },
     "execution_count": 157,
     "metadata": {},
     "output_type": "execute_result"
    }
   ],
   "source": [
    "t"
   ]
  },
  {
   "cell_type": "code",
   "execution_count": 158,
   "metadata": {},
   "outputs": [
    {
     "data": {
      "text/plain": [
       "'Reuven'"
      ]
     },
     "execution_count": 158,
     "metadata": {},
     "output_type": "execute_result"
    }
   ],
   "source": [
    "p = ('Reuven', 'Lerner', 46)\n",
    "\n",
    "p[0]"
   ]
  },
  {
   "cell_type": "code",
   "execution_count": 159,
   "metadata": {},
   "outputs": [
    {
     "data": {
      "text/plain": [
       "'Lerner'"
      ]
     },
     "execution_count": 159,
     "metadata": {},
     "output_type": "execute_result"
    }
   ],
   "source": [
    "p[1]"
   ]
  },
  {
   "cell_type": "code",
   "execution_count": 160,
   "metadata": {},
   "outputs": [
    {
     "data": {
      "text/plain": [
       "46"
      ]
     },
     "execution_count": 160,
     "metadata": {},
     "output_type": "execute_result"
    }
   ],
   "source": [
    "p[2]"
   ]
  },
  {
   "cell_type": "code",
   "execution_count": 161,
   "metadata": {},
   "outputs": [],
   "source": [
    "from collections import namedtuple\n",
    "\n",
    "Person = namedtuple('Person', 'first last shoesize')"
   ]
  },
  {
   "cell_type": "code",
   "execution_count": 162,
   "metadata": {},
   "outputs": [],
   "source": [
    "p = Person('Reuven', 'Lerner', 46)"
   ]
  },
  {
   "cell_type": "code",
   "execution_count": 163,
   "metadata": {},
   "outputs": [
    {
     "data": {
      "text/plain": [
       "'Reuven'"
      ]
     },
     "execution_count": 163,
     "metadata": {},
     "output_type": "execute_result"
    }
   ],
   "source": [
    "p.first"
   ]
  },
  {
   "cell_type": "code",
   "execution_count": 164,
   "metadata": {},
   "outputs": [
    {
     "data": {
      "text/plain": [
       "'Lerner'"
      ]
     },
     "execution_count": 164,
     "metadata": {},
     "output_type": "execute_result"
    }
   ],
   "source": [
    "p.last"
   ]
  },
  {
   "cell_type": "code",
   "execution_count": 165,
   "metadata": {},
   "outputs": [
    {
     "data": {
      "text/plain": [
       "46"
      ]
     },
     "execution_count": 165,
     "metadata": {},
     "output_type": "execute_result"
    }
   ],
   "source": [
    "p.shoesize"
   ]
  },
  {
   "cell_type": "code",
   "execution_count": 166,
   "metadata": {},
   "outputs": [
    {
     "data": {
      "text/plain": [
       "(tuple,)"
      ]
     },
     "execution_count": 166,
     "metadata": {},
     "output_type": "execute_result"
    }
   ],
   "source": [
    "Person.__bases__ # who does Person inherit from?"
   ]
  },
  {
   "cell_type": "code",
   "execution_count": 167,
   "metadata": {},
   "outputs": [
    {
     "data": {
      "text/plain": [
       "'Reuven'"
      ]
     },
     "execution_count": 167,
     "metadata": {},
     "output_type": "execute_result"
    }
   ],
   "source": [
    "p[0]"
   ]
  },
  {
   "cell_type": "code",
   "execution_count": 168,
   "metadata": {},
   "outputs": [
    {
     "data": {
      "text/plain": [
       "'Lerner'"
      ]
     },
     "execution_count": 168,
     "metadata": {},
     "output_type": "execute_result"
    }
   ],
   "source": [
    "p[1]"
   ]
  },
  {
   "cell_type": "code",
   "execution_count": 169,
   "metadata": {},
   "outputs": [
    {
     "data": {
      "text/plain": [
       "46"
      ]
     },
     "execution_count": 169,
     "metadata": {},
     "output_type": "execute_result"
    }
   ],
   "source": [
    "p[2]"
   ]
  },
  {
   "cell_type": "code",
   "execution_count": 170,
   "metadata": {},
   "outputs": [
    {
     "ename": "AttributeError",
     "evalue": "can't set attribute",
     "output_type": "error",
     "traceback": [
      "\u001b[0;31m---------------------------------------------------------------------------\u001b[0m",
      "\u001b[0;31mAttributeError\u001b[0m                            Traceback (most recent call last)",
      "Input \u001b[0;32mIn [170]\u001b[0m, in \u001b[0;36m<cell line: 1>\u001b[0;34m()\u001b[0m\n\u001b[0;32m----> 1\u001b[0m p\u001b[38;5;241m.\u001b[39mfirst \u001b[38;5;241m=\u001b[39m \u001b[38;5;124m'\u001b[39m\u001b[38;5;124masfsafafa\u001b[39m\u001b[38;5;124m'\u001b[39m\n",
      "\u001b[0;31mAttributeError\u001b[0m: can't set attribute"
     ]
    }
   ],
   "source": [
    "p.first = 'asfsafafa'"
   ]
  },
  {
   "cell_type": "code",
   "execution_count": 172,
   "metadata": {},
   "outputs": [
    {
     "data": {
      "text/plain": [
       "Person(first='asdfafaa', last='Lerner', shoesize=46)"
      ]
     },
     "execution_count": 172,
     "metadata": {},
     "output_type": "execute_result"
    }
   ],
   "source": [
    "# returns a new Person object, with the requested changes\n",
    "\n",
    "p._replace(first='asdfafaa')"
   ]
  },
  {
   "cell_type": "code",
   "execution_count": 175,
   "metadata": {},
   "outputs": [],
   "source": [
    "x = 100\n",
    "y = [10, 20, 30, 987]"
   ]
  },
  {
   "cell_type": "code",
   "execution_count": 176,
   "metadata": {
    "scrolled": true
   },
   "outputs": [
    {
     "data": {
      "text/plain": [
       "{'__name__': '__main__',\n",
       " '__doc__': 'Automatically created module for IPython interactive environment',\n",
       " '__package__': None,\n",
       " '__loader__': None,\n",
       " '__spec__': None,\n",
       " '__builtin__': <module 'builtins' (built-in)>,\n",
       " '__builtins__': <module 'builtins' (built-in)>,\n",
       " '_ih': ['',\n",
       "  'x = None',\n",
       "  'type(x)',\n",
       "  \"if x == None:\\n    print('Yes, it is None!')\",\n",
       "  \"if x == None:   # not Pythonic\\n    print('Yes, it is None!')\",\n",
       "  \"if x is None:\\n    print('Yes, it is None!')\",\n",
       "  \"if x is None:   # Pythonic!\\n    print('Yes, it is None!')\",\n",
       "  '# what does is do?\\n\\nid(x)',\n",
       "  'id(None)',\n",
       "  \"if id(x) == id(None):   # same as saying x is None\\n    print('yes!')\",\n",
       "  'x = 5\\ny = 5\\n\\nx == y',\n",
       "  'x is y',\n",
       "  'x = 5000\\ny = 5000\\n\\nx == y',\n",
       "  'x is y',\n",
       "  \"x = 'abcd'\\ny = 'abcd'\\n\\nx == y\",\n",
       "  'x is y',\n",
       "  \"x = 'abcd' * 100_000\\ny = 'abcd' * 100_000\\n\\nx == y\",\n",
       "  'x is y',\n",
       "  \"x = 'a.b'\\ny = 'a.b'\\n\\nx == y\",\n",
       "  'x is y',\n",
       "  'import sys\\n\\nx = 0\\nsys.getsizeof(x)',\n",
       "  'x = 1\\nsys.getsizeof(x)',\n",
       "  'x = 100_000_000_000_000\\nsys.getsizeof(x)',\n",
       "  'x = 10\\ny = 3\\n\\nx + y',\n",
       "  'x - y',\n",
       "  'x * y',\n",
       "  'x / y',\n",
       "  'x / y  # always returns a float',\n",
       "  'x / y  # always returns a float -- truediv',\n",
       "  'x // y   # this returns an integer -- floordiv',\n",
       "  'x ** y  ',\n",
       "  'x % y',\n",
       "  'x = 10\\nx += 1   #  x = x + 1',\n",
       "  'x',\n",
       "  '0x12345',\n",
       "  \"s = '12345'\\nint(s)   # returns a new int, based on s\",\n",
       "  'int(s, 16)   # returns a new int, based on s, seeing s as hex',\n",
       "  '0b101011',\n",
       "  '012345',\n",
       "  '0o12345  # Octal ',\n",
       "  '0o12345  # Octal ',\n",
       "  'x = 10\\ny = x\\n\\nx = 20\\ny',\n",
       "  'x = 10.5\\ntype(x)',\n",
       "  'int(x)',\n",
       "  'x',\n",
       "  'x = int(x)',\n",
       "  'x',\n",
       "  'x = float(x)\\nx',\n",
       "  '0.1 + 0.2 ',\n",
       "  \"s = 'abcdefghijklmnopqrstuvwxyz'\\nlen(s)\",\n",
       "  's[0]',\n",
       "  's[1]',\n",
       "  's[2]',\n",
       "  's[len(s)-1]',\n",
       "  's[-1]',\n",
       "  's[-2]',\n",
       "  's[30]',\n",
       "  's[-30]',\n",
       "  's',\n",
       "  '# slice\\n\\ns[10:20]   # from 10 until (not including) 20',\n",
       "  's[5:25]',\n",
       "  's[:15]   # from the start, until (not including) 15',\n",
       "  's[15:]   # from 15, through the end',\n",
       "  's[3:22:2]   # from 3, until (not including) 22, step size 2',\n",
       "  's[::2]   # from the start, to the end, step size 2',\n",
       "  's[::-1]  ',\n",
       "  's',\n",
       "  \"s[0] = '!'   # let's change the alphabet!\",\n",
       "  \"s = 'abcd'\\ns += 'efgh'\\n\\ns\",\n",
       "  \"s = 'abcd'\\nprint(id(s))\\ns += 'efgh'\\nprint(id(s))\\ns\",\n",
       "  \"s = 'aBcD eFgH'\\ns.lower()\",\n",
       "  's.upper()',\n",
       "  's.swapcase()',\n",
       "  's.casefold()',\n",
       "  \"s = 'abcd'\\nlen(s)\",\n",
       "  \"s = 'שלום'\\nlen(s)\",\n",
       "  \"s = '你好'\\nlen(s)\",\n",
       "  's.encode()   # this returns a bytestring, based on the string s',\n",
       "  \"s = 'שלום'\\ns.encode()\",\n",
       "  's[1:]',\n",
       "  's.encode()[1:]',\n",
       "  '# try to return the final 7 bytes to a string \\ns.encode()[1:].decode()',\n",
       "  \"name = input('Enter your name: ')\\nprint(f'Hello, {name}!')   # f-string (format string / fancy string)\",\n",
       "  \"name = input('Enter your name: ')\\nprint(f'Hello, {name}!')   # f-string (format string / fancy string)\",\n",
       "  'name.strip()   # returns a new string, without whitespace on the edges',\n",
       "  \"name = input('Enter your name: ').strip()\\nprint(f'Hello, {name}!')   # f-string (format string / fancy string)\",\n",
       "  \"first = input('First number: ').strip()\\nsecond = input('Second number: ').strip()\\n\\nfirst = int(first)\\nsecond = int(second)\\n\\nif first < second:\\n    print(f'{first} comes before {second}')\\nelif second < first:\\n    print(f'{second} comes before {first}') \\nelse:\\n    print(f'{first} and {second} are the same')\",\n",
       "  \"first = input('First number: ').strip()\\nsecond = input('Second number: ').strip()\\n\\nfirst = int(first)\\nsecond = int(second)\\n\\nif first < second:\\n    print(f'{first} comes before {second}')\\nelif second < first:\\n    print(f'{second} comes before {first}') \\nelse:\\n    print(f'{first} and {second} are the same')\",\n",
       "  \"first = input('First number: ').strip()\\nsecond = input('Second number: ').strip()\\n\\nfirst = int(first)\\nsecond = int(second)\\n\\nif first < second:\\n    print(f'{first} comes before {second}')\\nelif second < first:\\n    print(f'{second} comes before {first}') \\nelse:\\n    print(f'{first} and {second} are the same')\",\n",
       "  \"first = input('First word: ').strip()\\nsecond = input('Second word: ').strip()\\n\\nif first < second:\\n    print(f'{first} comes before {second}')\\nelif second < first:\\n    print(f'{second} comes before {first}') \\nelse:\\n    print(f'{first} and {second} are the same')\",\n",
       "  \"first = input('First word: ').strip()\\nsecond = input('Second word: ').strip()\\n\\nif first < second:\\n    print(f'{first} comes before {second}')\\nelif second < first:\\n    print(f'{second} comes before {first}') \\nelse:\\n    print(f'{first} and {second} are the same')\",\n",
       "  \"first = input('First word: ').strip()\\nsecond = input('Second word: ').strip()\\n\\nif first < second:\\n    print(f'{first} comes before {second}')\\nelif second < first:\\n    print(f'{second} comes before {first}') \\nelse:\\n    print(f'{first} and {second} are the same')\",\n",
       "  \"first = input('First word: ').strip()\\nsecond = input('Second word: ').strip()\\n\\nif first.casefold() < second.casefold():\\n    print(f'{first} comes before {second}')\\nelif second.casefold() < first.casefold():\\n    print(f'{second} comes before {first}') \\nelse:\\n    print(f'{first} and {second} are the same')\",\n",
       "  '# sequence -- string, list tuple\\n# so they do a lot of the same things!\\n\\nmylist = [10, 20, 30, 40, 50, 60, 70, 80]',\n",
       "  'len(mylist)',\n",
       "  'mylist[0]',\n",
       "  'mylist[1]',\n",
       "  'mylist[-1]',\n",
       "  '# sequence -- string, list tuple\\n# so they do a lot of the same things!\\n\\nmylist = [10, 20, 30, 40, 50, 60, 70, 80]',\n",
       "  'len(mylist)',\n",
       "  'mylist[0]',\n",
       "  'mylist[1]',\n",
       "  'mylist[-1]',\n",
       "  'biglist = [mylist, mylist, mylist]\\nbiglist',\n",
       "  'mylist = [10, 20, 30]\\nbiglist = [mylist, mylist, mylist]\\nbiglist',\n",
       "  'len(biglist)',\n",
       "  \"mylist[0] = '!'  \",\n",
       "  'mylist',\n",
       "  \"mylist[0] = '!'    # lists are mutable!\",\n",
       "  'mylist',\n",
       "  'biglist',\n",
       "  'mylist = [10, 20, 30]\\n\\nmylist.append(40)\\nmylist.append(50)\\n\\nmylist',\n",
       "  'mylist.append([60, 70, 80])\\nmylist',\n",
       "  'mylist.pop()   # removes + returns the final element',\n",
       "  'mylist',\n",
       "  'mylist = mylist.append(60)',\n",
       "  'print(mylist)',\n",
       "  \"s = 'abcd efgh ijkl'\\n\\ns.split()   # returns a list of strings\",\n",
       "  \"s.spplit('h')\",\n",
       "  \"s.split('h')\",\n",
       "  \"s.split('!')\",\n",
       "  \"words = 'this is a bunch of words for my course'.split()\\nwords\",\n",
       "  \"# str.join returns a string\\n\\n' '.join(words)\",\n",
       "  \"'*'.join(words)\",\n",
       "  \"'*'.join('abcde')\",\n",
       "  '# tuples\\n\\nt = (10, 20, 30)\\ntype(t)',\n",
       "  't = (10, 20)\\ntype(t)',\n",
       "  't = (10)\\ntype(t)',\n",
       "  't = ()\\ntype(t)',\n",
       "  't = (10)  # t = (10,)\\ntype(t)',\n",
       "  't = (10,)  \\ntype(t)',\n",
       "  'mylist = []\\nsys.getsizeof(mylist)',\n",
       "  'mylist = [10, 20, 30]\\nsys.getsizeof(mylist)',\n",
       "  't = (10, 20, 30)\\nsys.getsizeof(t)',\n",
       "  'mylist = [10, 20, 30]\\nx = mylist\\n\\nx',\n",
       "  'x,y,z = mylist',\n",
       "  '# tuple unpacking\\n\\nx,y,z = mylist',\n",
       "  'x',\n",
       "  'u',\n",
       "  'y',\n",
       "  'z',\n",
       "  'x,y = mylist',\n",
       "  'mylist = [10, 20, 30]\\n\\nfirst, _, last = mylist',\n",
       "  'mylist = [10, 20, 30, 40]\\n\\nfirst, _, _, last = mylist',\n",
       "  'first',\n",
       "  'last',\n",
       "  'first, *middle, last = mylist',\n",
       "  '# *middle means: middle will be a list!\\n\\nfirst, *middle, last = mylist',\n",
       "  'first',\n",
       "  'middle',\n",
       "  'last',\n",
       "  'first, *_, last = mylist',\n",
       "  '_',\n",
       "  't = ([10, 20, 30], \\n    [40, 50, 60])\\n\\nt',\n",
       "  't[0].append(31)',\n",
       "  't',\n",
       "  't[0] += [40, 50, 60]',\n",
       "  't',\n",
       "  \"p = ('Reuven', 'Lerner', 46)\\n\\np[0]\",\n",
       "  'p[1]',\n",
       "  'p[2]',\n",
       "  \"from collections import namedtuple\\n\\nPerson = namedtuple('Person', 'first last shoesize')\",\n",
       "  \"p = Person('Reuven', 'Lerner', 46)\",\n",
       "  'p.first',\n",
       "  'p.last',\n",
       "  'p.shoesize',\n",
       "  'Person.__bases__ # who does Person inherit from?',\n",
       "  'p[0]',\n",
       "  'p[1]',\n",
       "  'p[2]',\n",
       "  \"p.first = 'asfsafafa'\",\n",
       "  \"p._replace(first='asdfafaa')\",\n",
       "  \"# returns a new Person object, with the requested changes\\n\\np._replace(first='asdfafaa')\",\n",
       "  'x = 100\\ny = [10, 20, 30]',\n",
       "  'globals()',\n",
       "  'x = 100\\ny = [10, 20, 30, 987]',\n",
       "  'globals()'],\n",
       " '_oh': {2: NoneType,\n",
       "  7: 4501920112,\n",
       "  8: 4501920112,\n",
       "  10: True,\n",
       "  11: True,\n",
       "  12: True,\n",
       "  13: False,\n",
       "  14: True,\n",
       "  15: True,\n",
       "  16: True,\n",
       "  17: False,\n",
       "  18: True,\n",
       "  19: False,\n",
       "  20: 24,\n",
       "  21: 28,\n",
       "  22: 32,\n",
       "  23: 13,\n",
       "  24: 7,\n",
       "  25: 30,\n",
       "  26: 3.3333333333333335,\n",
       "  27: 3.3333333333333335,\n",
       "  28: 3.3333333333333335,\n",
       "  29: 3,\n",
       "  30: 1000,\n",
       "  31: 1,\n",
       "  33: 11,\n",
       "  34: 74565,\n",
       "  35: 12345,\n",
       "  36: 74565,\n",
       "  37: 43,\n",
       "  39: 5349,\n",
       "  40: 5349,\n",
       "  41: 10,\n",
       "  42: float,\n",
       "  43: 10,\n",
       "  44: 10.5,\n",
       "  46: 10,\n",
       "  47: 10.0,\n",
       "  48: 0.30000000000000004,\n",
       "  49: 26,\n",
       "  50: 'a',\n",
       "  51: 'b',\n",
       "  52: 'c',\n",
       "  53: 'z',\n",
       "  54: 'z',\n",
       "  55: 'y',\n",
       "  58: 'abcdefghijklmnopqrstuvwxyz',\n",
       "  59: 'klmnopqrst',\n",
       "  60: 'fghijklmnopqrstuvwxy',\n",
       "  61: 'abcdefghijklmno',\n",
       "  62: 'pqrstuvwxyz',\n",
       "  63: 'dfhjlnprtv',\n",
       "  64: 'acegikmoqsuwy',\n",
       "  65: 'zyxwvutsrqponmlkjihgfedcba',\n",
       "  66: 'abcdefghijklmnopqrstuvwxyz',\n",
       "  68: 'abcdefgh',\n",
       "  69: 'abcdefgh',\n",
       "  70: 'abcd efgh',\n",
       "  71: 'ABCD EFGH',\n",
       "  72: 'AbCd EfGh',\n",
       "  73: 'abcd efgh',\n",
       "  74: 4,\n",
       "  75: 4,\n",
       "  76: 2,\n",
       "  77: b'\\xe4\\xbd\\xa0\\xe5\\xa5\\xbd',\n",
       "  78: b'\\xd7\\xa9\\xd7\\x9c\\xd7\\x95\\xd7\\x9d',\n",
       "  79: 'לום',\n",
       "  80: b'\\xa9\\xd7\\x9c\\xd7\\x95\\xd7\\x9d',\n",
       "  84: 'Reuven',\n",
       "  94: 8,\n",
       "  95: 10,\n",
       "  96: 20,\n",
       "  97: 80,\n",
       "  99: 8,\n",
       "  100: 10,\n",
       "  101: 20,\n",
       "  102: 80,\n",
       "  103: [[10, 20, 30, 40, 50, 60, 70, 80],\n",
       "   [10, 20, 30, 40, 50, 60, 70, 80],\n",
       "   [10, 20, 30, 40, 50, 60, 70, 80]],\n",
       "  104: [['!', 20, 30], ['!', 20, 30], ['!', 20, 30]],\n",
       "  105: 3,\n",
       "  107: ['!', 20, 30],\n",
       "  109: ['!', 20, 30],\n",
       "  110: [['!', 20, 30], ['!', 20, 30], ['!', 20, 30]],\n",
       "  111: [10, 20, 30, 40, 50, 60],\n",
       "  112: [10, 20, 30, 40, 50, 60],\n",
       "  113: [60, 70, 80],\n",
       "  114: [10, 20, 30, 40, 50, 60],\n",
       "  117: ['abcd', 'efgh', 'ijkl'],\n",
       "  119: ['abcd efg', ' ijkl'],\n",
       "  120: ['abcd efgh ijkl'],\n",
       "  121: ['this', 'is', 'a', 'bunch', 'of', 'words', 'for', 'my', 'course'],\n",
       "  122: 'this is a bunch of words for my course',\n",
       "  123: 'this*is*a*bunch*of*words*for*my*course',\n",
       "  124: 'a*b*c*d*e',\n",
       "  125: tuple,\n",
       "  126: tuple,\n",
       "  127: int,\n",
       "  128: tuple,\n",
       "  129: int,\n",
       "  130: tuple,\n",
       "  131: 56,\n",
       "  132: 88,\n",
       "  133: 64,\n",
       "  134: [10, 20, 30],\n",
       "  137: 10,\n",
       "  139: 20,\n",
       "  140: 30,\n",
       "  144: 10,\n",
       "  145: 40,\n",
       "  148: 10,\n",
       "  149: [20, 30],\n",
       "  150: 40,\n",
       "  152: [20, 30],\n",
       "  153: ([10, 20, 30, 31, 40, 50, 60], [40, 50, 60]),\n",
       "  155: ([10, 20, 30, 31, 40, 50, 60], [40, 50, 60]),\n",
       "  157: ([10, 20, 30, 31, 40, 50, 60], [40, 50, 60]),\n",
       "  158: 'Reuven',\n",
       "  159: 'Lerner',\n",
       "  160: 46,\n",
       "  163: 'Reuven',\n",
       "  164: 'Lerner',\n",
       "  165: 46,\n",
       "  166: (tuple,),\n",
       "  167: 'Reuven',\n",
       "  168: 'Lerner',\n",
       "  169: 46,\n",
       "  171: Person(first='asdfafaa', last='Lerner', shoesize=46),\n",
       "  172: Person(first='asdfafaa', last='Lerner', shoesize=46),\n",
       "  174: {...}},\n",
       " '_dh': [PosixPath('/Users/reuven/Courses/Current/bezeq-2022-09Sept-advanced')],\n",
       " 'In': ['',\n",
       "  'x = None',\n",
       "  'type(x)',\n",
       "  \"if x == None:\\n    print('Yes, it is None!')\",\n",
       "  \"if x == None:   # not Pythonic\\n    print('Yes, it is None!')\",\n",
       "  \"if x is None:\\n    print('Yes, it is None!')\",\n",
       "  \"if x is None:   # Pythonic!\\n    print('Yes, it is None!')\",\n",
       "  '# what does is do?\\n\\nid(x)',\n",
       "  'id(None)',\n",
       "  \"if id(x) == id(None):   # same as saying x is None\\n    print('yes!')\",\n",
       "  'x = 5\\ny = 5\\n\\nx == y',\n",
       "  'x is y',\n",
       "  'x = 5000\\ny = 5000\\n\\nx == y',\n",
       "  'x is y',\n",
       "  \"x = 'abcd'\\ny = 'abcd'\\n\\nx == y\",\n",
       "  'x is y',\n",
       "  \"x = 'abcd' * 100_000\\ny = 'abcd' * 100_000\\n\\nx == y\",\n",
       "  'x is y',\n",
       "  \"x = 'a.b'\\ny = 'a.b'\\n\\nx == y\",\n",
       "  'x is y',\n",
       "  'import sys\\n\\nx = 0\\nsys.getsizeof(x)',\n",
       "  'x = 1\\nsys.getsizeof(x)',\n",
       "  'x = 100_000_000_000_000\\nsys.getsizeof(x)',\n",
       "  'x = 10\\ny = 3\\n\\nx + y',\n",
       "  'x - y',\n",
       "  'x * y',\n",
       "  'x / y',\n",
       "  'x / y  # always returns a float',\n",
       "  'x / y  # always returns a float -- truediv',\n",
       "  'x // y   # this returns an integer -- floordiv',\n",
       "  'x ** y  ',\n",
       "  'x % y',\n",
       "  'x = 10\\nx += 1   #  x = x + 1',\n",
       "  'x',\n",
       "  '0x12345',\n",
       "  \"s = '12345'\\nint(s)   # returns a new int, based on s\",\n",
       "  'int(s, 16)   # returns a new int, based on s, seeing s as hex',\n",
       "  '0b101011',\n",
       "  '012345',\n",
       "  '0o12345  # Octal ',\n",
       "  '0o12345  # Octal ',\n",
       "  'x = 10\\ny = x\\n\\nx = 20\\ny',\n",
       "  'x = 10.5\\ntype(x)',\n",
       "  'int(x)',\n",
       "  'x',\n",
       "  'x = int(x)',\n",
       "  'x',\n",
       "  'x = float(x)\\nx',\n",
       "  '0.1 + 0.2 ',\n",
       "  \"s = 'abcdefghijklmnopqrstuvwxyz'\\nlen(s)\",\n",
       "  's[0]',\n",
       "  's[1]',\n",
       "  's[2]',\n",
       "  's[len(s)-1]',\n",
       "  's[-1]',\n",
       "  's[-2]',\n",
       "  's[30]',\n",
       "  's[-30]',\n",
       "  's',\n",
       "  '# slice\\n\\ns[10:20]   # from 10 until (not including) 20',\n",
       "  's[5:25]',\n",
       "  's[:15]   # from the start, until (not including) 15',\n",
       "  's[15:]   # from 15, through the end',\n",
       "  's[3:22:2]   # from 3, until (not including) 22, step size 2',\n",
       "  's[::2]   # from the start, to the end, step size 2',\n",
       "  's[::-1]  ',\n",
       "  's',\n",
       "  \"s[0] = '!'   # let's change the alphabet!\",\n",
       "  \"s = 'abcd'\\ns += 'efgh'\\n\\ns\",\n",
       "  \"s = 'abcd'\\nprint(id(s))\\ns += 'efgh'\\nprint(id(s))\\ns\",\n",
       "  \"s = 'aBcD eFgH'\\ns.lower()\",\n",
       "  's.upper()',\n",
       "  's.swapcase()',\n",
       "  's.casefold()',\n",
       "  \"s = 'abcd'\\nlen(s)\",\n",
       "  \"s = 'שלום'\\nlen(s)\",\n",
       "  \"s = '你好'\\nlen(s)\",\n",
       "  's.encode()   # this returns a bytestring, based on the string s',\n",
       "  \"s = 'שלום'\\ns.encode()\",\n",
       "  's[1:]',\n",
       "  's.encode()[1:]',\n",
       "  '# try to return the final 7 bytes to a string \\ns.encode()[1:].decode()',\n",
       "  \"name = input('Enter your name: ')\\nprint(f'Hello, {name}!')   # f-string (format string / fancy string)\",\n",
       "  \"name = input('Enter your name: ')\\nprint(f'Hello, {name}!')   # f-string (format string / fancy string)\",\n",
       "  'name.strip()   # returns a new string, without whitespace on the edges',\n",
       "  \"name = input('Enter your name: ').strip()\\nprint(f'Hello, {name}!')   # f-string (format string / fancy string)\",\n",
       "  \"first = input('First number: ').strip()\\nsecond = input('Second number: ').strip()\\n\\nfirst = int(first)\\nsecond = int(second)\\n\\nif first < second:\\n    print(f'{first} comes before {second}')\\nelif second < first:\\n    print(f'{second} comes before {first}') \\nelse:\\n    print(f'{first} and {second} are the same')\",\n",
       "  \"first = input('First number: ').strip()\\nsecond = input('Second number: ').strip()\\n\\nfirst = int(first)\\nsecond = int(second)\\n\\nif first < second:\\n    print(f'{first} comes before {second}')\\nelif second < first:\\n    print(f'{second} comes before {first}') \\nelse:\\n    print(f'{first} and {second} are the same')\",\n",
       "  \"first = input('First number: ').strip()\\nsecond = input('Second number: ').strip()\\n\\nfirst = int(first)\\nsecond = int(second)\\n\\nif first < second:\\n    print(f'{first} comes before {second}')\\nelif second < first:\\n    print(f'{second} comes before {first}') \\nelse:\\n    print(f'{first} and {second} are the same')\",\n",
       "  \"first = input('First word: ').strip()\\nsecond = input('Second word: ').strip()\\n\\nif first < second:\\n    print(f'{first} comes before {second}')\\nelif second < first:\\n    print(f'{second} comes before {first}') \\nelse:\\n    print(f'{first} and {second} are the same')\",\n",
       "  \"first = input('First word: ').strip()\\nsecond = input('Second word: ').strip()\\n\\nif first < second:\\n    print(f'{first} comes before {second}')\\nelif second < first:\\n    print(f'{second} comes before {first}') \\nelse:\\n    print(f'{first} and {second} are the same')\",\n",
       "  \"first = input('First word: ').strip()\\nsecond = input('Second word: ').strip()\\n\\nif first < second:\\n    print(f'{first} comes before {second}')\\nelif second < first:\\n    print(f'{second} comes before {first}') \\nelse:\\n    print(f'{first} and {second} are the same')\",\n",
       "  \"first = input('First word: ').strip()\\nsecond = input('Second word: ').strip()\\n\\nif first.casefold() < second.casefold():\\n    print(f'{first} comes before {second}')\\nelif second.casefold() < first.casefold():\\n    print(f'{second} comes before {first}') \\nelse:\\n    print(f'{first} and {second} are the same')\",\n",
       "  '# sequence -- string, list tuple\\n# so they do a lot of the same things!\\n\\nmylist = [10, 20, 30, 40, 50, 60, 70, 80]',\n",
       "  'len(mylist)',\n",
       "  'mylist[0]',\n",
       "  'mylist[1]',\n",
       "  'mylist[-1]',\n",
       "  '# sequence -- string, list tuple\\n# so they do a lot of the same things!\\n\\nmylist = [10, 20, 30, 40, 50, 60, 70, 80]',\n",
       "  'len(mylist)',\n",
       "  'mylist[0]',\n",
       "  'mylist[1]',\n",
       "  'mylist[-1]',\n",
       "  'biglist = [mylist, mylist, mylist]\\nbiglist',\n",
       "  'mylist = [10, 20, 30]\\nbiglist = [mylist, mylist, mylist]\\nbiglist',\n",
       "  'len(biglist)',\n",
       "  \"mylist[0] = '!'  \",\n",
       "  'mylist',\n",
       "  \"mylist[0] = '!'    # lists are mutable!\",\n",
       "  'mylist',\n",
       "  'biglist',\n",
       "  'mylist = [10, 20, 30]\\n\\nmylist.append(40)\\nmylist.append(50)\\n\\nmylist',\n",
       "  'mylist.append([60, 70, 80])\\nmylist',\n",
       "  'mylist.pop()   # removes + returns the final element',\n",
       "  'mylist',\n",
       "  'mylist = mylist.append(60)',\n",
       "  'print(mylist)',\n",
       "  \"s = 'abcd efgh ijkl'\\n\\ns.split()   # returns a list of strings\",\n",
       "  \"s.spplit('h')\",\n",
       "  \"s.split('h')\",\n",
       "  \"s.split('!')\",\n",
       "  \"words = 'this is a bunch of words for my course'.split()\\nwords\",\n",
       "  \"# str.join returns a string\\n\\n' '.join(words)\",\n",
       "  \"'*'.join(words)\",\n",
       "  \"'*'.join('abcde')\",\n",
       "  '# tuples\\n\\nt = (10, 20, 30)\\ntype(t)',\n",
       "  't = (10, 20)\\ntype(t)',\n",
       "  't = (10)\\ntype(t)',\n",
       "  't = ()\\ntype(t)',\n",
       "  't = (10)  # t = (10,)\\ntype(t)',\n",
       "  't = (10,)  \\ntype(t)',\n",
       "  'mylist = []\\nsys.getsizeof(mylist)',\n",
       "  'mylist = [10, 20, 30]\\nsys.getsizeof(mylist)',\n",
       "  't = (10, 20, 30)\\nsys.getsizeof(t)',\n",
       "  'mylist = [10, 20, 30]\\nx = mylist\\n\\nx',\n",
       "  'x,y,z = mylist',\n",
       "  '# tuple unpacking\\n\\nx,y,z = mylist',\n",
       "  'x',\n",
       "  'u',\n",
       "  'y',\n",
       "  'z',\n",
       "  'x,y = mylist',\n",
       "  'mylist = [10, 20, 30]\\n\\nfirst, _, last = mylist',\n",
       "  'mylist = [10, 20, 30, 40]\\n\\nfirst, _, _, last = mylist',\n",
       "  'first',\n",
       "  'last',\n",
       "  'first, *middle, last = mylist',\n",
       "  '# *middle means: middle will be a list!\\n\\nfirst, *middle, last = mylist',\n",
       "  'first',\n",
       "  'middle',\n",
       "  'last',\n",
       "  'first, *_, last = mylist',\n",
       "  '_',\n",
       "  't = ([10, 20, 30], \\n    [40, 50, 60])\\n\\nt',\n",
       "  't[0].append(31)',\n",
       "  't',\n",
       "  't[0] += [40, 50, 60]',\n",
       "  't',\n",
       "  \"p = ('Reuven', 'Lerner', 46)\\n\\np[0]\",\n",
       "  'p[1]',\n",
       "  'p[2]',\n",
       "  \"from collections import namedtuple\\n\\nPerson = namedtuple('Person', 'first last shoesize')\",\n",
       "  \"p = Person('Reuven', 'Lerner', 46)\",\n",
       "  'p.first',\n",
       "  'p.last',\n",
       "  'p.shoesize',\n",
       "  'Person.__bases__ # who does Person inherit from?',\n",
       "  'p[0]',\n",
       "  'p[1]',\n",
       "  'p[2]',\n",
       "  \"p.first = 'asfsafafa'\",\n",
       "  \"p._replace(first='asdfafaa')\",\n",
       "  \"# returns a new Person object, with the requested changes\\n\\np._replace(first='asdfafaa')\",\n",
       "  'x = 100\\ny = [10, 20, 30]',\n",
       "  'globals()',\n",
       "  'x = 100\\ny = [10, 20, 30, 987]',\n",
       "  'globals()'],\n",
       " 'Out': {2: NoneType,\n",
       "  7: 4501920112,\n",
       "  8: 4501920112,\n",
       "  10: True,\n",
       "  11: True,\n",
       "  12: True,\n",
       "  13: False,\n",
       "  14: True,\n",
       "  15: True,\n",
       "  16: True,\n",
       "  17: False,\n",
       "  18: True,\n",
       "  19: False,\n",
       "  20: 24,\n",
       "  21: 28,\n",
       "  22: 32,\n",
       "  23: 13,\n",
       "  24: 7,\n",
       "  25: 30,\n",
       "  26: 3.3333333333333335,\n",
       "  27: 3.3333333333333335,\n",
       "  28: 3.3333333333333335,\n",
       "  29: 3,\n",
       "  30: 1000,\n",
       "  31: 1,\n",
       "  33: 11,\n",
       "  34: 74565,\n",
       "  35: 12345,\n",
       "  36: 74565,\n",
       "  37: 43,\n",
       "  39: 5349,\n",
       "  40: 5349,\n",
       "  41: 10,\n",
       "  42: float,\n",
       "  43: 10,\n",
       "  44: 10.5,\n",
       "  46: 10,\n",
       "  47: 10.0,\n",
       "  48: 0.30000000000000004,\n",
       "  49: 26,\n",
       "  50: 'a',\n",
       "  51: 'b',\n",
       "  52: 'c',\n",
       "  53: 'z',\n",
       "  54: 'z',\n",
       "  55: 'y',\n",
       "  58: 'abcdefghijklmnopqrstuvwxyz',\n",
       "  59: 'klmnopqrst',\n",
       "  60: 'fghijklmnopqrstuvwxy',\n",
       "  61: 'abcdefghijklmno',\n",
       "  62: 'pqrstuvwxyz',\n",
       "  63: 'dfhjlnprtv',\n",
       "  64: 'acegikmoqsuwy',\n",
       "  65: 'zyxwvutsrqponmlkjihgfedcba',\n",
       "  66: 'abcdefghijklmnopqrstuvwxyz',\n",
       "  68: 'abcdefgh',\n",
       "  69: 'abcdefgh',\n",
       "  70: 'abcd efgh',\n",
       "  71: 'ABCD EFGH',\n",
       "  72: 'AbCd EfGh',\n",
       "  73: 'abcd efgh',\n",
       "  74: 4,\n",
       "  75: 4,\n",
       "  76: 2,\n",
       "  77: b'\\xe4\\xbd\\xa0\\xe5\\xa5\\xbd',\n",
       "  78: b'\\xd7\\xa9\\xd7\\x9c\\xd7\\x95\\xd7\\x9d',\n",
       "  79: 'לום',\n",
       "  80: b'\\xa9\\xd7\\x9c\\xd7\\x95\\xd7\\x9d',\n",
       "  84: 'Reuven',\n",
       "  94: 8,\n",
       "  95: 10,\n",
       "  96: 20,\n",
       "  97: 80,\n",
       "  99: 8,\n",
       "  100: 10,\n",
       "  101: 20,\n",
       "  102: 80,\n",
       "  103: [[10, 20, 30, 40, 50, 60, 70, 80],\n",
       "   [10, 20, 30, 40, 50, 60, 70, 80],\n",
       "   [10, 20, 30, 40, 50, 60, 70, 80]],\n",
       "  104: [['!', 20, 30], ['!', 20, 30], ['!', 20, 30]],\n",
       "  105: 3,\n",
       "  107: ['!', 20, 30],\n",
       "  109: ['!', 20, 30],\n",
       "  110: [['!', 20, 30], ['!', 20, 30], ['!', 20, 30]],\n",
       "  111: [10, 20, 30, 40, 50, 60],\n",
       "  112: [10, 20, 30, 40, 50, 60],\n",
       "  113: [60, 70, 80],\n",
       "  114: [10, 20, 30, 40, 50, 60],\n",
       "  117: ['abcd', 'efgh', 'ijkl'],\n",
       "  119: ['abcd efg', ' ijkl'],\n",
       "  120: ['abcd efgh ijkl'],\n",
       "  121: ['this', 'is', 'a', 'bunch', 'of', 'words', 'for', 'my', 'course'],\n",
       "  122: 'this is a bunch of words for my course',\n",
       "  123: 'this*is*a*bunch*of*words*for*my*course',\n",
       "  124: 'a*b*c*d*e',\n",
       "  125: tuple,\n",
       "  126: tuple,\n",
       "  127: int,\n",
       "  128: tuple,\n",
       "  129: int,\n",
       "  130: tuple,\n",
       "  131: 56,\n",
       "  132: 88,\n",
       "  133: 64,\n",
       "  134: [10, 20, 30],\n",
       "  137: 10,\n",
       "  139: 20,\n",
       "  140: 30,\n",
       "  144: 10,\n",
       "  145: 40,\n",
       "  148: 10,\n",
       "  149: [20, 30],\n",
       "  150: 40,\n",
       "  152: [20, 30],\n",
       "  153: ([10, 20, 30, 31, 40, 50, 60], [40, 50, 60]),\n",
       "  155: ([10, 20, 30, 31, 40, 50, 60], [40, 50, 60]),\n",
       "  157: ([10, 20, 30, 31, 40, 50, 60], [40, 50, 60]),\n",
       "  158: 'Reuven',\n",
       "  159: 'Lerner',\n",
       "  160: 46,\n",
       "  163: 'Reuven',\n",
       "  164: 'Lerner',\n",
       "  165: 46,\n",
       "  166: (tuple,),\n",
       "  167: 'Reuven',\n",
       "  168: 'Lerner',\n",
       "  169: 46,\n",
       "  171: Person(first='asdfafaa', last='Lerner', shoesize=46),\n",
       "  172: Person(first='asdfafaa', last='Lerner', shoesize=46),\n",
       "  174: {...}},\n",
       " 'get_ipython': <bound method InteractiveShell.get_ipython of <ipykernel.zmqshell.ZMQInteractiveShell object at 0x10ebdce80>>,\n",
       " 'exit': <IPython.core.autocall.ZMQExitAutocall at 0x10ebde4a0>,\n",
       " 'quit': <IPython.core.autocall.ZMQExitAutocall at 0x10ebde4a0>,\n",
       " '_': [20, 30],\n",
       " '__': [20, 30],\n",
       " '___': 10,\n",
       " '_i': 'x = 100\\ny = [10, 20, 30, 987]',\n",
       " '_ii': 'globals()',\n",
       " '_iii': 'x = 100\\ny = [10, 20, 30]',\n",
       " '_i1': 'x = None',\n",
       " 'x': 100,\n",
       " '_i2': 'type(x)',\n",
       " '_2': NoneType,\n",
       " '_i3': \"if x == None:\\n    print('Yes, it is None!')\",\n",
       " '_i4': \"if x == None:   # not Pythonic\\n    print('Yes, it is None!')\",\n",
       " '_i5': \"if x is None:\\n    print('Yes, it is None!')\",\n",
       " '_i6': \"if x is None:   # Pythonic!\\n    print('Yes, it is None!')\",\n",
       " '_i7': '# what does is do?\\n\\nid(x)',\n",
       " '_7': 4501920112,\n",
       " '_i8': 'id(None)',\n",
       " '_8': 4501920112,\n",
       " '_i9': \"if id(x) == id(None):   # same as saying x is None\\n    print('yes!')\",\n",
       " '_i10': 'x = 5\\ny = 5\\n\\nx == y',\n",
       " 'y': [10, 20, 30, 987],\n",
       " '_10': True,\n",
       " '_i11': 'x is y',\n",
       " '_11': True,\n",
       " '_i12': 'x = 5000\\ny = 5000\\n\\nx == y',\n",
       " '_12': True,\n",
       " '_i13': 'x is y',\n",
       " '_13': False,\n",
       " '_i14': \"x = 'abcd'\\ny = 'abcd'\\n\\nx == y\",\n",
       " '_14': True,\n",
       " '_i15': 'x is y',\n",
       " '_15': True,\n",
       " '_i16': \"x = 'abcd' * 100_000\\ny = 'abcd' * 100_000\\n\\nx == y\",\n",
       " '_16': True,\n",
       " '_i17': 'x is y',\n",
       " '_17': False,\n",
       " '_i18': \"x = 'a.b'\\ny = 'a.b'\\n\\nx == y\",\n",
       " '_18': True,\n",
       " '_i19': 'x is y',\n",
       " '_19': False,\n",
       " '_i20': 'import sys\\n\\nx = 0\\nsys.getsizeof(x)',\n",
       " 'sys': <module 'sys' (built-in)>,\n",
       " '_20': 24,\n",
       " '_i21': 'x = 1\\nsys.getsizeof(x)',\n",
       " '_21': 28,\n",
       " '_i22': 'x = 100_000_000_000_000\\nsys.getsizeof(x)',\n",
       " '_22': 32,\n",
       " '_i23': 'x = 10\\ny = 3\\n\\nx + y',\n",
       " '_23': 13,\n",
       " '_i24': 'x - y',\n",
       " '_24': 7,\n",
       " '_i25': 'x * y',\n",
       " '_25': 30,\n",
       " '_i26': 'x / y',\n",
       " '_26': 3.3333333333333335,\n",
       " '_i27': 'x / y  # always returns a float',\n",
       " '_27': 3.3333333333333335,\n",
       " '_i28': 'x / y  # always returns a float -- truediv',\n",
       " '_28': 3.3333333333333335,\n",
       " '_i29': 'x // y   # this returns an integer -- floordiv',\n",
       " '_29': 3,\n",
       " '_i30': 'x ** y  ',\n",
       " '_30': 1000,\n",
       " '_i31': 'x % y',\n",
       " '_31': 1,\n",
       " '_i32': 'x = 10\\nx += 1   #  x = x + 1',\n",
       " '_i33': 'x',\n",
       " '_33': 11,\n",
       " '_i34': '0x12345',\n",
       " '_34': 74565,\n",
       " '_i35': \"s = '12345'\\nint(s)   # returns a new int, based on s\",\n",
       " 's': 'abcd efgh ijkl',\n",
       " '_35': 12345,\n",
       " '_i36': 'int(s, 16)   # returns a new int, based on s, seeing s as hex',\n",
       " '_36': 74565,\n",
       " '_i37': '0b101011',\n",
       " '_37': 43,\n",
       " '_i38': '012345',\n",
       " '_i39': '0o12345  # Octal ',\n",
       " '_39': 5349,\n",
       " '_i40': '0o12345  # Octal ',\n",
       " '_40': 5349,\n",
       " '_i41': 'x = 10\\ny = x\\n\\nx = 20\\ny',\n",
       " '_41': 10,\n",
       " '_i42': 'x = 10.5\\ntype(x)',\n",
       " '_42': float,\n",
       " '_i43': 'int(x)',\n",
       " '_43': 10,\n",
       " '_i44': 'x',\n",
       " '_44': 10.5,\n",
       " '_i45': 'x = int(x)',\n",
       " '_i46': 'x',\n",
       " '_46': 10,\n",
       " '_i47': 'x = float(x)\\nx',\n",
       " '_47': 10.0,\n",
       " '_i48': '0.1 + 0.2 ',\n",
       " '_48': 0.30000000000000004,\n",
       " '_i49': \"s = 'abcdefghijklmnopqrstuvwxyz'\\nlen(s)\",\n",
       " '_49': 26,\n",
       " '_i50': 's[0]',\n",
       " '_50': 'a',\n",
       " '_i51': 's[1]',\n",
       " '_51': 'b',\n",
       " '_i52': 's[2]',\n",
       " '_52': 'c',\n",
       " '_i53': 's[len(s)-1]',\n",
       " '_53': 'z',\n",
       " '_i54': 's[-1]',\n",
       " '_54': 'z',\n",
       " '_i55': 's[-2]',\n",
       " '_55': 'y',\n",
       " '_i56': 's[30]',\n",
       " '_i57': 's[-30]',\n",
       " '_i58': 's',\n",
       " '_58': 'abcdefghijklmnopqrstuvwxyz',\n",
       " '_i59': '# slice\\n\\ns[10:20]   # from 10 until (not including) 20',\n",
       " '_59': 'klmnopqrst',\n",
       " '_i60': 's[5:25]',\n",
       " '_60': 'fghijklmnopqrstuvwxy',\n",
       " '_i61': 's[:15]   # from the start, until (not including) 15',\n",
       " '_61': 'abcdefghijklmno',\n",
       " '_i62': 's[15:]   # from 15, through the end',\n",
       " '_62': 'pqrstuvwxyz',\n",
       " '_i63': 's[3:22:2]   # from 3, until (not including) 22, step size 2',\n",
       " '_63': 'dfhjlnprtv',\n",
       " '_i64': 's[::2]   # from the start, to the end, step size 2',\n",
       " '_64': 'acegikmoqsuwy',\n",
       " '_i65': 's[::-1]  ',\n",
       " '_65': 'zyxwvutsrqponmlkjihgfedcba',\n",
       " '_i66': 's',\n",
       " '_66': 'abcdefghijklmnopqrstuvwxyz',\n",
       " '_i67': \"s[0] = '!'   # let's change the alphabet!\",\n",
       " '_i68': \"s = 'abcd'\\ns += 'efgh'\\n\\ns\",\n",
       " '_68': 'abcdefgh',\n",
       " '_i69': \"s = 'abcd'\\nprint(id(s))\\ns += 'efgh'\\nprint(id(s))\\ns\",\n",
       " '_69': 'abcdefgh',\n",
       " '_i70': \"s = 'aBcD eFgH'\\ns.lower()\",\n",
       " '_70': 'abcd efgh',\n",
       " '_i71': 's.upper()',\n",
       " '_71': 'ABCD EFGH',\n",
       " '_i72': 's.swapcase()',\n",
       " '_72': 'AbCd EfGh',\n",
       " '_i73': 's.casefold()',\n",
       " '_73': 'abcd efgh',\n",
       " '_i74': \"s = 'abcd'\\nlen(s)\",\n",
       " '_74': 4,\n",
       " '_i75': \"s = 'שלום'\\nlen(s)\",\n",
       " '_75': 4,\n",
       " '_i76': \"s = '你好'\\nlen(s)\",\n",
       " '_76': 2,\n",
       " '_i77': 's.encode()   # this returns a bytestring, based on the string s',\n",
       " '_77': b'\\xe4\\xbd\\xa0\\xe5\\xa5\\xbd',\n",
       " '_i78': \"s = 'שלום'\\ns.encode()\",\n",
       " '_78': b'\\xd7\\xa9\\xd7\\x9c\\xd7\\x95\\xd7\\x9d',\n",
       " '_i79': 's[1:]',\n",
       " '_79': 'לום',\n",
       " '_i80': 's.encode()[1:]',\n",
       " '_80': b'\\xa9\\xd7\\x9c\\xd7\\x95\\xd7\\x9d',\n",
       " '_i81': '# try to return the final 7 bytes to a string \\ns.encode()[1:].decode()',\n",
       " '_i82': \"name = input('Enter your name: ')\\nprint(f'Hello, {name}!')   # f-string (format string / fancy string)\",\n",
       " 'name': 'Reuven',\n",
       " '_i83': \"name = input('Enter your name: ')\\nprint(f'Hello, {name}!')   # f-string (format string / fancy string)\",\n",
       " '_i84': 'name.strip()   # returns a new string, without whitespace on the edges',\n",
       " '_84': 'Reuven',\n",
       " '_i85': \"name = input('Enter your name: ').strip()\\nprint(f'Hello, {name}!')   # f-string (format string / fancy string)\",\n",
       " '_i86': \"first = input('First number: ').strip()\\nsecond = input('Second number: ').strip()\\n\\nfirst = int(first)\\nsecond = int(second)\\n\\nif first < second:\\n    print(f'{first} comes before {second}')\\nelif second < first:\\n    print(f'{second} comes before {first}') \\nelse:\\n    print(f'{first} and {second} are the same')\",\n",
       " 'first': 10,\n",
       " 'second': 'cab',\n",
       " '_i87': \"first = input('First number: ').strip()\\nsecond = input('Second number: ').strip()\\n\\nfirst = int(first)\\nsecond = int(second)\\n\\nif first < second:\\n    print(f'{first} comes before {second}')\\nelif second < first:\\n    print(f'{second} comes before {first}') \\nelse:\\n    print(f'{first} and {second} are the same')\",\n",
       " '_i88': \"first = input('First number: ').strip()\\nsecond = input('Second number: ').strip()\\n\\nfirst = int(first)\\nsecond = int(second)\\n\\nif first < second:\\n    print(f'{first} comes before {second}')\\nelif second < first:\\n    print(f'{second} comes before {first}') \\nelse:\\n    print(f'{first} and {second} are the same')\",\n",
       " '_i89': \"first = input('First word: ').strip()\\nsecond = input('Second word: ').strip()\\n\\nif first < second:\\n    print(f'{first} comes before {second}')\\nelif second < first:\\n    print(f'{second} comes before {first}') \\nelse:\\n    print(f'{first} and {second} are the same')\",\n",
       " '_i90': \"first = input('First word: ').strip()\\nsecond = input('Second word: ').strip()\\n\\nif first < second:\\n    print(f'{first} comes before {second}')\\nelif second < first:\\n    print(f'{second} comes before {first}') \\nelse:\\n    print(f'{first} and {second} are the same')\",\n",
       " '_i91': \"first = input('First word: ').strip()\\nsecond = input('Second word: ').strip()\\n\\nif first < second:\\n    print(f'{first} comes before {second}')\\nelif second < first:\\n    print(f'{second} comes before {first}') \\nelse:\\n    print(f'{first} and {second} are the same')\",\n",
       " '_i92': \"first = input('First word: ').strip()\\nsecond = input('Second word: ').strip()\\n\\nif first.casefold() < second.casefold():\\n    print(f'{first} comes before {second}')\\nelif second.casefold() < first.casefold():\\n    print(f'{second} comes before {first}') \\nelse:\\n    print(f'{first} and {second} are the same')\",\n",
       " '_i93': '# sequence -- string, list tuple\\n# so they do a lot of the same things!\\n\\nmylist = [10, 20, 30, 40, 50, 60, 70, 80]',\n",
       " 'mylist': [10, 20, 30, 40],\n",
       " '_i94': 'len(mylist)',\n",
       " '_94': 8,\n",
       " '_i95': 'mylist[0]',\n",
       " '_95': 10,\n",
       " '_i96': 'mylist[1]',\n",
       " '_96': 20,\n",
       " '_i97': 'mylist[-1]',\n",
       " '_97': 80,\n",
       " '_i98': '# sequence -- string, list tuple\\n# so they do a lot of the same things!\\n\\nmylist = [10, 20, 30, 40, 50, 60, 70, 80]',\n",
       " '_i99': 'len(mylist)',\n",
       " '_99': 8,\n",
       " '_i100': 'mylist[0]',\n",
       " '_100': 10,\n",
       " '_i101': 'mylist[1]',\n",
       " '_101': 20,\n",
       " '_i102': 'mylist[-1]',\n",
       " '_102': 80,\n",
       " '_i103': 'biglist = [mylist, mylist, mylist]\\nbiglist',\n",
       " 'biglist': [['!', 20, 30], ['!', 20, 30], ['!', 20, 30]],\n",
       " '_103': [[10, 20, 30, 40, 50, 60, 70, 80],\n",
       "  [10, 20, 30, 40, 50, 60, 70, 80],\n",
       "  [10, 20, 30, 40, 50, 60, 70, 80]],\n",
       " '_i104': 'mylist = [10, 20, 30]\\nbiglist = [mylist, mylist, mylist]\\nbiglist',\n",
       " '_104': [['!', 20, 30], ['!', 20, 30], ['!', 20, 30]],\n",
       " '_i105': 'len(biglist)',\n",
       " '_105': 3,\n",
       " '_i106': \"mylist[0] = '!'  \",\n",
       " '_i107': 'mylist',\n",
       " '_107': ['!', 20, 30],\n",
       " '_i108': \"mylist[0] = '!'    # lists are mutable!\",\n",
       " '_i109': 'mylist',\n",
       " '_109': ['!', 20, 30],\n",
       " '_i110': 'biglist',\n",
       " '_110': [['!', 20, 30], ['!', 20, 30], ['!', 20, 30]],\n",
       " '_i111': 'mylist = [10, 20, 30]\\n\\nmylist.append(40)\\nmylist.append(50)\\n\\nmylist',\n",
       " '_111': [10, 20, 30, 40, 50, 60],\n",
       " '_i112': 'mylist.append([60, 70, 80])\\nmylist',\n",
       " '_112': [10, 20, 30, 40, 50, 60],\n",
       " '_i113': 'mylist.pop()   # removes + returns the final element',\n",
       " '_113': [60, 70, 80],\n",
       " '_i114': 'mylist',\n",
       " '_114': [10, 20, 30, 40, 50, 60],\n",
       " '_i115': 'mylist = mylist.append(60)',\n",
       " '_i116': 'print(mylist)',\n",
       " '_i117': \"s = 'abcd efgh ijkl'\\n\\ns.split()   # returns a list of strings\",\n",
       " '_117': ['abcd', 'efgh', 'ijkl'],\n",
       " '_i118': \"s.spplit('h')\",\n",
       " '_i119': \"s.split('h')\",\n",
       " '_119': ['abcd efg', ' ijkl'],\n",
       " '_i120': \"s.split('!')\",\n",
       " '_120': ['abcd efgh ijkl'],\n",
       " '_i121': \"words = 'this is a bunch of words for my course'.split()\\nwords\",\n",
       " 'words': ['this', 'is', 'a', 'bunch', 'of', 'words', 'for', 'my', 'course'],\n",
       " '_121': ['this', 'is', 'a', 'bunch', 'of', 'words', 'for', 'my', 'course'],\n",
       " '_i122': \"# str.join returns a string\\n\\n' '.join(words)\",\n",
       " '_122': 'this is a bunch of words for my course',\n",
       " '_i123': \"'*'.join(words)\",\n",
       " '_123': 'this*is*a*bunch*of*words*for*my*course',\n",
       " '_i124': \"'*'.join('abcde')\",\n",
       " '_124': 'a*b*c*d*e',\n",
       " '_i125': '# tuples\\n\\nt = (10, 20, 30)\\ntype(t)',\n",
       " 't': ([10, 20, 30, 31, 40, 50, 60], [40, 50, 60]),\n",
       " '_125': tuple,\n",
       " '_i126': 't = (10, 20)\\ntype(t)',\n",
       " '_126': tuple,\n",
       " '_i127': 't = (10)\\ntype(t)',\n",
       " '_127': int,\n",
       " '_i128': 't = ()\\ntype(t)',\n",
       " '_128': tuple,\n",
       " '_i129': 't = (10)  # t = (10,)\\ntype(t)',\n",
       " '_129': int,\n",
       " '_i130': 't = (10,)  \\ntype(t)',\n",
       " '_130': tuple,\n",
       " '_i131': 'mylist = []\\nsys.getsizeof(mylist)',\n",
       " '_131': 56,\n",
       " '_i132': 'mylist = [10, 20, 30]\\nsys.getsizeof(mylist)',\n",
       " '_132': 88,\n",
       " '_i133': 't = (10, 20, 30)\\nsys.getsizeof(t)',\n",
       " '_133': 64,\n",
       " '_i134': 'mylist = [10, 20, 30]\\nx = mylist\\n\\nx',\n",
       " '_134': [10, 20, 30],\n",
       " '_i135': 'x,y,z = mylist',\n",
       " 'z': 30,\n",
       " '_i136': '# tuple unpacking\\n\\nx,y,z = mylist',\n",
       " '_i137': 'x',\n",
       " '_137': 10,\n",
       " '_i138': 'u',\n",
       " '_i139': 'y',\n",
       " '_139': 20,\n",
       " '_i140': 'z',\n",
       " '_140': 30,\n",
       " '_i141': 'x,y = mylist',\n",
       " '_i142': 'mylist = [10, 20, 30]\\n\\nfirst, _, last = mylist',\n",
       " 'last': 40,\n",
       " '_i143': 'mylist = [10, 20, 30, 40]\\n\\nfirst, _, _, last = mylist',\n",
       " '_i144': 'first',\n",
       " '_144': 10,\n",
       " '_i145': 'last',\n",
       " '_145': 40,\n",
       " '_i146': 'first, *middle, last = mylist',\n",
       " 'middle': [20, 30],\n",
       " '_i147': '# *middle means: middle will be a list!\\n\\nfirst, *middle, last = mylist',\n",
       " '_i148': 'first',\n",
       " '_148': 10,\n",
       " '_i149': 'middle',\n",
       " '_149': [20, 30],\n",
       " '_i150': 'last',\n",
       " '_150': 40,\n",
       " '_i151': 'first, *_, last = mylist',\n",
       " '_i152': '_',\n",
       " '_152': [20, 30],\n",
       " '_i153': 't = ([10, 20, 30], \\n    [40, 50, 60])\\n\\nt',\n",
       " '_153': ([10, 20, 30, 31, 40, 50, 60], [40, 50, 60]),\n",
       " '_i154': 't[0].append(31)',\n",
       " '_i155': 't',\n",
       " '_155': ([10, 20, 30, 31, 40, 50, 60], [40, 50, 60]),\n",
       " '_i156': 't[0] += [40, 50, 60]',\n",
       " '_i157': 't',\n",
       " '_157': ([10, 20, 30, 31, 40, 50, 60], [40, 50, 60]),\n",
       " '_i158': \"p = ('Reuven', 'Lerner', 46)\\n\\np[0]\",\n",
       " 'p': Person(first='Reuven', last='Lerner', shoesize=46),\n",
       " '_158': 'Reuven',\n",
       " '_i159': 'p[1]',\n",
       " '_159': 'Lerner',\n",
       " '_i160': 'p[2]',\n",
       " '_160': 46,\n",
       " '_i161': \"from collections import namedtuple\\n\\nPerson = namedtuple('Person', 'first last shoesize')\",\n",
       " 'namedtuple': <function collections.namedtuple(typename, field_names, *, rename=False, defaults=None, module=None)>,\n",
       " 'Person': __main__.Person,\n",
       " '_i162': \"p = Person('Reuven', 'Lerner', 46)\",\n",
       " '_i163': 'p.first',\n",
       " '_163': 'Reuven',\n",
       " '_i164': 'p.last',\n",
       " '_164': 'Lerner',\n",
       " '_i165': 'p.shoesize',\n",
       " '_165': 46,\n",
       " '_i166': 'Person.__bases__ # who does Person inherit from?',\n",
       " '_166': (tuple,),\n",
       " '_i167': 'p[0]',\n",
       " '_167': 'Reuven',\n",
       " '_i168': 'p[1]',\n",
       " '_168': 'Lerner',\n",
       " '_i169': 'p[2]',\n",
       " '_169': 46,\n",
       " '_i170': \"p.first = 'asfsafafa'\",\n",
       " '_i171': \"p._replace(first='asdfafaa')\",\n",
       " '_171': Person(first='asdfafaa', last='Lerner', shoesize=46),\n",
       " '_i172': \"# returns a new Person object, with the requested changes\\n\\np._replace(first='asdfafaa')\",\n",
       " '_172': Person(first='asdfafaa', last='Lerner', shoesize=46),\n",
       " '_i173': 'x = 100\\ny = [10, 20, 30]',\n",
       " '_i174': 'globals()',\n",
       " '_174': {...},\n",
       " '_i175': 'x = 100\\ny = [10, 20, 30, 987]',\n",
       " '_i176': 'globals()'}"
      ]
     },
     "execution_count": 176,
     "metadata": {},
     "output_type": "execute_result"
    }
   ],
   "source": [
    "globals()"
   ]
  },
  {
   "cell_type": "code",
   "execution_count": 177,
   "metadata": {},
   "outputs": [
    {
     "data": {
      "text/plain": [
       "[10, 20, 30, 987]"
      ]
     },
     "execution_count": 177,
     "metadata": {},
     "output_type": "execute_result"
    }
   ],
   "source": [
    "globals()['y']"
   ]
  },
  {
   "cell_type": "code",
   "execution_count": 178,
   "metadata": {},
   "outputs": [],
   "source": [
    "globals()['y'] = 23456"
   ]
  },
  {
   "cell_type": "code",
   "execution_count": 179,
   "metadata": {},
   "outputs": [
    {
     "data": {
      "text/plain": [
       "23456"
      ]
     },
     "execution_count": 179,
     "metadata": {},
     "output_type": "execute_result"
    }
   ],
   "source": [
    "\n",
    "y"
   ]
  },
  {
   "cell_type": "markdown",
   "metadata": {},
   "source": [
    "# Dictionaries (`dict`)\n",
    "\n",
    "1. Every key has a value, every value has a key.\n",
    "2. Keys must be immutable (typically strings, numbers, tuples).\n",
    "3. Values can be absolutely anything in Python.\n",
    "4. Keys can only appear once."
   ]
  },
  {
   "cell_type": "code",
   "execution_count": 181,
   "metadata": {},
   "outputs": [
    {
     "data": {
      "text/plain": [
       "3"
      ]
     },
     "execution_count": 181,
     "metadata": {},
     "output_type": "execute_result"
    }
   ],
   "source": [
    "d = {'a':1, 'b':2, 'c':3}\n",
    "len(d)"
   ]
  },
  {
   "cell_type": "code",
   "execution_count": 182,
   "metadata": {},
   "outputs": [
    {
     "data": {
      "text/plain": [
       "1"
      ]
     },
     "execution_count": 182,
     "metadata": {},
     "output_type": "execute_result"
    }
   ],
   "source": [
    "d['a']  "
   ]
  },
  {
   "cell_type": "code",
   "execution_count": 183,
   "metadata": {},
   "outputs": [
    {
     "data": {
      "text/plain": [
       "2"
      ]
     },
     "execution_count": 183,
     "metadata": {},
     "output_type": "execute_result"
    }
   ],
   "source": [
    "d['b']"
   ]
  },
  {
   "cell_type": "code",
   "execution_count": 184,
   "metadata": {},
   "outputs": [
    {
     "data": {
      "text/plain": [
       "3"
      ]
     },
     "execution_count": 184,
     "metadata": {},
     "output_type": "execute_result"
    }
   ],
   "source": [
    "d['c']"
   ]
  },
  {
   "cell_type": "code",
   "execution_count": 185,
   "metadata": {},
   "outputs": [
    {
     "ename": "KeyError",
     "evalue": "'x'",
     "output_type": "error",
     "traceback": [
      "\u001b[0;31m---------------------------------------------------------------------------\u001b[0m",
      "\u001b[0;31mKeyError\u001b[0m                                  Traceback (most recent call last)",
      "Input \u001b[0;32mIn [185]\u001b[0m, in \u001b[0;36m<cell line: 1>\u001b[0;34m()\u001b[0m\n\u001b[0;32m----> 1\u001b[0m \u001b[43md\u001b[49m\u001b[43m[\u001b[49m\u001b[38;5;124;43m'\u001b[39;49m\u001b[38;5;124;43mx\u001b[39;49m\u001b[38;5;124;43m'\u001b[39;49m\u001b[43m]\u001b[49m\n",
      "\u001b[0;31mKeyError\u001b[0m: 'x'"
     ]
    }
   ],
   "source": [
    "d['x']"
   ]
  },
  {
   "cell_type": "code",
   "execution_count": 186,
   "metadata": {},
   "outputs": [
    {
     "data": {
      "text/plain": [
       "{'a': 1, 'b': 2, 'c': 3}"
      ]
     },
     "execution_count": 186,
     "metadata": {},
     "output_type": "execute_result"
    }
   ],
   "source": [
    "d"
   ]
  },
  {
   "cell_type": "code",
   "execution_count": 187,
   "metadata": {},
   "outputs": [
    {
     "data": {
      "text/plain": [
       "True"
      ]
     },
     "execution_count": 187,
     "metadata": {},
     "output_type": "execute_result"
    }
   ],
   "source": [
    "'a' in d   # checks if 'a' is a key"
   ]
  },
  {
   "cell_type": "code",
   "execution_count": 188,
   "metadata": {},
   "outputs": [
    {
     "data": {
      "text/plain": [
       "False"
      ]
     },
     "execution_count": 188,
     "metadata": {},
     "output_type": "execute_result"
    }
   ],
   "source": [
    "1 in d"
   ]
  },
  {
   "cell_type": "code",
   "execution_count": 190,
   "metadata": {},
   "outputs": [
    {
     "name": "stdout",
     "output_type": "stream",
     "text": [
      "Enter a key: a\n",
      "d[a] == 1\n",
      "Enter a key: b\n",
      "d[b] == 2\n",
      "Enter a key: \n"
     ]
    }
   ],
   "source": [
    "while True:\n",
    "    k = input('Enter a key: ').strip()\n",
    "    \n",
    "    if not k:\n",
    "        break\n",
    "    \n",
    "    if k in d:\n",
    "        print(f'd[{k}] == {d[k]}')\n",
    "    else:\n",
    "        print(f'd does not have a key {k}')"
   ]
  },
  {
   "cell_type": "code",
   "execution_count": 192,
   "metadata": {},
   "outputs": [
    {
     "name": "stdout",
     "output_type": "stream",
     "text": [
      "Enter a key: a\n",
      "d[a] == 1\n",
      "Enter a key: b\n",
      "d[b] == 2\n",
      "Enter a key: \n"
     ]
    }
   ],
   "source": [
    "while k := input('Enter a key: ').strip():\n",
    "    \n",
    "    if k in d:\n",
    "        print(f'd[{k}] == {d[k]}')\n",
    "    else:\n",
    "        print(f'd does not have a key {k}')"
   ]
  },
  {
   "cell_type": "code",
   "execution_count": 193,
   "metadata": {},
   "outputs": [
    {
     "data": {
      "text/plain": [
       "1"
      ]
     },
     "execution_count": 193,
     "metadata": {},
     "output_type": "execute_result"
    }
   ],
   "source": [
    "d.get('a')  # if 'a' in d, return d['a'], otherwise return None"
   ]
  },
  {
   "cell_type": "code",
   "execution_count": 194,
   "metadata": {},
   "outputs": [],
   "source": [
    "d.get('x')"
   ]
  },
  {
   "cell_type": "code",
   "execution_count": 195,
   "metadata": {},
   "outputs": [
    {
     "data": {
      "text/plain": [
       "'No value for x'"
      ]
     },
     "execution_count": 195,
     "metadata": {},
     "output_type": "execute_result"
    }
   ],
   "source": [
    "d.get('x', 'No value for x')"
   ]
  },
  {
   "cell_type": "code",
   "execution_count": 196,
   "metadata": {},
   "outputs": [
    {
     "data": {
      "text/plain": [
       "{'a': 1, 'b': 2, 'c': 3}"
      ]
     },
     "execution_count": 196,
     "metadata": {},
     "output_type": "execute_result"
    }
   ],
   "source": [
    "d"
   ]
  },
  {
   "cell_type": "code",
   "execution_count": 197,
   "metadata": {},
   "outputs": [
    {
     "data": {
      "text/plain": [
       "{'a': 1, 'b': 2, 'c': 3, 'x': 100}"
      ]
     },
     "execution_count": 197,
     "metadata": {},
     "output_type": "execute_result"
    }
   ],
   "source": [
    "d['x'] = 100\n",
    "d"
   ]
  },
  {
   "cell_type": "code",
   "execution_count": 198,
   "metadata": {},
   "outputs": [
    {
     "data": {
      "text/plain": [
       "{'a': 1, 'b': 2, 'c': 3, 'x': 200}"
      ]
     },
     "execution_count": 198,
     "metadata": {},
     "output_type": "execute_result"
    }
   ],
   "source": [
    "d['x'] = 200\n",
    "d"
   ]
  },
  {
   "cell_type": "code",
   "execution_count": 199,
   "metadata": {},
   "outputs": [
    {
     "data": {
      "text/plain": [
       "200"
      ]
     },
     "execution_count": 199,
     "metadata": {},
     "output_type": "execute_result"
    }
   ],
   "source": [
    "d.pop('x')"
   ]
  },
  {
   "cell_type": "code",
   "execution_count": 200,
   "metadata": {},
   "outputs": [
    {
     "data": {
      "text/plain": [
       "{'a': 1, 'b': 2, 'c': 3}"
      ]
     },
     "execution_count": 200,
     "metadata": {},
     "output_type": "execute_result"
    }
   ],
   "source": [
    "d"
   ]
  },
  {
   "cell_type": "code",
   "execution_count": 201,
   "metadata": {},
   "outputs": [
    {
     "data": {
      "text/plain": [
       "{'a': 1, 'b': 2, 'c': 3}"
      ]
     },
     "execution_count": 201,
     "metadata": {},
     "output_type": "execute_result"
    }
   ],
   "source": [
    "d"
   ]
  },
  {
   "cell_type": "code",
   "execution_count": 202,
   "metadata": {},
   "outputs": [
    {
     "name": "stdout",
     "output_type": "stream",
     "text": [
      "a\n",
      "b\n",
      "c\n"
     ]
    }
   ],
   "source": [
    "for one_item in d:\n",
    "    print(one_item)"
   ]
  },
  {
   "cell_type": "code",
   "execution_count": 203,
   "metadata": {},
   "outputs": [
    {
     "name": "stdout",
     "output_type": "stream",
     "text": [
      "a\n",
      "b\n",
      "c\n"
     ]
    }
   ],
   "source": [
    "for one_item in d.keys():\n",
    "    print(one_item)"
   ]
  },
  {
   "cell_type": "code",
   "execution_count": 206,
   "metadata": {},
   "outputs": [],
   "source": [
    "def for_on_d():\n",
    "    output = []\n",
    "    for one_item in d:\n",
    "        output.append(one_item)\n",
    "        \n",
    "def for_on_d_keys():\n",
    "    output = []\n",
    "    for one_item in d.keys():\n",
    "        output.append(one_item)"
   ]
  },
  {
   "cell_type": "code",
   "execution_count": 207,
   "metadata": {},
   "outputs": [
    {
     "name": "stdout",
     "output_type": "stream",
     "text": [
      "244 ns ± 7.9 ns per loop (mean ± std. dev. of 7 runs, 1,000,000 loops each)\n"
     ]
    }
   ],
   "source": [
    "%timeit for_on_d()"
   ]
  },
  {
   "cell_type": "code",
   "execution_count": 208,
   "metadata": {},
   "outputs": [
    {
     "name": "stdout",
     "output_type": "stream",
     "text": [
      "285 ns ± 4.4 ns per loop (mean ± std. dev. of 7 runs, 1,000,000 loops each)\n"
     ]
    }
   ],
   "source": [
    "%timeit for_on_d_keys()"
   ]
  },
  {
   "cell_type": "code",
   "execution_count": 209,
   "metadata": {},
   "outputs": [],
   "source": [
    "import dis"
   ]
  },
  {
   "cell_type": "code",
   "execution_count": 210,
   "metadata": {},
   "outputs": [
    {
     "name": "stdout",
     "output_type": "stream",
     "text": [
      "  2           0 BUILD_LIST               0\n",
      "              2 STORE_FAST               0 (output)\n",
      "\n",
      "  3           4 LOAD_GLOBAL              0 (d)\n",
      "              6 GET_ITER\n",
      "        >>    8 FOR_ITER                 7 (to 24)\n",
      "             10 STORE_FAST               1 (one_item)\n",
      "\n",
      "  4          12 LOAD_FAST                0 (output)\n",
      "             14 LOAD_METHOD              1 (append)\n",
      "             16 LOAD_FAST                1 (one_item)\n",
      "             18 CALL_METHOD              1\n",
      "             20 POP_TOP\n",
      "             22 JUMP_ABSOLUTE            4 (to 8)\n",
      "\n",
      "  3     >>   24 LOAD_CONST               0 (None)\n",
      "             26 RETURN_VALUE\n"
     ]
    }
   ],
   "source": [
    "dis.dis(for_on_d)"
   ]
  },
  {
   "cell_type": "code",
   "execution_count": 211,
   "metadata": {},
   "outputs": [
    {
     "name": "stdout",
     "output_type": "stream",
     "text": [
      "  7           0 BUILD_LIST               0\n",
      "              2 STORE_FAST               0 (output)\n",
      "\n",
      "  8           4 LOAD_GLOBAL              0 (d)\n",
      "              6 LOAD_METHOD              1 (keys)\n",
      "              8 CALL_METHOD              0\n",
      "             10 GET_ITER\n",
      "        >>   12 FOR_ITER                 7 (to 28)\n",
      "             14 STORE_FAST               1 (one_item)\n",
      "\n",
      "  9          16 LOAD_FAST                0 (output)\n",
      "             18 LOAD_METHOD              2 (append)\n",
      "             20 LOAD_FAST                1 (one_item)\n",
      "             22 CALL_METHOD              1\n",
      "             24 POP_TOP\n",
      "             26 JUMP_ABSOLUTE            6 (to 12)\n",
      "\n",
      "  8     >>   28 LOAD_CONST               0 (None)\n",
      "             30 RETURN_VALUE\n"
     ]
    }
   ],
   "source": [
    "dis.dis(for_on_d_keys)"
   ]
  },
  {
   "cell_type": "code",
   "execution_count": 212,
   "metadata": {},
   "outputs": [
    {
     "data": {
      "text/plain": [
       "{'a': None, 'b': None, 'c': None, 'd': None, 'e': None}"
      ]
     },
     "execution_count": 212,
     "metadata": {},
     "output_type": "execute_result"
    }
   ],
   "source": [
    "dict.fromkeys('abcde')"
   ]
  },
  {
   "cell_type": "code",
   "execution_count": 213,
   "metadata": {},
   "outputs": [
    {
     "data": {
      "text/plain": [
       "{'a': 0, 'b': 0, 'c': 0, 'd': 0, 'e': 0}"
      ]
     },
     "execution_count": 213,
     "metadata": {},
     "output_type": "execute_result"
    }
   ],
   "source": [
    "dict.fromkeys('abcde', 0)"
   ]
  },
  {
   "cell_type": "code",
   "execution_count": 214,
   "metadata": {},
   "outputs": [],
   "source": [
    "d = dict.fromkeys('abcde', [])"
   ]
  },
  {
   "cell_type": "code",
   "execution_count": 215,
   "metadata": {},
   "outputs": [
    {
     "data": {
      "text/plain": [
       "{'a': [], 'b': [], 'c': [], 'd': [], 'e': []}"
      ]
     },
     "execution_count": 215,
     "metadata": {},
     "output_type": "execute_result"
    }
   ],
   "source": [
    "d"
   ]
  },
  {
   "cell_type": "code",
   "execution_count": 216,
   "metadata": {},
   "outputs": [
    {
     "data": {
      "text/plain": [
       "{'a': [10, 20, 30],\n",
       " 'b': [10, 20, 30],\n",
       " 'c': [10, 20, 30],\n",
       " 'd': [10, 20, 30],\n",
       " 'e': [10, 20, 30]}"
      ]
     },
     "execution_count": 216,
     "metadata": {},
     "output_type": "execute_result"
    }
   ],
   "source": [
    "d['a'].append(10)\n",
    "d['b'].append(20)\n",
    "d['c'].append(30)\n",
    "d"
   ]
  },
  {
   "cell_type": "markdown",
   "metadata": {},
   "source": [
    "# Exercise: Rainfall\n",
    "\n",
    "Example:\n",
    "\n",
    "    City: Tel Aviv\n",
    "    Rain: 5\n",
    "    City: Jerusalem\n",
    "    Rain: 3\n",
    "    City: Tel Aviv\n",
    "    Rain: 2\n",
    "    City: [ENTER]\n",
    "    \n",
    "    Tel Aviv: 7\n",
    "    Jerusalem: 3\n",
    "    \n",
    "    b"
   ]
  },
  {
   "cell_type": "code",
   "execution_count": 218,
   "metadata": {},
   "outputs": [
    {
     "name": "stdout",
     "output_type": "stream",
     "text": [
      "('a', 1)\n",
      "('b', 2)\n",
      "('c', 3)\n"
     ]
    }
   ],
   "source": [
    "d = {'a':1, 'b':2, 'c':3}\n",
    "\n",
    "for x in d.items():   # each iteration returns (key, value)\n",
    "    print(x)"
   ]
  },
  {
   "cell_type": "code",
   "execution_count": 219,
   "metadata": {},
   "outputs": [
    {
     "name": "stdout",
     "output_type": "stream",
     "text": [
      "a: 1\n",
      "b: 2\n",
      "c: 3\n"
     ]
    }
   ],
   "source": [
    "d = {'a':1, 'b':2, 'c':3}\n",
    "\n",
    "for key, value in d.items():   # each iteration returns (key, value)\n",
    "    print(f'{key}: {value}')"
   ]
  },
  {
   "cell_type": "code",
   "execution_count": 221,
   "metadata": {},
   "outputs": [
    {
     "name": "stdout",
     "output_type": "stream",
     "text": [
      "City: a\n",
      "Rain: asdfsafaas\n",
      "Bad value for rain; try again\n",
      "City: a\n",
      "Rain: 5\n",
      "City: b\n",
      "Rain: \n",
      "Bad value for rain; try again\n",
      "City: b\n",
      "Rain: 10\n",
      "City: \n",
      "a: 5\n",
      "b: 10\n"
     ]
    }
   ],
   "source": [
    "rainfall = {}\n",
    "\n",
    "while city_name := input('City: ').strip():\n",
    "        \n",
    "    mm_rain = input('Rain: ').strip()\n",
    "\n",
    "    try:\n",
    "        mm_rain = int(mm_rain)\n",
    "    \n",
    "        rainfall[city_name] = rainfall.get(city_name, 0) + mm_rain\n",
    "    except ValueError as e:\n",
    "        print('Bad value for rain; try again')\n",
    "    \n",
    "for key, value in rainfall.items():\n",
    "    print(f'{key}: {value}')\n",
    "    "
   ]
  },
  {
   "cell_type": "code",
   "execution_count": 222,
   "metadata": {},
   "outputs": [
    {
     "data": {
      "text/plain": [
       "True"
      ]
     },
     "execution_count": 222,
     "metadata": {},
     "output_type": "execute_result"
    }
   ],
   "source": [
    "s = '123456'\n",
    "\n",
    "s.isdigit()"
   ]
  },
  {
   "cell_type": "code",
   "execution_count": 223,
   "metadata": {},
   "outputs": [
    {
     "data": {
      "text/plain": [
       "False"
      ]
     },
     "execution_count": 223,
     "metadata": {},
     "output_type": "execute_result"
    }
   ],
   "source": [
    "s = '-123'\n",
    "s.isdigit()"
   ]
  },
  {
   "cell_type": "code",
   "execution_count": 224,
   "metadata": {},
   "outputs": [],
   "source": [
    "d =  {}"
   ]
  },
  {
   "cell_type": "code",
   "execution_count": 225,
   "metadata": {},
   "outputs": [],
   "source": [
    "d['a'] = 10"
   ]
  },
  {
   "cell_type": "code",
   "execution_count": 226,
   "metadata": {},
   "outputs": [
    {
     "data": {
      "text/plain": [
       "5"
      ]
     },
     "execution_count": 226,
     "metadata": {},
     "output_type": "execute_result"
    }
   ],
   "source": [
    "hash('a') % 8"
   ]
  },
  {
   "cell_type": "code",
   "execution_count": 227,
   "metadata": {},
   "outputs": [
    {
     "data": {
      "text/plain": [
       "True"
      ]
     },
     "execution_count": 227,
     "metadata": {},
     "output_type": "execute_result"
    }
   ],
   "source": [
    "'a' in d"
   ]
  },
  {
   "cell_type": "code",
   "execution_count": 228,
   "metadata": {},
   "outputs": [],
   "source": [
    "d['b'] = 20"
   ]
  },
  {
   "cell_type": "code",
   "execution_count": 229,
   "metadata": {},
   "outputs": [],
   "source": [
    "d['c'] = 30"
   ]
  },
  {
   "cell_type": "code",
   "execution_count": 230,
   "metadata": {},
   "outputs": [
    {
     "data": {
      "text/plain": [
       "1"
      ]
     },
     "execution_count": 230,
     "metadata": {},
     "output_type": "execute_result"
    }
   ],
   "source": [
    "hash('b') % 8"
   ]
  },
  {
   "cell_type": "code",
   "execution_count": 231,
   "metadata": {},
   "outputs": [
    {
     "data": {
      "text/plain": [
       "1"
      ]
     },
     "execution_count": 231,
     "metadata": {},
     "output_type": "execute_result"
    }
   ],
   "source": [
    "hash('c') % 8"
   ]
  },
  {
   "cell_type": "code",
   "execution_count": 232,
   "metadata": {},
   "outputs": [
    {
     "data": {
      "text/plain": [
       "['a', 'b', 'c']"
      ]
     },
     "execution_count": 232,
     "metadata": {},
     "output_type": "execute_result"
    }
   ],
   "source": [
    "list(d)"
   ]
  },
  {
   "cell_type": "code",
   "execution_count": 233,
   "metadata": {},
   "outputs": [
    {
     "data": {
      "text/plain": [
       "20"
      ]
     },
     "execution_count": 233,
     "metadata": {},
     "output_type": "execute_result"
    }
   ],
   "source": [
    "d.pop('b')"
   ]
  },
  {
   "cell_type": "code",
   "execution_count": 234,
   "metadata": {},
   "outputs": [],
   "source": [
    "d['b'] = 999"
   ]
  },
  {
   "cell_type": "code",
   "execution_count": 235,
   "metadata": {},
   "outputs": [
    {
     "data": {
      "text/plain": [
       "['a', 'c', 'b']"
      ]
     },
     "execution_count": 235,
     "metadata": {},
     "output_type": "execute_result"
    }
   ],
   "source": [
    "list(d)"
   ]
  },
  {
   "cell_type": "code",
   "execution_count": 236,
   "metadata": {},
   "outputs": [
    {
     "name": "stdout",
     "output_type": "stream",
     "text": [
      "{'a': 10, 'c': 30, 'b': 999}\n"
     ]
    }
   ],
   "source": [
    "print(d)"
   ]
  },
  {
   "cell_type": "code",
   "execution_count": 237,
   "metadata": {},
   "outputs": [],
   "source": [
    "from collections import OrderedDict"
   ]
  },
  {
   "cell_type": "code",
   "execution_count": 242,
   "metadata": {},
   "outputs": [],
   "source": [
    "# OrderedDict cares about the order when comparing with ==\n",
    "\n",
    "d1 = OrderedDict(a=10, b=20, c=30)\n",
    "d2 = OrderedDict(a=10, c=30, b=20)"
   ]
  },
  {
   "cell_type": "code",
   "execution_count": 239,
   "metadata": {},
   "outputs": [
    {
     "data": {
      "text/plain": [
       "OrderedDict([('a', 10), ('b', 20), ('c', 30)])"
      ]
     },
     "execution_count": 239,
     "metadata": {},
     "output_type": "execute_result"
    }
   ],
   "source": [
    "d1"
   ]
  },
  {
   "cell_type": "code",
   "execution_count": 240,
   "metadata": {},
   "outputs": [
    {
     "data": {
      "text/plain": [
       "OrderedDict([('a', 10), ('c', 30), ('b', 20)])"
      ]
     },
     "execution_count": 240,
     "metadata": {},
     "output_type": "execute_result"
    }
   ],
   "source": [
    "d2"
   ]
  },
  {
   "cell_type": "code",
   "execution_count": 241,
   "metadata": {},
   "outputs": [
    {
     "data": {
      "text/plain": [
       "False"
      ]
     },
     "execution_count": 241,
     "metadata": {},
     "output_type": "execute_result"
    }
   ],
   "source": [
    "d1 == d2"
   ]
  },
  {
   "cell_type": "code",
   "execution_count": 243,
   "metadata": {},
   "outputs": [],
   "source": [
    "d1 = dict(a=10, b=20, c=30)\n",
    "d2 = dict(a=10, c=30, b=20)"
   ]
  },
  {
   "cell_type": "code",
   "execution_count": 244,
   "metadata": {},
   "outputs": [
    {
     "data": {
      "text/plain": [
       "True"
      ]
     },
     "execution_count": 244,
     "metadata": {},
     "output_type": "execute_result"
    }
   ],
   "source": [
    "d1 == d2"
   ]
  },
  {
   "cell_type": "code",
   "execution_count": 245,
   "metadata": {},
   "outputs": [],
   "source": [
    "from collections import Counter"
   ]
  },
  {
   "cell_type": "code",
   "execution_count": 246,
   "metadata": {},
   "outputs": [
    {
     "data": {
      "text/plain": [
       "Counter({'a': 10, 'b': 23, 'c': 5})"
      ]
     },
     "execution_count": 246,
     "metadata": {},
     "output_type": "execute_result"
    }
   ],
   "source": [
    "c = Counter()\n",
    "c['a'] += 10\n",
    "c['b'] += 20\n",
    "c['c'] += 5\n",
    "c['b'] += 3\n",
    "\n",
    "c"
   ]
  },
  {
   "cell_type": "code",
   "execution_count": 248,
   "metadata": {},
   "outputs": [
    {
     "data": {
      "text/plain": [
       "Counter({10: 1, 20: 2, 30: 4, 40: 3, 50: 2})"
      ]
     },
     "execution_count": 248,
     "metadata": {},
     "output_type": "execute_result"
    }
   ],
   "source": [
    "# give Counter an iterable when it starts\n",
    "\n",
    "# each of the unique elements in the input argument become the keys\n",
    "# and their counts become the values\n",
    "c = Counter([10, 20, 30, 20, 30, 40, 30, 30, 40, 40, 50, 50])\n",
    "c"
   ]
  },
  {
   "cell_type": "code",
   "execution_count": 249,
   "metadata": {},
   "outputs": [
    {
     "data": {
      "text/plain": [
       "Counter({'a': 1, 'b': 5, 'c': 5, 'd': 1})"
      ]
     },
     "execution_count": 249,
     "metadata": {},
     "output_type": "execute_result"
    }
   ],
   "source": [
    "Counter('abcbcbcbcbcd')"
   ]
  },
  {
   "cell_type": "code",
   "execution_count": 250,
   "metadata": {},
   "outputs": [
    {
     "data": {
      "text/plain": [
       "Counter({10: 1, 20: 2, 30: 4, 40: 3, 50: 2, 'a': 2})"
      ]
     },
     "execution_count": 250,
     "metadata": {},
     "output_type": "execute_result"
    }
   ],
   "source": [
    "c['a'] += 2\n",
    "c"
   ]
  },
  {
   "cell_type": "code",
   "execution_count": 251,
   "metadata": {},
   "outputs": [
    {
     "data": {
      "text/plain": [
       "[(30, 4), (40, 3), (20, 2), (50, 2), ('a', 2), (10, 1)]"
      ]
     },
     "execution_count": 251,
     "metadata": {},
     "output_type": "execute_result"
    }
   ],
   "source": [
    "c.most_common()"
   ]
  },
  {
   "cell_type": "code",
   "execution_count": 252,
   "metadata": {},
   "outputs": [
    {
     "data": {
      "text/plain": [
       "[(30, 4), (40, 3), (20, 2)]"
      ]
     },
     "execution_count": 252,
     "metadata": {},
     "output_type": "execute_result"
    }
   ],
   "source": [
    "c.most_common(3)"
   ]
  },
  {
   "cell_type": "code",
   "execution_count": 253,
   "metadata": {},
   "outputs": [
    {
     "name": "stdout",
     "output_type": "stream",
     "text": [
      "30: 4\n",
      "40: 3\n",
      "20: 2\n",
      "50: 2\n",
      "a: 2\n",
      "10: 1\n"
     ]
    }
   ],
   "source": [
    "for key, value in c.most_common():\n",
    "    print(f'{key}: {value}')"
   ]
  },
  {
   "cell_type": "code",
   "execution_count": 256,
   "metadata": {},
   "outputs": [
    {
     "name": "stdout",
     "output_type": "stream",
     "text": [
      "  30: XXXX\n",
      "  40: XXX\n",
      "  20: XX\n",
      "  50: XX\n",
      "   a: XX\n",
      "  10: X\n"
     ]
    }
   ],
   "source": [
    "for key, value in c.most_common():\n",
    "    print(f'{key:>4}: {value * \"X\"}')   # :>4 means: move to the right, "
   ]
  },
  {
   "cell_type": "code",
   "execution_count": 257,
   "metadata": {},
   "outputs": [
    {
     "data": {
      "text/plain": [
       "14"
      ]
     },
     "execution_count": 257,
     "metadata": {},
     "output_type": "execute_result"
    }
   ],
   "source": [
    "c.total()"
   ]
  },
  {
   "cell_type": "markdown",
   "metadata": {},
   "source": [
    "# Next up\n",
    "\n",
    "1. `defaultdict`\n",
    "2. Function objects\n",
    "3. Inner functions\n",
    "4. ICPO + attribute lookup in classes"
   ]
  },
  {
   "cell_type": "markdown",
   "metadata": {},
   "source": [
    "# F-string help\n",
    "\n",
    "https://fstring.help/cheat/"
   ]
  },
  {
   "cell_type": "code",
   "execution_count": 258,
   "metadata": {},
   "outputs": [
    {
     "ename": "TypeError",
     "evalue": "first argument must be callable or None",
     "output_type": "error",
     "traceback": [
      "\u001b[0;31m---------------------------------------------------------------------------\u001b[0m",
      "\u001b[0;31mTypeError\u001b[0m                                 Traceback (most recent call last)",
      "Input \u001b[0;32mIn [258]\u001b[0m, in \u001b[0;36m<cell line: 3>\u001b[0;34m()\u001b[0m\n\u001b[1;32m      1\u001b[0m \u001b[38;5;28;01mfrom\u001b[39;00m \u001b[38;5;21;01mcollections\u001b[39;00m \u001b[38;5;28;01mimport\u001b[39;00m defaultdict\n\u001b[0;32m----> 3\u001b[0m d \u001b[38;5;241m=\u001b[39m \u001b[43mdefaultdict\u001b[49m\u001b[43m(\u001b[49m\u001b[38;5;241;43m0\u001b[39;49m\u001b[43m)\u001b[49m\n",
      "\u001b[0;31mTypeError\u001b[0m: first argument must be callable or None"
     ]
    }
   ],
   "source": [
    "from collections import defaultdict\n",
    "\n",
    "d = defaultdict(0)"
   ]
  },
  {
   "cell_type": "code",
   "execution_count": 259,
   "metadata": {},
   "outputs": [
    {
     "data": {
      "text/plain": [
       "True"
      ]
     },
     "execution_count": 259,
     "metadata": {},
     "output_type": "execute_result"
    }
   ],
   "source": [
    "callable(int)"
   ]
  },
  {
   "cell_type": "code",
   "execution_count": 260,
   "metadata": {},
   "outputs": [
    {
     "data": {
      "text/plain": [
       "True"
      ]
     },
     "execution_count": 260,
     "metadata": {},
     "output_type": "execute_result"
    }
   ],
   "source": [
    "callable(str)"
   ]
  },
  {
   "cell_type": "code",
   "execution_count": 261,
   "metadata": {},
   "outputs": [
    {
     "data": {
      "text/plain": [
       "False"
      ]
     },
     "execution_count": 261,
     "metadata": {},
     "output_type": "execute_result"
    }
   ],
   "source": [
    "callable(5)"
   ]
  },
  {
   "cell_type": "code",
   "execution_count": 262,
   "metadata": {},
   "outputs": [
    {
     "data": {
      "text/plain": [
       "0"
      ]
     },
     "execution_count": 262,
     "metadata": {},
     "output_type": "execute_result"
    }
   ],
   "source": [
    "# the argument to defaultdict is invoked, without any arguments,\n",
    "# when the key doesn't exist\n",
    "\n",
    "int()"
   ]
  },
  {
   "cell_type": "code",
   "execution_count": 263,
   "metadata": {},
   "outputs": [
    {
     "data": {
      "text/plain": [
       "''"
      ]
     },
     "execution_count": 263,
     "metadata": {},
     "output_type": "execute_result"
    }
   ],
   "source": [
    "str()"
   ]
  },
  {
   "cell_type": "code",
   "execution_count": 264,
   "metadata": {},
   "outputs": [
    {
     "data": {
      "text/plain": [
       "[]"
      ]
     },
     "execution_count": 264,
     "metadata": {},
     "output_type": "execute_result"
    }
   ],
   "source": [
    "list()"
   ]
  },
  {
   "cell_type": "code",
   "execution_count": 265,
   "metadata": {},
   "outputs": [
    {
     "data": {
      "text/plain": [
       "{}"
      ]
     },
     "execution_count": 265,
     "metadata": {},
     "output_type": "execute_result"
    }
   ],
   "source": [
    "dict()"
   ]
  },
  {
   "cell_type": "code",
   "execution_count": 266,
   "metadata": {},
   "outputs": [],
   "source": [
    "d = defaultdict(int)"
   ]
  },
  {
   "cell_type": "code",
   "execution_count": 267,
   "metadata": {},
   "outputs": [
    {
     "data": {
      "text/plain": [
       "0"
      ]
     },
     "execution_count": 267,
     "metadata": {},
     "output_type": "execute_result"
    }
   ],
   "source": [
    "d['x']"
   ]
  },
  {
   "cell_type": "code",
   "execution_count": 268,
   "metadata": {},
   "outputs": [
    {
     "data": {
      "text/plain": [
       "defaultdict(int, {'x': 0})"
      ]
     },
     "execution_count": 268,
     "metadata": {},
     "output_type": "execute_result"
    }
   ],
   "source": [
    "d"
   ]
  },
  {
   "cell_type": "code",
   "execution_count": 269,
   "metadata": {},
   "outputs": [
    {
     "data": {
      "text/plain": [
       "0"
      ]
     },
     "execution_count": 269,
     "metadata": {},
     "output_type": "execute_result"
    }
   ],
   "source": [
    "d['x']"
   ]
  },
  {
   "cell_type": "code",
   "execution_count": 270,
   "metadata": {},
   "outputs": [
    {
     "data": {
      "text/plain": [
       "0"
      ]
     },
     "execution_count": 270,
     "metadata": {},
     "output_type": "execute_result"
    }
   ],
   "source": [
    "d['y']"
   ]
  },
  {
   "cell_type": "code",
   "execution_count": 271,
   "metadata": {},
   "outputs": [],
   "source": [
    "d['z'] += 5   # d['z'] = d['z'] + 5"
   ]
  },
  {
   "cell_type": "code",
   "execution_count": 272,
   "metadata": {},
   "outputs": [
    {
     "data": {
      "text/plain": [
       "defaultdict(int, {'x': 0, 'y': 0, 'z': 5})"
      ]
     },
     "execution_count": 272,
     "metadata": {},
     "output_type": "execute_result"
    }
   ],
   "source": [
    "d"
   ]
  },
  {
   "cell_type": "code",
   "execution_count": 273,
   "metadata": {},
   "outputs": [],
   "source": [
    "def loud_five():\n",
    "    print('Now calling me!')\n",
    "    return 5"
   ]
  },
  {
   "cell_type": "code",
   "execution_count": 274,
   "metadata": {},
   "outputs": [],
   "source": [
    "d = defaultdict(loud_five)  # loud_five is passed, without (), as an argument"
   ]
  },
  {
   "cell_type": "code",
   "execution_count": 275,
   "metadata": {},
   "outputs": [
    {
     "name": "stdout",
     "output_type": "stream",
     "text": [
      "Now calling me!\n"
     ]
    },
    {
     "data": {
      "text/plain": [
       "5"
      ]
     },
     "execution_count": 275,
     "metadata": {},
     "output_type": "execute_result"
    }
   ],
   "source": [
    "d['x']"
   ]
  },
  {
   "cell_type": "code",
   "execution_count": 276,
   "metadata": {},
   "outputs": [
    {
     "data": {
      "text/plain": [
       "defaultdict(<function __main__.loud_five()>, {'x': 5})"
      ]
     },
     "execution_count": 276,
     "metadata": {},
     "output_type": "execute_result"
    }
   ],
   "source": [
    "d"
   ]
  },
  {
   "cell_type": "code",
   "execution_count": 277,
   "metadata": {},
   "outputs": [
    {
     "data": {
      "text/plain": [
       "5"
      ]
     },
     "execution_count": 277,
     "metadata": {},
     "output_type": "execute_result"
    }
   ],
   "source": [
    "d['x']"
   ]
  },
  {
   "cell_type": "code",
   "execution_count": 278,
   "metadata": {},
   "outputs": [],
   "source": [
    "import time"
   ]
  },
  {
   "cell_type": "code",
   "execution_count": 279,
   "metadata": {},
   "outputs": [
    {
     "data": {
      "text/plain": [
       "1662374842.650613"
      ]
     },
     "execution_count": 279,
     "metadata": {},
     "output_type": "execute_result"
    }
   ],
   "source": [
    "time.time()   # returns Unix time"
   ]
  },
  {
   "cell_type": "code",
   "execution_count": 280,
   "metadata": {},
   "outputs": [],
   "source": [
    "d = defaultdict(time.time)"
   ]
  },
  {
   "cell_type": "code",
   "execution_count": 281,
   "metadata": {},
   "outputs": [
    {
     "data": {
      "text/plain": [
       "1662374865.086582"
      ]
     },
     "execution_count": 281,
     "metadata": {},
     "output_type": "execute_result"
    }
   ],
   "source": [
    "d['reuven']"
   ]
  },
  {
   "cell_type": "code",
   "execution_count": 282,
   "metadata": {},
   "outputs": [
    {
     "data": {
      "text/plain": [
       "1662374866.887852"
      ]
     },
     "execution_count": 282,
     "metadata": {},
     "output_type": "execute_result"
    }
   ],
   "source": [
    "d['root']"
   ]
  },
  {
   "cell_type": "code",
   "execution_count": 283,
   "metadata": {},
   "outputs": [
    {
     "data": {
      "text/plain": [
       "1662374869.224758"
      ]
     },
     "execution_count": 283,
     "metadata": {},
     "output_type": "execute_result"
    }
   ],
   "source": [
    "d['otheruser']"
   ]
  },
  {
   "cell_type": "code",
   "execution_count": 284,
   "metadata": {},
   "outputs": [
    {
     "data": {
      "text/plain": [
       "defaultdict(<function time.time>,\n",
       "            {'reuven': 1662374865.086582,\n",
       "             'root': 1662374866.887852,\n",
       "             'otheruser': 1662374869.224758})"
      ]
     },
     "execution_count": 284,
     "metadata": {},
     "output_type": "execute_result"
    }
   ],
   "source": [
    "d"
   ]
  },
  {
   "cell_type": "code",
   "execution_count": 287,
   "metadata": {},
   "outputs": [],
   "source": [
    "import time\n",
    "\n",
    "def myfunc():\n",
    "    now = time.time()\n",
    "    print(f'Now in myfunc; returning {now}')\n",
    "    return now\n",
    "\n",
    "d = defaultdict(myfunc)"
   ]
  },
  {
   "cell_type": "code",
   "execution_count": 288,
   "metadata": {},
   "outputs": [
    {
     "data": {
      "text/plain": [
       "collections.defaultdict"
      ]
     },
     "execution_count": 288,
     "metadata": {},
     "output_type": "execute_result"
    }
   ],
   "source": [
    "type(d)"
   ]
  },
  {
   "cell_type": "code",
   "execution_count": 289,
   "metadata": {},
   "outputs": [
    {
     "data": {
      "text/plain": [
       "dict_keys([])"
      ]
     },
     "execution_count": 289,
     "metadata": {},
     "output_type": "execute_result"
    }
   ],
   "source": [
    "d.keys()"
   ]
  },
  {
   "cell_type": "code",
   "execution_count": 290,
   "metadata": {},
   "outputs": [
    {
     "name": "stdout",
     "output_type": "stream",
     "text": [
      "Now in myfunc; returning 1662375135.550952\n"
     ]
    },
    {
     "data": {
      "text/plain": [
       "1662375135.550952"
      ]
     },
     "execution_count": 290,
     "metadata": {},
     "output_type": "execute_result"
    }
   ],
   "source": [
    "d['hello']"
   ]
  },
  {
   "cell_type": "code",
   "execution_count": 291,
   "metadata": {},
   "outputs": [
    {
     "data": {
      "text/plain": [
       "defaultdict(<function __main__.myfunc()>, {'hello': 1662375135.550952})"
      ]
     },
     "execution_count": 291,
     "metadata": {},
     "output_type": "execute_result"
    }
   ],
   "source": [
    "d"
   ]
  },
  {
   "cell_type": "code",
   "execution_count": 292,
   "metadata": {},
   "outputs": [
    {
     "data": {
      "text/plain": [
       "1662375135.550952"
      ]
     },
     "execution_count": 292,
     "metadata": {},
     "output_type": "execute_result"
    }
   ],
   "source": [
    "d['hello']"
   ]
  },
  {
   "cell_type": "code",
   "execution_count": 293,
   "metadata": {},
   "outputs": [
    {
     "name": "stdout",
     "output_type": "stream",
     "text": [
      "Now in myfunc; returning 1662375155.149481\n"
     ]
    },
    {
     "data": {
      "text/plain": [
       "1662375155.149481"
      ]
     },
     "execution_count": 293,
     "metadata": {},
     "output_type": "execute_result"
    }
   ],
   "source": [
    "d['goodbye']"
   ]
  },
  {
   "cell_type": "code",
   "execution_count": 294,
   "metadata": {},
   "outputs": [
    {
     "data": {
      "text/plain": [
       "defaultdict(<function __main__.myfunc()>,\n",
       "            {'hello': 1662375135.550952, 'goodbye': 1662375155.149481})"
      ]
     },
     "execution_count": 294,
     "metadata": {},
     "output_type": "execute_result"
    }
   ],
   "source": [
    "d"
   ]
  },
  {
   "cell_type": "code",
   "execution_count": 295,
   "metadata": {},
   "outputs": [],
   "source": [
    "d['hello'] = 'hahahaha'"
   ]
  },
  {
   "cell_type": "code",
   "execution_count": 296,
   "metadata": {},
   "outputs": [
    {
     "data": {
      "text/plain": [
       "defaultdict(<function __main__.myfunc()>,\n",
       "            {'hello': 'hahahaha', 'goodbye': 1662375155.149481})"
      ]
     },
     "execution_count": 296,
     "metadata": {},
     "output_type": "execute_result"
    }
   ],
   "source": [
    "d"
   ]
  },
  {
   "cell_type": "markdown",
   "metadata": {},
   "source": [
    "# Exercise: Travel\n",
    "\n",
    "Goal is to create a dict with strings as keys (names of countries) and the values are lists of strings (names of cities).\n",
    "\n",
    "The user will enter, one at a time, strings that look like\n",
    "\n",
    "    city, country\n",
    "    \n",
    "Example:\n",
    "\n",
    "    Place: Chicago, USA\n",
    "    Place: Beijing, China\n",
    "    Place: Boston, USA\n",
    "    Place: Shanghai, China\n",
    "    Place: [ENTER]\n",
    "    \n",
    "Dict will look like\n",
    "\n",
    "```python\n",
    "{'USA':['Chicago', 'Boston'], 'China':['Beijing', 'Shanghai']}\n",
    "```\n",
    "\n",
    "Then print the countries, and cities in each country:\n",
    "\n",
    "    USA\n",
    "        Chicago\n",
    "        Boston\n",
    "    China\n",
    "        Beijing\n",
    "        Shanghai"
   ]
  },
  {
   "cell_type": "code",
   "execution_count": 297,
   "metadata": {},
   "outputs": [
    {
     "data": {
      "text/plain": [
       "'a   b    c'"
      ]
     },
     "execution_count": 297,
     "metadata": {},
     "output_type": "execute_result"
    }
   ],
   "source": [
    "s = '    a   b    c   '\n",
    "s.strip()"
   ]
  },
  {
   "cell_type": "code",
   "execution_count": 298,
   "metadata": {},
   "outputs": [
    {
     "name": "stdout",
     "output_type": "stream",
     "text": [
      "Enter city, country: Boston, USA\n",
      "Enter city, country: Beijing, China\n",
      "Enter city, country: Chicago, USA\n",
      "Enter city, country: Shanghai, China\n",
      "Enter city, country: \n"
     ]
    }
   ],
   "source": [
    "from collections import defaultdict\n",
    "\n",
    "all_places = defaultdict(list)\n",
    "\n",
    "while True:\n",
    "    new_place = input('Enter city, country: ').strip()\n",
    "    \n",
    "    if not new_place:\n",
    "        break\n",
    "        \n",
    "    if new_place.count(',') != 1:\n",
    "        print('Bad format: Try again')\n",
    "        continue\n",
    "        \n",
    "    one_city, one_country = new_place.split(',')\n",
    "    \n",
    "    all_places[one_country.strip()].append(one_city.strip())\n",
    "    \n",
    "    "
   ]
  },
  {
   "cell_type": "code",
   "execution_count": 299,
   "metadata": {},
   "outputs": [
    {
     "data": {
      "text/plain": [
       "defaultdict(list,\n",
       "            {'USA': ['Boston', 'Chicago'], 'China': ['Beijing', 'Shanghai']})"
      ]
     },
     "execution_count": 299,
     "metadata": {},
     "output_type": "execute_result"
    }
   ],
   "source": [
    "all_places"
   ]
  },
  {
   "cell_type": "code",
   "execution_count": 300,
   "metadata": {},
   "outputs": [
    {
     "name": "stdout",
     "output_type": "stream",
     "text": [
      "USA\n",
      "\tBoston\n",
      "\tChicago\n",
      "China\n",
      "\tBeijing\n",
      "\tShanghai\n"
     ]
    }
   ],
   "source": [
    "for one_country, all_cities in all_places.items():\n",
    "    print(one_country)\n",
    "    \n",
    "    for one_city in all_cities:\n",
    "        print(f'\\t{one_city}')   # \\t == tab    "
   ]
  },
  {
   "cell_type": "code",
   "execution_count": 302,
   "metadata": {},
   "outputs": [],
   "source": [
    "# When I define a function, two things happen:\n",
    "# (1) create a function object\n",
    "# (2) we assign the function to hello\n",
    "\n",
    "def hello():\n",
    "    return 'Hello!'"
   ]
  },
  {
   "cell_type": "code",
   "execution_count": 303,
   "metadata": {},
   "outputs": [
    {
     "data": {
      "text/plain": [
       "function"
      ]
     },
     "execution_count": 303,
     "metadata": {},
     "output_type": "execute_result"
    }
   ],
   "source": [
    "type(hello)"
   ]
  },
  {
   "cell_type": "code",
   "execution_count": 304,
   "metadata": {},
   "outputs": [
    {
     "data": {
      "text/plain": [
       "'Hello!'"
      ]
     },
     "execution_count": 304,
     "metadata": {},
     "output_type": "execute_result"
    }
   ],
   "source": [
    "hello()"
   ]
  },
  {
   "cell_type": "code",
   "execution_count": 305,
   "metadata": {},
   "outputs": [
    {
     "ename": "TypeError",
     "evalue": "hello() takes 0 positional arguments but 1 was given",
     "output_type": "error",
     "traceback": [
      "\u001b[0;31m---------------------------------------------------------------------------\u001b[0m",
      "\u001b[0;31mTypeError\u001b[0m                                 Traceback (most recent call last)",
      "Input \u001b[0;32mIn [305]\u001b[0m, in \u001b[0;36m<cell line: 1>\u001b[0;34m()\u001b[0m\n\u001b[0;32m----> 1\u001b[0m \u001b[43mhello\u001b[49m\u001b[43m(\u001b[49m\u001b[38;5;124;43m'\u001b[39;49m\u001b[38;5;124;43mworld\u001b[39;49m\u001b[38;5;124;43m'\u001b[39;49m\u001b[43m)\u001b[49m\n",
      "\u001b[0;31mTypeError\u001b[0m: hello() takes 0 positional arguments but 1 was given"
     ]
    }
   ],
   "source": [
    "hello('world')"
   ]
  },
  {
   "cell_type": "code",
   "execution_count": 307,
   "metadata": {},
   "outputs": [
    {
     "data": {
      "text/plain": [
       "0"
      ]
     },
     "execution_count": 307,
     "metadata": {},
     "output_type": "execute_result"
    }
   ],
   "source": [
    "# how many arguments does the function expect to receive?\n",
    "hello.__code__.co_argcount"
   ]
  },
  {
   "cell_type": "code",
   "execution_count": 308,
   "metadata": {},
   "outputs": [],
   "source": [
    "def hello(name):\n",
    "    return f'Hello, {name}!'"
   ]
  },
  {
   "cell_type": "code",
   "execution_count": 309,
   "metadata": {},
   "outputs": [
    {
     "ename": "TypeError",
     "evalue": "hello() missing 1 required positional argument: 'name'",
     "output_type": "error",
     "traceback": [
      "\u001b[0;31m---------------------------------------------------------------------------\u001b[0m",
      "\u001b[0;31mTypeError\u001b[0m                                 Traceback (most recent call last)",
      "Input \u001b[0;32mIn [309]\u001b[0m, in \u001b[0;36m<cell line: 1>\u001b[0;34m()\u001b[0m\n\u001b[0;32m----> 1\u001b[0m \u001b[43mhello\u001b[49m\u001b[43m(\u001b[49m\u001b[43m)\u001b[49m\n",
      "\u001b[0;31mTypeError\u001b[0m: hello() missing 1 required positional argument: 'name'"
     ]
    }
   ],
   "source": [
    "hello()"
   ]
  },
  {
   "cell_type": "code",
   "execution_count": 310,
   "metadata": {},
   "outputs": [
    {
     "data": {
      "text/plain": [
       "1"
      ]
     },
     "execution_count": 310,
     "metadata": {},
     "output_type": "execute_result"
    }
   ],
   "source": [
    "# how many arguments\n",
    "hello.__code__.co_argcount"
   ]
  },
  {
   "cell_type": "code",
   "execution_count": 311,
   "metadata": {},
   "outputs": [
    {
     "data": {
      "text/plain": [
       "('name',)"
      ]
     },
     "execution_count": 311,
     "metadata": {},
     "output_type": "execute_result"
    }
   ],
   "source": [
    "# local variable names\n",
    "hello.__code__.co_varnames"
   ]
  },
  {
   "cell_type": "markdown",
   "metadata": {},
   "source": [
    "# Two kinds of arguments\n",
    "\n",
    "- Positional: The position of the argument determines the parameter it's assigned to.\n",
    "- Keyword: Always looks like `name=value`.  "
   ]
  },
  {
   "cell_type": "code",
   "execution_count": 312,
   "metadata": {},
   "outputs": [],
   "source": [
    "def add(first, second):\n",
    "    return first + second"
   ]
  },
  {
   "cell_type": "code",
   "execution_count": 313,
   "metadata": {},
   "outputs": [
    {
     "data": {
      "text/plain": [
       "8"
      ]
     },
     "execution_count": 313,
     "metadata": {},
     "output_type": "execute_result"
    }
   ],
   "source": [
    "# parameters: first second\n",
    "# arguments:   5      3 \n",
    "\n",
    "add(5, 3)    # positional"
   ]
  },
  {
   "cell_type": "code",
   "execution_count": 314,
   "metadata": {},
   "outputs": [
    {
     "data": {
      "text/plain": [
       "8"
      ]
     },
     "execution_count": 314,
     "metadata": {},
     "output_type": "execute_result"
    }
   ],
   "source": [
    "# parameters: first second\n",
    "# arguments:  5       3\n",
    "\n",
    "add(first=5, second=3)    # keyword"
   ]
  },
  {
   "cell_type": "code",
   "execution_count": 315,
   "metadata": {},
   "outputs": [
    {
     "data": {
      "text/plain": [
       "8"
      ]
     },
     "execution_count": 315,
     "metadata": {},
     "output_type": "execute_result"
    }
   ],
   "source": [
    "# parameters: first second\n",
    "# arguments:  5       3\n",
    "\n",
    "add(second=3, first=5)    # keyword arguments"
   ]
  },
  {
   "cell_type": "code",
   "execution_count": 316,
   "metadata": {},
   "outputs": [
    {
     "ename": "TypeError",
     "evalue": "add() got an unexpected keyword argument 'firsttttt'",
     "output_type": "error",
     "traceback": [
      "\u001b[0;31m---------------------------------------------------------------------------\u001b[0m",
      "\u001b[0;31mTypeError\u001b[0m                                 Traceback (most recent call last)",
      "Input \u001b[0;32mIn [316]\u001b[0m, in \u001b[0;36m<cell line: 4>\u001b[0;34m()\u001b[0m\n\u001b[1;32m      1\u001b[0m \u001b[38;5;66;03m# parameters: first second\u001b[39;00m\n\u001b[1;32m      2\u001b[0m \u001b[38;5;66;03m# arguments:  5       3\u001b[39;00m\n\u001b[0;32m----> 4\u001b[0m \u001b[43madd\u001b[49m\u001b[43m(\u001b[49m\u001b[43mfirsttttt\u001b[49m\u001b[38;5;241;43m=\u001b[39;49m\u001b[38;5;241;43m10\u001b[39;49m\u001b[43m,\u001b[49m\u001b[43m \u001b[49m\u001b[43msecond\u001b[49m\u001b[38;5;241;43m=\u001b[39;49m\u001b[38;5;241;43m3\u001b[39;49m\u001b[43m)\u001b[49m\n",
      "\u001b[0;31mTypeError\u001b[0m: add() got an unexpected keyword argument 'firsttttt'"
     ]
    }
   ],
   "source": [
    "# parameters: first second\n",
    "# arguments:         \n",
    "\n",
    "add(firsttttt=10, second=3)    # keyword arguments"
   ]
  },
  {
   "cell_type": "code",
   "execution_count": 318,
   "metadata": {},
   "outputs": [
    {
     "data": {
      "text/plain": [
       "8"
      ]
     },
     "execution_count": 318,
     "metadata": {},
     "output_type": "execute_result"
    }
   ],
   "source": [
    "# what if I want to mix positional + keyword:\n",
    "\n",
    "# parameters: first second\n",
    "# arguments:   3      5\n",
    "\n",
    "add(3, second=5)    # one positional, one keyword"
   ]
  },
  {
   "cell_type": "code",
   "execution_count": 319,
   "metadata": {},
   "outputs": [
    {
     "ename": "SyntaxError",
     "evalue": "positional argument follows keyword argument (3131578796.py, line 6)",
     "output_type": "error",
     "traceback": [
      "\u001b[0;36m  Input \u001b[0;32mIn [319]\u001b[0;36m\u001b[0m\n\u001b[0;31m    add(first=3, 5)\u001b[0m\n\u001b[0m                  ^\u001b[0m\n\u001b[0;31mSyntaxError\u001b[0m\u001b[0;31m:\u001b[0m positional argument follows keyword argument\n"
     ]
    }
   ],
   "source": [
    "# what if I want to mix positional + keyword:\n",
    "\n",
    "# parameters: first second\n",
    "# arguments: \n",
    "\n",
    "add(first=3, 5)    "
   ]
  },
  {
   "cell_type": "code",
   "execution_count": 320,
   "metadata": {},
   "outputs": [
    {
     "ename": "TypeError",
     "evalue": "add() got multiple values for argument 'first'",
     "output_type": "error",
     "traceback": [
      "\u001b[0;31m---------------------------------------------------------------------------\u001b[0m",
      "\u001b[0;31mTypeError\u001b[0m                                 Traceback (most recent call last)",
      "Input \u001b[0;32mIn [320]\u001b[0m, in \u001b[0;36m<cell line: 1>\u001b[0;34m()\u001b[0m\n\u001b[0;32m----> 1\u001b[0m \u001b[43madd\u001b[49m\u001b[43m(\u001b[49m\u001b[38;5;241;43m3\u001b[39;49m\u001b[43m,\u001b[49m\u001b[43m \u001b[49m\u001b[43mfirst\u001b[49m\u001b[38;5;241;43m=\u001b[39;49m\u001b[38;5;241;43m5\u001b[39;49m\u001b[43m,\u001b[49m\u001b[43m \u001b[49m\u001b[43msecond\u001b[49m\u001b[38;5;241;43m=\u001b[39;49m\u001b[38;5;241;43m6\u001b[39;49m\u001b[43m)\u001b[49m\n",
      "\u001b[0;31mTypeError\u001b[0m: add() got multiple values for argument 'first'"
     ]
    }
   ],
   "source": [
    "add(3, first=5, second=6)    "
   ]
  },
  {
   "cell_type": "code",
   "execution_count": 321,
   "metadata": {},
   "outputs": [
    {
     "data": {
      "text/plain": [
       "function"
      ]
     },
     "execution_count": 321,
     "metadata": {},
     "output_type": "execute_result"
    }
   ],
   "source": [
    "type(add)"
   ]
  },
  {
   "cell_type": "code",
   "execution_count": 322,
   "metadata": {},
   "outputs": [
    {
     "data": {
      "text/plain": [
       "['__class__',\n",
       " '__delattr__',\n",
       " '__dir__',\n",
       " '__doc__',\n",
       " '__eq__',\n",
       " '__format__',\n",
       " '__ge__',\n",
       " '__getattribute__',\n",
       " '__gt__',\n",
       " '__hash__',\n",
       " '__init__',\n",
       " '__init_subclass__',\n",
       " '__le__',\n",
       " '__lt__',\n",
       " '__ne__',\n",
       " '__new__',\n",
       " '__reduce__',\n",
       " '__reduce_ex__',\n",
       " '__repr__',\n",
       " '__setattr__',\n",
       " '__sizeof__',\n",
       " '__str__',\n",
       " '__subclasshook__',\n",
       " 'co_argcount',\n",
       " 'co_cellvars',\n",
       " 'co_code',\n",
       " 'co_consts',\n",
       " 'co_filename',\n",
       " 'co_firstlineno',\n",
       " 'co_flags',\n",
       " 'co_freevars',\n",
       " 'co_kwonlyargcount',\n",
       " 'co_lines',\n",
       " 'co_linetable',\n",
       " 'co_lnotab',\n",
       " 'co_name',\n",
       " 'co_names',\n",
       " 'co_nlocals',\n",
       " 'co_posonlyargcount',\n",
       " 'co_stacksize',\n",
       " 'co_varnames',\n",
       " 'replace']"
      ]
     },
     "execution_count": 322,
     "metadata": {},
     "output_type": "execute_result"
    }
   ],
   "source": [
    "dir(add.__code__)  # dunder code == \"double underscore before and after code\"\n",
    "# __code__ \"dunder\"\n",
    "\n",
    "# ___name___ \"thunder\""
   ]
  },
  {
   "cell_type": "code",
   "execution_count": 324,
   "metadata": {},
   "outputs": [
    {
     "data": {
      "text/plain": [
       "b'd\\x01|\\x00\\x9b\\x00d\\x02\\x9d\\x03S\\x00'"
      ]
     },
     "execution_count": 324,
     "metadata": {},
     "output_type": "execute_result"
    }
   ],
   "source": [
    "hello.__code__.co_code"
   ]
  },
  {
   "cell_type": "code",
   "execution_count": 326,
   "metadata": {},
   "outputs": [
    {
     "name": "stdout",
     "output_type": "stream",
     "text": [
      "          0 LOAD_FAST                0 (0)\n",
      "          2 LOAD_FAST                1 (1)\n",
      "          4 BINARY_ADD\n",
      "          6 RETURN_VALUE\n"
     ]
    }
   ],
   "source": [
    "dis.dis(add.__code__.co_code)"
   ]
  },
  {
   "cell_type": "code",
   "execution_count": 327,
   "metadata": {},
   "outputs": [
    {
     "data": {
      "text/plain": [
       "('first', 'second')"
      ]
     },
     "execution_count": 327,
     "metadata": {},
     "output_type": "execute_result"
    }
   ],
   "source": [
    "add.__code__.co_varnames"
   ]
  },
  {
   "cell_type": "code",
   "execution_count": 328,
   "metadata": {},
   "outputs": [],
   "source": [
    "def hello():\n",
    "    return 'Hello'"
   ]
  },
  {
   "cell_type": "code",
   "execution_count": 329,
   "metadata": {},
   "outputs": [
    {
     "name": "stdout",
     "output_type": "stream",
     "text": [
      "  2           0 LOAD_CONST               1 ('Hello')\n",
      "              2 RETURN_VALUE\n"
     ]
    }
   ],
   "source": [
    "dis.dis(hello)"
   ]
  },
  {
   "cell_type": "code",
   "execution_count": 330,
   "metadata": {},
   "outputs": [
    {
     "data": {
      "text/plain": [
       "(None, 'Hello')"
      ]
     },
     "execution_count": 330,
     "metadata": {},
     "output_type": "execute_result"
    }
   ],
   "source": [
    "hello.__code__.co_consts"
   ]
  },
  {
   "cell_type": "code",
   "execution_count": 331,
   "metadata": {},
   "outputs": [],
   "source": [
    "def hello(name):\n",
    "    return f'Hello, {name}'"
   ]
  },
  {
   "cell_type": "code",
   "execution_count": 332,
   "metadata": {},
   "outputs": [
    {
     "name": "stdout",
     "output_type": "stream",
     "text": [
      "  2           0 LOAD_CONST               1 ('Hello, ')\n",
      "              2 LOAD_FAST                0 (name)\n",
      "              4 FORMAT_VALUE             0\n",
      "              6 BUILD_STRING             2\n",
      "              8 RETURN_VALUE\n"
     ]
    }
   ],
   "source": [
    "dis.dis(hello)"
   ]
  },
  {
   "cell_type": "code",
   "execution_count": 333,
   "metadata": {},
   "outputs": [],
   "source": [
    "def myfunc():\n",
    "    mylist = [10, 20, 30]\n",
    "    return mylist"
   ]
  },
  {
   "cell_type": "code",
   "execution_count": 334,
   "metadata": {},
   "outputs": [
    {
     "name": "stdout",
     "output_type": "stream",
     "text": [
      "  2           0 BUILD_LIST               0\n",
      "              2 LOAD_CONST               1 ((10, 20, 30))\n",
      "              4 LIST_EXTEND              1\n",
      "              6 STORE_FAST               0 (mylist)\n",
      "\n",
      "  3           8 LOAD_FAST                0 (mylist)\n",
      "             10 RETURN_VALUE\n"
     ]
    }
   ],
   "source": [
    "dis.dis(myfunc)"
   ]
  },
  {
   "cell_type": "code",
   "execution_count": 335,
   "metadata": {},
   "outputs": [],
   "source": [
    "import random"
   ]
  },
  {
   "cell_type": "code",
   "execution_count": 336,
   "metadata": {},
   "outputs": [
    {
     "name": "stdout",
     "output_type": "stream",
     "text": [
      "370           0 LOAD_FAST                0 (self)\n",
      "              2 LOAD_METHOD              0 (randrange)\n",
      "              4 LOAD_FAST                1 (a)\n",
      "              6 LOAD_FAST                2 (b)\n",
      "              8 LOAD_CONST               1 (1)\n",
      "             10 BINARY_ADD\n",
      "             12 CALL_METHOD              2\n",
      "             14 RETURN_VALUE\n"
     ]
    }
   ],
   "source": [
    "dis.dis(random.randint)"
   ]
  },
  {
   "cell_type": "code",
   "execution_count": 337,
   "metadata": {},
   "outputs": [
    {
     "name": "stdout",
     "output_type": "stream",
     "text": [
      " 52           0 LOAD_FAST                0 (x)\n",
      "              2 LOAD_CONST               1 (None)\n",
      "              4 IS_OP                    0\n",
      "              6 POP_JUMP_IF_FALSE       11 (to 22)\n",
      "\n",
      " 53           8 LOAD_GLOBAL              0 (distb)\n",
      "             10 LOAD_FAST                1 (file)\n",
      "             12 LOAD_CONST               2 (('file',))\n",
      "             14 CALL_FUNCTION_KW         1\n",
      "             16 POP_TOP\n",
      "\n",
      " 54          18 LOAD_CONST               1 (None)\n",
      "             20 RETURN_VALUE\n",
      "\n",
      " 56     >>   22 LOAD_GLOBAL              1 (hasattr)\n",
      "             24 LOAD_FAST                0 (x)\n",
      "             26 LOAD_CONST               3 ('__func__')\n",
      "             28 CALL_FUNCTION            2\n",
      "             30 POP_JUMP_IF_FALSE       19 (to 38)\n",
      "\n",
      " 57          32 LOAD_FAST                0 (x)\n",
      "             34 LOAD_ATTR                2 (__func__)\n",
      "             36 STORE_FAST               0 (x)\n",
      "\n",
      " 59     >>   38 LOAD_GLOBAL              1 (hasattr)\n",
      "             40 LOAD_FAST                0 (x)\n",
      "             42 LOAD_CONST               4 ('__code__')\n",
      "             44 CALL_FUNCTION            2\n",
      "             46 POP_JUMP_IF_FALSE       28 (to 56)\n",
      "\n",
      " 60          48 LOAD_FAST                0 (x)\n",
      "             50 LOAD_ATTR                3 (__code__)\n",
      "             52 STORE_FAST               0 (x)\n",
      "             54 JUMP_FORWARD            26 (to 108)\n",
      "\n",
      " 61     >>   56 LOAD_GLOBAL              1 (hasattr)\n",
      "             58 LOAD_FAST                0 (x)\n",
      "             60 LOAD_CONST               5 ('gi_code')\n",
      "             62 CALL_FUNCTION            2\n",
      "             64 POP_JUMP_IF_FALSE       37 (to 74)\n",
      "\n",
      " 62          66 LOAD_FAST                0 (x)\n",
      "             68 LOAD_ATTR                4 (gi_code)\n",
      "             70 STORE_FAST               0 (x)\n",
      "             72 JUMP_FORWARD            17 (to 108)\n",
      "\n",
      " 63     >>   74 LOAD_GLOBAL              1 (hasattr)\n",
      "             76 LOAD_FAST                0 (x)\n",
      "             78 LOAD_CONST               6 ('ag_code')\n",
      "             80 CALL_FUNCTION            2\n",
      "             82 POP_JUMP_IF_FALSE       46 (to 92)\n",
      "\n",
      " 64          84 LOAD_FAST                0 (x)\n",
      "             86 LOAD_ATTR                5 (ag_code)\n",
      "             88 STORE_FAST               0 (x)\n",
      "             90 JUMP_FORWARD             8 (to 108)\n",
      "\n",
      " 65     >>   92 LOAD_GLOBAL              1 (hasattr)\n",
      "             94 LOAD_FAST                0 (x)\n",
      "             96 LOAD_CONST               7 ('cr_code')\n",
      "             98 CALL_FUNCTION            2\n",
      "            100 POP_JUMP_IF_FALSE       54 (to 108)\n",
      "\n",
      " 66         102 LOAD_FAST                0 (x)\n",
      "            104 LOAD_ATTR                6 (cr_code)\n",
      "            106 STORE_FAST               0 (x)\n",
      "\n",
      " 68     >>  108 LOAD_GLOBAL              1 (hasattr)\n",
      "            110 LOAD_FAST                0 (x)\n",
      "            112 LOAD_CONST               8 ('__dict__')\n",
      "            114 CALL_FUNCTION            2\n",
      "            116 POP_JUMP_IF_FALSE      128 (to 256)\n",
      "\n",
      " 69         118 LOAD_GLOBAL              7 (sorted)\n",
      "            120 LOAD_FAST                0 (x)\n",
      "            122 LOAD_ATTR                8 (__dict__)\n",
      "            124 LOAD_METHOD              9 (items)\n",
      "            126 CALL_METHOD              0\n",
      "            128 CALL_FUNCTION            1\n",
      "            130 STORE_FAST               3 (items)\n",
      "\n",
      " 70         132 LOAD_FAST                3 (items)\n",
      "            134 GET_ITER\n",
      "        >>  136 FOR_ITER                57 (to 252)\n",
      "            138 UNPACK_SEQUENCE          2\n",
      "            140 STORE_FAST               4 (name)\n",
      "            142 STORE_FAST               5 (x1)\n",
      "\n",
      " 71         144 LOAD_GLOBAL             10 (isinstance)\n",
      "            146 LOAD_FAST                5 (x1)\n",
      "            148 LOAD_GLOBAL             11 (_have_code)\n",
      "            150 CALL_FUNCTION            2\n",
      "            152 POP_JUMP_IF_FALSE      125 (to 250)\n",
      "\n",
      " 72         154 LOAD_GLOBAL             12 (print)\n",
      "            156 LOAD_CONST               9 ('Disassembly of %s:')\n",
      "            158 LOAD_FAST                4 (name)\n",
      "            160 BINARY_MODULO\n",
      "            162 LOAD_FAST                1 (file)\n",
      "            164 LOAD_CONST               2 (('file',))\n",
      "            166 CALL_FUNCTION_KW         2\n",
      "            168 POP_TOP\n",
      "\n",
      " 73         170 SETUP_FINALLY            9 (to 190)\n",
      "\n",
      " 74         172 LOAD_GLOBAL             13 (dis)\n",
      "            174 LOAD_FAST                5 (x1)\n",
      "            176 LOAD_FAST                1 (file)\n",
      "            178 LOAD_FAST                2 (depth)\n",
      "            180 LOAD_CONST              10 (('file', 'depth'))\n",
      "            182 CALL_FUNCTION_KW         3\n",
      "            184 POP_TOP\n",
      "            186 POP_BLOCK\n",
      "            188 JUMP_FORWARD            25 (to 240)\n",
      "\n",
      " 75     >>  190 DUP_TOP\n",
      "            192 LOAD_GLOBAL             14 (TypeError)\n",
      "            194 JUMP_IF_NOT_EXC_MATCH   119 (to 238)\n",
      "            196 POP_TOP\n",
      "            198 STORE_FAST               6 (msg)\n",
      "            200 POP_TOP\n",
      "            202 SETUP_FINALLY           13 (to 230)\n",
      "\n",
      " 76         204 LOAD_GLOBAL             12 (print)\n",
      "            206 LOAD_CONST              11 ('Sorry:')\n",
      "            208 LOAD_FAST                6 (msg)\n",
      "            210 LOAD_FAST                1 (file)\n",
      "            212 LOAD_CONST               2 (('file',))\n",
      "            214 CALL_FUNCTION_KW         3\n",
      "            216 POP_TOP\n",
      "            218 POP_BLOCK\n",
      "            220 POP_EXCEPT\n",
      "            222 LOAD_CONST               1 (None)\n",
      "            224 STORE_FAST               6 (msg)\n",
      "            226 DELETE_FAST              6 (msg)\n",
      "            228 JUMP_FORWARD             5 (to 240)\n",
      "        >>  230 LOAD_CONST               1 (None)\n",
      "            232 STORE_FAST               6 (msg)\n",
      "            234 DELETE_FAST              6 (msg)\n",
      "            236 RERAISE                  1\n",
      "\n",
      " 75     >>  238 RERAISE                  0\n",
      "\n",
      " 77     >>  240 LOAD_GLOBAL             12 (print)\n",
      "            242 LOAD_FAST                1 (file)\n",
      "            244 LOAD_CONST               2 (('file',))\n",
      "            246 CALL_FUNCTION_KW         1\n",
      "            248 POP_TOP\n",
      "        >>  250 JUMP_ABSOLUTE           68 (to 136)\n",
      "\n",
      " 70     >>  252 LOAD_CONST               1 (None)\n",
      "            254 RETURN_VALUE\n",
      "\n",
      " 78     >>  256 LOAD_GLOBAL              1 (hasattr)\n",
      "            258 LOAD_FAST                0 (x)\n",
      "            260 LOAD_CONST              12 ('co_code')\n",
      "            262 CALL_FUNCTION            2\n",
      "            264 POP_JUMP_IF_FALSE      142 (to 284)\n",
      "\n",
      " 79         266 LOAD_GLOBAL             15 (_disassemble_recursive)\n",
      "            268 LOAD_FAST                0 (x)\n",
      "            270 LOAD_FAST                1 (file)\n",
      "            272 LOAD_FAST                2 (depth)\n",
      "            274 LOAD_CONST              10 (('file', 'depth'))\n",
      "            276 CALL_FUNCTION_KW         3\n",
      "            278 POP_TOP\n",
      "            280 LOAD_CONST               1 (None)\n",
      "            282 RETURN_VALUE\n",
      "\n",
      " 80     >>  284 LOAD_GLOBAL             10 (isinstance)\n",
      "            286 LOAD_FAST                0 (x)\n",
      "            288 LOAD_GLOBAL             16 (bytes)\n",
      "            290 LOAD_GLOBAL             17 (bytearray)\n",
      "            292 BUILD_TUPLE              2\n",
      "            294 CALL_FUNCTION            2\n",
      "            296 POP_JUMP_IF_FALSE      157 (to 314)\n",
      "\n",
      " 81         298 LOAD_GLOBAL             18 (_disassemble_bytes)\n",
      "            300 LOAD_FAST                0 (x)\n",
      "            302 LOAD_FAST                1 (file)\n",
      "            304 LOAD_CONST               2 (('file',))\n",
      "            306 CALL_FUNCTION_KW         2\n",
      "            308 POP_TOP\n",
      "            310 LOAD_CONST               1 (None)\n",
      "            312 RETURN_VALUE\n",
      "\n",
      " 82     >>  314 LOAD_GLOBAL             10 (isinstance)\n",
      "            316 LOAD_FAST                0 (x)\n",
      "            318 LOAD_GLOBAL             19 (str)\n",
      "            320 CALL_FUNCTION            2\n",
      "            322 POP_JUMP_IF_FALSE      171 (to 342)\n",
      "\n",
      " 83         324 LOAD_GLOBAL             20 (_disassemble_str)\n",
      "            326 LOAD_FAST                0 (x)\n",
      "            328 LOAD_FAST                1 (file)\n",
      "            330 LOAD_FAST                2 (depth)\n",
      "            332 LOAD_CONST              10 (('file', 'depth'))\n",
      "            334 CALL_FUNCTION_KW         3\n",
      "            336 POP_TOP\n",
      "            338 LOAD_CONST               1 (None)\n",
      "            340 RETURN_VALUE\n",
      "\n",
      " 85     >>  342 LOAD_GLOBAL             14 (TypeError)\n",
      "            344 LOAD_CONST              13 (\"don't know how to disassemble %s objects\")\n",
      "\n",
      " 86         346 LOAD_GLOBAL             21 (type)\n",
      "            348 LOAD_FAST                0 (x)\n",
      "            350 CALL_FUNCTION            1\n",
      "            352 LOAD_ATTR               22 (__name__)\n",
      "\n",
      " 85         354 BINARY_MODULO\n",
      "            356 CALL_FUNCTION            1\n",
      "            358 RAISE_VARARGS            1\n"
     ]
    }
   ],
   "source": [
    "dis.dis(dis.dis)"
   ]
  },
  {
   "cell_type": "code",
   "execution_count": 338,
   "metadata": {},
   "outputs": [
    {
     "name": "stdout",
     "output_type": "stream",
     "text": [
      "8\n"
     ]
    }
   ],
   "source": [
    "x = 100\n",
    "\n",
    "for i in range(5):\n",
    "    x = i * 2\n",
    "    \n",
    "print(x)    "
   ]
  },
  {
   "cell_type": "code",
   "execution_count": 339,
   "metadata": {},
   "outputs": [
    {
     "name": "stdout",
     "output_type": "stream",
     "text": [
      "x = 100\n"
     ]
    }
   ],
   "source": [
    "x = 100\n",
    "\n",
    "print(f'x = {x}')"
   ]
  },
  {
   "cell_type": "code",
   "execution_count": null,
   "metadata": {},
   "outputs": [],
   "source": []
  }
 ],
 "metadata": {
  "kernelspec": {
   "display_name": "Python 3 (ipykernel)",
   "language": "python",
   "name": "python3"
  },
  "language_info": {
   "codemirror_mode": {
    "name": "ipython",
    "version": 3
   },
   "file_extension": ".py",
   "mimetype": "text/x-python",
   "name": "python",
   "nbconvert_exporter": "python",
   "pygments_lexer": "ipython3",
   "version": "3.10.6"
  }
 },
 "nbformat": 4,
 "nbformat_minor": 4
}
