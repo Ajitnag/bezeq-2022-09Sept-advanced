{
 "cells": [
  {
   "cell_type": "markdown",
   "metadata": {},
   "source": [
    "# Day 1:\n",
    "\n",
    "- Advanced data structures\n",
    "- function objects, function scoping\n",
    "- Inner functions\n",
    "- attribute lookup in objects\n",
    "- signals\n",
    "\n",
    "# Day 2:\n",
    "\n",
    "- iterators\n",
    "- generators\n",
    "- decorators\n",
    "- context managers\n",
    "- working with files\n",
    "- working with directories\n",
    "\n",
    "\n",
    "# Day 3:\n",
    "\n",
    "- file timestamps, hash functions, popular formats\n",
    "- logging\n",
    "- threads, processes, multiprocessing\n",
    "- simple Web apps for monitoring\n"
   ]
  },
  {
   "cell_type": "markdown",
   "metadata": {},
   "source": [
    "# Repo for the course: \n",
    "\n",
    "https://github.com/reuven/bezeq-2022-09Sept-advanced"
   ]
  },
  {
   "cell_type": "markdown",
   "metadata": {},
   "source": [
    "# `None`\n",
    "\n"
   ]
  },
  {
   "cell_type": "code",
   "execution_count": 1,
   "metadata": {},
   "outputs": [],
   "source": [
    "x = None"
   ]
  },
  {
   "cell_type": "code",
   "execution_count": 2,
   "metadata": {},
   "outputs": [
    {
     "data": {
      "text/plain": [
       "NoneType"
      ]
     },
     "execution_count": 2,
     "metadata": {},
     "output_type": "execute_result"
    }
   ],
   "source": [
    "type(x)"
   ]
  },
  {
   "cell_type": "code",
   "execution_count": 4,
   "metadata": {},
   "outputs": [
    {
     "name": "stdout",
     "output_type": "stream",
     "text": [
      "Yes, it is None!\n"
     ]
    }
   ],
   "source": [
    "if x == None:   # not Pythonic\n",
    "    print('Yes, it is None!')"
   ]
  },
  {
   "cell_type": "code",
   "execution_count": 6,
   "metadata": {},
   "outputs": [
    {
     "name": "stdout",
     "output_type": "stream",
     "text": [
      "Yes, it is None!\n"
     ]
    }
   ],
   "source": [
    "if x is None:   # Pythonic!\n",
    "    print('Yes, it is None!')"
   ]
  },
  {
   "cell_type": "code",
   "execution_count": 7,
   "metadata": {},
   "outputs": [
    {
     "data": {
      "text/plain": [
       "4501920112"
      ]
     },
     "execution_count": 7,
     "metadata": {},
     "output_type": "execute_result"
    }
   ],
   "source": [
    "# what does is do?\n",
    "\n",
    "id(x)"
   ]
  },
  {
   "cell_type": "code",
   "execution_count": 8,
   "metadata": {},
   "outputs": [
    {
     "data": {
      "text/plain": [
       "4501920112"
      ]
     },
     "execution_count": 8,
     "metadata": {},
     "output_type": "execute_result"
    }
   ],
   "source": [
    "id(None)"
   ]
  },
  {
   "cell_type": "code",
   "execution_count": 9,
   "metadata": {},
   "outputs": [
    {
     "name": "stdout",
     "output_type": "stream",
     "text": [
      "yes!\n"
     ]
    }
   ],
   "source": [
    "if id(x) == id(None):   # same as saying x is None\n",
    "    print('yes!')"
   ]
  },
  {
   "cell_type": "code",
   "execution_count": 10,
   "metadata": {},
   "outputs": [
    {
     "data": {
      "text/plain": [
       "True"
      ]
     },
     "execution_count": 10,
     "metadata": {},
     "output_type": "execute_result"
    }
   ],
   "source": [
    "x = 5\n",
    "y = 5\n",
    "\n",
    "x == y"
   ]
  },
  {
   "cell_type": "code",
   "execution_count": 11,
   "metadata": {},
   "outputs": [
    {
     "data": {
      "text/plain": [
       "True"
      ]
     },
     "execution_count": 11,
     "metadata": {},
     "output_type": "execute_result"
    }
   ],
   "source": [
    "x is y"
   ]
  },
  {
   "cell_type": "code",
   "execution_count": 12,
   "metadata": {},
   "outputs": [
    {
     "data": {
      "text/plain": [
       "True"
      ]
     },
     "execution_count": 12,
     "metadata": {},
     "output_type": "execute_result"
    }
   ],
   "source": [
    "x = 5000\n",
    "y = 5000\n",
    "\n",
    "x == y"
   ]
  },
  {
   "cell_type": "code",
   "execution_count": 13,
   "metadata": {},
   "outputs": [
    {
     "data": {
      "text/plain": [
       "False"
      ]
     },
     "execution_count": 13,
     "metadata": {},
     "output_type": "execute_result"
    }
   ],
   "source": [
    "x is y"
   ]
  },
  {
   "cell_type": "code",
   "execution_count": 14,
   "metadata": {},
   "outputs": [
    {
     "data": {
      "text/plain": [
       "True"
      ]
     },
     "execution_count": 14,
     "metadata": {},
     "output_type": "execute_result"
    }
   ],
   "source": [
    "x = 'abcd'\n",
    "y = 'abcd'\n",
    "\n",
    "x == y"
   ]
  },
  {
   "cell_type": "code",
   "execution_count": 15,
   "metadata": {},
   "outputs": [
    {
     "data": {
      "text/plain": [
       "True"
      ]
     },
     "execution_count": 15,
     "metadata": {},
     "output_type": "execute_result"
    }
   ],
   "source": [
    "x is y"
   ]
  },
  {
   "cell_type": "code",
   "execution_count": 16,
   "metadata": {},
   "outputs": [
    {
     "data": {
      "text/plain": [
       "True"
      ]
     },
     "execution_count": 16,
     "metadata": {},
     "output_type": "execute_result"
    }
   ],
   "source": [
    "x = 'abcd' * 100_000\n",
    "y = 'abcd' * 100_000\n",
    "\n",
    "x == y"
   ]
  },
  {
   "cell_type": "code",
   "execution_count": 17,
   "metadata": {},
   "outputs": [
    {
     "data": {
      "text/plain": [
       "False"
      ]
     },
     "execution_count": 17,
     "metadata": {},
     "output_type": "execute_result"
    }
   ],
   "source": [
    "x is y"
   ]
  },
  {
   "cell_type": "code",
   "execution_count": 18,
   "metadata": {},
   "outputs": [
    {
     "data": {
      "text/plain": [
       "True"
      ]
     },
     "execution_count": 18,
     "metadata": {},
     "output_type": "execute_result"
    }
   ],
   "source": [
    "x = 'a.b'\n",
    "y = 'a.b'\n",
    "\n",
    "x == y"
   ]
  },
  {
   "cell_type": "code",
   "execution_count": 19,
   "metadata": {},
   "outputs": [
    {
     "data": {
      "text/plain": [
       "False"
      ]
     },
     "execution_count": 19,
     "metadata": {},
     "output_type": "execute_result"
    }
   ],
   "source": [
    "x is y"
   ]
  },
  {
   "cell_type": "code",
   "execution_count": 20,
   "metadata": {},
   "outputs": [
    {
     "data": {
      "text/plain": [
       "24"
      ]
     },
     "execution_count": 20,
     "metadata": {},
     "output_type": "execute_result"
    }
   ],
   "source": [
    "import sys\n",
    "\n",
    "x = 0\n",
    "sys.getsizeof(x)"
   ]
  },
  {
   "cell_type": "code",
   "execution_count": 21,
   "metadata": {},
   "outputs": [
    {
     "data": {
      "text/plain": [
       "28"
      ]
     },
     "execution_count": 21,
     "metadata": {},
     "output_type": "execute_result"
    }
   ],
   "source": [
    "x = 1\n",
    "sys.getsizeof(x)"
   ]
  },
  {
   "cell_type": "code",
   "execution_count": 22,
   "metadata": {},
   "outputs": [
    {
     "data": {
      "text/plain": [
       "32"
      ]
     },
     "execution_count": 22,
     "metadata": {},
     "output_type": "execute_result"
    }
   ],
   "source": [
    "x = 100_000_000_000_000\n",
    "sys.getsizeof(x)"
   ]
  },
  {
   "cell_type": "code",
   "execution_count": 23,
   "metadata": {},
   "outputs": [
    {
     "data": {
      "text/plain": [
       "13"
      ]
     },
     "execution_count": 23,
     "metadata": {},
     "output_type": "execute_result"
    }
   ],
   "source": [
    "x = 10\n",
    "y = 3\n",
    "\n",
    "x + y"
   ]
  },
  {
   "cell_type": "code",
   "execution_count": 24,
   "metadata": {},
   "outputs": [
    {
     "data": {
      "text/plain": [
       "7"
      ]
     },
     "execution_count": 24,
     "metadata": {},
     "output_type": "execute_result"
    }
   ],
   "source": [
    "x - y"
   ]
  },
  {
   "cell_type": "code",
   "execution_count": 25,
   "metadata": {},
   "outputs": [
    {
     "data": {
      "text/plain": [
       "30"
      ]
     },
     "execution_count": 25,
     "metadata": {},
     "output_type": "execute_result"
    }
   ],
   "source": [
    "x * y"
   ]
  },
  {
   "cell_type": "code",
   "execution_count": 28,
   "metadata": {},
   "outputs": [
    {
     "data": {
      "text/plain": [
       "3.3333333333333335"
      ]
     },
     "execution_count": 28,
     "metadata": {},
     "output_type": "execute_result"
    }
   ],
   "source": [
    "x / y  # always returns a float -- truediv"
   ]
  },
  {
   "cell_type": "code",
   "execution_count": 29,
   "metadata": {},
   "outputs": [
    {
     "data": {
      "text/plain": [
       "3"
      ]
     },
     "execution_count": 29,
     "metadata": {},
     "output_type": "execute_result"
    }
   ],
   "source": [
    "x // y   # this returns an integer -- floordiv"
   ]
  },
  {
   "cell_type": "code",
   "execution_count": 30,
   "metadata": {},
   "outputs": [
    {
     "data": {
      "text/plain": [
       "1000"
      ]
     },
     "execution_count": 30,
     "metadata": {},
     "output_type": "execute_result"
    }
   ],
   "source": [
    "x ** y  "
   ]
  },
  {
   "cell_type": "code",
   "execution_count": 31,
   "metadata": {},
   "outputs": [
    {
     "data": {
      "text/plain": [
       "1"
      ]
     },
     "execution_count": 31,
     "metadata": {},
     "output_type": "execute_result"
    }
   ],
   "source": [
    "x % y"
   ]
  },
  {
   "cell_type": "code",
   "execution_count": 32,
   "metadata": {},
   "outputs": [],
   "source": [
    "x = 10\n",
    "x += 1   #  x = x + 1"
   ]
  },
  {
   "cell_type": "code",
   "execution_count": 33,
   "metadata": {},
   "outputs": [
    {
     "data": {
      "text/plain": [
       "11"
      ]
     },
     "execution_count": 33,
     "metadata": {},
     "output_type": "execute_result"
    }
   ],
   "source": [
    "x"
   ]
  },
  {
   "cell_type": "code",
   "execution_count": 34,
   "metadata": {},
   "outputs": [
    {
     "data": {
      "text/plain": [
       "74565"
      ]
     },
     "execution_count": 34,
     "metadata": {},
     "output_type": "execute_result"
    }
   ],
   "source": [
    "0x12345"
   ]
  },
  {
   "cell_type": "code",
   "execution_count": 35,
   "metadata": {},
   "outputs": [
    {
     "data": {
      "text/plain": [
       "12345"
      ]
     },
     "execution_count": 35,
     "metadata": {},
     "output_type": "execute_result"
    }
   ],
   "source": [
    "s = '12345'\n",
    "int(s)   # returns a new int, based on s"
   ]
  },
  {
   "cell_type": "code",
   "execution_count": 36,
   "metadata": {},
   "outputs": [
    {
     "data": {
      "text/plain": [
       "74565"
      ]
     },
     "execution_count": 36,
     "metadata": {},
     "output_type": "execute_result"
    }
   ],
   "source": [
    "int(s, 16)   # returns a new int, based on s, seeing s as hex"
   ]
  },
  {
   "cell_type": "code",
   "execution_count": 37,
   "metadata": {},
   "outputs": [
    {
     "data": {
      "text/plain": [
       "43"
      ]
     },
     "execution_count": 37,
     "metadata": {},
     "output_type": "execute_result"
    }
   ],
   "source": [
    "0b101011"
   ]
  },
  {
   "cell_type": "code",
   "execution_count": 40,
   "metadata": {},
   "outputs": [
    {
     "data": {
      "text/plain": [
       "5349"
      ]
     },
     "execution_count": 40,
     "metadata": {},
     "output_type": "execute_result"
    }
   ],
   "source": [
    "0o12345  # Octal "
   ]
  },
  {
   "cell_type": "code",
   "execution_count": 41,
   "metadata": {},
   "outputs": [
    {
     "data": {
      "text/plain": [
       "10"
      ]
     },
     "execution_count": 41,
     "metadata": {},
     "output_type": "execute_result"
    }
   ],
   "source": [
    "x = 10\n",
    "y = x\n",
    "\n",
    "x = 20\n",
    "y"
   ]
  },
  {
   "cell_type": "code",
   "execution_count": 42,
   "metadata": {},
   "outputs": [
    {
     "data": {
      "text/plain": [
       "float"
      ]
     },
     "execution_count": 42,
     "metadata": {},
     "output_type": "execute_result"
    }
   ],
   "source": [
    "x = 10.5\n",
    "type(x)"
   ]
  },
  {
   "cell_type": "code",
   "execution_count": 43,
   "metadata": {},
   "outputs": [
    {
     "data": {
      "text/plain": [
       "10"
      ]
     },
     "execution_count": 43,
     "metadata": {},
     "output_type": "execute_result"
    }
   ],
   "source": [
    "int(x)"
   ]
  },
  {
   "cell_type": "code",
   "execution_count": 44,
   "metadata": {},
   "outputs": [
    {
     "data": {
      "text/plain": [
       "10.5"
      ]
     },
     "execution_count": 44,
     "metadata": {},
     "output_type": "execute_result"
    }
   ],
   "source": [
    "x"
   ]
  },
  {
   "cell_type": "code",
   "execution_count": 45,
   "metadata": {},
   "outputs": [],
   "source": [
    "x = int(x)"
   ]
  },
  {
   "cell_type": "code",
   "execution_count": 46,
   "metadata": {},
   "outputs": [
    {
     "data": {
      "text/plain": [
       "10"
      ]
     },
     "execution_count": 46,
     "metadata": {},
     "output_type": "execute_result"
    }
   ],
   "source": [
    "x"
   ]
  },
  {
   "cell_type": "code",
   "execution_count": 47,
   "metadata": {},
   "outputs": [
    {
     "data": {
      "text/plain": [
       "10.0"
      ]
     },
     "execution_count": 47,
     "metadata": {},
     "output_type": "execute_result"
    }
   ],
   "source": [
    "x = float(x)\n",
    "x"
   ]
  },
  {
   "cell_type": "code",
   "execution_count": 48,
   "metadata": {},
   "outputs": [
    {
     "data": {
      "text/plain": [
       "0.30000000000000004"
      ]
     },
     "execution_count": 48,
     "metadata": {},
     "output_type": "execute_result"
    }
   ],
   "source": [
    "0.1 + 0.2 "
   ]
  },
  {
   "cell_type": "code",
   "execution_count": 49,
   "metadata": {},
   "outputs": [
    {
     "data": {
      "text/plain": [
       "26"
      ]
     },
     "execution_count": 49,
     "metadata": {},
     "output_type": "execute_result"
    }
   ],
   "source": [
    "s = 'abcdefghijklmnopqrstuvwxyz'\n",
    "len(s)"
   ]
  },
  {
   "cell_type": "code",
   "execution_count": 50,
   "metadata": {},
   "outputs": [
    {
     "data": {
      "text/plain": [
       "'a'"
      ]
     },
     "execution_count": 50,
     "metadata": {},
     "output_type": "execute_result"
    }
   ],
   "source": [
    "s[0]   # --> s.__getitem__(0)"
   ]
  },
  {
   "cell_type": "code",
   "execution_count": 51,
   "metadata": {},
   "outputs": [
    {
     "data": {
      "text/plain": [
       "'b'"
      ]
     },
     "execution_count": 51,
     "metadata": {},
     "output_type": "execute_result"
    }
   ],
   "source": [
    "s[1]"
   ]
  },
  {
   "cell_type": "code",
   "execution_count": 52,
   "metadata": {},
   "outputs": [
    {
     "data": {
      "text/plain": [
       "'c'"
      ]
     },
     "execution_count": 52,
     "metadata": {},
     "output_type": "execute_result"
    }
   ],
   "source": [
    "s[2]"
   ]
  },
  {
   "cell_type": "code",
   "execution_count": 53,
   "metadata": {},
   "outputs": [
    {
     "data": {
      "text/plain": [
       "'z'"
      ]
     },
     "execution_count": 53,
     "metadata": {},
     "output_type": "execute_result"
    }
   ],
   "source": [
    "s[len(s)-1]"
   ]
  },
  {
   "cell_type": "code",
   "execution_count": 54,
   "metadata": {},
   "outputs": [
    {
     "data": {
      "text/plain": [
       "'z'"
      ]
     },
     "execution_count": 54,
     "metadata": {},
     "output_type": "execute_result"
    }
   ],
   "source": [
    "s[-1]"
   ]
  },
  {
   "cell_type": "code",
   "execution_count": 55,
   "metadata": {},
   "outputs": [
    {
     "data": {
      "text/plain": [
       "'y'"
      ]
     },
     "execution_count": 55,
     "metadata": {},
     "output_type": "execute_result"
    }
   ],
   "source": [
    "s[-2]"
   ]
  },
  {
   "cell_type": "code",
   "execution_count": 56,
   "metadata": {},
   "outputs": [
    {
     "ename": "IndexError",
     "evalue": "string index out of range",
     "output_type": "error",
     "traceback": [
      "\u001b[0;31m---------------------------------------------------------------------------\u001b[0m",
      "\u001b[0;31mIndexError\u001b[0m                                Traceback (most recent call last)",
      "Input \u001b[0;32mIn [56]\u001b[0m, in \u001b[0;36m<cell line: 1>\u001b[0;34m()\u001b[0m\n\u001b[0;32m----> 1\u001b[0m \u001b[43ms\u001b[49m\u001b[43m[\u001b[49m\u001b[38;5;241;43m30\u001b[39;49m\u001b[43m]\u001b[49m\n",
      "\u001b[0;31mIndexError\u001b[0m: string index out of range"
     ]
    }
   ],
   "source": [
    "s[30]"
   ]
  },
  {
   "cell_type": "code",
   "execution_count": 57,
   "metadata": {},
   "outputs": [
    {
     "ename": "IndexError",
     "evalue": "string index out of range",
     "output_type": "error",
     "traceback": [
      "\u001b[0;31m---------------------------------------------------------------------------\u001b[0m",
      "\u001b[0;31mIndexError\u001b[0m                                Traceback (most recent call last)",
      "Input \u001b[0;32mIn [57]\u001b[0m, in \u001b[0;36m<cell line: 1>\u001b[0;34m()\u001b[0m\n\u001b[0;32m----> 1\u001b[0m \u001b[43ms\u001b[49m\u001b[43m[\u001b[49m\u001b[38;5;241;43m-\u001b[39;49m\u001b[38;5;241;43m30\u001b[39;49m\u001b[43m]\u001b[49m\n",
      "\u001b[0;31mIndexError\u001b[0m: string index out of range"
     ]
    }
   ],
   "source": [
    "s[-30]"
   ]
  },
  {
   "cell_type": "code",
   "execution_count": 58,
   "metadata": {},
   "outputs": [
    {
     "data": {
      "text/plain": [
       "'abcdefghijklmnopqrstuvwxyz'"
      ]
     },
     "execution_count": 58,
     "metadata": {},
     "output_type": "execute_result"
    }
   ],
   "source": [
    "s"
   ]
  },
  {
   "cell_type": "code",
   "execution_count": 59,
   "metadata": {},
   "outputs": [
    {
     "data": {
      "text/plain": [
       "'klmnopqrst'"
      ]
     },
     "execution_count": 59,
     "metadata": {},
     "output_type": "execute_result"
    }
   ],
   "source": [
    "# slice\n",
    "\n",
    "s[10:20]   # from 10 until (not including) 20"
   ]
  },
  {
   "cell_type": "code",
   "execution_count": 60,
   "metadata": {},
   "outputs": [
    {
     "data": {
      "text/plain": [
       "'fghijklmnopqrstuvwxy'"
      ]
     },
     "execution_count": 60,
     "metadata": {},
     "output_type": "execute_result"
    }
   ],
   "source": [
    "s[5:25]"
   ]
  },
  {
   "cell_type": "code",
   "execution_count": 61,
   "metadata": {},
   "outputs": [
    {
     "data": {
      "text/plain": [
       "'abcdefghijklmno'"
      ]
     },
     "execution_count": 61,
     "metadata": {},
     "output_type": "execute_result"
    }
   ],
   "source": [
    "s[:15]   # from the start, until (not including) 15"
   ]
  },
  {
   "cell_type": "code",
   "execution_count": 62,
   "metadata": {},
   "outputs": [
    {
     "data": {
      "text/plain": [
       "'pqrstuvwxyz'"
      ]
     },
     "execution_count": 62,
     "metadata": {},
     "output_type": "execute_result"
    }
   ],
   "source": [
    "s[15:]   # from 15, through the end"
   ]
  },
  {
   "cell_type": "code",
   "execution_count": 63,
   "metadata": {},
   "outputs": [
    {
     "data": {
      "text/plain": [
       "'dfhjlnprtv'"
      ]
     },
     "execution_count": 63,
     "metadata": {},
     "output_type": "execute_result"
    }
   ],
   "source": [
    "s[3:22:2]   # from 3, until (not including) 22, step size 2"
   ]
  },
  {
   "cell_type": "code",
   "execution_count": 64,
   "metadata": {},
   "outputs": [
    {
     "data": {
      "text/plain": [
       "'acegikmoqsuwy'"
      ]
     },
     "execution_count": 64,
     "metadata": {},
     "output_type": "execute_result"
    }
   ],
   "source": [
    "s[::2]   # from the start, to the end, step size 2"
   ]
  },
  {
   "cell_type": "code",
   "execution_count": 65,
   "metadata": {},
   "outputs": [
    {
     "data": {
      "text/plain": [
       "'zyxwvutsrqponmlkjihgfedcba'"
      ]
     },
     "execution_count": 65,
     "metadata": {},
     "output_type": "execute_result"
    }
   ],
   "source": [
    "s[::-1]  "
   ]
  },
  {
   "cell_type": "code",
   "execution_count": 66,
   "metadata": {},
   "outputs": [
    {
     "data": {
      "text/plain": [
       "'abcdefghijklmnopqrstuvwxyz'"
      ]
     },
     "execution_count": 66,
     "metadata": {},
     "output_type": "execute_result"
    }
   ],
   "source": [
    "s"
   ]
  },
  {
   "cell_type": "code",
   "execution_count": 67,
   "metadata": {},
   "outputs": [
    {
     "ename": "TypeError",
     "evalue": "'str' object does not support item assignment",
     "output_type": "error",
     "traceback": [
      "\u001b[0;31m---------------------------------------------------------------------------\u001b[0m",
      "\u001b[0;31mTypeError\u001b[0m                                 Traceback (most recent call last)",
      "Input \u001b[0;32mIn [67]\u001b[0m, in \u001b[0;36m<cell line: 1>\u001b[0;34m()\u001b[0m\n\u001b[0;32m----> 1\u001b[0m s[\u001b[38;5;241m0\u001b[39m] \u001b[38;5;241m=\u001b[39m \u001b[38;5;124m'\u001b[39m\u001b[38;5;124m!\u001b[39m\u001b[38;5;124m'\u001b[39m\n",
      "\u001b[0;31mTypeError\u001b[0m: 'str' object does not support item assignment"
     ]
    }
   ],
   "source": [
    "s[0] = '!'   # let's change the alphabet!"
   ]
  },
  {
   "cell_type": "code",
   "execution_count": 69,
   "metadata": {},
   "outputs": [
    {
     "name": "stdout",
     "output_type": "stream",
     "text": [
      "4547353968\n",
      "4547352944\n"
     ]
    },
    {
     "data": {
      "text/plain": [
       "'abcdefgh'"
      ]
     },
     "execution_count": 69,
     "metadata": {},
     "output_type": "execute_result"
    }
   ],
   "source": [
    "# strings are immutable\n",
    "\n",
    "s = 'abcd'\n",
    "print(id(s))\n",
    "s += 'efgh'\n",
    "print(id(s))\n",
    "s"
   ]
  },
  {
   "cell_type": "code",
   "execution_count": 70,
   "metadata": {},
   "outputs": [
    {
     "data": {
      "text/plain": [
       "'abcd efgh'"
      ]
     },
     "execution_count": 70,
     "metadata": {},
     "output_type": "execute_result"
    }
   ],
   "source": [
    "s = 'aBcD eFgH'\n",
    "s.lower()"
   ]
  },
  {
   "cell_type": "code",
   "execution_count": 71,
   "metadata": {},
   "outputs": [
    {
     "data": {
      "text/plain": [
       "'ABCD EFGH'"
      ]
     },
     "execution_count": 71,
     "metadata": {},
     "output_type": "execute_result"
    }
   ],
   "source": [
    "s.upper()"
   ]
  },
  {
   "cell_type": "code",
   "execution_count": 72,
   "metadata": {},
   "outputs": [
    {
     "data": {
      "text/plain": [
       "'AbCd EfGh'"
      ]
     },
     "execution_count": 72,
     "metadata": {},
     "output_type": "execute_result"
    }
   ],
   "source": [
    "s.swapcase()"
   ]
  },
  {
   "cell_type": "code",
   "execution_count": 73,
   "metadata": {},
   "outputs": [
    {
     "data": {
      "text/plain": [
       "'abcd efgh'"
      ]
     },
     "execution_count": 73,
     "metadata": {},
     "output_type": "execute_result"
    }
   ],
   "source": [
    "s.casefold()"
   ]
  },
  {
   "cell_type": "code",
   "execution_count": 74,
   "metadata": {},
   "outputs": [
    {
     "data": {
      "text/plain": [
       "4"
      ]
     },
     "execution_count": 74,
     "metadata": {},
     "output_type": "execute_result"
    }
   ],
   "source": [
    "s = 'abcd'\n",
    "len(s)"
   ]
  },
  {
   "cell_type": "code",
   "execution_count": 75,
   "metadata": {},
   "outputs": [
    {
     "data": {
      "text/plain": [
       "4"
      ]
     },
     "execution_count": 75,
     "metadata": {},
     "output_type": "execute_result"
    }
   ],
   "source": [
    "s = 'שלום'\n",
    "len(s)"
   ]
  },
  {
   "cell_type": "code",
   "execution_count": 76,
   "metadata": {},
   "outputs": [
    {
     "data": {
      "text/plain": [
       "2"
      ]
     },
     "execution_count": 76,
     "metadata": {},
     "output_type": "execute_result"
    }
   ],
   "source": [
    "s = '你好'\n",
    "len(s)"
   ]
  },
  {
   "cell_type": "code",
   "execution_count": 77,
   "metadata": {},
   "outputs": [
    {
     "data": {
      "text/plain": [
       "b'\\xe4\\xbd\\xa0\\xe5\\xa5\\xbd'"
      ]
     },
     "execution_count": 77,
     "metadata": {},
     "output_type": "execute_result"
    }
   ],
   "source": [
    "s.encode()   # this returns a bytestring, based on the string s"
   ]
  },
  {
   "cell_type": "code",
   "execution_count": 78,
   "metadata": {},
   "outputs": [
    {
     "data": {
      "text/plain": [
       "b'\\xd7\\xa9\\xd7\\x9c\\xd7\\x95\\xd7\\x9d'"
      ]
     },
     "execution_count": 78,
     "metadata": {},
     "output_type": "execute_result"
    }
   ],
   "source": [
    "s = 'שלום'\n",
    "s.encode()"
   ]
  },
  {
   "cell_type": "code",
   "execution_count": 80,
   "metadata": {},
   "outputs": [
    {
     "data": {
      "text/plain": [
       "b'\\xa9\\xd7\\x9c\\xd7\\x95\\xd7\\x9d'"
      ]
     },
     "execution_count": 80,
     "metadata": {},
     "output_type": "execute_result"
    }
   ],
   "source": [
    "s.encode()[1:]"
   ]
  },
  {
   "cell_type": "code",
   "execution_count": 81,
   "metadata": {},
   "outputs": [
    {
     "ename": "UnicodeDecodeError",
     "evalue": "'utf-8' codec can't decode byte 0xa9 in position 0: invalid start byte",
     "output_type": "error",
     "traceback": [
      "\u001b[0;31m---------------------------------------------------------------------------\u001b[0m",
      "\u001b[0;31mUnicodeDecodeError\u001b[0m                        Traceback (most recent call last)",
      "Input \u001b[0;32mIn [81]\u001b[0m, in \u001b[0;36m<cell line: 2>\u001b[0;34m()\u001b[0m\n\u001b[1;32m      1\u001b[0m \u001b[38;5;66;03m# try to return the final 7 bytes to a string \u001b[39;00m\n\u001b[0;32m----> 2\u001b[0m \u001b[43ms\u001b[49m\u001b[38;5;241;43m.\u001b[39;49m\u001b[43mencode\u001b[49m\u001b[43m(\u001b[49m\u001b[43m)\u001b[49m\u001b[43m[\u001b[49m\u001b[38;5;241;43m1\u001b[39;49m\u001b[43m:\u001b[49m\u001b[43m]\u001b[49m\u001b[38;5;241;43m.\u001b[39;49m\u001b[43mdecode\u001b[49m\u001b[43m(\u001b[49m\u001b[43m)\u001b[49m\n",
      "\u001b[0;31mUnicodeDecodeError\u001b[0m: 'utf-8' codec can't decode byte 0xa9 in position 0: invalid start byte"
     ]
    }
   ],
   "source": [
    "# try to return the final 7 bytes to a string \n",
    "s.encode()[1:].decode()"
   ]
  },
  {
   "cell_type": "code",
   "execution_count": 83,
   "metadata": {},
   "outputs": [
    {
     "name": "stdout",
     "output_type": "stream",
     "text": [
      "Enter your name:              Reuven           \n",
      "Hello,              Reuven           !\n"
     ]
    }
   ],
   "source": [
    "name = input('Enter your name: ')\n",
    "print(f'Hello, {name}!')   # f-string (format string / fancy string)"
   ]
  },
  {
   "cell_type": "code",
   "execution_count": 84,
   "metadata": {},
   "outputs": [
    {
     "data": {
      "text/plain": [
       "'Reuven'"
      ]
     },
     "execution_count": 84,
     "metadata": {},
     "output_type": "execute_result"
    }
   ],
   "source": [
    "name.strip()   # returns a new string, without whitespace on the edges"
   ]
  },
  {
   "cell_type": "code",
   "execution_count": 85,
   "metadata": {},
   "outputs": [
    {
     "name": "stdout",
     "output_type": "stream",
     "text": [
      "Enter your name:     Reuven    \n",
      "Hello, Reuven!\n"
     ]
    }
   ],
   "source": [
    "name = input('Enter your name: ').strip()\n",
    "print(f'Hello, {name}!')   # f-string (format string / fancy string)"
   ]
  },
  {
   "cell_type": "markdown",
   "metadata": {},
   "source": [
    "# Exercise: Which comes first?\n",
    "\n",
    "1. Ask the user to enter two separate words.\n",
    "2. Indicate which word comes first alphabetically.\n",
    "3. BONUS: Check them without regard to case.\n",
    "\n",
    "Example:\n",
    "\n",
    "    First word: dog\n",
    "    Second word: cat\n",
    "    cat comes before dog\n",
    "    \n",
    "    \n"
   ]
  },
  {
   "cell_type": "code",
   "execution_count": 88,
   "metadata": {},
   "outputs": [
    {
     "name": "stdout",
     "output_type": "stream",
     "text": [
      "First number: 100\n",
      "Second number: 100\n",
      "100 and 100 are the same\n"
     ]
    }
   ],
   "source": [
    "first = input('First number: ').strip()\n",
    "second = input('Second number: ').strip()\n",
    "\n",
    "first = int(first)\n",
    "second = int(second)\n",
    "\n",
    "if first < second:\n",
    "    print(f'{first} comes before {second}')\n",
    "elif second < first:\n",
    "    print(f'{second} comes before {first}') \n",
    "else:\n",
    "    print(f'{first} and {second} are the same')"
   ]
  },
  {
   "cell_type": "code",
   "execution_count": 91,
   "metadata": {},
   "outputs": [
    {
     "name": "stdout",
     "output_type": "stream",
     "text": [
      "First word: Taxi\n",
      "Second word: cab\n",
      "Taxi comes before cab\n"
     ]
    }
   ],
   "source": [
    "first = input('First word: ').strip()\n",
    "second = input('Second word: ').strip()\n",
    "\n",
    "if first < second:\n",
    "    print(f'{first} comes before {second}')\n",
    "elif second < first:\n",
    "    print(f'{second} comes before {first}') \n",
    "else:\n",
    "    print(f'{first} and {second} are the same')"
   ]
  },
  {
   "cell_type": "code",
   "execution_count": 92,
   "metadata": {},
   "outputs": [
    {
     "name": "stdout",
     "output_type": "stream",
     "text": [
      "First word: Taxi\n",
      "Second word: cab\n",
      "cab comes before Taxi\n"
     ]
    }
   ],
   "source": [
    "first = input('First word: ').strip()\n",
    "second = input('Second word: ').strip()\n",
    "\n",
    "if first.casefold() < second.casefold():\n",
    "    print(f'{first} comes before {second}')\n",
    "elif second.casefold() < first.casefold():\n",
    "    print(f'{second} comes before {first}') \n",
    "else:\n",
    "    print(f'{first} and {second} are the same')"
   ]
  },
  {
   "cell_type": "code",
   "execution_count": 98,
   "metadata": {},
   "outputs": [],
   "source": [
    "# sequence -- string, list tuple\n",
    "# so they do a lot of the same things!\n",
    "\n",
    "mylist = [10, 20, 30, 40, 50, 60, 70, 80]"
   ]
  },
  {
   "cell_type": "code",
   "execution_count": 99,
   "metadata": {},
   "outputs": [
    {
     "data": {
      "text/plain": [
       "8"
      ]
     },
     "execution_count": 99,
     "metadata": {},
     "output_type": "execute_result"
    }
   ],
   "source": [
    "len(mylist)"
   ]
  },
  {
   "cell_type": "code",
   "execution_count": 100,
   "metadata": {},
   "outputs": [
    {
     "data": {
      "text/plain": [
       "10"
      ]
     },
     "execution_count": 100,
     "metadata": {},
     "output_type": "execute_result"
    }
   ],
   "source": [
    "mylist[0]"
   ]
  },
  {
   "cell_type": "code",
   "execution_count": 101,
   "metadata": {},
   "outputs": [
    {
     "data": {
      "text/plain": [
       "20"
      ]
     },
     "execution_count": 101,
     "metadata": {},
     "output_type": "execute_result"
    }
   ],
   "source": [
    "mylist[1]"
   ]
  },
  {
   "cell_type": "code",
   "execution_count": 102,
   "metadata": {},
   "outputs": [
    {
     "data": {
      "text/plain": [
       "80"
      ]
     },
     "execution_count": 102,
     "metadata": {},
     "output_type": "execute_result"
    }
   ],
   "source": [
    "mylist[-1]"
   ]
  },
  {
   "cell_type": "code",
   "execution_count": 104,
   "metadata": {},
   "outputs": [
    {
     "data": {
      "text/plain": [
       "[[10, 20, 30], [10, 20, 30], [10, 20, 30]]"
      ]
     },
     "execution_count": 104,
     "metadata": {},
     "output_type": "execute_result"
    }
   ],
   "source": [
    "mylist = [10, 20, 30]\n",
    "biglist = [mylist, mylist, mylist]\n",
    "biglist"
   ]
  },
  {
   "cell_type": "code",
   "execution_count": 105,
   "metadata": {},
   "outputs": [
    {
     "data": {
      "text/plain": [
       "3"
      ]
     },
     "execution_count": 105,
     "metadata": {},
     "output_type": "execute_result"
    }
   ],
   "source": [
    "len(biglist)"
   ]
  },
  {
   "cell_type": "code",
   "execution_count": 108,
   "metadata": {},
   "outputs": [],
   "source": [
    "mylist[0] = '!'    # lists are mutable!"
   ]
  },
  {
   "cell_type": "code",
   "execution_count": 109,
   "metadata": {},
   "outputs": [
    {
     "data": {
      "text/plain": [
       "['!', 20, 30]"
      ]
     },
     "execution_count": 109,
     "metadata": {},
     "output_type": "execute_result"
    }
   ],
   "source": [
    "mylist"
   ]
  },
  {
   "cell_type": "code",
   "execution_count": 110,
   "metadata": {},
   "outputs": [
    {
     "data": {
      "text/plain": [
       "[['!', 20, 30], ['!', 20, 30], ['!', 20, 30]]"
      ]
     },
     "execution_count": 110,
     "metadata": {},
     "output_type": "execute_result"
    }
   ],
   "source": [
    "biglist"
   ]
  },
  {
   "cell_type": "code",
   "execution_count": 111,
   "metadata": {},
   "outputs": [
    {
     "data": {
      "text/plain": [
       "[10, 20, 30, 40, 50]"
      ]
     },
     "execution_count": 111,
     "metadata": {},
     "output_type": "execute_result"
    }
   ],
   "source": [
    "mylist = [10, 20, 30]\n",
    "\n",
    "mylist.append(40)\n",
    "mylist.append(50)\n",
    "\n",
    "mylist"
   ]
  },
  {
   "cell_type": "code",
   "execution_count": 112,
   "metadata": {},
   "outputs": [
    {
     "data": {
      "text/plain": [
       "[10, 20, 30, 40, 50, [60, 70, 80]]"
      ]
     },
     "execution_count": 112,
     "metadata": {},
     "output_type": "execute_result"
    }
   ],
   "source": [
    "mylist.append([60, 70, 80])\n",
    "mylist"
   ]
  },
  {
   "cell_type": "code",
   "execution_count": 113,
   "metadata": {},
   "outputs": [
    {
     "data": {
      "text/plain": [
       "[60, 70, 80]"
      ]
     },
     "execution_count": 113,
     "metadata": {},
     "output_type": "execute_result"
    }
   ],
   "source": [
    "mylist.pop()   # removes + returns the final element"
   ]
  },
  {
   "cell_type": "code",
   "execution_count": 114,
   "metadata": {},
   "outputs": [
    {
     "data": {
      "text/plain": [
       "[10, 20, 30, 40, 50]"
      ]
     },
     "execution_count": 114,
     "metadata": {},
     "output_type": "execute_result"
    }
   ],
   "source": [
    "mylist"
   ]
  },
  {
   "cell_type": "code",
   "execution_count": 115,
   "metadata": {},
   "outputs": [],
   "source": [
    "# don't do this -- list.append returns None!\n",
    "mylist = mylist.append(60)"
   ]
  },
  {
   "cell_type": "code",
   "execution_count": 116,
   "metadata": {},
   "outputs": [
    {
     "name": "stdout",
     "output_type": "stream",
     "text": [
      "None\n"
     ]
    }
   ],
   "source": [
    "print(mylist)"
   ]
  },
  {
   "cell_type": "code",
   "execution_count": 117,
   "metadata": {},
   "outputs": [
    {
     "data": {
      "text/plain": [
       "['abcd', 'efgh', 'ijkl']"
      ]
     },
     "execution_count": 117,
     "metadata": {},
     "output_type": "execute_result"
    }
   ],
   "source": [
    "s = 'abcd efgh ijkl'\n",
    "\n",
    "s.split()   # returns a list of strings -- use any whitespace, any length"
   ]
  },
  {
   "cell_type": "code",
   "execution_count": 119,
   "metadata": {},
   "outputs": [
    {
     "data": {
      "text/plain": [
       "['abcd efg', ' ijkl']"
      ]
     },
     "execution_count": 119,
     "metadata": {},
     "output_type": "execute_result"
    }
   ],
   "source": [
    "s.split('h')"
   ]
  },
  {
   "cell_type": "code",
   "execution_count": 120,
   "metadata": {},
   "outputs": [
    {
     "data": {
      "text/plain": [
       "['abcd efgh ijkl']"
      ]
     },
     "execution_count": 120,
     "metadata": {},
     "output_type": "execute_result"
    }
   ],
   "source": [
    "s.split('!')"
   ]
  },
  {
   "cell_type": "code",
   "execution_count": 121,
   "metadata": {},
   "outputs": [
    {
     "data": {
      "text/plain": [
       "['this', 'is', 'a', 'bunch', 'of', 'words', 'for', 'my', 'course']"
      ]
     },
     "execution_count": 121,
     "metadata": {},
     "output_type": "execute_result"
    }
   ],
   "source": [
    "words = 'this is a bunch of words for my course'.split()\n",
    "words"
   ]
  },
  {
   "cell_type": "code",
   "execution_count": 122,
   "metadata": {},
   "outputs": [
    {
     "data": {
      "text/plain": [
       "'this is a bunch of words for my course'"
      ]
     },
     "execution_count": 122,
     "metadata": {},
     "output_type": "execute_result"
    }
   ],
   "source": [
    "# str.join returns a string\n",
    "\n",
    "' '.join(words)"
   ]
  },
  {
   "cell_type": "code",
   "execution_count": 123,
   "metadata": {},
   "outputs": [
    {
     "data": {
      "text/plain": [
       "'this*is*a*bunch*of*words*for*my*course'"
      ]
     },
     "execution_count": 123,
     "metadata": {},
     "output_type": "execute_result"
    }
   ],
   "source": [
    "'*'.join(words)"
   ]
  },
  {
   "cell_type": "code",
   "execution_count": 124,
   "metadata": {},
   "outputs": [
    {
     "data": {
      "text/plain": [
       "'a*b*c*d*e'"
      ]
     },
     "execution_count": 124,
     "metadata": {},
     "output_type": "execute_result"
    }
   ],
   "source": [
    "'*'.join('abcde')"
   ]
  },
  {
   "cell_type": "code",
   "execution_count": 125,
   "metadata": {},
   "outputs": [
    {
     "data": {
      "text/plain": [
       "tuple"
      ]
     },
     "execution_count": 125,
     "metadata": {},
     "output_type": "execute_result"
    }
   ],
   "source": [
    "# tuples\n",
    "\n",
    "t = (10, 20, 30)\n",
    "type(t)"
   ]
  },
  {
   "cell_type": "code",
   "execution_count": 126,
   "metadata": {},
   "outputs": [
    {
     "data": {
      "text/plain": [
       "tuple"
      ]
     },
     "execution_count": 126,
     "metadata": {},
     "output_type": "execute_result"
    }
   ],
   "source": [
    "t = (10, 20)\n",
    "type(t)"
   ]
  },
  {
   "cell_type": "code",
   "execution_count": 130,
   "metadata": {},
   "outputs": [
    {
     "data": {
      "text/plain": [
       "tuple"
      ]
     },
     "execution_count": 130,
     "metadata": {},
     "output_type": "execute_result"
    }
   ],
   "source": [
    "t = (10,)  \n",
    "type(t)"
   ]
  },
  {
   "cell_type": "code",
   "execution_count": 128,
   "metadata": {},
   "outputs": [
    {
     "data": {
      "text/plain": [
       "tuple"
      ]
     },
     "execution_count": 128,
     "metadata": {},
     "output_type": "execute_result"
    }
   ],
   "source": [
    "t = ()\n",
    "type(t)"
   ]
  },
  {
   "cell_type": "code",
   "execution_count": 131,
   "metadata": {},
   "outputs": [
    {
     "data": {
      "text/plain": [
       "56"
      ]
     },
     "execution_count": 131,
     "metadata": {},
     "output_type": "execute_result"
    }
   ],
   "source": [
    "mylist = []\n",
    "sys.getsizeof(mylist)"
   ]
  },
  {
   "cell_type": "code",
   "execution_count": 132,
   "metadata": {},
   "outputs": [
    {
     "data": {
      "text/plain": [
       "88"
      ]
     },
     "execution_count": 132,
     "metadata": {},
     "output_type": "execute_result"
    }
   ],
   "source": [
    "mylist = [10, 20, 30]\n",
    "sys.getsizeof(mylist)"
   ]
  },
  {
   "cell_type": "code",
   "execution_count": 133,
   "metadata": {},
   "outputs": [
    {
     "data": {
      "text/plain": [
       "64"
      ]
     },
     "execution_count": 133,
     "metadata": {},
     "output_type": "execute_result"
    }
   ],
   "source": [
    "t = (10, 20, 30)\n",
    "sys.getsizeof(t)"
   ]
  },
  {
   "cell_type": "code",
   "execution_count": 134,
   "metadata": {},
   "outputs": [
    {
     "data": {
      "text/plain": [
       "[10, 20, 30]"
      ]
     },
     "execution_count": 134,
     "metadata": {},
     "output_type": "execute_result"
    }
   ],
   "source": [
    "mylist = [10, 20, 30]\n",
    "x = mylist\n",
    "\n",
    "x"
   ]
  },
  {
   "cell_type": "code",
   "execution_count": 136,
   "metadata": {},
   "outputs": [],
   "source": [
    "# tuple unpacking\n",
    "\n",
    "x,y,z = mylist"
   ]
  },
  {
   "cell_type": "code",
   "execution_count": 137,
   "metadata": {},
   "outputs": [
    {
     "data": {
      "text/plain": [
       "10"
      ]
     },
     "execution_count": 137,
     "metadata": {},
     "output_type": "execute_result"
    }
   ],
   "source": [
    "x"
   ]
  },
  {
   "cell_type": "code",
   "execution_count": 139,
   "metadata": {},
   "outputs": [
    {
     "data": {
      "text/plain": [
       "20"
      ]
     },
     "execution_count": 139,
     "metadata": {},
     "output_type": "execute_result"
    }
   ],
   "source": [
    "y"
   ]
  },
  {
   "cell_type": "code",
   "execution_count": 140,
   "metadata": {},
   "outputs": [
    {
     "data": {
      "text/plain": [
       "30"
      ]
     },
     "execution_count": 140,
     "metadata": {},
     "output_type": "execute_result"
    }
   ],
   "source": [
    "z"
   ]
  },
  {
   "cell_type": "code",
   "execution_count": 141,
   "metadata": {},
   "outputs": [
    {
     "ename": "ValueError",
     "evalue": "too many values to unpack (expected 2)",
     "output_type": "error",
     "traceback": [
      "\u001b[0;31m---------------------------------------------------------------------------\u001b[0m",
      "\u001b[0;31mValueError\u001b[0m                                Traceback (most recent call last)",
      "Input \u001b[0;32mIn [141]\u001b[0m, in \u001b[0;36m<cell line: 1>\u001b[0;34m()\u001b[0m\n\u001b[0;32m----> 1\u001b[0m x,y \u001b[38;5;241m=\u001b[39m mylist\n",
      "\u001b[0;31mValueError\u001b[0m: too many values to unpack (expected 2)"
     ]
    }
   ],
   "source": [
    "x,y = mylist"
   ]
  },
  {
   "cell_type": "code",
   "execution_count": 142,
   "metadata": {},
   "outputs": [],
   "source": [
    "mylist = [10, 20, 30]\n",
    "\n",
    "first, _, last = mylist"
   ]
  },
  {
   "cell_type": "code",
   "execution_count": 143,
   "metadata": {},
   "outputs": [],
   "source": [
    "mylist = [10, 20, 30, 40]\n",
    "\n",
    "first, _, _, last = mylist"
   ]
  },
  {
   "cell_type": "code",
   "execution_count": 144,
   "metadata": {},
   "outputs": [
    {
     "data": {
      "text/plain": [
       "10"
      ]
     },
     "execution_count": 144,
     "metadata": {},
     "output_type": "execute_result"
    }
   ],
   "source": [
    "first"
   ]
  },
  {
   "cell_type": "code",
   "execution_count": 145,
   "metadata": {},
   "outputs": [
    {
     "data": {
      "text/plain": [
       "40"
      ]
     },
     "execution_count": 145,
     "metadata": {},
     "output_type": "execute_result"
    }
   ],
   "source": [
    "last"
   ]
  },
  {
   "cell_type": "code",
   "execution_count": 147,
   "metadata": {},
   "outputs": [],
   "source": [
    "# *middle means: middle will be a list!\n",
    "\n",
    "first, *middle, last = mylist"
   ]
  },
  {
   "cell_type": "code",
   "execution_count": 148,
   "metadata": {},
   "outputs": [
    {
     "data": {
      "text/plain": [
       "10"
      ]
     },
     "execution_count": 148,
     "metadata": {},
     "output_type": "execute_result"
    }
   ],
   "source": [
    "first"
   ]
  },
  {
   "cell_type": "code",
   "execution_count": 149,
   "metadata": {},
   "outputs": [
    {
     "data": {
      "text/plain": [
       "[20, 30]"
      ]
     },
     "execution_count": 149,
     "metadata": {},
     "output_type": "execute_result"
    }
   ],
   "source": [
    "middle"
   ]
  },
  {
   "cell_type": "code",
   "execution_count": 150,
   "metadata": {},
   "outputs": [
    {
     "data": {
      "text/plain": [
       "40"
      ]
     },
     "execution_count": 150,
     "metadata": {},
     "output_type": "execute_result"
    }
   ],
   "source": [
    "last"
   ]
  },
  {
   "cell_type": "code",
   "execution_count": 151,
   "metadata": {},
   "outputs": [],
   "source": [
    "first, *_, last = mylist"
   ]
  },
  {
   "cell_type": "code",
   "execution_count": 152,
   "metadata": {},
   "outputs": [
    {
     "data": {
      "text/plain": [
       "[20, 30]"
      ]
     },
     "execution_count": 152,
     "metadata": {},
     "output_type": "execute_result"
    }
   ],
   "source": [
    "_"
   ]
  },
  {
   "cell_type": "code",
   "execution_count": 153,
   "metadata": {},
   "outputs": [
    {
     "data": {
      "text/plain": [
       "([10, 20, 30], [40, 50, 60])"
      ]
     },
     "execution_count": 153,
     "metadata": {},
     "output_type": "execute_result"
    }
   ],
   "source": [
    "t = ([10, 20, 30], \n",
    "    [40, 50, 60])\n",
    "\n",
    "t"
   ]
  },
  {
   "cell_type": "code",
   "execution_count": 154,
   "metadata": {},
   "outputs": [],
   "source": [
    "t[0].append(31)"
   ]
  },
  {
   "cell_type": "code",
   "execution_count": 155,
   "metadata": {},
   "outputs": [
    {
     "data": {
      "text/plain": [
       "([10, 20, 30, 31], [40, 50, 60])"
      ]
     },
     "execution_count": 155,
     "metadata": {},
     "output_type": "execute_result"
    }
   ],
   "source": [
    "t"
   ]
  },
  {
   "cell_type": "code",
   "execution_count": 156,
   "metadata": {},
   "outputs": [
    {
     "ename": "TypeError",
     "evalue": "'tuple' object does not support item assignment",
     "output_type": "error",
     "traceback": [
      "\u001b[0;31m---------------------------------------------------------------------------\u001b[0m",
      "\u001b[0;31mTypeError\u001b[0m                                 Traceback (most recent call last)",
      "Input \u001b[0;32mIn [156]\u001b[0m, in \u001b[0;36m<cell line: 1>\u001b[0;34m()\u001b[0m\n\u001b[0;32m----> 1\u001b[0m t[\u001b[38;5;241m0\u001b[39m] \u001b[38;5;241m+\u001b[39m\u001b[38;5;241m=\u001b[39m [\u001b[38;5;241m40\u001b[39m, \u001b[38;5;241m50\u001b[39m, \u001b[38;5;241m60\u001b[39m]\n",
      "\u001b[0;31mTypeError\u001b[0m: 'tuple' object does not support item assignment"
     ]
    }
   ],
   "source": [
    "t[0] += [40, 50, 60]"
   ]
  },
  {
   "cell_type": "code",
   "execution_count": 157,
   "metadata": {},
   "outputs": [
    {
     "data": {
      "text/plain": [
       "([10, 20, 30, 31, 40, 50, 60], [40, 50, 60])"
      ]
     },
     "execution_count": 157,
     "metadata": {},
     "output_type": "execute_result"
    }
   ],
   "source": [
    "t"
   ]
  },
  {
   "cell_type": "code",
   "execution_count": 158,
   "metadata": {},
   "outputs": [
    {
     "data": {
      "text/plain": [
       "'Reuven'"
      ]
     },
     "execution_count": 158,
     "metadata": {},
     "output_type": "execute_result"
    }
   ],
   "source": [
    "p = ('Reuven', 'Lerner', 46)\n",
    "\n",
    "p[0]"
   ]
  },
  {
   "cell_type": "code",
   "execution_count": 159,
   "metadata": {},
   "outputs": [
    {
     "data": {
      "text/plain": [
       "'Lerner'"
      ]
     },
     "execution_count": 159,
     "metadata": {},
     "output_type": "execute_result"
    }
   ],
   "source": [
    "p[1]"
   ]
  },
  {
   "cell_type": "code",
   "execution_count": 160,
   "metadata": {},
   "outputs": [
    {
     "data": {
      "text/plain": [
       "46"
      ]
     },
     "execution_count": 160,
     "metadata": {},
     "output_type": "execute_result"
    }
   ],
   "source": [
    "p[2]"
   ]
  },
  {
   "cell_type": "code",
   "execution_count": 161,
   "metadata": {},
   "outputs": [],
   "source": [
    "from collections import namedtuple\n",
    "\n",
    "Person = namedtuple('Person', 'first last shoesize')"
   ]
  },
  {
   "cell_type": "code",
   "execution_count": 162,
   "metadata": {},
   "outputs": [],
   "source": [
    "p = Person('Reuven', 'Lerner', 46)"
   ]
  },
  {
   "cell_type": "code",
   "execution_count": 163,
   "metadata": {},
   "outputs": [
    {
     "data": {
      "text/plain": [
       "'Reuven'"
      ]
     },
     "execution_count": 163,
     "metadata": {},
     "output_type": "execute_result"
    }
   ],
   "source": [
    "p.first"
   ]
  },
  {
   "cell_type": "code",
   "execution_count": 164,
   "metadata": {},
   "outputs": [
    {
     "data": {
      "text/plain": [
       "'Lerner'"
      ]
     },
     "execution_count": 164,
     "metadata": {},
     "output_type": "execute_result"
    }
   ],
   "source": [
    "p.last"
   ]
  },
  {
   "cell_type": "code",
   "execution_count": 165,
   "metadata": {},
   "outputs": [
    {
     "data": {
      "text/plain": [
       "46"
      ]
     },
     "execution_count": 165,
     "metadata": {},
     "output_type": "execute_result"
    }
   ],
   "source": [
    "p.shoesize"
   ]
  },
  {
   "cell_type": "code",
   "execution_count": 166,
   "metadata": {},
   "outputs": [
    {
     "data": {
      "text/plain": [
       "(tuple,)"
      ]
     },
     "execution_count": 166,
     "metadata": {},
     "output_type": "execute_result"
    }
   ],
   "source": [
    "Person.__bases__ # who does Person inherit from?"
   ]
  },
  {
   "cell_type": "code",
   "execution_count": 167,
   "metadata": {},
   "outputs": [
    {
     "data": {
      "text/plain": [
       "'Reuven'"
      ]
     },
     "execution_count": 167,
     "metadata": {},
     "output_type": "execute_result"
    }
   ],
   "source": [
    "p[0]"
   ]
  },
  {
   "cell_type": "code",
   "execution_count": 168,
   "metadata": {},
   "outputs": [
    {
     "data": {
      "text/plain": [
       "'Lerner'"
      ]
     },
     "execution_count": 168,
     "metadata": {},
     "output_type": "execute_result"
    }
   ],
   "source": [
    "p[1]"
   ]
  },
  {
   "cell_type": "code",
   "execution_count": 169,
   "metadata": {},
   "outputs": [
    {
     "data": {
      "text/plain": [
       "46"
      ]
     },
     "execution_count": 169,
     "metadata": {},
     "output_type": "execute_result"
    }
   ],
   "source": [
    "p[2]"
   ]
  },
  {
   "cell_type": "code",
   "execution_count": 170,
   "metadata": {},
   "outputs": [
    {
     "ename": "AttributeError",
     "evalue": "can't set attribute",
     "output_type": "error",
     "traceback": [
      "\u001b[0;31m---------------------------------------------------------------------------\u001b[0m",
      "\u001b[0;31mAttributeError\u001b[0m                            Traceback (most recent call last)",
      "Input \u001b[0;32mIn [170]\u001b[0m, in \u001b[0;36m<cell line: 1>\u001b[0;34m()\u001b[0m\n\u001b[0;32m----> 1\u001b[0m p\u001b[38;5;241m.\u001b[39mfirst \u001b[38;5;241m=\u001b[39m \u001b[38;5;124m'\u001b[39m\u001b[38;5;124masfsafafa\u001b[39m\u001b[38;5;124m'\u001b[39m\n",
      "\u001b[0;31mAttributeError\u001b[0m: can't set attribute"
     ]
    }
   ],
   "source": [
    "p.first = 'asfsafafa'"
   ]
  },
  {
   "cell_type": "code",
   "execution_count": 172,
   "metadata": {},
   "outputs": [
    {
     "data": {
      "text/plain": [
       "Person(first='asdfafaa', last='Lerner', shoesize=46)"
      ]
     },
     "execution_count": 172,
     "metadata": {},
     "output_type": "execute_result"
    }
   ],
   "source": [
    "# returns a new Person object, with the requested changes\n",
    "\n",
    "p._replace(first='asdfafaa')"
   ]
  },
  {
   "cell_type": "code",
   "execution_count": 175,
   "metadata": {},
   "outputs": [],
   "source": [
    "x = 100\n",
    "y = [10, 20, 30, 987]"
   ]
  },
  {
   "cell_type": "code",
   "execution_count": 176,
   "metadata": {
    "scrolled": true
   },
   "outputs": [
    {
     "data": {
      "text/plain": [
       "{'__name__': '__main__',\n",
       " '__doc__': 'Automatically created module for IPython interactive environment',\n",
       " '__package__': None,\n",
       " '__loader__': None,\n",
       " '__spec__': None,\n",
       " '__builtin__': <module 'builtins' (built-in)>,\n",
       " '__builtins__': <module 'builtins' (built-in)>,\n",
       " '_ih': ['',\n",
       "  'x = None',\n",
       "  'type(x)',\n",
       "  \"if x == None:\\n    print('Yes, it is None!')\",\n",
       "  \"if x == None:   # not Pythonic\\n    print('Yes, it is None!')\",\n",
       "  \"if x is None:\\n    print('Yes, it is None!')\",\n",
       "  \"if x is None:   # Pythonic!\\n    print('Yes, it is None!')\",\n",
       "  '# what does is do?\\n\\nid(x)',\n",
       "  'id(None)',\n",
       "  \"if id(x) == id(None):   # same as saying x is None\\n    print('yes!')\",\n",
       "  'x = 5\\ny = 5\\n\\nx == y',\n",
       "  'x is y',\n",
       "  'x = 5000\\ny = 5000\\n\\nx == y',\n",
       "  'x is y',\n",
       "  \"x = 'abcd'\\ny = 'abcd'\\n\\nx == y\",\n",
       "  'x is y',\n",
       "  \"x = 'abcd' * 100_000\\ny = 'abcd' * 100_000\\n\\nx == y\",\n",
       "  'x is y',\n",
       "  \"x = 'a.b'\\ny = 'a.b'\\n\\nx == y\",\n",
       "  'x is y',\n",
       "  'import sys\\n\\nx = 0\\nsys.getsizeof(x)',\n",
       "  'x = 1\\nsys.getsizeof(x)',\n",
       "  'x = 100_000_000_000_000\\nsys.getsizeof(x)',\n",
       "  'x = 10\\ny = 3\\n\\nx + y',\n",
       "  'x - y',\n",
       "  'x * y',\n",
       "  'x / y',\n",
       "  'x / y  # always returns a float',\n",
       "  'x / y  # always returns a float -- truediv',\n",
       "  'x // y   # this returns an integer -- floordiv',\n",
       "  'x ** y  ',\n",
       "  'x % y',\n",
       "  'x = 10\\nx += 1   #  x = x + 1',\n",
       "  'x',\n",
       "  '0x12345',\n",
       "  \"s = '12345'\\nint(s)   # returns a new int, based on s\",\n",
       "  'int(s, 16)   # returns a new int, based on s, seeing s as hex',\n",
       "  '0b101011',\n",
       "  '012345',\n",
       "  '0o12345  # Octal ',\n",
       "  '0o12345  # Octal ',\n",
       "  'x = 10\\ny = x\\n\\nx = 20\\ny',\n",
       "  'x = 10.5\\ntype(x)',\n",
       "  'int(x)',\n",
       "  'x',\n",
       "  'x = int(x)',\n",
       "  'x',\n",
       "  'x = float(x)\\nx',\n",
       "  '0.1 + 0.2 ',\n",
       "  \"s = 'abcdefghijklmnopqrstuvwxyz'\\nlen(s)\",\n",
       "  's[0]',\n",
       "  's[1]',\n",
       "  's[2]',\n",
       "  's[len(s)-1]',\n",
       "  's[-1]',\n",
       "  's[-2]',\n",
       "  's[30]',\n",
       "  's[-30]',\n",
       "  's',\n",
       "  '# slice\\n\\ns[10:20]   # from 10 until (not including) 20',\n",
       "  's[5:25]',\n",
       "  's[:15]   # from the start, until (not including) 15',\n",
       "  's[15:]   # from 15, through the end',\n",
       "  's[3:22:2]   # from 3, until (not including) 22, step size 2',\n",
       "  's[::2]   # from the start, to the end, step size 2',\n",
       "  's[::-1]  ',\n",
       "  's',\n",
       "  \"s[0] = '!'   # let's change the alphabet!\",\n",
       "  \"s = 'abcd'\\ns += 'efgh'\\n\\ns\",\n",
       "  \"s = 'abcd'\\nprint(id(s))\\ns += 'efgh'\\nprint(id(s))\\ns\",\n",
       "  \"s = 'aBcD eFgH'\\ns.lower()\",\n",
       "  's.upper()',\n",
       "  's.swapcase()',\n",
       "  's.casefold()',\n",
       "  \"s = 'abcd'\\nlen(s)\",\n",
       "  \"s = 'שלום'\\nlen(s)\",\n",
       "  \"s = '你好'\\nlen(s)\",\n",
       "  's.encode()   # this returns a bytestring, based on the string s',\n",
       "  \"s = 'שלום'\\ns.encode()\",\n",
       "  's[1:]',\n",
       "  's.encode()[1:]',\n",
       "  '# try to return the final 7 bytes to a string \\ns.encode()[1:].decode()',\n",
       "  \"name = input('Enter your name: ')\\nprint(f'Hello, {name}!')   # f-string (format string / fancy string)\",\n",
       "  \"name = input('Enter your name: ')\\nprint(f'Hello, {name}!')   # f-string (format string / fancy string)\",\n",
       "  'name.strip()   # returns a new string, without whitespace on the edges',\n",
       "  \"name = input('Enter your name: ').strip()\\nprint(f'Hello, {name}!')   # f-string (format string / fancy string)\",\n",
       "  \"first = input('First number: ').strip()\\nsecond = input('Second number: ').strip()\\n\\nfirst = int(first)\\nsecond = int(second)\\n\\nif first < second:\\n    print(f'{first} comes before {second}')\\nelif second < first:\\n    print(f'{second} comes before {first}') \\nelse:\\n    print(f'{first} and {second} are the same')\",\n",
       "  \"first = input('First number: ').strip()\\nsecond = input('Second number: ').strip()\\n\\nfirst = int(first)\\nsecond = int(second)\\n\\nif first < second:\\n    print(f'{first} comes before {second}')\\nelif second < first:\\n    print(f'{second} comes before {first}') \\nelse:\\n    print(f'{first} and {second} are the same')\",\n",
       "  \"first = input('First number: ').strip()\\nsecond = input('Second number: ').strip()\\n\\nfirst = int(first)\\nsecond = int(second)\\n\\nif first < second:\\n    print(f'{first} comes before {second}')\\nelif second < first:\\n    print(f'{second} comes before {first}') \\nelse:\\n    print(f'{first} and {second} are the same')\",\n",
       "  \"first = input('First word: ').strip()\\nsecond = input('Second word: ').strip()\\n\\nif first < second:\\n    print(f'{first} comes before {second}')\\nelif second < first:\\n    print(f'{second} comes before {first}') \\nelse:\\n    print(f'{first} and {second} are the same')\",\n",
       "  \"first = input('First word: ').strip()\\nsecond = input('Second word: ').strip()\\n\\nif first < second:\\n    print(f'{first} comes before {second}')\\nelif second < first:\\n    print(f'{second} comes before {first}') \\nelse:\\n    print(f'{first} and {second} are the same')\",\n",
       "  \"first = input('First word: ').strip()\\nsecond = input('Second word: ').strip()\\n\\nif first < second:\\n    print(f'{first} comes before {second}')\\nelif second < first:\\n    print(f'{second} comes before {first}') \\nelse:\\n    print(f'{first} and {second} are the same')\",\n",
       "  \"first = input('First word: ').strip()\\nsecond = input('Second word: ').strip()\\n\\nif first.casefold() < second.casefold():\\n    print(f'{first} comes before {second}')\\nelif second.casefold() < first.casefold():\\n    print(f'{second} comes before {first}') \\nelse:\\n    print(f'{first} and {second} are the same')\",\n",
       "  '# sequence -- string, list tuple\\n# so they do a lot of the same things!\\n\\nmylist = [10, 20, 30, 40, 50, 60, 70, 80]',\n",
       "  'len(mylist)',\n",
       "  'mylist[0]',\n",
       "  'mylist[1]',\n",
       "  'mylist[-1]',\n",
       "  '# sequence -- string, list tuple\\n# so they do a lot of the same things!\\n\\nmylist = [10, 20, 30, 40, 50, 60, 70, 80]',\n",
       "  'len(mylist)',\n",
       "  'mylist[0]',\n",
       "  'mylist[1]',\n",
       "  'mylist[-1]',\n",
       "  'biglist = [mylist, mylist, mylist]\\nbiglist',\n",
       "  'mylist = [10, 20, 30]\\nbiglist = [mylist, mylist, mylist]\\nbiglist',\n",
       "  'len(biglist)',\n",
       "  \"mylist[0] = '!'  \",\n",
       "  'mylist',\n",
       "  \"mylist[0] = '!'    # lists are mutable!\",\n",
       "  'mylist',\n",
       "  'biglist',\n",
       "  'mylist = [10, 20, 30]\\n\\nmylist.append(40)\\nmylist.append(50)\\n\\nmylist',\n",
       "  'mylist.append([60, 70, 80])\\nmylist',\n",
       "  'mylist.pop()   # removes + returns the final element',\n",
       "  'mylist',\n",
       "  'mylist = mylist.append(60)',\n",
       "  'print(mylist)',\n",
       "  \"s = 'abcd efgh ijkl'\\n\\ns.split()   # returns a list of strings\",\n",
       "  \"s.spplit('h')\",\n",
       "  \"s.split('h')\",\n",
       "  \"s.split('!')\",\n",
       "  \"words = 'this is a bunch of words for my course'.split()\\nwords\",\n",
       "  \"# str.join returns a string\\n\\n' '.join(words)\",\n",
       "  \"'*'.join(words)\",\n",
       "  \"'*'.join('abcde')\",\n",
       "  '# tuples\\n\\nt = (10, 20, 30)\\ntype(t)',\n",
       "  't = (10, 20)\\ntype(t)',\n",
       "  't = (10)\\ntype(t)',\n",
       "  't = ()\\ntype(t)',\n",
       "  't = (10)  # t = (10,)\\ntype(t)',\n",
       "  't = (10,)  \\ntype(t)',\n",
       "  'mylist = []\\nsys.getsizeof(mylist)',\n",
       "  'mylist = [10, 20, 30]\\nsys.getsizeof(mylist)',\n",
       "  't = (10, 20, 30)\\nsys.getsizeof(t)',\n",
       "  'mylist = [10, 20, 30]\\nx = mylist\\n\\nx',\n",
       "  'x,y,z = mylist',\n",
       "  '# tuple unpacking\\n\\nx,y,z = mylist',\n",
       "  'x',\n",
       "  'u',\n",
       "  'y',\n",
       "  'z',\n",
       "  'x,y = mylist',\n",
       "  'mylist = [10, 20, 30]\\n\\nfirst, _, last = mylist',\n",
       "  'mylist = [10, 20, 30, 40]\\n\\nfirst, _, _, last = mylist',\n",
       "  'first',\n",
       "  'last',\n",
       "  'first, *middle, last = mylist',\n",
       "  '# *middle means: middle will be a list!\\n\\nfirst, *middle, last = mylist',\n",
       "  'first',\n",
       "  'middle',\n",
       "  'last',\n",
       "  'first, *_, last = mylist',\n",
       "  '_',\n",
       "  't = ([10, 20, 30], \\n    [40, 50, 60])\\n\\nt',\n",
       "  't[0].append(31)',\n",
       "  't',\n",
       "  't[0] += [40, 50, 60]',\n",
       "  't',\n",
       "  \"p = ('Reuven', 'Lerner', 46)\\n\\np[0]\",\n",
       "  'p[1]',\n",
       "  'p[2]',\n",
       "  \"from collections import namedtuple\\n\\nPerson = namedtuple('Person', 'first last shoesize')\",\n",
       "  \"p = Person('Reuven', 'Lerner', 46)\",\n",
       "  'p.first',\n",
       "  'p.last',\n",
       "  'p.shoesize',\n",
       "  'Person.__bases__ # who does Person inherit from?',\n",
       "  'p[0]',\n",
       "  'p[1]',\n",
       "  'p[2]',\n",
       "  \"p.first = 'asfsafafa'\",\n",
       "  \"p._replace(first='asdfafaa')\",\n",
       "  \"# returns a new Person object, with the requested changes\\n\\np._replace(first='asdfafaa')\",\n",
       "  'x = 100\\ny = [10, 20, 30]',\n",
       "  'globals()',\n",
       "  'x = 100\\ny = [10, 20, 30, 987]',\n",
       "  'globals()'],\n",
       " '_oh': {2: NoneType,\n",
       "  7: 4501920112,\n",
       "  8: 4501920112,\n",
       "  10: True,\n",
       "  11: True,\n",
       "  12: True,\n",
       "  13: False,\n",
       "  14: True,\n",
       "  15: True,\n",
       "  16: True,\n",
       "  17: False,\n",
       "  18: True,\n",
       "  19: False,\n",
       "  20: 24,\n",
       "  21: 28,\n",
       "  22: 32,\n",
       "  23: 13,\n",
       "  24: 7,\n",
       "  25: 30,\n",
       "  26: 3.3333333333333335,\n",
       "  27: 3.3333333333333335,\n",
       "  28: 3.3333333333333335,\n",
       "  29: 3,\n",
       "  30: 1000,\n",
       "  31: 1,\n",
       "  33: 11,\n",
       "  34: 74565,\n",
       "  35: 12345,\n",
       "  36: 74565,\n",
       "  37: 43,\n",
       "  39: 5349,\n",
       "  40: 5349,\n",
       "  41: 10,\n",
       "  42: float,\n",
       "  43: 10,\n",
       "  44: 10.5,\n",
       "  46: 10,\n",
       "  47: 10.0,\n",
       "  48: 0.30000000000000004,\n",
       "  49: 26,\n",
       "  50: 'a',\n",
       "  51: 'b',\n",
       "  52: 'c',\n",
       "  53: 'z',\n",
       "  54: 'z',\n",
       "  55: 'y',\n",
       "  58: 'abcdefghijklmnopqrstuvwxyz',\n",
       "  59: 'klmnopqrst',\n",
       "  60: 'fghijklmnopqrstuvwxy',\n",
       "  61: 'abcdefghijklmno',\n",
       "  62: 'pqrstuvwxyz',\n",
       "  63: 'dfhjlnprtv',\n",
       "  64: 'acegikmoqsuwy',\n",
       "  65: 'zyxwvutsrqponmlkjihgfedcba',\n",
       "  66: 'abcdefghijklmnopqrstuvwxyz',\n",
       "  68: 'abcdefgh',\n",
       "  69: 'abcdefgh',\n",
       "  70: 'abcd efgh',\n",
       "  71: 'ABCD EFGH',\n",
       "  72: 'AbCd EfGh',\n",
       "  73: 'abcd efgh',\n",
       "  74: 4,\n",
       "  75: 4,\n",
       "  76: 2,\n",
       "  77: b'\\xe4\\xbd\\xa0\\xe5\\xa5\\xbd',\n",
       "  78: b'\\xd7\\xa9\\xd7\\x9c\\xd7\\x95\\xd7\\x9d',\n",
       "  79: 'לום',\n",
       "  80: b'\\xa9\\xd7\\x9c\\xd7\\x95\\xd7\\x9d',\n",
       "  84: 'Reuven',\n",
       "  94: 8,\n",
       "  95: 10,\n",
       "  96: 20,\n",
       "  97: 80,\n",
       "  99: 8,\n",
       "  100: 10,\n",
       "  101: 20,\n",
       "  102: 80,\n",
       "  103: [[10, 20, 30, 40, 50, 60, 70, 80],\n",
       "   [10, 20, 30, 40, 50, 60, 70, 80],\n",
       "   [10, 20, 30, 40, 50, 60, 70, 80]],\n",
       "  104: [['!', 20, 30], ['!', 20, 30], ['!', 20, 30]],\n",
       "  105: 3,\n",
       "  107: ['!', 20, 30],\n",
       "  109: ['!', 20, 30],\n",
       "  110: [['!', 20, 30], ['!', 20, 30], ['!', 20, 30]],\n",
       "  111: [10, 20, 30, 40, 50, 60],\n",
       "  112: [10, 20, 30, 40, 50, 60],\n",
       "  113: [60, 70, 80],\n",
       "  114: [10, 20, 30, 40, 50, 60],\n",
       "  117: ['abcd', 'efgh', 'ijkl'],\n",
       "  119: ['abcd efg', ' ijkl'],\n",
       "  120: ['abcd efgh ijkl'],\n",
       "  121: ['this', 'is', 'a', 'bunch', 'of', 'words', 'for', 'my', 'course'],\n",
       "  122: 'this is a bunch of words for my course',\n",
       "  123: 'this*is*a*bunch*of*words*for*my*course',\n",
       "  124: 'a*b*c*d*e',\n",
       "  125: tuple,\n",
       "  126: tuple,\n",
       "  127: int,\n",
       "  128: tuple,\n",
       "  129: int,\n",
       "  130: tuple,\n",
       "  131: 56,\n",
       "  132: 88,\n",
       "  133: 64,\n",
       "  134: [10, 20, 30],\n",
       "  137: 10,\n",
       "  139: 20,\n",
       "  140: 30,\n",
       "  144: 10,\n",
       "  145: 40,\n",
       "  148: 10,\n",
       "  149: [20, 30],\n",
       "  150: 40,\n",
       "  152: [20, 30],\n",
       "  153: ([10, 20, 30, 31, 40, 50, 60], [40, 50, 60]),\n",
       "  155: ([10, 20, 30, 31, 40, 50, 60], [40, 50, 60]),\n",
       "  157: ([10, 20, 30, 31, 40, 50, 60], [40, 50, 60]),\n",
       "  158: 'Reuven',\n",
       "  159: 'Lerner',\n",
       "  160: 46,\n",
       "  163: 'Reuven',\n",
       "  164: 'Lerner',\n",
       "  165: 46,\n",
       "  166: (tuple,),\n",
       "  167: 'Reuven',\n",
       "  168: 'Lerner',\n",
       "  169: 46,\n",
       "  171: Person(first='asdfafaa', last='Lerner', shoesize=46),\n",
       "  172: Person(first='asdfafaa', last='Lerner', shoesize=46),\n",
       "  174: {...}},\n",
       " '_dh': [PosixPath('/Users/reuven/Courses/Current/bezeq-2022-09Sept-advanced')],\n",
       " 'In': ['',\n",
       "  'x = None',\n",
       "  'type(x)',\n",
       "  \"if x == None:\\n    print('Yes, it is None!')\",\n",
       "  \"if x == None:   # not Pythonic\\n    print('Yes, it is None!')\",\n",
       "  \"if x is None:\\n    print('Yes, it is None!')\",\n",
       "  \"if x is None:   # Pythonic!\\n    print('Yes, it is None!')\",\n",
       "  '# what does is do?\\n\\nid(x)',\n",
       "  'id(None)',\n",
       "  \"if id(x) == id(None):   # same as saying x is None\\n    print('yes!')\",\n",
       "  'x = 5\\ny = 5\\n\\nx == y',\n",
       "  'x is y',\n",
       "  'x = 5000\\ny = 5000\\n\\nx == y',\n",
       "  'x is y',\n",
       "  \"x = 'abcd'\\ny = 'abcd'\\n\\nx == y\",\n",
       "  'x is y',\n",
       "  \"x = 'abcd' * 100_000\\ny = 'abcd' * 100_000\\n\\nx == y\",\n",
       "  'x is y',\n",
       "  \"x = 'a.b'\\ny = 'a.b'\\n\\nx == y\",\n",
       "  'x is y',\n",
       "  'import sys\\n\\nx = 0\\nsys.getsizeof(x)',\n",
       "  'x = 1\\nsys.getsizeof(x)',\n",
       "  'x = 100_000_000_000_000\\nsys.getsizeof(x)',\n",
       "  'x = 10\\ny = 3\\n\\nx + y',\n",
       "  'x - y',\n",
       "  'x * y',\n",
       "  'x / y',\n",
       "  'x / y  # always returns a float',\n",
       "  'x / y  # always returns a float -- truediv',\n",
       "  'x // y   # this returns an integer -- floordiv',\n",
       "  'x ** y  ',\n",
       "  'x % y',\n",
       "  'x = 10\\nx += 1   #  x = x + 1',\n",
       "  'x',\n",
       "  '0x12345',\n",
       "  \"s = '12345'\\nint(s)   # returns a new int, based on s\",\n",
       "  'int(s, 16)   # returns a new int, based on s, seeing s as hex',\n",
       "  '0b101011',\n",
       "  '012345',\n",
       "  '0o12345  # Octal ',\n",
       "  '0o12345  # Octal ',\n",
       "  'x = 10\\ny = x\\n\\nx = 20\\ny',\n",
       "  'x = 10.5\\ntype(x)',\n",
       "  'int(x)',\n",
       "  'x',\n",
       "  'x = int(x)',\n",
       "  'x',\n",
       "  'x = float(x)\\nx',\n",
       "  '0.1 + 0.2 ',\n",
       "  \"s = 'abcdefghijklmnopqrstuvwxyz'\\nlen(s)\",\n",
       "  's[0]',\n",
       "  's[1]',\n",
       "  's[2]',\n",
       "  's[len(s)-1]',\n",
       "  's[-1]',\n",
       "  's[-2]',\n",
       "  's[30]',\n",
       "  's[-30]',\n",
       "  's',\n",
       "  '# slice\\n\\ns[10:20]   # from 10 until (not including) 20',\n",
       "  's[5:25]',\n",
       "  's[:15]   # from the start, until (not including) 15',\n",
       "  's[15:]   # from 15, through the end',\n",
       "  's[3:22:2]   # from 3, until (not including) 22, step size 2',\n",
       "  's[::2]   # from the start, to the end, step size 2',\n",
       "  's[::-1]  ',\n",
       "  's',\n",
       "  \"s[0] = '!'   # let's change the alphabet!\",\n",
       "  \"s = 'abcd'\\ns += 'efgh'\\n\\ns\",\n",
       "  \"s = 'abcd'\\nprint(id(s))\\ns += 'efgh'\\nprint(id(s))\\ns\",\n",
       "  \"s = 'aBcD eFgH'\\ns.lower()\",\n",
       "  's.upper()',\n",
       "  's.swapcase()',\n",
       "  's.casefold()',\n",
       "  \"s = 'abcd'\\nlen(s)\",\n",
       "  \"s = 'שלום'\\nlen(s)\",\n",
       "  \"s = '你好'\\nlen(s)\",\n",
       "  's.encode()   # this returns a bytestring, based on the string s',\n",
       "  \"s = 'שלום'\\ns.encode()\",\n",
       "  's[1:]',\n",
       "  's.encode()[1:]',\n",
       "  '# try to return the final 7 bytes to a string \\ns.encode()[1:].decode()',\n",
       "  \"name = input('Enter your name: ')\\nprint(f'Hello, {name}!')   # f-string (format string / fancy string)\",\n",
       "  \"name = input('Enter your name: ')\\nprint(f'Hello, {name}!')   # f-string (format string / fancy string)\",\n",
       "  'name.strip()   # returns a new string, without whitespace on the edges',\n",
       "  \"name = input('Enter your name: ').strip()\\nprint(f'Hello, {name}!')   # f-string (format string / fancy string)\",\n",
       "  \"first = input('First number: ').strip()\\nsecond = input('Second number: ').strip()\\n\\nfirst = int(first)\\nsecond = int(second)\\n\\nif first < second:\\n    print(f'{first} comes before {second}')\\nelif second < first:\\n    print(f'{second} comes before {first}') \\nelse:\\n    print(f'{first} and {second} are the same')\",\n",
       "  \"first = input('First number: ').strip()\\nsecond = input('Second number: ').strip()\\n\\nfirst = int(first)\\nsecond = int(second)\\n\\nif first < second:\\n    print(f'{first} comes before {second}')\\nelif second < first:\\n    print(f'{second} comes before {first}') \\nelse:\\n    print(f'{first} and {second} are the same')\",\n",
       "  \"first = input('First number: ').strip()\\nsecond = input('Second number: ').strip()\\n\\nfirst = int(first)\\nsecond = int(second)\\n\\nif first < second:\\n    print(f'{first} comes before {second}')\\nelif second < first:\\n    print(f'{second} comes before {first}') \\nelse:\\n    print(f'{first} and {second} are the same')\",\n",
       "  \"first = input('First word: ').strip()\\nsecond = input('Second word: ').strip()\\n\\nif first < second:\\n    print(f'{first} comes before {second}')\\nelif second < first:\\n    print(f'{second} comes before {first}') \\nelse:\\n    print(f'{first} and {second} are the same')\",\n",
       "  \"first = input('First word: ').strip()\\nsecond = input('Second word: ').strip()\\n\\nif first < second:\\n    print(f'{first} comes before {second}')\\nelif second < first:\\n    print(f'{second} comes before {first}') \\nelse:\\n    print(f'{first} and {second} are the same')\",\n",
       "  \"first = input('First word: ').strip()\\nsecond = input('Second word: ').strip()\\n\\nif first < second:\\n    print(f'{first} comes before {second}')\\nelif second < first:\\n    print(f'{second} comes before {first}') \\nelse:\\n    print(f'{first} and {second} are the same')\",\n",
       "  \"first = input('First word: ').strip()\\nsecond = input('Second word: ').strip()\\n\\nif first.casefold() < second.casefold():\\n    print(f'{first} comes before {second}')\\nelif second.casefold() < first.casefold():\\n    print(f'{second} comes before {first}') \\nelse:\\n    print(f'{first} and {second} are the same')\",\n",
       "  '# sequence -- string, list tuple\\n# so they do a lot of the same things!\\n\\nmylist = [10, 20, 30, 40, 50, 60, 70, 80]',\n",
       "  'len(mylist)',\n",
       "  'mylist[0]',\n",
       "  'mylist[1]',\n",
       "  'mylist[-1]',\n",
       "  '# sequence -- string, list tuple\\n# so they do a lot of the same things!\\n\\nmylist = [10, 20, 30, 40, 50, 60, 70, 80]',\n",
       "  'len(mylist)',\n",
       "  'mylist[0]',\n",
       "  'mylist[1]',\n",
       "  'mylist[-1]',\n",
       "  'biglist = [mylist, mylist, mylist]\\nbiglist',\n",
       "  'mylist = [10, 20, 30]\\nbiglist = [mylist, mylist, mylist]\\nbiglist',\n",
       "  'len(biglist)',\n",
       "  \"mylist[0] = '!'  \",\n",
       "  'mylist',\n",
       "  \"mylist[0] = '!'    # lists are mutable!\",\n",
       "  'mylist',\n",
       "  'biglist',\n",
       "  'mylist = [10, 20, 30]\\n\\nmylist.append(40)\\nmylist.append(50)\\n\\nmylist',\n",
       "  'mylist.append([60, 70, 80])\\nmylist',\n",
       "  'mylist.pop()   # removes + returns the final element',\n",
       "  'mylist',\n",
       "  'mylist = mylist.append(60)',\n",
       "  'print(mylist)',\n",
       "  \"s = 'abcd efgh ijkl'\\n\\ns.split()   # returns a list of strings\",\n",
       "  \"s.spplit('h')\",\n",
       "  \"s.split('h')\",\n",
       "  \"s.split('!')\",\n",
       "  \"words = 'this is a bunch of words for my course'.split()\\nwords\",\n",
       "  \"# str.join returns a string\\n\\n' '.join(words)\",\n",
       "  \"'*'.join(words)\",\n",
       "  \"'*'.join('abcde')\",\n",
       "  '# tuples\\n\\nt = (10, 20, 30)\\ntype(t)',\n",
       "  't = (10, 20)\\ntype(t)',\n",
       "  't = (10)\\ntype(t)',\n",
       "  't = ()\\ntype(t)',\n",
       "  't = (10)  # t = (10,)\\ntype(t)',\n",
       "  't = (10,)  \\ntype(t)',\n",
       "  'mylist = []\\nsys.getsizeof(mylist)',\n",
       "  'mylist = [10, 20, 30]\\nsys.getsizeof(mylist)',\n",
       "  't = (10, 20, 30)\\nsys.getsizeof(t)',\n",
       "  'mylist = [10, 20, 30]\\nx = mylist\\n\\nx',\n",
       "  'x,y,z = mylist',\n",
       "  '# tuple unpacking\\n\\nx,y,z = mylist',\n",
       "  'x',\n",
       "  'u',\n",
       "  'y',\n",
       "  'z',\n",
       "  'x,y = mylist',\n",
       "  'mylist = [10, 20, 30]\\n\\nfirst, _, last = mylist',\n",
       "  'mylist = [10, 20, 30, 40]\\n\\nfirst, _, _, last = mylist',\n",
       "  'first',\n",
       "  'last',\n",
       "  'first, *middle, last = mylist',\n",
       "  '# *middle means: middle will be a list!\\n\\nfirst, *middle, last = mylist',\n",
       "  'first',\n",
       "  'middle',\n",
       "  'last',\n",
       "  'first, *_, last = mylist',\n",
       "  '_',\n",
       "  't = ([10, 20, 30], \\n    [40, 50, 60])\\n\\nt',\n",
       "  't[0].append(31)',\n",
       "  't',\n",
       "  't[0] += [40, 50, 60]',\n",
       "  't',\n",
       "  \"p = ('Reuven', 'Lerner', 46)\\n\\np[0]\",\n",
       "  'p[1]',\n",
       "  'p[2]',\n",
       "  \"from collections import namedtuple\\n\\nPerson = namedtuple('Person', 'first last shoesize')\",\n",
       "  \"p = Person('Reuven', 'Lerner', 46)\",\n",
       "  'p.first',\n",
       "  'p.last',\n",
       "  'p.shoesize',\n",
       "  'Person.__bases__ # who does Person inherit from?',\n",
       "  'p[0]',\n",
       "  'p[1]',\n",
       "  'p[2]',\n",
       "  \"p.first = 'asfsafafa'\",\n",
       "  \"p._replace(first='asdfafaa')\",\n",
       "  \"# returns a new Person object, with the requested changes\\n\\np._replace(first='asdfafaa')\",\n",
       "  'x = 100\\ny = [10, 20, 30]',\n",
       "  'globals()',\n",
       "  'x = 100\\ny = [10, 20, 30, 987]',\n",
       "  'globals()'],\n",
       " 'Out': {2: NoneType,\n",
       "  7: 4501920112,\n",
       "  8: 4501920112,\n",
       "  10: True,\n",
       "  11: True,\n",
       "  12: True,\n",
       "  13: False,\n",
       "  14: True,\n",
       "  15: True,\n",
       "  16: True,\n",
       "  17: False,\n",
       "  18: True,\n",
       "  19: False,\n",
       "  20: 24,\n",
       "  21: 28,\n",
       "  22: 32,\n",
       "  23: 13,\n",
       "  24: 7,\n",
       "  25: 30,\n",
       "  26: 3.3333333333333335,\n",
       "  27: 3.3333333333333335,\n",
       "  28: 3.3333333333333335,\n",
       "  29: 3,\n",
       "  30: 1000,\n",
       "  31: 1,\n",
       "  33: 11,\n",
       "  34: 74565,\n",
       "  35: 12345,\n",
       "  36: 74565,\n",
       "  37: 43,\n",
       "  39: 5349,\n",
       "  40: 5349,\n",
       "  41: 10,\n",
       "  42: float,\n",
       "  43: 10,\n",
       "  44: 10.5,\n",
       "  46: 10,\n",
       "  47: 10.0,\n",
       "  48: 0.30000000000000004,\n",
       "  49: 26,\n",
       "  50: 'a',\n",
       "  51: 'b',\n",
       "  52: 'c',\n",
       "  53: 'z',\n",
       "  54: 'z',\n",
       "  55: 'y',\n",
       "  58: 'abcdefghijklmnopqrstuvwxyz',\n",
       "  59: 'klmnopqrst',\n",
       "  60: 'fghijklmnopqrstuvwxy',\n",
       "  61: 'abcdefghijklmno',\n",
       "  62: 'pqrstuvwxyz',\n",
       "  63: 'dfhjlnprtv',\n",
       "  64: 'acegikmoqsuwy',\n",
       "  65: 'zyxwvutsrqponmlkjihgfedcba',\n",
       "  66: 'abcdefghijklmnopqrstuvwxyz',\n",
       "  68: 'abcdefgh',\n",
       "  69: 'abcdefgh',\n",
       "  70: 'abcd efgh',\n",
       "  71: 'ABCD EFGH',\n",
       "  72: 'AbCd EfGh',\n",
       "  73: 'abcd efgh',\n",
       "  74: 4,\n",
       "  75: 4,\n",
       "  76: 2,\n",
       "  77: b'\\xe4\\xbd\\xa0\\xe5\\xa5\\xbd',\n",
       "  78: b'\\xd7\\xa9\\xd7\\x9c\\xd7\\x95\\xd7\\x9d',\n",
       "  79: 'לום',\n",
       "  80: b'\\xa9\\xd7\\x9c\\xd7\\x95\\xd7\\x9d',\n",
       "  84: 'Reuven',\n",
       "  94: 8,\n",
       "  95: 10,\n",
       "  96: 20,\n",
       "  97: 80,\n",
       "  99: 8,\n",
       "  100: 10,\n",
       "  101: 20,\n",
       "  102: 80,\n",
       "  103: [[10, 20, 30, 40, 50, 60, 70, 80],\n",
       "   [10, 20, 30, 40, 50, 60, 70, 80],\n",
       "   [10, 20, 30, 40, 50, 60, 70, 80]],\n",
       "  104: [['!', 20, 30], ['!', 20, 30], ['!', 20, 30]],\n",
       "  105: 3,\n",
       "  107: ['!', 20, 30],\n",
       "  109: ['!', 20, 30],\n",
       "  110: [['!', 20, 30], ['!', 20, 30], ['!', 20, 30]],\n",
       "  111: [10, 20, 30, 40, 50, 60],\n",
       "  112: [10, 20, 30, 40, 50, 60],\n",
       "  113: [60, 70, 80],\n",
       "  114: [10, 20, 30, 40, 50, 60],\n",
       "  117: ['abcd', 'efgh', 'ijkl'],\n",
       "  119: ['abcd efg', ' ijkl'],\n",
       "  120: ['abcd efgh ijkl'],\n",
       "  121: ['this', 'is', 'a', 'bunch', 'of', 'words', 'for', 'my', 'course'],\n",
       "  122: 'this is a bunch of words for my course',\n",
       "  123: 'this*is*a*bunch*of*words*for*my*course',\n",
       "  124: 'a*b*c*d*e',\n",
       "  125: tuple,\n",
       "  126: tuple,\n",
       "  127: int,\n",
       "  128: tuple,\n",
       "  129: int,\n",
       "  130: tuple,\n",
       "  131: 56,\n",
       "  132: 88,\n",
       "  133: 64,\n",
       "  134: [10, 20, 30],\n",
       "  137: 10,\n",
       "  139: 20,\n",
       "  140: 30,\n",
       "  144: 10,\n",
       "  145: 40,\n",
       "  148: 10,\n",
       "  149: [20, 30],\n",
       "  150: 40,\n",
       "  152: [20, 30],\n",
       "  153: ([10, 20, 30, 31, 40, 50, 60], [40, 50, 60]),\n",
       "  155: ([10, 20, 30, 31, 40, 50, 60], [40, 50, 60]),\n",
       "  157: ([10, 20, 30, 31, 40, 50, 60], [40, 50, 60]),\n",
       "  158: 'Reuven',\n",
       "  159: 'Lerner',\n",
       "  160: 46,\n",
       "  163: 'Reuven',\n",
       "  164: 'Lerner',\n",
       "  165: 46,\n",
       "  166: (tuple,),\n",
       "  167: 'Reuven',\n",
       "  168: 'Lerner',\n",
       "  169: 46,\n",
       "  171: Person(first='asdfafaa', last='Lerner', shoesize=46),\n",
       "  172: Person(first='asdfafaa', last='Lerner', shoesize=46),\n",
       "  174: {...}},\n",
       " 'get_ipython': <bound method InteractiveShell.get_ipython of <ipykernel.zmqshell.ZMQInteractiveShell object at 0x10ebdce80>>,\n",
       " 'exit': <IPython.core.autocall.ZMQExitAutocall at 0x10ebde4a0>,\n",
       " 'quit': <IPython.core.autocall.ZMQExitAutocall at 0x10ebde4a0>,\n",
       " '_': [20, 30],\n",
       " '__': [20, 30],\n",
       " '___': 10,\n",
       " '_i': 'x = 100\\ny = [10, 20, 30, 987]',\n",
       " '_ii': 'globals()',\n",
       " '_iii': 'x = 100\\ny = [10, 20, 30]',\n",
       " '_i1': 'x = None',\n",
       " 'x': 100,\n",
       " '_i2': 'type(x)',\n",
       " '_2': NoneType,\n",
       " '_i3': \"if x == None:\\n    print('Yes, it is None!')\",\n",
       " '_i4': \"if x == None:   # not Pythonic\\n    print('Yes, it is None!')\",\n",
       " '_i5': \"if x is None:\\n    print('Yes, it is None!')\",\n",
       " '_i6': \"if x is None:   # Pythonic!\\n    print('Yes, it is None!')\",\n",
       " '_i7': '# what does is do?\\n\\nid(x)',\n",
       " '_7': 4501920112,\n",
       " '_i8': 'id(None)',\n",
       " '_8': 4501920112,\n",
       " '_i9': \"if id(x) == id(None):   # same as saying x is None\\n    print('yes!')\",\n",
       " '_i10': 'x = 5\\ny = 5\\n\\nx == y',\n",
       " 'y': [10, 20, 30, 987],\n",
       " '_10': True,\n",
       " '_i11': 'x is y',\n",
       " '_11': True,\n",
       " '_i12': 'x = 5000\\ny = 5000\\n\\nx == y',\n",
       " '_12': True,\n",
       " '_i13': 'x is y',\n",
       " '_13': False,\n",
       " '_i14': \"x = 'abcd'\\ny = 'abcd'\\n\\nx == y\",\n",
       " '_14': True,\n",
       " '_i15': 'x is y',\n",
       " '_15': True,\n",
       " '_i16': \"x = 'abcd' * 100_000\\ny = 'abcd' * 100_000\\n\\nx == y\",\n",
       " '_16': True,\n",
       " '_i17': 'x is y',\n",
       " '_17': False,\n",
       " '_i18': \"x = 'a.b'\\ny = 'a.b'\\n\\nx == y\",\n",
       " '_18': True,\n",
       " '_i19': 'x is y',\n",
       " '_19': False,\n",
       " '_i20': 'import sys\\n\\nx = 0\\nsys.getsizeof(x)',\n",
       " 'sys': <module 'sys' (built-in)>,\n",
       " '_20': 24,\n",
       " '_i21': 'x = 1\\nsys.getsizeof(x)',\n",
       " '_21': 28,\n",
       " '_i22': 'x = 100_000_000_000_000\\nsys.getsizeof(x)',\n",
       " '_22': 32,\n",
       " '_i23': 'x = 10\\ny = 3\\n\\nx + y',\n",
       " '_23': 13,\n",
       " '_i24': 'x - y',\n",
       " '_24': 7,\n",
       " '_i25': 'x * y',\n",
       " '_25': 30,\n",
       " '_i26': 'x / y',\n",
       " '_26': 3.3333333333333335,\n",
       " '_i27': 'x / y  # always returns a float',\n",
       " '_27': 3.3333333333333335,\n",
       " '_i28': 'x / y  # always returns a float -- truediv',\n",
       " '_28': 3.3333333333333335,\n",
       " '_i29': 'x // y   # this returns an integer -- floordiv',\n",
       " '_29': 3,\n",
       " '_i30': 'x ** y  ',\n",
       " '_30': 1000,\n",
       " '_i31': 'x % y',\n",
       " '_31': 1,\n",
       " '_i32': 'x = 10\\nx += 1   #  x = x + 1',\n",
       " '_i33': 'x',\n",
       " '_33': 11,\n",
       " '_i34': '0x12345',\n",
       " '_34': 74565,\n",
       " '_i35': \"s = '12345'\\nint(s)   # returns a new int, based on s\",\n",
       " 's': 'abcd efgh ijkl',\n",
       " '_35': 12345,\n",
       " '_i36': 'int(s, 16)   # returns a new int, based on s, seeing s as hex',\n",
       " '_36': 74565,\n",
       " '_i37': '0b101011',\n",
       " '_37': 43,\n",
       " '_i38': '012345',\n",
       " '_i39': '0o12345  # Octal ',\n",
       " '_39': 5349,\n",
       " '_i40': '0o12345  # Octal ',\n",
       " '_40': 5349,\n",
       " '_i41': 'x = 10\\ny = x\\n\\nx = 20\\ny',\n",
       " '_41': 10,\n",
       " '_i42': 'x = 10.5\\ntype(x)',\n",
       " '_42': float,\n",
       " '_i43': 'int(x)',\n",
       " '_43': 10,\n",
       " '_i44': 'x',\n",
       " '_44': 10.5,\n",
       " '_i45': 'x = int(x)',\n",
       " '_i46': 'x',\n",
       " '_46': 10,\n",
       " '_i47': 'x = float(x)\\nx',\n",
       " '_47': 10.0,\n",
       " '_i48': '0.1 + 0.2 ',\n",
       " '_48': 0.30000000000000004,\n",
       " '_i49': \"s = 'abcdefghijklmnopqrstuvwxyz'\\nlen(s)\",\n",
       " '_49': 26,\n",
       " '_i50': 's[0]',\n",
       " '_50': 'a',\n",
       " '_i51': 's[1]',\n",
       " '_51': 'b',\n",
       " '_i52': 's[2]',\n",
       " '_52': 'c',\n",
       " '_i53': 's[len(s)-1]',\n",
       " '_53': 'z',\n",
       " '_i54': 's[-1]',\n",
       " '_54': 'z',\n",
       " '_i55': 's[-2]',\n",
       " '_55': 'y',\n",
       " '_i56': 's[30]',\n",
       " '_i57': 's[-30]',\n",
       " '_i58': 's',\n",
       " '_58': 'abcdefghijklmnopqrstuvwxyz',\n",
       " '_i59': '# slice\\n\\ns[10:20]   # from 10 until (not including) 20',\n",
       " '_59': 'klmnopqrst',\n",
       " '_i60': 's[5:25]',\n",
       " '_60': 'fghijklmnopqrstuvwxy',\n",
       " '_i61': 's[:15]   # from the start, until (not including) 15',\n",
       " '_61': 'abcdefghijklmno',\n",
       " '_i62': 's[15:]   # from 15, through the end',\n",
       " '_62': 'pqrstuvwxyz',\n",
       " '_i63': 's[3:22:2]   # from 3, until (not including) 22, step size 2',\n",
       " '_63': 'dfhjlnprtv',\n",
       " '_i64': 's[::2]   # from the start, to the end, step size 2',\n",
       " '_64': 'acegikmoqsuwy',\n",
       " '_i65': 's[::-1]  ',\n",
       " '_65': 'zyxwvutsrqponmlkjihgfedcba',\n",
       " '_i66': 's',\n",
       " '_66': 'abcdefghijklmnopqrstuvwxyz',\n",
       " '_i67': \"s[0] = '!'   # let's change the alphabet!\",\n",
       " '_i68': \"s = 'abcd'\\ns += 'efgh'\\n\\ns\",\n",
       " '_68': 'abcdefgh',\n",
       " '_i69': \"s = 'abcd'\\nprint(id(s))\\ns += 'efgh'\\nprint(id(s))\\ns\",\n",
       " '_69': 'abcdefgh',\n",
       " '_i70': \"s = 'aBcD eFgH'\\ns.lower()\",\n",
       " '_70': 'abcd efgh',\n",
       " '_i71': 's.upper()',\n",
       " '_71': 'ABCD EFGH',\n",
       " '_i72': 's.swapcase()',\n",
       " '_72': 'AbCd EfGh',\n",
       " '_i73': 's.casefold()',\n",
       " '_73': 'abcd efgh',\n",
       " '_i74': \"s = 'abcd'\\nlen(s)\",\n",
       " '_74': 4,\n",
       " '_i75': \"s = 'שלום'\\nlen(s)\",\n",
       " '_75': 4,\n",
       " '_i76': \"s = '你好'\\nlen(s)\",\n",
       " '_76': 2,\n",
       " '_i77': 's.encode()   # this returns a bytestring, based on the string s',\n",
       " '_77': b'\\xe4\\xbd\\xa0\\xe5\\xa5\\xbd',\n",
       " '_i78': \"s = 'שלום'\\ns.encode()\",\n",
       " '_78': b'\\xd7\\xa9\\xd7\\x9c\\xd7\\x95\\xd7\\x9d',\n",
       " '_i79': 's[1:]',\n",
       " '_79': 'לום',\n",
       " '_i80': 's.encode()[1:]',\n",
       " '_80': b'\\xa9\\xd7\\x9c\\xd7\\x95\\xd7\\x9d',\n",
       " '_i81': '# try to return the final 7 bytes to a string \\ns.encode()[1:].decode()',\n",
       " '_i82': \"name = input('Enter your name: ')\\nprint(f'Hello, {name}!')   # f-string (format string / fancy string)\",\n",
       " 'name': 'Reuven',\n",
       " '_i83': \"name = input('Enter your name: ')\\nprint(f'Hello, {name}!')   # f-string (format string / fancy string)\",\n",
       " '_i84': 'name.strip()   # returns a new string, without whitespace on the edges',\n",
       " '_84': 'Reuven',\n",
       " '_i85': \"name = input('Enter your name: ').strip()\\nprint(f'Hello, {name}!')   # f-string (format string / fancy string)\",\n",
       " '_i86': \"first = input('First number: ').strip()\\nsecond = input('Second number: ').strip()\\n\\nfirst = int(first)\\nsecond = int(second)\\n\\nif first < second:\\n    print(f'{first} comes before {second}')\\nelif second < first:\\n    print(f'{second} comes before {first}') \\nelse:\\n    print(f'{first} and {second} are the same')\",\n",
       " 'first': 10,\n",
       " 'second': 'cab',\n",
       " '_i87': \"first = input('First number: ').strip()\\nsecond = input('Second number: ').strip()\\n\\nfirst = int(first)\\nsecond = int(second)\\n\\nif first < second:\\n    print(f'{first} comes before {second}')\\nelif second < first:\\n    print(f'{second} comes before {first}') \\nelse:\\n    print(f'{first} and {second} are the same')\",\n",
       " '_i88': \"first = input('First number: ').strip()\\nsecond = input('Second number: ').strip()\\n\\nfirst = int(first)\\nsecond = int(second)\\n\\nif first < second:\\n    print(f'{first} comes before {second}')\\nelif second < first:\\n    print(f'{second} comes before {first}') \\nelse:\\n    print(f'{first} and {second} are the same')\",\n",
       " '_i89': \"first = input('First word: ').strip()\\nsecond = input('Second word: ').strip()\\n\\nif first < second:\\n    print(f'{first} comes before {second}')\\nelif second < first:\\n    print(f'{second} comes before {first}') \\nelse:\\n    print(f'{first} and {second} are the same')\",\n",
       " '_i90': \"first = input('First word: ').strip()\\nsecond = input('Second word: ').strip()\\n\\nif first < second:\\n    print(f'{first} comes before {second}')\\nelif second < first:\\n    print(f'{second} comes before {first}') \\nelse:\\n    print(f'{first} and {second} are the same')\",\n",
       " '_i91': \"first = input('First word: ').strip()\\nsecond = input('Second word: ').strip()\\n\\nif first < second:\\n    print(f'{first} comes before {second}')\\nelif second < first:\\n    print(f'{second} comes before {first}') \\nelse:\\n    print(f'{first} and {second} are the same')\",\n",
       " '_i92': \"first = input('First word: ').strip()\\nsecond = input('Second word: ').strip()\\n\\nif first.casefold() < second.casefold():\\n    print(f'{first} comes before {second}')\\nelif second.casefold() < first.casefold():\\n    print(f'{second} comes before {first}') \\nelse:\\n    print(f'{first} and {second} are the same')\",\n",
       " '_i93': '# sequence -- string, list tuple\\n# so they do a lot of the same things!\\n\\nmylist = [10, 20, 30, 40, 50, 60, 70, 80]',\n",
       " 'mylist': [10, 20, 30, 40],\n",
       " '_i94': 'len(mylist)',\n",
       " '_94': 8,\n",
       " '_i95': 'mylist[0]',\n",
       " '_95': 10,\n",
       " '_i96': 'mylist[1]',\n",
       " '_96': 20,\n",
       " '_i97': 'mylist[-1]',\n",
       " '_97': 80,\n",
       " '_i98': '# sequence -- string, list tuple\\n# so they do a lot of the same things!\\n\\nmylist = [10, 20, 30, 40, 50, 60, 70, 80]',\n",
       " '_i99': 'len(mylist)',\n",
       " '_99': 8,\n",
       " '_i100': 'mylist[0]',\n",
       " '_100': 10,\n",
       " '_i101': 'mylist[1]',\n",
       " '_101': 20,\n",
       " '_i102': 'mylist[-1]',\n",
       " '_102': 80,\n",
       " '_i103': 'biglist = [mylist, mylist, mylist]\\nbiglist',\n",
       " 'biglist': [['!', 20, 30], ['!', 20, 30], ['!', 20, 30]],\n",
       " '_103': [[10, 20, 30, 40, 50, 60, 70, 80],\n",
       "  [10, 20, 30, 40, 50, 60, 70, 80],\n",
       "  [10, 20, 30, 40, 50, 60, 70, 80]],\n",
       " '_i104': 'mylist = [10, 20, 30]\\nbiglist = [mylist, mylist, mylist]\\nbiglist',\n",
       " '_104': [['!', 20, 30], ['!', 20, 30], ['!', 20, 30]],\n",
       " '_i105': 'len(biglist)',\n",
       " '_105': 3,\n",
       " '_i106': \"mylist[0] = '!'  \",\n",
       " '_i107': 'mylist',\n",
       " '_107': ['!', 20, 30],\n",
       " '_i108': \"mylist[0] = '!'    # lists are mutable!\",\n",
       " '_i109': 'mylist',\n",
       " '_109': ['!', 20, 30],\n",
       " '_i110': 'biglist',\n",
       " '_110': [['!', 20, 30], ['!', 20, 30], ['!', 20, 30]],\n",
       " '_i111': 'mylist = [10, 20, 30]\\n\\nmylist.append(40)\\nmylist.append(50)\\n\\nmylist',\n",
       " '_111': [10, 20, 30, 40, 50, 60],\n",
       " '_i112': 'mylist.append([60, 70, 80])\\nmylist',\n",
       " '_112': [10, 20, 30, 40, 50, 60],\n",
       " '_i113': 'mylist.pop()   # removes + returns the final element',\n",
       " '_113': [60, 70, 80],\n",
       " '_i114': 'mylist',\n",
       " '_114': [10, 20, 30, 40, 50, 60],\n",
       " '_i115': 'mylist = mylist.append(60)',\n",
       " '_i116': 'print(mylist)',\n",
       " '_i117': \"s = 'abcd efgh ijkl'\\n\\ns.split()   # returns a list of strings\",\n",
       " '_117': ['abcd', 'efgh', 'ijkl'],\n",
       " '_i118': \"s.spplit('h')\",\n",
       " '_i119': \"s.split('h')\",\n",
       " '_119': ['abcd efg', ' ijkl'],\n",
       " '_i120': \"s.split('!')\",\n",
       " '_120': ['abcd efgh ijkl'],\n",
       " '_i121': \"words = 'this is a bunch of words for my course'.split()\\nwords\",\n",
       " 'words': ['this', 'is', 'a', 'bunch', 'of', 'words', 'for', 'my', 'course'],\n",
       " '_121': ['this', 'is', 'a', 'bunch', 'of', 'words', 'for', 'my', 'course'],\n",
       " '_i122': \"# str.join returns a string\\n\\n' '.join(words)\",\n",
       " '_122': 'this is a bunch of words for my course',\n",
       " '_i123': \"'*'.join(words)\",\n",
       " '_123': 'this*is*a*bunch*of*words*for*my*course',\n",
       " '_i124': \"'*'.join('abcde')\",\n",
       " '_124': 'a*b*c*d*e',\n",
       " '_i125': '# tuples\\n\\nt = (10, 20, 30)\\ntype(t)',\n",
       " 't': ([10, 20, 30, 31, 40, 50, 60], [40, 50, 60]),\n",
       " '_125': tuple,\n",
       " '_i126': 't = (10, 20)\\ntype(t)',\n",
       " '_126': tuple,\n",
       " '_i127': 't = (10)\\ntype(t)',\n",
       " '_127': int,\n",
       " '_i128': 't = ()\\ntype(t)',\n",
       " '_128': tuple,\n",
       " '_i129': 't = (10)  # t = (10,)\\ntype(t)',\n",
       " '_129': int,\n",
       " '_i130': 't = (10,)  \\ntype(t)',\n",
       " '_130': tuple,\n",
       " '_i131': 'mylist = []\\nsys.getsizeof(mylist)',\n",
       " '_131': 56,\n",
       " '_i132': 'mylist = [10, 20, 30]\\nsys.getsizeof(mylist)',\n",
       " '_132': 88,\n",
       " '_i133': 't = (10, 20, 30)\\nsys.getsizeof(t)',\n",
       " '_133': 64,\n",
       " '_i134': 'mylist = [10, 20, 30]\\nx = mylist\\n\\nx',\n",
       " '_134': [10, 20, 30],\n",
       " '_i135': 'x,y,z = mylist',\n",
       " 'z': 30,\n",
       " '_i136': '# tuple unpacking\\n\\nx,y,z = mylist',\n",
       " '_i137': 'x',\n",
       " '_137': 10,\n",
       " '_i138': 'u',\n",
       " '_i139': 'y',\n",
       " '_139': 20,\n",
       " '_i140': 'z',\n",
       " '_140': 30,\n",
       " '_i141': 'x,y = mylist',\n",
       " '_i142': 'mylist = [10, 20, 30]\\n\\nfirst, _, last = mylist',\n",
       " 'last': 40,\n",
       " '_i143': 'mylist = [10, 20, 30, 40]\\n\\nfirst, _, _, last = mylist',\n",
       " '_i144': 'first',\n",
       " '_144': 10,\n",
       " '_i145': 'last',\n",
       " '_145': 40,\n",
       " '_i146': 'first, *middle, last = mylist',\n",
       " 'middle': [20, 30],\n",
       " '_i147': '# *middle means: middle will be a list!\\n\\nfirst, *middle, last = mylist',\n",
       " '_i148': 'first',\n",
       " '_148': 10,\n",
       " '_i149': 'middle',\n",
       " '_149': [20, 30],\n",
       " '_i150': 'last',\n",
       " '_150': 40,\n",
       " '_i151': 'first, *_, last = mylist',\n",
       " '_i152': '_',\n",
       " '_152': [20, 30],\n",
       " '_i153': 't = ([10, 20, 30], \\n    [40, 50, 60])\\n\\nt',\n",
       " '_153': ([10, 20, 30, 31, 40, 50, 60], [40, 50, 60]),\n",
       " '_i154': 't[0].append(31)',\n",
       " '_i155': 't',\n",
       " '_155': ([10, 20, 30, 31, 40, 50, 60], [40, 50, 60]),\n",
       " '_i156': 't[0] += [40, 50, 60]',\n",
       " '_i157': 't',\n",
       " '_157': ([10, 20, 30, 31, 40, 50, 60], [40, 50, 60]),\n",
       " '_i158': \"p = ('Reuven', 'Lerner', 46)\\n\\np[0]\",\n",
       " 'p': Person(first='Reuven', last='Lerner', shoesize=46),\n",
       " '_158': 'Reuven',\n",
       " '_i159': 'p[1]',\n",
       " '_159': 'Lerner',\n",
       " '_i160': 'p[2]',\n",
       " '_160': 46,\n",
       " '_i161': \"from collections import namedtuple\\n\\nPerson = namedtuple('Person', 'first last shoesize')\",\n",
       " 'namedtuple': <function collections.namedtuple(typename, field_names, *, rename=False, defaults=None, module=None)>,\n",
       " 'Person': __main__.Person,\n",
       " '_i162': \"p = Person('Reuven', 'Lerner', 46)\",\n",
       " '_i163': 'p.first',\n",
       " '_163': 'Reuven',\n",
       " '_i164': 'p.last',\n",
       " '_164': 'Lerner',\n",
       " '_i165': 'p.shoesize',\n",
       " '_165': 46,\n",
       " '_i166': 'Person.__bases__ # who does Person inherit from?',\n",
       " '_166': (tuple,),\n",
       " '_i167': 'p[0]',\n",
       " '_167': 'Reuven',\n",
       " '_i168': 'p[1]',\n",
       " '_168': 'Lerner',\n",
       " '_i169': 'p[2]',\n",
       " '_169': 46,\n",
       " '_i170': \"p.first = 'asfsafafa'\",\n",
       " '_i171': \"p._replace(first='asdfafaa')\",\n",
       " '_171': Person(first='asdfafaa', last='Lerner', shoesize=46),\n",
       " '_i172': \"# returns a new Person object, with the requested changes\\n\\np._replace(first='asdfafaa')\",\n",
       " '_172': Person(first='asdfafaa', last='Lerner', shoesize=46),\n",
       " '_i173': 'x = 100\\ny = [10, 20, 30]',\n",
       " '_i174': 'globals()',\n",
       " '_174': {...},\n",
       " '_i175': 'x = 100\\ny = [10, 20, 30, 987]',\n",
       " '_i176': 'globals()'}"
      ]
     },
     "execution_count": 176,
     "metadata": {},
     "output_type": "execute_result"
    }
   ],
   "source": [
    "globals()"
   ]
  },
  {
   "cell_type": "code",
   "execution_count": 177,
   "metadata": {},
   "outputs": [
    {
     "data": {
      "text/plain": [
       "[10, 20, 30, 987]"
      ]
     },
     "execution_count": 177,
     "metadata": {},
     "output_type": "execute_result"
    }
   ],
   "source": [
    "globals()['y']"
   ]
  },
  {
   "cell_type": "code",
   "execution_count": 178,
   "metadata": {},
   "outputs": [],
   "source": [
    "globals()['y'] = 23456"
   ]
  },
  {
   "cell_type": "code",
   "execution_count": 179,
   "metadata": {},
   "outputs": [
    {
     "data": {
      "text/plain": [
       "23456"
      ]
     },
     "execution_count": 179,
     "metadata": {},
     "output_type": "execute_result"
    }
   ],
   "source": [
    "\n",
    "y"
   ]
  },
  {
   "cell_type": "markdown",
   "metadata": {},
   "source": [
    "# Dictionaries (`dict`)\n",
    "\n",
    "1. Every key has a value, every value has a key.\n",
    "2. Keys must be immutable (typically strings, numbers, tuples).\n",
    "3. Values can be absolutely anything in Python.\n",
    "4. Keys can only appear once."
   ]
  },
  {
   "cell_type": "code",
   "execution_count": 181,
   "metadata": {},
   "outputs": [
    {
     "data": {
      "text/plain": [
       "3"
      ]
     },
     "execution_count": 181,
     "metadata": {},
     "output_type": "execute_result"
    }
   ],
   "source": [
    "d = {'a':1, 'b':2, 'c':3}\n",
    "len(d)"
   ]
  },
  {
   "cell_type": "code",
   "execution_count": 182,
   "metadata": {},
   "outputs": [
    {
     "data": {
      "text/plain": [
       "1"
      ]
     },
     "execution_count": 182,
     "metadata": {},
     "output_type": "execute_result"
    }
   ],
   "source": [
    "d['a']  "
   ]
  },
  {
   "cell_type": "code",
   "execution_count": 183,
   "metadata": {},
   "outputs": [
    {
     "data": {
      "text/plain": [
       "2"
      ]
     },
     "execution_count": 183,
     "metadata": {},
     "output_type": "execute_result"
    }
   ],
   "source": [
    "d['b']"
   ]
  },
  {
   "cell_type": "code",
   "execution_count": 184,
   "metadata": {},
   "outputs": [
    {
     "data": {
      "text/plain": [
       "3"
      ]
     },
     "execution_count": 184,
     "metadata": {},
     "output_type": "execute_result"
    }
   ],
   "source": [
    "d['c']"
   ]
  },
  {
   "cell_type": "code",
   "execution_count": 185,
   "metadata": {},
   "outputs": [
    {
     "ename": "KeyError",
     "evalue": "'x'",
     "output_type": "error",
     "traceback": [
      "\u001b[0;31m---------------------------------------------------------------------------\u001b[0m",
      "\u001b[0;31mKeyError\u001b[0m                                  Traceback (most recent call last)",
      "Input \u001b[0;32mIn [185]\u001b[0m, in \u001b[0;36m<cell line: 1>\u001b[0;34m()\u001b[0m\n\u001b[0;32m----> 1\u001b[0m \u001b[43md\u001b[49m\u001b[43m[\u001b[49m\u001b[38;5;124;43m'\u001b[39;49m\u001b[38;5;124;43mx\u001b[39;49m\u001b[38;5;124;43m'\u001b[39;49m\u001b[43m]\u001b[49m\n",
      "\u001b[0;31mKeyError\u001b[0m: 'x'"
     ]
    }
   ],
   "source": [
    "d['x']"
   ]
  },
  {
   "cell_type": "code",
   "execution_count": 186,
   "metadata": {},
   "outputs": [
    {
     "data": {
      "text/plain": [
       "{'a': 1, 'b': 2, 'c': 3}"
      ]
     },
     "execution_count": 186,
     "metadata": {},
     "output_type": "execute_result"
    }
   ],
   "source": [
    "d"
   ]
  },
  {
   "cell_type": "code",
   "execution_count": 187,
   "metadata": {},
   "outputs": [
    {
     "data": {
      "text/plain": [
       "True"
      ]
     },
     "execution_count": 187,
     "metadata": {},
     "output_type": "execute_result"
    }
   ],
   "source": [
    "'a' in d   # checks if 'a' is a key"
   ]
  },
  {
   "cell_type": "code",
   "execution_count": 188,
   "metadata": {},
   "outputs": [
    {
     "data": {
      "text/plain": [
       "False"
      ]
     },
     "execution_count": 188,
     "metadata": {},
     "output_type": "execute_result"
    }
   ],
   "source": [
    "1 in d"
   ]
  },
  {
   "cell_type": "code",
   "execution_count": 190,
   "metadata": {},
   "outputs": [
    {
     "name": "stdout",
     "output_type": "stream",
     "text": [
      "Enter a key: a\n",
      "d[a] == 1\n",
      "Enter a key: b\n",
      "d[b] == 2\n",
      "Enter a key: \n"
     ]
    }
   ],
   "source": [
    "while True:\n",
    "    k = input('Enter a key: ').strip()\n",
    "    \n",
    "    if not k:\n",
    "        break\n",
    "    \n",
    "    if k in d:\n",
    "        print(f'd[{k}] == {d[k]}')\n",
    "    else:\n",
    "        print(f'd does not have a key {k}')"
   ]
  },
  {
   "cell_type": "code",
   "execution_count": 192,
   "metadata": {},
   "outputs": [
    {
     "name": "stdout",
     "output_type": "stream",
     "text": [
      "Enter a key: a\n",
      "d[a] == 1\n",
      "Enter a key: b\n",
      "d[b] == 2\n",
      "Enter a key: \n"
     ]
    }
   ],
   "source": [
    "while k := input('Enter a key: ').strip():\n",
    "    \n",
    "    if k in d:\n",
    "        print(f'd[{k}] == {d[k]}')\n",
    "    else:\n",
    "        print(f'd does not have a key {k}')"
   ]
  },
  {
   "cell_type": "code",
   "execution_count": 193,
   "metadata": {},
   "outputs": [
    {
     "data": {
      "text/plain": [
       "1"
      ]
     },
     "execution_count": 193,
     "metadata": {},
     "output_type": "execute_result"
    }
   ],
   "source": [
    "d.get('a')  # if 'a' in d, return d['a'], otherwise return None"
   ]
  },
  {
   "cell_type": "code",
   "execution_count": 194,
   "metadata": {},
   "outputs": [],
   "source": [
    "d.get('x')"
   ]
  },
  {
   "cell_type": "code",
   "execution_count": 195,
   "metadata": {},
   "outputs": [
    {
     "data": {
      "text/plain": [
       "'No value for x'"
      ]
     },
     "execution_count": 195,
     "metadata": {},
     "output_type": "execute_result"
    }
   ],
   "source": [
    "d.get('x', 'No value for x')"
   ]
  },
  {
   "cell_type": "code",
   "execution_count": 196,
   "metadata": {},
   "outputs": [
    {
     "data": {
      "text/plain": [
       "{'a': 1, 'b': 2, 'c': 3}"
      ]
     },
     "execution_count": 196,
     "metadata": {},
     "output_type": "execute_result"
    }
   ],
   "source": [
    "d"
   ]
  },
  {
   "cell_type": "code",
   "execution_count": 197,
   "metadata": {},
   "outputs": [
    {
     "data": {
      "text/plain": [
       "{'a': 1, 'b': 2, 'c': 3, 'x': 100}"
      ]
     },
     "execution_count": 197,
     "metadata": {},
     "output_type": "execute_result"
    }
   ],
   "source": [
    "d['x'] = 100\n",
    "d"
   ]
  },
  {
   "cell_type": "code",
   "execution_count": 198,
   "metadata": {},
   "outputs": [
    {
     "data": {
      "text/plain": [
       "{'a': 1, 'b': 2, 'c': 3, 'x': 200}"
      ]
     },
     "execution_count": 198,
     "metadata": {},
     "output_type": "execute_result"
    }
   ],
   "source": [
    "d['x'] = 200\n",
    "d"
   ]
  },
  {
   "cell_type": "code",
   "execution_count": 199,
   "metadata": {},
   "outputs": [
    {
     "data": {
      "text/plain": [
       "200"
      ]
     },
     "execution_count": 199,
     "metadata": {},
     "output_type": "execute_result"
    }
   ],
   "source": [
    "d.pop('x')"
   ]
  },
  {
   "cell_type": "code",
   "execution_count": 200,
   "metadata": {},
   "outputs": [
    {
     "data": {
      "text/plain": [
       "{'a': 1, 'b': 2, 'c': 3}"
      ]
     },
     "execution_count": 200,
     "metadata": {},
     "output_type": "execute_result"
    }
   ],
   "source": [
    "d"
   ]
  },
  {
   "cell_type": "code",
   "execution_count": 201,
   "metadata": {},
   "outputs": [
    {
     "data": {
      "text/plain": [
       "{'a': 1, 'b': 2, 'c': 3}"
      ]
     },
     "execution_count": 201,
     "metadata": {},
     "output_type": "execute_result"
    }
   ],
   "source": [
    "d"
   ]
  },
  {
   "cell_type": "code",
   "execution_count": 202,
   "metadata": {},
   "outputs": [
    {
     "name": "stdout",
     "output_type": "stream",
     "text": [
      "a\n",
      "b\n",
      "c\n"
     ]
    }
   ],
   "source": [
    "for one_item in d:\n",
    "    print(one_item)"
   ]
  },
  {
   "cell_type": "code",
   "execution_count": 203,
   "metadata": {},
   "outputs": [
    {
     "name": "stdout",
     "output_type": "stream",
     "text": [
      "a\n",
      "b\n",
      "c\n"
     ]
    }
   ],
   "source": [
    "for one_item in d.keys():\n",
    "    print(one_item)"
   ]
  },
  {
   "cell_type": "code",
   "execution_count": 206,
   "metadata": {},
   "outputs": [],
   "source": [
    "def for_on_d():\n",
    "    output = []\n",
    "    for one_item in d:\n",
    "        output.append(one_item)\n",
    "        \n",
    "def for_on_d_keys():\n",
    "    output = []\n",
    "    for one_item in d.keys():\n",
    "        output.append(one_item)"
   ]
  },
  {
   "cell_type": "code",
   "execution_count": 207,
   "metadata": {},
   "outputs": [
    {
     "name": "stdout",
     "output_type": "stream",
     "text": [
      "244 ns ± 7.9 ns per loop (mean ± std. dev. of 7 runs, 1,000,000 loops each)\n"
     ]
    }
   ],
   "source": [
    "%timeit for_on_d()"
   ]
  },
  {
   "cell_type": "code",
   "execution_count": 208,
   "metadata": {},
   "outputs": [
    {
     "name": "stdout",
     "output_type": "stream",
     "text": [
      "285 ns ± 4.4 ns per loop (mean ± std. dev. of 7 runs, 1,000,000 loops each)\n"
     ]
    }
   ],
   "source": [
    "%timeit for_on_d_keys()"
   ]
  },
  {
   "cell_type": "code",
   "execution_count": 209,
   "metadata": {},
   "outputs": [],
   "source": [
    "import dis"
   ]
  },
  {
   "cell_type": "code",
   "execution_count": 210,
   "metadata": {},
   "outputs": [
    {
     "name": "stdout",
     "output_type": "stream",
     "text": [
      "  2           0 BUILD_LIST               0\n",
      "              2 STORE_FAST               0 (output)\n",
      "\n",
      "  3           4 LOAD_GLOBAL              0 (d)\n",
      "              6 GET_ITER\n",
      "        >>    8 FOR_ITER                 7 (to 24)\n",
      "             10 STORE_FAST               1 (one_item)\n",
      "\n",
      "  4          12 LOAD_FAST                0 (output)\n",
      "             14 LOAD_METHOD              1 (append)\n",
      "             16 LOAD_FAST                1 (one_item)\n",
      "             18 CALL_METHOD              1\n",
      "             20 POP_TOP\n",
      "             22 JUMP_ABSOLUTE            4 (to 8)\n",
      "\n",
      "  3     >>   24 LOAD_CONST               0 (None)\n",
      "             26 RETURN_VALUE\n"
     ]
    }
   ],
   "source": [
    "dis.dis(for_on_d)"
   ]
  },
  {
   "cell_type": "code",
   "execution_count": 211,
   "metadata": {},
   "outputs": [
    {
     "name": "stdout",
     "output_type": "stream",
     "text": [
      "  7           0 BUILD_LIST               0\n",
      "              2 STORE_FAST               0 (output)\n",
      "\n",
      "  8           4 LOAD_GLOBAL              0 (d)\n",
      "              6 LOAD_METHOD              1 (keys)\n",
      "              8 CALL_METHOD              0\n",
      "             10 GET_ITER\n",
      "        >>   12 FOR_ITER                 7 (to 28)\n",
      "             14 STORE_FAST               1 (one_item)\n",
      "\n",
      "  9          16 LOAD_FAST                0 (output)\n",
      "             18 LOAD_METHOD              2 (append)\n",
      "             20 LOAD_FAST                1 (one_item)\n",
      "             22 CALL_METHOD              1\n",
      "             24 POP_TOP\n",
      "             26 JUMP_ABSOLUTE            6 (to 12)\n",
      "\n",
      "  8     >>   28 LOAD_CONST               0 (None)\n",
      "             30 RETURN_VALUE\n"
     ]
    }
   ],
   "source": [
    "dis.dis(for_on_d_keys)"
   ]
  },
  {
   "cell_type": "code",
   "execution_count": 212,
   "metadata": {},
   "outputs": [
    {
     "data": {
      "text/plain": [
       "{'a': None, 'b': None, 'c': None, 'd': None, 'e': None}"
      ]
     },
     "execution_count": 212,
     "metadata": {},
     "output_type": "execute_result"
    }
   ],
   "source": [
    "dict.fromkeys('abcde')"
   ]
  },
  {
   "cell_type": "code",
   "execution_count": 213,
   "metadata": {},
   "outputs": [
    {
     "data": {
      "text/plain": [
       "{'a': 0, 'b': 0, 'c': 0, 'd': 0, 'e': 0}"
      ]
     },
     "execution_count": 213,
     "metadata": {},
     "output_type": "execute_result"
    }
   ],
   "source": [
    "dict.fromkeys('abcde', 0)"
   ]
  },
  {
   "cell_type": "code",
   "execution_count": 214,
   "metadata": {},
   "outputs": [],
   "source": [
    "d = dict.fromkeys('abcde', [])"
   ]
  },
  {
   "cell_type": "code",
   "execution_count": 215,
   "metadata": {},
   "outputs": [
    {
     "data": {
      "text/plain": [
       "{'a': [], 'b': [], 'c': [], 'd': [], 'e': []}"
      ]
     },
     "execution_count": 215,
     "metadata": {},
     "output_type": "execute_result"
    }
   ],
   "source": [
    "d"
   ]
  },
  {
   "cell_type": "code",
   "execution_count": 216,
   "metadata": {},
   "outputs": [
    {
     "data": {
      "text/plain": [
       "{'a': [10, 20, 30],\n",
       " 'b': [10, 20, 30],\n",
       " 'c': [10, 20, 30],\n",
       " 'd': [10, 20, 30],\n",
       " 'e': [10, 20, 30]}"
      ]
     },
     "execution_count": 216,
     "metadata": {},
     "output_type": "execute_result"
    }
   ],
   "source": [
    "d['a'].append(10)\n",
    "d['b'].append(20)\n",
    "d['c'].append(30)\n",
    "d"
   ]
  },
  {
   "cell_type": "markdown",
   "metadata": {},
   "source": [
    "# Exercise: Rainfall\n",
    "\n",
    "Example:\n",
    "\n",
    "    City: Tel Aviv\n",
    "    Rain: 5\n",
    "    City: Jerusalem\n",
    "    Rain: 3\n",
    "    City: Tel Aviv\n",
    "    Rain: 2\n",
    "    City: [ENTER]\n",
    "    \n",
    "    Tel Aviv: 7\n",
    "    Jerusalem: 3\n",
    "    \n",
    "    b"
   ]
  },
  {
   "cell_type": "code",
   "execution_count": 218,
   "metadata": {},
   "outputs": [
    {
     "name": "stdout",
     "output_type": "stream",
     "text": [
      "('a', 1)\n",
      "('b', 2)\n",
      "('c', 3)\n"
     ]
    }
   ],
   "source": [
    "d = {'a':1, 'b':2, 'c':3}\n",
    "\n",
    "for x in d.items():   # each iteration returns (key, value)\n",
    "    print(x)"
   ]
  },
  {
   "cell_type": "code",
   "execution_count": 219,
   "metadata": {},
   "outputs": [
    {
     "name": "stdout",
     "output_type": "stream",
     "text": [
      "a: 1\n",
      "b: 2\n",
      "c: 3\n"
     ]
    }
   ],
   "source": [
    "d = {'a':1, 'b':2, 'c':3}\n",
    "\n",
    "for key, value in d.items():   # each iteration returns (key, value)\n",
    "    print(f'{key}: {value}')"
   ]
  },
  {
   "cell_type": "code",
   "execution_count": 221,
   "metadata": {},
   "outputs": [
    {
     "name": "stdout",
     "output_type": "stream",
     "text": [
      "City: a\n",
      "Rain: asdfsafaas\n",
      "Bad value for rain; try again\n",
      "City: a\n",
      "Rain: 5\n",
      "City: b\n",
      "Rain: \n",
      "Bad value for rain; try again\n",
      "City: b\n",
      "Rain: 10\n",
      "City: \n",
      "a: 5\n",
      "b: 10\n"
     ]
    }
   ],
   "source": [
    "rainfall = {}\n",
    "\n",
    "while city_name := input('City: ').strip():\n",
    "        \n",
    "    mm_rain = input('Rain: ').strip()\n",
    "\n",
    "    try:\n",
    "        mm_rain = int(mm_rain)\n",
    "    \n",
    "        rainfall[city_name] = rainfall.get(city_name, 0) + mm_rain\n",
    "    except ValueError as e:\n",
    "        print('Bad value for rain; try again')\n",
    "    \n",
    "for key, value in rainfall.items():\n",
    "    print(f'{key}: {value}')\n",
    "    "
   ]
  },
  {
   "cell_type": "code",
   "execution_count": 222,
   "metadata": {},
   "outputs": [
    {
     "data": {
      "text/plain": [
       "True"
      ]
     },
     "execution_count": 222,
     "metadata": {},
     "output_type": "execute_result"
    }
   ],
   "source": [
    "s = '123456'\n",
    "\n",
    "s.isdigit()"
   ]
  },
  {
   "cell_type": "code",
   "execution_count": 223,
   "metadata": {},
   "outputs": [
    {
     "data": {
      "text/plain": [
       "False"
      ]
     },
     "execution_count": 223,
     "metadata": {},
     "output_type": "execute_result"
    }
   ],
   "source": [
    "s = '-123'\n",
    "s.isdigit()"
   ]
  },
  {
   "cell_type": "code",
   "execution_count": 224,
   "metadata": {},
   "outputs": [],
   "source": [
    "d =  {}"
   ]
  },
  {
   "cell_type": "code",
   "execution_count": 225,
   "metadata": {},
   "outputs": [],
   "source": [
    "d['a'] = 10"
   ]
  },
  {
   "cell_type": "code",
   "execution_count": 226,
   "metadata": {},
   "outputs": [
    {
     "data": {
      "text/plain": [
       "5"
      ]
     },
     "execution_count": 226,
     "metadata": {},
     "output_type": "execute_result"
    }
   ],
   "source": [
    "hash('a') % 8"
   ]
  },
  {
   "cell_type": "code",
   "execution_count": 227,
   "metadata": {},
   "outputs": [
    {
     "data": {
      "text/plain": [
       "True"
      ]
     },
     "execution_count": 227,
     "metadata": {},
     "output_type": "execute_result"
    }
   ],
   "source": [
    "'a' in d"
   ]
  },
  {
   "cell_type": "code",
   "execution_count": 228,
   "metadata": {},
   "outputs": [],
   "source": [
    "d['b'] = 20"
   ]
  },
  {
   "cell_type": "code",
   "execution_count": 229,
   "metadata": {},
   "outputs": [],
   "source": [
    "d['c'] = 30"
   ]
  },
  {
   "cell_type": "code",
   "execution_count": 230,
   "metadata": {},
   "outputs": [
    {
     "data": {
      "text/plain": [
       "1"
      ]
     },
     "execution_count": 230,
     "metadata": {},
     "output_type": "execute_result"
    }
   ],
   "source": [
    "hash('b') % 8"
   ]
  },
  {
   "cell_type": "code",
   "execution_count": 231,
   "metadata": {},
   "outputs": [
    {
     "data": {
      "text/plain": [
       "1"
      ]
     },
     "execution_count": 231,
     "metadata": {},
     "output_type": "execute_result"
    }
   ],
   "source": [
    "hash('c') % 8"
   ]
  },
  {
   "cell_type": "code",
   "execution_count": 232,
   "metadata": {},
   "outputs": [
    {
     "data": {
      "text/plain": [
       "['a', 'b', 'c']"
      ]
     },
     "execution_count": 232,
     "metadata": {},
     "output_type": "execute_result"
    }
   ],
   "source": [
    "list(d)"
   ]
  },
  {
   "cell_type": "code",
   "execution_count": 233,
   "metadata": {},
   "outputs": [
    {
     "data": {
      "text/plain": [
       "20"
      ]
     },
     "execution_count": 233,
     "metadata": {},
     "output_type": "execute_result"
    }
   ],
   "source": [
    "d.pop('b')"
   ]
  },
  {
   "cell_type": "code",
   "execution_count": 234,
   "metadata": {},
   "outputs": [],
   "source": [
    "d['b'] = 999"
   ]
  },
  {
   "cell_type": "code",
   "execution_count": 235,
   "metadata": {},
   "outputs": [
    {
     "data": {
      "text/plain": [
       "['a', 'c', 'b']"
      ]
     },
     "execution_count": 235,
     "metadata": {},
     "output_type": "execute_result"
    }
   ],
   "source": [
    "list(d)"
   ]
  },
  {
   "cell_type": "code",
   "execution_count": 236,
   "metadata": {},
   "outputs": [
    {
     "name": "stdout",
     "output_type": "stream",
     "text": [
      "{'a': 10, 'c': 30, 'b': 999}\n"
     ]
    }
   ],
   "source": [
    "print(d)"
   ]
  },
  {
   "cell_type": "code",
   "execution_count": 237,
   "metadata": {},
   "outputs": [],
   "source": [
    "from collections import OrderedDict"
   ]
  },
  {
   "cell_type": "code",
   "execution_count": 242,
   "metadata": {},
   "outputs": [],
   "source": [
    "# OrderedDict cares about the order when comparing with ==\n",
    "\n",
    "d1 = OrderedDict(a=10, b=20, c=30)\n",
    "d2 = OrderedDict(a=10, c=30, b=20)"
   ]
  },
  {
   "cell_type": "code",
   "execution_count": 239,
   "metadata": {},
   "outputs": [
    {
     "data": {
      "text/plain": [
       "OrderedDict([('a', 10), ('b', 20), ('c', 30)])"
      ]
     },
     "execution_count": 239,
     "metadata": {},
     "output_type": "execute_result"
    }
   ],
   "source": [
    "d1"
   ]
  },
  {
   "cell_type": "code",
   "execution_count": 240,
   "metadata": {},
   "outputs": [
    {
     "data": {
      "text/plain": [
       "OrderedDict([('a', 10), ('c', 30), ('b', 20)])"
      ]
     },
     "execution_count": 240,
     "metadata": {},
     "output_type": "execute_result"
    }
   ],
   "source": [
    "d2"
   ]
  },
  {
   "cell_type": "code",
   "execution_count": 241,
   "metadata": {},
   "outputs": [
    {
     "data": {
      "text/plain": [
       "False"
      ]
     },
     "execution_count": 241,
     "metadata": {},
     "output_type": "execute_result"
    }
   ],
   "source": [
    "d1 == d2"
   ]
  },
  {
   "cell_type": "code",
   "execution_count": 243,
   "metadata": {},
   "outputs": [],
   "source": [
    "d1 = dict(a=10, b=20, c=30)\n",
    "d2 = dict(a=10, c=30, b=20)"
   ]
  },
  {
   "cell_type": "code",
   "execution_count": 244,
   "metadata": {},
   "outputs": [
    {
     "data": {
      "text/plain": [
       "True"
      ]
     },
     "execution_count": 244,
     "metadata": {},
     "output_type": "execute_result"
    }
   ],
   "source": [
    "d1 == d2"
   ]
  },
  {
   "cell_type": "code",
   "execution_count": 245,
   "metadata": {},
   "outputs": [],
   "source": [
    "from collections import Counter"
   ]
  },
  {
   "cell_type": "code",
   "execution_count": 246,
   "metadata": {},
   "outputs": [
    {
     "data": {
      "text/plain": [
       "Counter({'a': 10, 'b': 23, 'c': 5})"
      ]
     },
     "execution_count": 246,
     "metadata": {},
     "output_type": "execute_result"
    }
   ],
   "source": [
    "c = Counter()\n",
    "c['a'] += 10\n",
    "c['b'] += 20\n",
    "c['c'] += 5\n",
    "c['b'] += 3\n",
    "\n",
    "c"
   ]
  },
  {
   "cell_type": "code",
   "execution_count": null,
   "metadata": {},
   "outputs": [],
   "source": []
  }
 ],
 "metadata": {
  "kernelspec": {
   "display_name": "Python 3 (ipykernel)",
   "language": "python",
   "name": "python3"
  },
  "language_info": {
   "codemirror_mode": {
    "name": "ipython",
    "version": 3
   },
   "file_extension": ".py",
   "mimetype": "text/x-python",
   "name": "python",
   "nbconvert_exporter": "python",
   "pygments_lexer": "ipython3",
   "version": "3.10.6"
  }
 },
 "nbformat": 4,
 "nbformat_minor": 4
}
