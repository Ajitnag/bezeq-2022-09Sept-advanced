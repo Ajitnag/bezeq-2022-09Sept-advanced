{
 "cells": [
  {
   "cell_type": "markdown",
   "id": "8bc51e79",
   "metadata": {},
   "source": [
    "# Agenda\n",
    "\n",
    "- Attributes (ICPO)\n",
    "- Magic methods\n",
    "- Context managers\n",
    "- Iterators\n",
    "- Generators\n",
    "- Decorators \n",
    "- signals"
   ]
  },
  {
   "cell_type": "code",
   "execution_count": 1,
   "id": "241ea5bd",
   "metadata": {},
   "outputs": [
    {
     "name": "stdout",
     "output_type": "stream",
     "text": [
      "Hello, name1!\n",
      "Hello, name2!\n"
     ]
    }
   ],
   "source": [
    "class Person:\n",
    "    def __init__(self, name):\n",
    "        self.name = name\n",
    "        \n",
    "    def greet(self):\n",
    "        return f'Hello, {self.name}!'\n",
    "    \n",
    "p1 = Person('name1')    \n",
    "p2 = Person('name2')\n",
    "\n",
    "print(p1.greet())\n",
    "print(p2.greet())"
   ]
  },
  {
   "cell_type": "code",
   "execution_count": 2,
   "id": "2761fea8",
   "metadata": {},
   "outputs": [
    {
     "data": {
      "text/plain": [
       "__main__.Person"
      ]
     },
     "execution_count": 2,
     "metadata": {},
     "output_type": "execute_result"
    }
   ],
   "source": [
    "type(p1)"
   ]
  },
  {
   "cell_type": "code",
   "execution_count": 3,
   "id": "96b95043",
   "metadata": {},
   "outputs": [
    {
     "data": {
      "text/plain": [
       "__main__.Person"
      ]
     },
     "execution_count": 3,
     "metadata": {},
     "output_type": "execute_result"
    }
   ],
   "source": [
    "type(p2)"
   ]
  },
  {
   "cell_type": "code",
   "execution_count": 5,
   "id": "617f5a0a",
   "metadata": {},
   "outputs": [
    {
     "name": "stdout",
     "output_type": "stream",
     "text": [
      "Before, population = 0\n",
      "After, population = 2\n",
      "Hello, name1!\n",
      "Hello, name2!\n"
     ]
    }
   ],
   "source": [
    "# how many people have we created?\n",
    "# option 1: global variable\n",
    "\n",
    "population = 0\n",
    "\n",
    "class Person:\n",
    "    def __init__(self, name):\n",
    "        global population\n",
    "        self.name = name\n",
    "        population += 1\n",
    "        \n",
    "    def greet(self):\n",
    "        return f'Hello, {self.name}!'\n",
    "    \n",
    "print(f'Before, population = {population}')\n",
    "p1 = Person('name1')    \n",
    "p2 = Person('name2')\n",
    "print(f'After, population = {population}')\n",
    "\n",
    "print(p1.greet())\n",
    "print(p2.greet())"
   ]
  },
  {
   "cell_type": "code",
   "execution_count": 6,
   "id": "c0e056ae",
   "metadata": {},
   "outputs": [
    {
     "name": "stdout",
     "output_type": "stream",
     "text": [
      "Before, population = 0\n",
      "After, population = 2\n",
      "Hello, name1!\n",
      "Hello, name2!\n"
     ]
    }
   ],
   "source": [
    "# how many people have we created?\n",
    "# option 2: class attribute\n",
    "\n",
    "class Person:\n",
    "    def __init__(self, name):\n",
    "        self.name = name\n",
    "        Person.population += 1\n",
    "        \n",
    "    def greet(self):\n",
    "        return f'Hello, {self.name}!'\n",
    "    \n",
    "Person.population = 0\n",
    "\n",
    "print(f'Before, population = {Person.population}')\n",
    "p1 = Person('name1')    \n",
    "p2 = Person('name2')\n",
    "print(f'After, population = {Person.population}')\n",
    "\n",
    "print(p1.greet())\n",
    "print(p2.greet())"
   ]
  },
  {
   "cell_type": "code",
   "execution_count": 7,
   "id": "5c7ca68d",
   "metadata": {},
   "outputs": [
    {
     "name": "stdout",
     "output_type": "stream",
     "text": [
      "A\n",
      "B\n",
      "D\n",
      "E\n",
      "C\n",
      "C\n"
     ]
    }
   ],
   "source": [
    "print('A')\n",
    "class MyClass:\n",
    "    print('B')\n",
    "    def __init__(self, x):\n",
    "        print('C')\n",
    "        self.x = x\n",
    "    print('D')\n",
    "print('E')\n",
    "        \n",
    "m1 = MyClass(10)        \n",
    "m2 = MyClass(20)"
   ]
  },
  {
   "cell_type": "code",
   "execution_count": 3,
   "id": "87faecf7",
   "metadata": {},
   "outputs": [
    {
     "name": "stdout",
     "output_type": "stream",
     "text": [
      "Before, population = 0\n",
      "After, population = 2\n",
      "After, p1.population = 2\n",
      "After, p2.population = 2\n",
      "Hello, name1!\n",
      "Hello, name2!\n"
     ]
    }
   ],
   "source": [
    "# how many people have we created?\n",
    "# option 3: class attribute, defined in the class\n",
    "\n",
    "class Person:\n",
    "    population = 0   # defining Person.population a class attribute\n",
    "\n",
    "    def __init__(self, name):\n",
    "        self.name = name\n",
    "        Person.population += 1\n",
    "        \n",
    "    def greet(self):\n",
    "        return f'Hello, {self.name}!'\n",
    "    \n",
    "\n",
    "print(f'Before, population = {Person.population}')\n",
    "p1 = Person('name1')    \n",
    "p2 = Person('name2')\n",
    "print(f'After, population = {Person.population}')\n",
    "print(f'After, p1.population = {p1.population}')\n",
    "print(f'After, p2.population = {p2.population}')\n",
    "\n",
    "print(p1.greet()) \n",
    "print(p2.greet())"
   ]
  },
  {
   "cell_type": "markdown",
   "id": "46960957",
   "metadata": {},
   "source": [
    "# Attribute search in Python\n",
    "\n",
    "- I  -- instance\n",
    "- C -- class\n",
    "- P  -- parent(s)\n",
    "- O -- `object`"
   ]
  },
  {
   "cell_type": "code",
   "execution_count": 4,
   "id": "fc870cda",
   "metadata": {},
   "outputs": [
    {
     "data": {
      "text/plain": [
       "'abcd'"
      ]
     },
     "execution_count": 4,
     "metadata": {},
     "output_type": "execute_result"
    }
   ],
   "source": [
    "s = 'aBcD'\n",
    "\n",
    "s.lower()"
   ]
  },
  {
   "cell_type": "code",
   "execution_count": 5,
   "id": "2ec71e78",
   "metadata": {},
   "outputs": [
    {
     "data": {
      "text/plain": [
       "'ABCD'"
      ]
     },
     "execution_count": 5,
     "metadata": {},
     "output_type": "execute_result"
    }
   ],
   "source": [
    "s.upper()  # --> str.upper(s)"
   ]
  },
  {
   "cell_type": "code",
   "execution_count": 6,
   "id": "c4a69d01",
   "metadata": {},
   "outputs": [
    {
     "data": {
      "text/plain": [
       "'abcd'"
      ]
     },
     "execution_count": 6,
     "metadata": {},
     "output_type": "execute_result"
    }
   ],
   "source": [
    "str.lower(s)"
   ]
  },
  {
   "cell_type": "code",
   "execution_count": 7,
   "id": "3e7023e8",
   "metadata": {},
   "outputs": [
    {
     "data": {
      "text/plain": [
       "'ABCD'"
      ]
     },
     "execution_count": 7,
     "metadata": {},
     "output_type": "execute_result"
    }
   ],
   "source": [
    "str.upper(s)"
   ]
  },
  {
   "cell_type": "code",
   "execution_count": 8,
   "id": "861f4a25",
   "metadata": {},
   "outputs": [
    {
     "name": "stdout",
     "output_type": "stream",
     "text": [
      "Before, population = 0\n",
      "After, population = 0\n",
      "After, p1.population = 1\n",
      "After, p2.population = 1\n",
      "Hello, name1!\n",
      "Hello, name2!\n"
     ]
    }
   ],
   "source": [
    "# what if I do this?\n",
    "\n",
    "class Person:\n",
    "    population = 0  \n",
    "\n",
    "    def __init__(self, name):\n",
    "        self.name = name\n",
    "        # self.population += 1    # will this work? What will happen?\n",
    "        self.population = self.population + 1\n",
    "    def greet(self):\n",
    "        return f'Hello, {self.name}!'\n",
    "    \n",
    "\n",
    "print(f'Before, population = {Person.population}')\n",
    "p1 = Person('name1')    \n",
    "p2 = Person('name2')\n",
    "print(f'After, population = {Person.population}')\n",
    "print(f'After, p1.population = {p1.population}')\n",
    "print(f'After, p2.population = {p2.population}')\n",
    "\n",
    "print(p1.greet()) \n",
    "print(p2.greet())"
   ]
  },
  {
   "cell_type": "markdown",
   "id": "512f9c48",
   "metadata": {},
   "source": [
    "# Class attributes\n",
    "\n",
    "You can read class attributes from either the class, or from the instance.  \n",
    "\n",
    "Write class attributes *only* via the class.  (Or else!)"
   ]
  },
  {
   "cell_type": "markdown",
   "id": "d68e8774",
   "metadata": {},
   "source": [
    "# Inheritance"
   ]
  },
  {
   "cell_type": "code",
   "execution_count": 11,
   "id": "cd093b9e",
   "metadata": {},
   "outputs": [
    {
     "name": "stdout",
     "output_type": "stream",
     "text": [
      "Hello, name1!\n",
      "Hello, name2!\n",
      "Hello, emp1!\n",
      "Hello, emp2!\n"
     ]
    }
   ],
   "source": [
    "class Person:\n",
    "    def __init__(self, name):\n",
    "        self.name = name\n",
    "    def greet(self):\n",
    "        return f'Hello, {self.name}!'\n",
    "    \n",
    "\n",
    "p1 = Person('name1')    \n",
    "p2 = Person('name2')\n",
    "\n",
    "print(p1.greet()) \n",
    "print(p2.greet())\n",
    "\n",
    "class Employee(Person):\n",
    "    def __init__(self, name, id_number):\n",
    "        self.name = name\n",
    "        self.id_number = id_number\n",
    "    def greet(self):\n",
    "        return f'Hello, {self.name}!'\n",
    "    \n",
    "e1 = Employee('emp1', 1)    \n",
    "e2 = Employee('emp2', 2)\n",
    "\n",
    "print(e1.greet()) # does e1 have greet? NO. Does Employee have greet? YES.\n",
    "print(e2.greet()) # \"\" e2 \"\""
   ]
  },
  {
   "cell_type": "code",
   "execution_count": 13,
   "id": "43ad0918",
   "metadata": {},
   "outputs": [
    {
     "name": "stdout",
     "output_type": "stream",
     "text": [
      "Hello, name1!\n",
      "Hello, name2!\n",
      "Hello, emp1!\n",
      "Hello, emp2!\n"
     ]
    }
   ],
   "source": [
    "# let's remove Employee.greet.  Will things now work?\n",
    "\n",
    "class Person:\n",
    "    def __init__(self, name):\n",
    "        self.name = name\n",
    "    def greet(self):\n",
    "        return f'Hello, {self.name}!'\n",
    "    \n",
    "\n",
    "p1 = Person('name1')    \n",
    "p2 = Person('name2')\n",
    "\n",
    "print(p1.greet()) \n",
    "print(p2.greet())\n",
    "\n",
    "class Employee(Person):\n",
    "    def __init__(self, name, id_number):\n",
    "        self.name = name\n",
    "        self.id_number = id_number\n",
    "    \n",
    "e1 = Employee('emp1', 1)    \n",
    "e2 = Employee('emp2', 2)\n",
    "\n",
    "print(e1.greet()) \n",
    "print(e2.greet()) "
   ]
  },
  {
   "cell_type": "code",
   "execution_count": 20,
   "id": "c87377b0",
   "metadata": {},
   "outputs": [
    {
     "name": "stdout",
     "output_type": "stream",
     "text": [
      "Hello, name1!\n",
      "Hello, name2!\n",
      "Hello, emp1!\n",
      "Hello, emp2!\n"
     ]
    }
   ],
   "source": [
    "# let's remove the assignment to name from Employee\n",
    "\n",
    "class Person:\n",
    "    def __init__(self, name):\n",
    "        self.name = name\n",
    "    def greet(self):\n",
    "        return f'Hello, {self.name}!'\n",
    "    \n",
    "\n",
    "p1 = Person('name1')    \n",
    "p2 = Person('name2')\n",
    "\n",
    "print(p1.greet()) \n",
    "print(p2.greet())\n",
    "\n",
    "class Employee(Person):\n",
    "    def __init__(self, name, id_number):\n",
    "        # Person.__init__(self, name)\n",
    "        super().__init__(name)   # better than calling Person.__init__\n",
    "        self.id_number = id_number\n",
    "    \n",
    "e1 = Employee('emp1', 1) # e1.__init__? No. Employee.__init__? YES   \n",
    "e2 = Employee('emp2', 2) \n",
    "\n",
    "print(e1.greet())   # e1.greet? NO. Employee.greet? NO. Person.greet? YES\n",
    "print(e2.greet()) "
   ]
  },
  {
   "cell_type": "code",
   "execution_count": 15,
   "id": "fc202022",
   "metadata": {},
   "outputs": [
    {
     "data": {
      "text/plain": [
       "{'name': 'name1'}"
      ]
     },
     "execution_count": 15,
     "metadata": {},
     "output_type": "execute_result"
    }
   ],
   "source": [
    "vars(p1)"
   ]
  },
  {
   "cell_type": "code",
   "execution_count": 16,
   "id": "48357d89",
   "metadata": {},
   "outputs": [
    {
     "data": {
      "text/plain": [
       "{'name': 'name2'}"
      ]
     },
     "execution_count": 16,
     "metadata": {},
     "output_type": "execute_result"
    }
   ],
   "source": [
    "vars(p2)"
   ]
  },
  {
   "cell_type": "code",
   "execution_count": 17,
   "id": "7f369fc2",
   "metadata": {},
   "outputs": [
    {
     "data": {
      "text/plain": [
       "{'id_number': 1}"
      ]
     },
     "execution_count": 17,
     "metadata": {},
     "output_type": "execute_result"
    }
   ],
   "source": [
    "vars(e1)"
   ]
  },
  {
   "cell_type": "code",
   "execution_count": 18,
   "id": "76ed436e",
   "metadata": {},
   "outputs": [
    {
     "data": {
      "text/plain": [
       "{'id_number': 2}"
      ]
     },
     "execution_count": 18,
     "metadata": {},
     "output_type": "execute_result"
    }
   ],
   "source": [
    "vars(e2)"
   ]
  },
  {
   "cell_type": "code",
   "execution_count": 21,
   "id": "200a6cb9",
   "metadata": {},
   "outputs": [],
   "source": [
    "def hello():\n",
    "    return 'Hi!'\n",
    "\n",
    "def hello(name):\n",
    "    return f'Hello, {name}!'\n",
    "\n",
    "def hello(first, last):\n",
    "    return f'Hello, {first} {last}'"
   ]
  },
  {
   "cell_type": "code",
   "execution_count": 22,
   "id": "0db798b8",
   "metadata": {},
   "outputs": [
    {
     "ename": "TypeError",
     "evalue": "hello() missing 2 required positional arguments: 'first' and 'last'",
     "output_type": "error",
     "traceback": [
      "\u001b[0;31m---------------------------------------------------------------------------\u001b[0m",
      "\u001b[0;31mTypeError\u001b[0m                                 Traceback (most recent call last)",
      "Input \u001b[0;32mIn [22]\u001b[0m, in \u001b[0;36m<cell line: 1>\u001b[0;34m()\u001b[0m\n\u001b[0;32m----> 1\u001b[0m \u001b[43mhello\u001b[49m\u001b[43m(\u001b[49m\u001b[43m)\u001b[49m\n",
      "\u001b[0;31mTypeError\u001b[0m: hello() missing 2 required positional arguments: 'first' and 'last'"
     ]
    }
   ],
   "source": [
    "hello()"
   ]
  },
  {
   "cell_type": "code",
   "execution_count": 23,
   "id": "6af1cd1f",
   "metadata": {},
   "outputs": [
    {
     "ename": "TypeError",
     "evalue": "hello() missing 1 required positional argument: 'last'",
     "output_type": "error",
     "traceback": [
      "\u001b[0;31m---------------------------------------------------------------------------\u001b[0m",
      "\u001b[0;31mTypeError\u001b[0m                                 Traceback (most recent call last)",
      "Input \u001b[0;32mIn [23]\u001b[0m, in \u001b[0;36m<cell line: 1>\u001b[0;34m()\u001b[0m\n\u001b[0;32m----> 1\u001b[0m \u001b[43mhello\u001b[49m\u001b[43m(\u001b[49m\u001b[38;5;124;43m'\u001b[39;49m\u001b[38;5;124;43mworld\u001b[39;49m\u001b[38;5;124;43m'\u001b[39;49m\u001b[43m)\u001b[49m\n",
      "\u001b[0;31mTypeError\u001b[0m: hello() missing 1 required positional argument: 'last'"
     ]
    }
   ],
   "source": [
    "hello('world')"
   ]
  },
  {
   "cell_type": "code",
   "execution_count": 24,
   "id": "b45487a7",
   "metadata": {},
   "outputs": [],
   "source": [
    "hello = 5"
   ]
  },
  {
   "cell_type": "code",
   "execution_count": 25,
   "id": "40d3d018",
   "metadata": {},
   "outputs": [
    {
     "ename": "TypeError",
     "evalue": "'int' object is not callable",
     "output_type": "error",
     "traceback": [
      "\u001b[0;31m---------------------------------------------------------------------------\u001b[0m",
      "\u001b[0;31mTypeError\u001b[0m                                 Traceback (most recent call last)",
      "Input \u001b[0;32mIn [25]\u001b[0m, in \u001b[0;36m<cell line: 1>\u001b[0;34m()\u001b[0m\n\u001b[0;32m----> 1\u001b[0m \u001b[43mhello\u001b[49m\u001b[43m(\u001b[49m\u001b[38;5;124;43m'\u001b[39;49m\u001b[38;5;124;43mworld\u001b[39;49m\u001b[38;5;124;43m'\u001b[39;49m\u001b[43m)\u001b[49m\n",
      "\u001b[0;31mTypeError\u001b[0m: 'int' object is not callable"
     ]
    }
   ],
   "source": [
    "hello('world')"
   ]
  },
  {
   "cell_type": "code",
   "execution_count": 26,
   "id": "e62c37e7",
   "metadata": {},
   "outputs": [
    {
     "data": {
      "text/plain": [
       "['chocolate', 'vanilla', 'coffee']"
      ]
     },
     "execution_count": 26,
     "metadata": {},
     "output_type": "execute_result"
    }
   ],
   "source": [
    "class Scoop:\n",
    "    def __init__(self, flavor):\n",
    "        self.flavor = flavor\n",
    "\n",
    "s1 = Scoop('chocolate')\n",
    "s2 = Scoop('vanilla')\n",
    "s3 = Scoop('coffee')\n",
    "\n",
    "class Bowl:\n",
    "    def __init__(self):\n",
    "        self.scoops = []  \n",
    "    def add_scoops(self, *args):  # args is a tuple with all scoops\n",
    "        self.scoops += args\n",
    "    def flavors(self):\n",
    "        return [one_scoop.flavor\n",
    "               for one_scoop in self.scoops]\n",
    "\n",
    "b = Bowl()\n",
    "b.add_scoops(s1, s2)\n",
    "b.add_scoops(s3)\n",
    "b.flavors()"
   ]
  },
  {
   "cell_type": "markdown",
   "id": "37a10ef0",
   "metadata": {},
   "source": [
    "# Exercise: Limited-size bowls\n",
    "\n",
    "1. Limit the number of scoops you can put in a `Bowl` to 3.  The first 3 are put in, the rest are ignored.  Use a class attribute.  \n",
    "2. Now define a new class, `BigBowl`.  We can put up to 5 scoops in an instance of `BigBowl`.\n",
    "\n",
    "```python\n",
    "s4 = Scoop('flavor 4')\n",
    "s5 = Scoop('flavor 5')\n",
    "s6 = Scoop('flavor 6')\n",
    "\n",
    "b.add_scoops(s1, s2, s3, s4, s5, s6)\n",
    "print(b.flavors())  # still three -- ['chocolate', 'vanilla', 'coffee']\n",
    "\n",
    "bb = BigBowl()\n",
    "bb.add_scoops(s1, s2, s3)\n",
    "bb.add_scoops(s4, s5)\n",
    "bb.add_scoops(s6)\n",
    "print(bb.flavors()) # ['chocolate', 'vanilla', 'coffee', 'flavor 4', 'flavor 5']\n",
    "```"
   ]
  },
  {
   "cell_type": "code",
   "execution_count": 27,
   "id": "8bc54574",
   "metadata": {},
   "outputs": [],
   "source": [
    "# https://github.com/reuven/bezeq-2022-09Sept-advanced\n",
    "\n",
    "# github.com/reuven"
   ]
  },
  {
   "cell_type": "code",
   "execution_count": 37,
   "id": "6f624cd6",
   "metadata": {},
   "outputs": [
    {
     "name": "stdout",
     "output_type": "stream",
     "text": [
      "['chocolate', 'vanilla', 'coffee']\n",
      "['chocolate', 'vanilla', 'coffee', 'flavor 4', 'flavor 5']\n"
     ]
    }
   ],
   "source": [
    "class Scoop:\n",
    "    def __init__(self, flavor):\n",
    "        self.flavor = flavor\n",
    "\n",
    "s1 = Scoop('chocolate')\n",
    "s2 = Scoop('vanilla')\n",
    "s3 = Scoop('coffee')\n",
    "s4 = Scoop('flavor 4')\n",
    "s5 = Scoop('flavor 5')\n",
    "s6 = Scoop('flavor 6')\n",
    "\n",
    "class Bowl:\n",
    "    MAX_SCOOPS = 3\n",
    "\n",
    "    def __init__(self):\n",
    "        self.scoops = []  \n",
    "    def add_scoops(self, *args):  \n",
    "#         for one_scoop in args:\n",
    "#             if len(self.scoops) >= self.MAX_SCOOPS:\n",
    "#                 break\n",
    "#             self.scoops.append(one_scoop)\n",
    "\n",
    "         self.scoops += args[:self.MAX_SCOOPS - len(self.scoops)]\n",
    "\n",
    "         # args is (chocoloate, vanilla, coffee)\n",
    "        #                 0           1       2      \n",
    "        # args [:3] is (chocoloate, vanilla, coffee)  # up to, not including 3\n",
    "        \n",
    "\n",
    "    def flavors(self):\n",
    "        return [one_scoop.flavor\n",
    "               for one_scoop in self.scoops]\n",
    "\n",
    "class BigBowl(Bowl):\n",
    "    MAX_SCOOPS = 5\n",
    "\n",
    "b = Bowl()\n",
    "b.add_scoops(s1, s2)\n",
    "b.add_scoops(s3)\n",
    "b.add_scoops(s4, s5, s6)\n",
    "print(b.flavors())  # still three -- ['chocolate', 'vanilla', 'coffee']\n",
    "\n",
    "bb = BigBowl()\n",
    "bb.add_scoops(s1, s2, s3)\n",
    "bb.add_scoops(s4, s5)\n",
    "bb.add_scoops(s6)\n",
    "print(bb.flavors()) # ['chocolate', 'vanilla', 'coffee', 'flavor 4', 'flavor 5']\n"
   ]
  },
  {
   "cell_type": "code",
   "execution_count": 38,
   "id": "4c0720c5",
   "metadata": {},
   "outputs": [
    {
     "name": "stdout",
     "output_type": "stream",
     "text": [
      "<__main__.Scoop object at 0x1113e0550>\n"
     ]
    }
   ],
   "source": [
    "print(s1)"
   ]
  },
  {
   "cell_type": "code",
   "execution_count": 39,
   "id": "cdac7bbc",
   "metadata": {},
   "outputs": [
    {
     "name": "stdout",
     "output_type": "stream",
     "text": [
      "<__main__.Bowl object at 0x110cac160>\n"
     ]
    }
   ],
   "source": [
    "print(b)"
   ]
  },
  {
   "cell_type": "code",
   "execution_count": 40,
   "id": "5b4357fb",
   "metadata": {},
   "outputs": [
    {
     "name": "stdout",
     "output_type": "stream",
     "text": [
      "<__main__.Bowl object at 0x110cac160>\n"
     ]
    }
   ],
   "source": [
    "print(b) # --> print(str(b)) --> print(b.__str__())\n",
    "#   does b have __str__? No\n",
    "#   does Bowl have __str__? No\n",
    "#   does object have __str__ YES"
   ]
  },
  {
   "cell_type": "code",
   "execution_count": 41,
   "id": "9b6f5396",
   "metadata": {},
   "outputs": [
    {
     "data": {
      "text/plain": [
       "'<__main__.Bowl object at 0x110cac160>'"
      ]
     },
     "execution_count": 41,
     "metadata": {},
     "output_type": "execute_result"
    }
   ],
   "source": [
    "object.__str__(b)"
   ]
  },
  {
   "cell_type": "code",
   "execution_count": 49,
   "id": "9fb4700b",
   "metadata": {},
   "outputs": [
    {
     "name": "stdout",
     "output_type": "stream",
     "text": [
      "Hello, name1!\n",
      "Hello, name2!\n"
     ]
    }
   ],
   "source": [
    "# how many people have we created?\n",
    "# option 3: class attribute, defined in the class\n",
    "\n",
    "class Person:\n",
    "    def __init__(self, name):\n",
    "        self.name = name\n",
    "    def greet(self):\n",
    "        return f'Hello, {self.name}!'\n",
    "#     def __str__(self):   # meant for regular users\n",
    "#         return f'Person named {self.name}'\n",
    "    def __repr__(self):  # meant for programmers\n",
    "        return f'Person named {self.name}'\n",
    "\n",
    "\n",
    "p1 = Person('name1')    \n",
    "p2 = Person('name2')\n",
    "\n",
    "print(p1.greet()) \n",
    "print(p2.greet())"
   ]
  },
  {
   "cell_type": "code",
   "execution_count": 50,
   "id": "95100b1c",
   "metadata": {},
   "outputs": [
    {
     "name": "stdout",
     "output_type": "stream",
     "text": [
      "Person named name1\n"
     ]
    }
   ],
   "source": [
    "print(p1)"
   ]
  },
  {
   "cell_type": "code",
   "execution_count": 51,
   "id": "952c9898",
   "metadata": {},
   "outputs": [
    {
     "name": "stdout",
     "output_type": "stream",
     "text": [
      "Person named name2\n"
     ]
    }
   ],
   "source": [
    "print(p2)"
   ]
  },
  {
   "cell_type": "code",
   "execution_count": 52,
   "id": "3badb110",
   "metadata": {},
   "outputs": [
    {
     "data": {
      "text/plain": [
       "Person named name1"
      ]
     },
     "execution_count": 52,
     "metadata": {},
     "output_type": "execute_result"
    }
   ],
   "source": [
    "p1"
   ]
  },
  {
   "cell_type": "code",
   "execution_count": 53,
   "id": "f0d5f74f",
   "metadata": {},
   "outputs": [],
   "source": [
    "# Return at 10:50"
   ]
  },
  {
   "cell_type": "code",
   "execution_count": 54,
   "id": "5cd6a57b",
   "metadata": {},
   "outputs": [
    {
     "name": "stdout",
     "output_type": "stream",
     "text": [
      "Hello\n"
     ]
    }
   ],
   "source": [
    "print('Hello')"
   ]
  },
  {
   "cell_type": "markdown",
   "id": "926dec0a",
   "metadata": {},
   "source": [
    "# This is a test \n",
    "\n",
    "- One\n",
    "- Two \n",
    "    - 2.5\n",
    "    - 2.6\n",
    "    - 2.7\n",
    "- Three    \n",
    "\n",
    "This is in *italics* and in **boldface** and `computer_stuff`. etc."
   ]
  },
  {
   "cell_type": "markdown",
   "id": "06bb671c",
   "metadata": {},
   "source": [
    "- ESC -- command mode, or click to the left of the cell\n",
    "    - `h` -- help\n",
    "    - `m` -- markdown mode\n",
    "    - `y` -- code mode\n",
    "- ENTER -- edit mode, or click in the cell."
   ]
  },
  {
   "cell_type": "code",
   "execution_count": 55,
   "id": "393f5d6d",
   "metadata": {},
   "outputs": [
    {
     "data": {
      "text/plain": [
       "5"
      ]
     },
     "execution_count": 55,
     "metadata": {},
     "output_type": "execute_result"
    }
   ],
   "source": [
    "# writing to files\n",
    "\n",
    "f = open('myfile.txt', 'w')   # open returns a file object, for writing ('w')\n",
    "\n",
    "f.write('abcd\\n')\n",
    "f.write('efgh\\n')\n",
    "f.write('ijkl\\n')"
   ]
  },
  {
   "cell_type": "code",
   "execution_count": 59,
   "id": "9099ccbe",
   "metadata": {},
   "outputs": [
    {
     "name": "stdout",
     "output_type": "stream",
     "text": [
      "abcd\r\n",
      "efgh\r\n",
      "ijkl\r\n"
     ]
    }
   ],
   "source": [
    "# !cat == show the file\n",
    "\n",
    "!cat myfile.txt"
   ]
  },
  {
   "cell_type": "code",
   "execution_count": 57,
   "id": "b7dfb72d",
   "metadata": {},
   "outputs": [],
   "source": [
    "f.flush()   # write the buffer to the file"
   ]
  },
  {
   "cell_type": "code",
   "execution_count": 58,
   "id": "5e06b861",
   "metadata": {},
   "outputs": [
    {
     "name": "stdout",
     "output_type": "stream",
     "text": [
      "abcd\r\n",
      "efgh\r\n",
      "ijkl\r\n"
     ]
    }
   ],
   "source": [
    "!cat myfile.txt"
   ]
  },
  {
   "cell_type": "code",
   "execution_count": 60,
   "id": "28da83fa",
   "metadata": {},
   "outputs": [],
   "source": [
    "f.close()    # stop writing to the file + flush, if we need"
   ]
  },
  {
   "cell_type": "code",
   "execution_count": 61,
   "id": "ff6eb64d",
   "metadata": {},
   "outputs": [
    {
     "name": "stdout",
     "output_type": "stream",
     "text": [
      "abcd\r\n",
      "efgh\r\n",
      "ijkl\r\n"
     ]
    }
   ],
   "source": [
    "!cat myfile.txt"
   ]
  },
  {
   "cell_type": "code",
   "execution_count": 64,
   "id": "0dd15b47",
   "metadata": {},
   "outputs": [],
   "source": [
    "# we can use \"with\"\n",
    "\n",
    "with open('myfile.txt', 'w') as f:\n",
    "    # f.__enter__()\n",
    "    f.write('* abcd\\n')\n",
    "    f.write('* efgh\\n')\n",
    "    f.write('* ijkl\\n')\n",
    "    # f.__exit__()  # in the case of files, __exit__ flushes + closes"
   ]
  },
  {
   "cell_type": "code",
   "execution_count": 63,
   "id": "e90cc103",
   "metadata": {},
   "outputs": [
    {
     "name": "stdout",
     "output_type": "stream",
     "text": [
      "* abcd\r\n",
      "* efgh\r\n",
      "* ijkl\r\n"
     ]
    }
   ],
   "source": [
    "!cat myfile.txt"
   ]
  },
  {
   "cell_type": "code",
   "execution_count": 65,
   "id": "bc6639e7",
   "metadata": {},
   "outputs": [
    {
     "name": "stdout",
     "output_type": "stream",
     "text": [
      "Now in MyCM.__init__, x=10\n",
      "Now in MyCM.__enter__, self.x=10\n",
      "Hello!\n",
      "Now in MyCM.__exit__, self.x=10\n"
     ]
    }
   ],
   "source": [
    "# context manager == we support __enter__  and __exit__\n",
    "\n",
    "class MyCM:\n",
    "    def __init__(self, x):\n",
    "        print(f'Now in MyCM.__init__, {x=}')\n",
    "        self.x = x\n",
    "        \n",
    "    def __enter__(self):\n",
    "        print(f'Now in MyCM.__enter__, {self.x=}')\n",
    "        return self\n",
    "    \n",
    "    def __exit__(self, *args):\n",
    "        print(f'Now in MyCM.__exit__, {self.x=}')\n",
    "        return True\n",
    "        \n",
    "with MyCM(10) as m:\n",
    "    print('Hello!')"
   ]
  },
  {
   "cell_type": "code",
   "execution_count": 66,
   "id": "a57be0bb",
   "metadata": {},
   "outputs": [
    {
     "name": "stdout",
     "output_type": "stream",
     "text": [
      "Hello\n"
     ]
    }
   ],
   "source": [
    "print('Hello')"
   ]
  },
  {
   "cell_type": "code",
   "execution_count": 67,
   "id": "4937c8fd",
   "metadata": {},
   "outputs": [],
   "source": [
    "import sys\n"
   ]
  },
  {
   "cell_type": "code",
   "execution_count": 68,
   "id": "3909c77f",
   "metadata": {},
   "outputs": [
    {
     "data": {
      "text/plain": [
       "<ipykernel.iostream.OutStream at 0x110c158a0>"
      ]
     },
     "execution_count": 68,
     "metadata": {},
     "output_type": "execute_result"
    }
   ],
   "source": [
    "sys.stdout"
   ]
  },
  {
   "cell_type": "code",
   "execution_count": 69,
   "id": "fab24a5c",
   "metadata": {},
   "outputs": [
    {
     "data": {
      "text/plain": [
       "<_io.TextIOWrapper name='<stdin>' mode='r' encoding='utf-8'>"
      ]
     },
     "execution_count": 69,
     "metadata": {},
     "output_type": "execute_result"
    }
   ],
   "source": [
    "sys.stdin"
   ]
  },
  {
   "cell_type": "code",
   "execution_count": 70,
   "id": "3c422aca",
   "metadata": {},
   "outputs": [
    {
     "data": {
      "text/plain": [
       "<ipykernel.iostream.OutStream at 0x110c17790>"
      ]
     },
     "execution_count": 70,
     "metadata": {},
     "output_type": "execute_result"
    }
   ],
   "source": [
    "sys.stderr"
   ]
  },
  {
   "cell_type": "code",
   "execution_count": 71,
   "id": "0871d4ba",
   "metadata": {},
   "outputs": [],
   "source": [
    "f = open('myfile.txt', 'w')\n",
    "old_stdout = sys.stdout\n",
    "\n",
    "sys.stdout = f   \n",
    "print('Hello!')"
   ]
  },
  {
   "cell_type": "code",
   "execution_count": 72,
   "id": "6b84b9ca",
   "metadata": {},
   "outputs": [],
   "source": [
    "print('Hello?????')"
   ]
  },
  {
   "cell_type": "code",
   "execution_count": 73,
   "id": "01330d3a",
   "metadata": {},
   "outputs": [],
   "source": [
    "sys.stdout = old_stdout"
   ]
  },
  {
   "cell_type": "code",
   "execution_count": 74,
   "id": "a49c1374",
   "metadata": {},
   "outputs": [],
   "source": [
    "f.close()"
   ]
  },
  {
   "cell_type": "code",
   "execution_count": 75,
   "id": "c32cec48",
   "metadata": {},
   "outputs": [
    {
     "name": "stdout",
     "output_type": "stream",
     "text": [
      "Hello!\r\n",
      "Hello?????\r\n"
     ]
    }
   ],
   "source": [
    "!cat myfile.txt"
   ]
  },
  {
   "cell_type": "code",
   "execution_count": 76,
   "id": "3d871ac4",
   "metadata": {},
   "outputs": [],
   "source": [
    "class TempStdout:\n",
    "    def __init__(self, filename):\n",
    "        self.output = open(filename, 'w')\n",
    "        self.old_stdout = None\n",
    "        \n",
    "    def __enter__(self):\n",
    "        self.old_stdout = sys.stdout\n",
    "        sys.stdout = self.output    \n",
    "        \n",
    "    def __exit__(self, *args):\n",
    "        sys.stdout = self.old_stdout\n",
    "        self.output.close()\n",
    "\n",
    "with TempStdout('myfile.txt') as t:\n",
    "    print('Hello')\n",
    "    print('Hello again')\n",
    "    print('Hello one more time')"
   ]
  },
  {
   "cell_type": "code",
   "execution_count": 77,
   "id": "ff97ddad",
   "metadata": {},
   "outputs": [
    {
     "name": "stdout",
     "output_type": "stream",
     "text": [
      "Hello\r\n",
      "Hello again\r\n",
      "Hello one more time\r\n"
     ]
    }
   ],
   "source": [
    "!cat myfile.txt"
   ]
  },
  {
   "cell_type": "code",
   "execution_count": 78,
   "id": "0e66064d",
   "metadata": {},
   "outputs": [],
   "source": [
    "print('Hello', file=open('output.txt', 'w'))"
   ]
  },
  {
   "cell_type": "code",
   "execution_count": 79,
   "id": "327f0822",
   "metadata": {},
   "outputs": [
    {
     "name": "stdout",
     "output_type": "stream",
     "text": [
      "Hello\r\n"
     ]
    }
   ],
   "source": [
    "!cat output.txt"
   ]
  },
  {
   "cell_type": "markdown",
   "id": "d30b3a76",
   "metadata": {},
   "source": [
    "# Loops! (Especially `for` loops)\n",
    "\n"
   ]
  },
  {
   "cell_type": "code",
   "execution_count": 80,
   "id": "53488920",
   "metadata": {},
   "outputs": [
    {
     "name": "stdout",
     "output_type": "stream",
     "text": [
      "a\n",
      "b\n",
      "c\n",
      "d\n"
     ]
    }
   ],
   "source": [
    "for one_letter in 'abcd':\n",
    "    print(one_letter)"
   ]
  },
  {
   "cell_type": "markdown",
   "id": "850b3b88",
   "metadata": {},
   "source": [
    "# How a loop works\n",
    "\n",
    "1. The `for` loop asks the object if it's iterable -- `iter`.\n",
    "     - If it's not iterable, the object raises a `TypeError` exception\n",
    "     - If it is iterable, then it returns it *iterator* object (which could be itself)\n",
    "2. The `for` loop asks the iterator for the next object -- `next`.\n",
    "    - If there are no more values to give, we get a `StopIteration` exception\n",
    "    - If we do get a value, we assign it to the loop variable, and execute the loop body\n",
    "3. After running the loop body, we return to step 2    "
   ]
  },
  {
   "cell_type": "code",
   "execution_count": 81,
   "id": "d5563c0c",
   "metadata": {},
   "outputs": [],
   "source": [
    "s = 'abcd'"
   ]
  },
  {
   "cell_type": "code",
   "execution_count": 82,
   "id": "b0d668c8",
   "metadata": {},
   "outputs": [
    {
     "data": {
      "text/plain": [
       "<str_iterator at 0x112017760>"
      ]
     },
     "execution_count": 82,
     "metadata": {},
     "output_type": "execute_result"
    }
   ],
   "source": [
    "iter(s)"
   ]
  },
  {
   "cell_type": "code",
   "execution_count": 83,
   "id": "47a6a9cf",
   "metadata": {},
   "outputs": [
    {
     "data": {
      "text/plain": [
       "<str_iterator at 0x112016c80>"
      ]
     },
     "execution_count": 83,
     "metadata": {},
     "output_type": "execute_result"
    }
   ],
   "source": [
    "iter(s)"
   ]
  },
  {
   "cell_type": "code",
   "execution_count": 84,
   "id": "70068657",
   "metadata": {},
   "outputs": [
    {
     "data": {
      "text/plain": [
       "<str_iterator at 0x112016980>"
      ]
     },
     "execution_count": 84,
     "metadata": {},
     "output_type": "execute_result"
    }
   ],
   "source": [
    "iter(s)"
   ]
  },
  {
   "cell_type": "code",
   "execution_count": 85,
   "id": "a42818df",
   "metadata": {},
   "outputs": [
    {
     "data": {
      "text/plain": [
       "<_io.TextIOWrapper name='/etc/passwd' mode='r' encoding='UTF-8'>"
      ]
     },
     "execution_count": 85,
     "metadata": {},
     "output_type": "execute_result"
    }
   ],
   "source": [
    "f = open('/etc/passwd')\n",
    "iter(f)"
   ]
  },
  {
   "cell_type": "code",
   "execution_count": 86,
   "id": "902e49e6",
   "metadata": {},
   "outputs": [
    {
     "data": {
      "text/plain": [
       "<_io.TextIOWrapper name='/etc/passwd' mode='r' encoding='UTF-8'>"
      ]
     },
     "execution_count": 86,
     "metadata": {},
     "output_type": "execute_result"
    }
   ],
   "source": [
    "iter(f)"
   ]
  },
  {
   "cell_type": "code",
   "execution_count": 87,
   "id": "47edc663",
   "metadata": {},
   "outputs": [
    {
     "data": {
      "text/plain": [
       "<_io.TextIOWrapper name='/etc/passwd' mode='r' encoding='UTF-8'>"
      ]
     },
     "execution_count": 87,
     "metadata": {},
     "output_type": "execute_result"
    }
   ],
   "source": [
    "iter(f)"
   ]
  },
  {
   "cell_type": "code",
   "execution_count": 88,
   "id": "ad3043b9",
   "metadata": {},
   "outputs": [
    {
     "data": {
      "text/plain": [
       "'a'"
      ]
     },
     "execution_count": 88,
     "metadata": {},
     "output_type": "execute_result"
    }
   ],
   "source": [
    "i = iter(s)\n",
    "next(i)"
   ]
  },
  {
   "cell_type": "code",
   "execution_count": 89,
   "id": "6db94402",
   "metadata": {},
   "outputs": [
    {
     "data": {
      "text/plain": [
       "'b'"
      ]
     },
     "execution_count": 89,
     "metadata": {},
     "output_type": "execute_result"
    }
   ],
   "source": [
    "next(i)"
   ]
  },
  {
   "cell_type": "code",
   "execution_count": 90,
   "id": "7fda554c",
   "metadata": {},
   "outputs": [
    {
     "data": {
      "text/plain": [
       "'c'"
      ]
     },
     "execution_count": 90,
     "metadata": {},
     "output_type": "execute_result"
    }
   ],
   "source": [
    "next(i)"
   ]
  },
  {
   "cell_type": "code",
   "execution_count": 91,
   "id": "ac6f0339",
   "metadata": {},
   "outputs": [
    {
     "data": {
      "text/plain": [
       "'d'"
      ]
     },
     "execution_count": 91,
     "metadata": {},
     "output_type": "execute_result"
    }
   ],
   "source": [
    "next(i)"
   ]
  },
  {
   "cell_type": "code",
   "execution_count": 92,
   "id": "8011e93f",
   "metadata": {},
   "outputs": [
    {
     "ename": "StopIteration",
     "evalue": "",
     "output_type": "error",
     "traceback": [
      "\u001b[0;31m---------------------------------------------------------------------------\u001b[0m",
      "\u001b[0;31mStopIteration\u001b[0m                             Traceback (most recent call last)",
      "Input \u001b[0;32mIn [92]\u001b[0m, in \u001b[0;36m<cell line: 1>\u001b[0;34m()\u001b[0m\n\u001b[0;32m----> 1\u001b[0m \u001b[38;5;28;43mnext\u001b[39;49m\u001b[43m(\u001b[49m\u001b[43mi\u001b[49m\u001b[43m)\u001b[49m\n",
      "\u001b[0;31mStopIteration\u001b[0m: "
     ]
    }
   ],
   "source": [
    "next(i)"
   ]
  },
  {
   "cell_type": "code",
   "execution_count": 93,
   "id": "a4948a40",
   "metadata": {},
   "outputs": [
    {
     "ename": "TypeError",
     "evalue": "'int' object is not iterable",
     "output_type": "error",
     "traceback": [
      "\u001b[0;31m---------------------------------------------------------------------------\u001b[0m",
      "\u001b[0;31mTypeError\u001b[0m                                 Traceback (most recent call last)",
      "Input \u001b[0;32mIn [93]\u001b[0m, in \u001b[0;36m<cell line: 1>\u001b[0;34m()\u001b[0m\n\u001b[0;32m----> 1\u001b[0m \u001b[38;5;28;43miter\u001b[39;49m\u001b[43m(\u001b[49m\u001b[38;5;241;43m5\u001b[39;49m\u001b[43m)\u001b[49m\n",
      "\u001b[0;31mTypeError\u001b[0m: 'int' object is not iterable"
     ]
    }
   ],
   "source": [
    "\n",
    "iter(5)"
   ]
  },
  {
   "cell_type": "code",
   "execution_count": 94,
   "id": "4da9cffe",
   "metadata": {},
   "outputs": [
    {
     "ename": "TypeError",
     "evalue": "'int' object is not iterable",
     "output_type": "error",
     "traceback": [
      "\u001b[0;31m---------------------------------------------------------------------------\u001b[0m",
      "\u001b[0;31mTypeError\u001b[0m                                 Traceback (most recent call last)",
      "Input \u001b[0;32mIn [94]\u001b[0m, in \u001b[0;36m<cell line: 1>\u001b[0;34m()\u001b[0m\n\u001b[0;32m----> 1\u001b[0m \u001b[38;5;28;01mfor\u001b[39;00m i \u001b[38;5;129;01min\u001b[39;00m \u001b[38;5;241m5\u001b[39m:\n\u001b[1;32m      2\u001b[0m     \u001b[38;5;28mprint\u001b[39m(i)\n",
      "\u001b[0;31mTypeError\u001b[0m: 'int' object is not iterable"
     ]
    }
   ],
   "source": [
    "for i in 5:\n",
    "    print(i)"
   ]
  },
  {
   "cell_type": "code",
   "execution_count": 99,
   "id": "07e32ce3",
   "metadata": {},
   "outputs": [
    {
     "name": "stdout",
     "output_type": "stream",
     "text": [
      "\tNow in MyData.__init__, data='abcd'\n",
      "\tNow in MyData.__iter__, vars(self)={'data': 'abcd', 'index': 0}\n",
      "\tNow in MyData.__next__, vars(self)={'data': 'abcd', 'index': 0}\n",
      "\tIn MyData.__next__, about to return value='a'\n",
      "a\n",
      "\tNow in MyData.__next__, vars(self)={'data': 'abcd', 'index': 1}\n",
      "\tIn MyData.__next__, about to return value='b'\n",
      "b\n",
      "\tNow in MyData.__next__, vars(self)={'data': 'abcd', 'index': 2}\n",
      "\tIn MyData.__next__, about to return value='c'\n",
      "c\n",
      "\tNow in MyData.__next__, vars(self)={'data': 'abcd', 'index': 3}\n",
      "\tIn MyData.__next__, about to return value='d'\n",
      "d\n",
      "\tNow in MyData.__next__, vars(self)={'data': 'abcd', 'index': 4}\n",
      "\tRaising StopIteration\n"
     ]
    }
   ],
   "source": [
    "class MyData:\n",
    "    def __init__(self, data):\n",
    "        print(f'\\tNow in MyData.__init__, {data=}')\n",
    "        self.data = data\n",
    "        self.index = 0\n",
    "        \n",
    "    def __iter__(self):    # this is what the \"iter\" function runs\n",
    "        print(f'\\tNow in MyData.__iter__, {vars(self)=}')\n",
    "        return self\n",
    "    \n",
    "    def __next__(self):    # run by \"next\"\n",
    "        print(f'\\tNow in MyData.__next__, {vars(self)=}')\n",
    "\n",
    "        if self.index >= len(self.data):\n",
    "            print(f'\\tRaising StopIteration')\n",
    "            raise StopIteration\n",
    "            \n",
    "        value = self.data[self.index]\n",
    "        self.index += 1\n",
    "        print(f'\\tIn MyData.__next__, about to return {value=}')\n",
    "        return value\n",
    "        \n",
    "\n",
    "m = MyData('abcd')\n",
    "\n",
    "for one_item in m:\n",
    "    print(one_item)"
   ]
  },
  {
   "cell_type": "markdown",
   "id": "1c8e10bf",
   "metadata": {},
   "source": [
    "# Exercise: Circle\n",
    "\n",
    "1. Define `Circle`, a class that takes two arguments\n",
    "    - Sequence (string, list, tuple)\n",
    "    - Integer (number of times we'll iterate)\n",
    "2. If we iterate over the object, get to the end of the data, and still haven't returned the right number, we return to the start\n",
    "\n",
    "\n",
    "```python\n",
    "c = Circle('abcd', 7)  # two arguments -- a sequence and an integer\n",
    "\n",
    "for one_item in c:\n",
    "    print(one_item)   # a b c d a b c\n",
    "```"
   ]
  },
  {
   "cell_type": "code",
   "execution_count": 102,
   "id": "0887d8b9",
   "metadata": {},
   "outputs": [
    {
     "name": "stdout",
     "output_type": "stream",
     "text": [
      "a\n",
      "b\n",
      "c\n",
      "d\n",
      "a\n",
      "b\n",
      "c\n"
     ]
    }
   ],
   "source": [
    "class Circle:\n",
    "    def __init__(self, data, maxtimes):\n",
    "        self.data = data\n",
    "        self.maxtimes = maxtimes\n",
    "        self.index = 0\n",
    "        \n",
    "    def __iter__(self):\n",
    "        return self\n",
    "    \n",
    "    def __next__(self):\n",
    "        if self.index >= self.maxtimes:\n",
    "            raise StopIteration\n",
    "            \n",
    "        value = self.data[self.index % len(self.data)]\n",
    "        self.index += 1\n",
    "        return value\n",
    "\n",
    "c = Circle('abcd', 7)  # two arguments -- a sequence and an integer\n",
    "\n",
    "for one_item in c:\n",
    "    print(one_item)   # a b c d a b c\n"
   ]
  },
  {
   "cell_type": "code",
   "execution_count": 103,
   "id": "a75345f1",
   "metadata": {},
   "outputs": [
    {
     "name": "stdout",
     "output_type": "stream",
     "text": [
      "** First\n",
      "a\n",
      "b\n",
      "c\n",
      "d\n",
      "a\n",
      "b\n",
      "c\n",
      "** Second\n"
     ]
    }
   ],
   "source": [
    "# what about this, when we try to iterate twice?\n",
    "\n",
    "class Circle:\n",
    "    def __init__(self, data, maxtimes):\n",
    "        self.data = data\n",
    "        self.maxtimes = maxtimes\n",
    "        self.index = 0\n",
    "        \n",
    "    def __iter__(self):\n",
    "        return self\n",
    "    \n",
    "    def __next__(self):\n",
    "        if self.index >= self.maxtimes:\n",
    "            raise StopIteration\n",
    "            \n",
    "        value = self.data[self.index % len(self.data)]\n",
    "        self.index += 1\n",
    "        return value\n",
    "\n",
    "c = Circle('abcd', 7)  # two arguments -- a sequence and an integer\n",
    "\n",
    "print('** First')\n",
    "for one_item in c:\n",
    "    print(one_item)   # a b c d a b c\n",
    "\n",
    "print('** Second')\n",
    "for one_item in c:\n",
    "    print(one_item)   # a b c d a b c\n",
    "    "
   ]
  },
  {
   "cell_type": "code",
   "execution_count": 104,
   "id": "da24119b",
   "metadata": {},
   "outputs": [],
   "source": [
    "s = 'abcd'\n",
    "i1 = iter(s)\n",
    "i2 = iter(s)"
   ]
  },
  {
   "cell_type": "code",
   "execution_count": 105,
   "id": "d55b4906",
   "metadata": {},
   "outputs": [
    {
     "data": {
      "text/plain": [
       "'a'"
      ]
     },
     "execution_count": 105,
     "metadata": {},
     "output_type": "execute_result"
    }
   ],
   "source": [
    "next(i1)"
   ]
  },
  {
   "cell_type": "code",
   "execution_count": 106,
   "id": "0b4f328e",
   "metadata": {},
   "outputs": [
    {
     "data": {
      "text/plain": [
       "'b'"
      ]
     },
     "execution_count": 106,
     "metadata": {},
     "output_type": "execute_result"
    }
   ],
   "source": [
    "next(i1)"
   ]
  },
  {
   "cell_type": "code",
   "execution_count": 107,
   "id": "7c491aae",
   "metadata": {},
   "outputs": [
    {
     "data": {
      "text/plain": [
       "'c'"
      ]
     },
     "execution_count": 107,
     "metadata": {},
     "output_type": "execute_result"
    }
   ],
   "source": [
    "next(i1)"
   ]
  },
  {
   "cell_type": "code",
   "execution_count": 108,
   "id": "10ac0c9e",
   "metadata": {},
   "outputs": [
    {
     "data": {
      "text/plain": [
       "'a'"
      ]
     },
     "execution_count": 108,
     "metadata": {},
     "output_type": "execute_result"
    }
   ],
   "source": [
    "next(i2)"
   ]
  },
  {
   "cell_type": "code",
   "execution_count": 109,
   "id": "c2e89b4e",
   "metadata": {},
   "outputs": [
    {
     "name": "stdout",
     "output_type": "stream",
     "text": [
      "** First\n",
      "a\n",
      "b\n",
      "c\n",
      "d\n",
      "a\n",
      "b\n",
      "c\n",
      "** Second\n",
      "a\n",
      "b\n",
      "c\n",
      "d\n",
      "a\n",
      "b\n",
      "c\n"
     ]
    }
   ],
   "source": [
    "# Let's use another class as our iterator\n",
    "\n",
    "class CircleIterator:\n",
    "    def __init__(self, data, maxtimes):\n",
    "        self.data = data\n",
    "        self.maxtimes = maxtimes\n",
    "        self.index = 0\n",
    "\n",
    "    def __next__(self):\n",
    "        if self.index >= self.maxtimes:\n",
    "            raise StopIteration\n",
    "            \n",
    "        value = self.data[self.index % len(self.data)]\n",
    "        self.index += 1\n",
    "        return value\n",
    "\n",
    "class Circle:\n",
    "    def __init__(self, data, maxtimes):\n",
    "        self.data = data\n",
    "        self.maxtimes = maxtimes\n",
    "        \n",
    "    def __iter__(self):\n",
    "        return CircleIterator(self.data, self.maxtimes)\n",
    "\n",
    "c = Circle('abcd', 7)  # two arguments -- a sequence and an integer\n",
    "\n",
    "print('** First')\n",
    "for one_item in c:\n",
    "    print(one_item)   # a b c d a b c\n",
    "\n",
    "print('** Second')\n",
    "for one_item in c:\n",
    "    print(one_item)   # a b c d a b c\n",
    "    "
   ]
  },
  {
   "cell_type": "markdown",
   "id": "653a907b",
   "metadata": {},
   "source": [
    "# Generator function"
   ]
  },
  {
   "cell_type": "code",
   "execution_count": 110,
   "id": "1347d4fe",
   "metadata": {},
   "outputs": [
    {
     "data": {
      "text/plain": [
       "1"
      ]
     },
     "execution_count": 110,
     "metadata": {},
     "output_type": "execute_result"
    }
   ],
   "source": [
    "def myfunc():\n",
    "    return 1\n",
    "    return 2\n",
    "    return 3\n",
    "\n",
    "myfunc()"
   ]
  },
  {
   "cell_type": "code",
   "execution_count": 111,
   "id": "0045bddf",
   "metadata": {},
   "outputs": [
    {
     "name": "stdout",
     "output_type": "stream",
     "text": [
      "  2           0 LOAD_CONST               1 (1)\n",
      "              2 RETURN_VALUE\n"
     ]
    }
   ],
   "source": [
    "import dis\n",
    "\n",
    "dis.dis(myfunc)"
   ]
  },
  {
   "cell_type": "code",
   "execution_count": 112,
   "id": "64c8aa6b",
   "metadata": {},
   "outputs": [],
   "source": [
    "def myfunc():\n",
    "    yield 1\n",
    "    yield 2\n",
    "    yield 3"
   ]
  },
  {
   "cell_type": "code",
   "execution_count": 113,
   "id": "b4934035",
   "metadata": {},
   "outputs": [
    {
     "data": {
      "text/plain": [
       "<generator object myfunc at 0x1129fe730>"
      ]
     },
     "execution_count": 113,
     "metadata": {},
     "output_type": "execute_result"
    }
   ],
   "source": [
    "myfunc()"
   ]
  },
  {
   "cell_type": "code",
   "execution_count": 114,
   "id": "32f033eb",
   "metadata": {},
   "outputs": [],
   "source": [
    "g = myfunc()"
   ]
  },
  {
   "cell_type": "code",
   "execution_count": 115,
   "id": "5b9a234b",
   "metadata": {},
   "outputs": [
    {
     "data": {
      "text/plain": [
       "1"
      ]
     },
     "execution_count": 115,
     "metadata": {},
     "output_type": "execute_result"
    }
   ],
   "source": [
    "next(g)"
   ]
  },
  {
   "cell_type": "code",
   "execution_count": 116,
   "id": "11d3ff86",
   "metadata": {},
   "outputs": [
    {
     "data": {
      "text/plain": [
       "2"
      ]
     },
     "execution_count": 116,
     "metadata": {},
     "output_type": "execute_result"
    }
   ],
   "source": [
    "next(g)"
   ]
  },
  {
   "cell_type": "code",
   "execution_count": 117,
   "id": "b5752c11",
   "metadata": {},
   "outputs": [
    {
     "data": {
      "text/plain": [
       "3"
      ]
     },
     "execution_count": 117,
     "metadata": {},
     "output_type": "execute_result"
    }
   ],
   "source": [
    "next(g)"
   ]
  },
  {
   "cell_type": "code",
   "execution_count": 118,
   "id": "791f3166",
   "metadata": {},
   "outputs": [
    {
     "ename": "StopIteration",
     "evalue": "",
     "output_type": "error",
     "traceback": [
      "\u001b[0;31m---------------------------------------------------------------------------\u001b[0m",
      "\u001b[0;31mStopIteration\u001b[0m                             Traceback (most recent call last)",
      "Input \u001b[0;32mIn [118]\u001b[0m, in \u001b[0;36m<cell line: 1>\u001b[0;34m()\u001b[0m\n\u001b[0;32m----> 1\u001b[0m \u001b[38;5;28;43mnext\u001b[39;49m\u001b[43m(\u001b[49m\u001b[43mg\u001b[49m\u001b[43m)\u001b[49m\n",
      "\u001b[0;31mStopIteration\u001b[0m: "
     ]
    }
   ],
   "source": [
    "next(g)"
   ]
  },
  {
   "cell_type": "code",
   "execution_count": 119,
   "id": "19e1dd03",
   "metadata": {},
   "outputs": [],
   "source": [
    "def mygen():\n",
    "    yield 1\n",
    "\n",
    "    for i in range(5):\n",
    "        yield (i, i**2)"
   ]
  },
  {
   "cell_type": "code",
   "execution_count": 120,
   "id": "d934aedc",
   "metadata": {},
   "outputs": [],
   "source": [
    "g = mygen()"
   ]
  },
  {
   "cell_type": "code",
   "execution_count": 121,
   "id": "12df9a15",
   "metadata": {},
   "outputs": [
    {
     "data": {
      "text/plain": [
       "1"
      ]
     },
     "execution_count": 121,
     "metadata": {},
     "output_type": "execute_result"
    }
   ],
   "source": [
    "next(g)"
   ]
  },
  {
   "cell_type": "code",
   "execution_count": 122,
   "id": "0ae73bf7",
   "metadata": {},
   "outputs": [
    {
     "data": {
      "text/plain": [
       "(0, 0)"
      ]
     },
     "execution_count": 122,
     "metadata": {},
     "output_type": "execute_result"
    }
   ],
   "source": [
    "next(g)"
   ]
  },
  {
   "cell_type": "code",
   "execution_count": 123,
   "id": "3e20d168",
   "metadata": {},
   "outputs": [
    {
     "data": {
      "text/plain": [
       "(1, 1)"
      ]
     },
     "execution_count": 123,
     "metadata": {},
     "output_type": "execute_result"
    }
   ],
   "source": [
    "next(g)"
   ]
  },
  {
   "cell_type": "code",
   "execution_count": 124,
   "id": "badd717a",
   "metadata": {},
   "outputs": [
    {
     "data": {
      "text/plain": [
       "(2, 4)"
      ]
     },
     "execution_count": 124,
     "metadata": {},
     "output_type": "execute_result"
    }
   ],
   "source": [
    "next(g)"
   ]
  },
  {
   "cell_type": "code",
   "execution_count": 125,
   "id": "6256f216",
   "metadata": {},
   "outputs": [
    {
     "data": {
      "text/plain": [
       "(3, 9)"
      ]
     },
     "execution_count": 125,
     "metadata": {},
     "output_type": "execute_result"
    }
   ],
   "source": [
    "next(g)"
   ]
  },
  {
   "cell_type": "code",
   "execution_count": 126,
   "id": "1cb8a163",
   "metadata": {},
   "outputs": [
    {
     "data": {
      "text/plain": [
       "(4, 16)"
      ]
     },
     "execution_count": 126,
     "metadata": {},
     "output_type": "execute_result"
    }
   ],
   "source": [
    "next(g)"
   ]
  },
  {
   "cell_type": "code",
   "execution_count": 127,
   "id": "015e2b62",
   "metadata": {},
   "outputs": [
    {
     "ename": "StopIteration",
     "evalue": "",
     "output_type": "error",
     "traceback": [
      "\u001b[0;31m---------------------------------------------------------------------------\u001b[0m",
      "\u001b[0;31mStopIteration\u001b[0m                             Traceback (most recent call last)",
      "Input \u001b[0;32mIn [127]\u001b[0m, in \u001b[0;36m<cell line: 1>\u001b[0;34m()\u001b[0m\n\u001b[0;32m----> 1\u001b[0m \u001b[38;5;28;43mnext\u001b[39;49m\u001b[43m(\u001b[49m\u001b[43mg\u001b[49m\u001b[43m)\u001b[49m\n",
      "\u001b[0;31mStopIteration\u001b[0m: "
     ]
    }
   ],
   "source": [
    "next(g)"
   ]
  },
  {
   "cell_type": "code",
   "execution_count": 128,
   "id": "5717e5cf",
   "metadata": {},
   "outputs": [],
   "source": [
    "def fib():\n",
    "    first = 0\n",
    "    second = 1\n",
    "    \n",
    "    while True:\n",
    "        yield first\n",
    "        first, second = second, first+second"
   ]
  },
  {
   "cell_type": "code",
   "execution_count": 129,
   "id": "8572848b",
   "metadata": {},
   "outputs": [
    {
     "name": "stdout",
     "output_type": "stream",
     "text": [
      "0 1 1 2 3 5 8 13 21 34 55 89 144 233 377 610 987 1597 2584 4181 6765 10946 17711 28657 46368 75025 121393 196418 317811 514229 832040 1346269 2178309 3524578 5702887 9227465 14930352 24157817 39088169 63245986 102334155 165580141 267914296 433494437 701408733 1134903170 1836311903 2971215073 4807526976 7778742049 12586269025 20365011074 32951280099 53316291173 86267571272 139583862445 225851433717 365435296162 591286729879 956722026041 1548008755920 "
     ]
    }
   ],
   "source": [
    "for n in fib():\n",
    "    print(n, end=' ')\n",
    "    \n",
    "    if n > 1_000_000_000_000:\n",
    "        break"
   ]
  },
  {
   "cell_type": "markdown",
   "id": "0de576f0",
   "metadata": {},
   "source": [
    "# Exercise: `read_n`\n",
    "\n",
    "1. Define `read_n`, a generator function, that takes two arguments:\n",
    "    - `filename`\n",
    "    - `n` -- the number of lines we should get in each iteration\n",
    "2. Each iteration wil return a string.\n",
    "3. The final iteration can return a string with fewer than `n` lines.\n",
    "\n",
    "```python\n",
    "for one_chunk in read_n('/etc/passwd', 5):\n",
    "    print(one_chunk)\n",
    "```"
   ]
  },
  {
   "cell_type": "code",
   "execution_count": 131,
   "id": "b13f57e6",
   "metadata": {},
   "outputs": [
    {
     "name": "stdout",
     "output_type": "stream",
     "text": [
      "##\n",
      "\n",
      "# User Database\n",
      "\n",
      "# \n",
      "\n",
      "# Note that this file is consulted directly only when the system is running\n",
      "\n",
      "# in single-user mode.  At other times this information is provided by\n",
      "\n",
      "# Open Directory.\n",
      "\n",
      "#\n",
      "\n",
      "# See the opendirectoryd(8) man page for additional information about\n",
      "\n",
      "# Open Directory.\n",
      "\n",
      "##\n",
      "\n",
      "nobody:*:-2:-2:Unprivileged User:/var/empty:/usr/bin/false\n",
      "\n",
      "root:*:0:0:System Administrator:/var/root:/bin/sh\n",
      "\n",
      "daemon:*:1:1:System Services:/var/root:/usr/bin/false\n",
      "\n",
      "_uucp:*:4:4:Unix to Unix Copy Protocol:/var/spool/uucp:/usr/sbin/uucico\n",
      "\n",
      "_taskgated:*:13:13:Task Gate Daemon:/var/empty:/usr/bin/false\n",
      "\n",
      "_networkd:*:24:24:Network Services:/var/networkd:/usr/bin/false\n",
      "\n",
      "_installassistant:*:25:25:Install Assistant:/var/empty:/usr/bin/false\n",
      "\n",
      "_lp:*:26:26:Printing Services:/var/spool/cups:/usr/bin/false\n",
      "\n",
      "_postfix:*:27:27:Postfix Mail Server:/var/spool/postfix:/usr/bin/false\n",
      "\n",
      "_scsd:*:31:31:Service Configuration Service:/var/empty:/usr/bin/false\n",
      "\n",
      "_ces:*:32:32:Certificate Enrollment Service:/var/empty:/usr/bin/false\n",
      "\n",
      "_appstore:*:33:33:Mac App Store Service:/var/db/appstore:/usr/bin/false\n",
      "\n",
      "_mcxalr:*:54:54:MCX AppLaunch:/var/empty:/usr/bin/false\n",
      "\n",
      "_appleevents:*:55:55:AppleEvents Daemon:/var/empty:/usr/bin/false\n",
      "\n",
      "_geod:*:56:56:Geo Services Daemon:/var/db/geod:/usr/bin/false\n",
      "\n",
      "_devdocs:*:59:59:Developer Documentation:/var/empty:/usr/bin/false\n",
      "\n",
      "_sandbox:*:60:60:Seatbelt:/var/empty:/usr/bin/false\n",
      "\n",
      "_mdnsresponder:*:65:65:mDNSResponder:/var/empty:/usr/bin/false\n",
      "\n",
      "_ard:*:67:67:Apple Remote Desktop:/var/empty:/usr/bin/false\n",
      "\n",
      "_www:*:70:70:World Wide Web Server:/Library/WebServer:/usr/bin/false\n",
      "\n",
      "_eppc:*:71:71:Apple Events User:/var/empty:/usr/bin/false\n",
      "\n",
      "_cvs:*:72:72:CVS Server:/var/empty:/usr/bin/false\n",
      "\n",
      "_svn:*:73:73:SVN Server:/var/empty:/usr/bin/false\n",
      "\n",
      "_mysql:*:74:74:MySQL Server:/var/empty:/usr/bin/false\n",
      "\n",
      "_sshd:*:75:75:sshd Privilege separation:/var/empty:/usr/bin/false\n",
      "\n",
      "_qtss:*:76:76:QuickTime Streaming Server:/var/empty:/usr/bin/false\n",
      "\n",
      "_cyrus:*:77:6:Cyrus Administrator:/var/imap:/usr/bin/false\n",
      "\n",
      "_mailman:*:78:78:Mailman List Server:/var/empty:/usr/bin/false\n",
      "\n",
      "_appserver:*:79:79:Application Server:/var/empty:/usr/bin/false\n",
      "\n",
      "_clamav:*:82:82:ClamAV Daemon:/var/virusmails:/usr/bin/false\n",
      "\n",
      "_amavisd:*:83:83:AMaViS Daemon:/var/virusmails:/usr/bin/false\n",
      "\n",
      "_jabber:*:84:84:Jabber XMPP Server:/var/empty:/usr/bin/false\n",
      "\n",
      "_appowner:*:87:87:Application Owner:/var/empty:/usr/bin/false\n",
      "\n",
      "_windowserver:*:88:88:WindowServer:/var/empty:/usr/bin/false\n",
      "\n",
      "_spotlight:*:89:89:Spotlight:/var/empty:/usr/bin/false\n",
      "\n",
      "_tokend:*:91:91:Token Daemon:/var/empty:/usr/bin/false\n",
      "\n",
      "_securityagent:*:92:92:SecurityAgent:/var/db/securityagent:/usr/bin/false\n",
      "\n",
      "_calendar:*:93:93:Calendar:/var/empty:/usr/bin/false\n",
      "\n",
      "_teamsserver:*:94:94:TeamsServer:/var/teamsserver:/usr/bin/false\n",
      "\n",
      "_update_sharing:*:95:-2:Update Sharing:/var/empty:/usr/bin/false\n",
      "\n",
      "_installer:*:96:-2:Installer:/var/empty:/usr/bin/false\n",
      "\n",
      "_atsserver:*:97:97:ATS Server:/var/empty:/usr/bin/false\n",
      "\n",
      "_ftp:*:98:-2:FTP Daemon:/var/empty:/usr/bin/false\n",
      "\n",
      "_unknown:*:99:99:Unknown User:/var/empty:/usr/bin/false\n",
      "\n",
      "_softwareupdate:*:200:200:Software Update Service:/var/db/softwareupdate:/usr/bin/false\n",
      "\n",
      "_coreaudiod:*:202:202:Core Audio Daemon:/var/empty:/usr/bin/false\n",
      "\n",
      "_screensaver:*:203:203:Screensaver:/var/empty:/usr/bin/false\n",
      "\n",
      "_locationd:*:205:205:Location Daemon:/var/db/locationd:/usr/bin/false\n",
      "\n",
      "_trustevaluationagent:*:208:208:Trust Evaluation Agent:/var/empty:/usr/bin/false\n",
      "\n",
      "_timezone:*:210:210:AutoTimeZoneDaemon:/var/empty:/usr/bin/false\n",
      "\n",
      "_lda:*:211:211:Local Delivery Agent:/var/empty:/usr/bin/false\n",
      "\n",
      "_cvmsroot:*:212:212:CVMS Root:/var/empty:/usr/bin/false\n",
      "\n",
      "_usbmuxd:*:213:213:iPhone OS Device Helper:/var/db/lockdown:/usr/bin/false\n",
      "\n",
      "_dovecot:*:214:6:Dovecot Administrator:/var/empty:/usr/bin/false\n",
      "\n",
      "_dpaudio:*:215:215:DP Audio:/var/empty:/usr/bin/false\n",
      "\n",
      "_postgres:*:216:216:PostgreSQL Server:/var/empty:/usr/bin/false\n",
      "\n",
      "_krbtgt:*:217:-2:Kerberos Ticket Granting Ticket:/var/empty:/usr/bin/false\n",
      "\n",
      "_kadmin_admin:*:218:-2:Kerberos Admin Service:/var/empty:/usr/bin/false\n",
      "\n",
      "_kadmin_changepw:*:219:-2:Kerberos Change Password Service:/var/empty:/usr/bin/false\n",
      "\n",
      "_devicemgr:*:220:220:Device Management Server:/var/empty:/usr/bin/false\n",
      "\n",
      "_webauthserver:*:221:221:Web Auth Server:/var/empty:/usr/bin/false\n",
      "\n",
      "_netbios:*:222:222:NetBIOS:/var/empty:/usr/bin/false\n",
      "\n",
      "_warmd:*:224:224:Warm Daemon:/var/empty:/usr/bin/false\n",
      "\n",
      "_dovenull:*:227:227:Dovecot Authentication:/var/empty:/usr/bin/false\n",
      "\n",
      "_netstatistics:*:228:228:Network Statistics Daemon:/var/empty:/usr/bin/false\n",
      "\n",
      "_avbdeviced:*:229:-2:Ethernet AVB Device Daemon:/var/empty:/usr/bin/false\n",
      "\n",
      "_krb_krbtgt:*:230:-2:Open Directory Kerberos Ticket Granting Ticket:/var/empty:/usr/bin/false\n",
      "\n",
      "_krb_kadmin:*:231:-2:Open Directory Kerberos Admin Service:/var/empty:/usr/bin/false\n",
      "\n",
      "_krb_changepw:*:232:-2:Open Directory Kerberos Change Password Service:/var/empty:/usr/bin/false\n",
      "\n",
      "_krb_kerberos:*:233:-2:Open Directory Kerberos:/var/empty:/usr/bin/false\n",
      "\n",
      "_krb_anonymous:*:234:-2:Open Directory Kerberos Anonymous:/var/empty:/usr/bin/false\n",
      "\n",
      "_assetcache:*:235:235:Asset Cache Service:/var/empty:/usr/bin/false\n",
      "\n",
      "_coremediaiod:*:236:236:Core Media IO Daemon:/var/empty:/usr/bin/false\n",
      "\n",
      "_launchservicesd:*:239:239:_launchservicesd:/var/empty:/usr/bin/false\n",
      "\n",
      "_iconservices:*:240:240:IconServices:/var/empty:/usr/bin/false\n",
      "\n",
      "_distnote:*:241:241:DistNote:/var/empty:/usr/bin/false\n",
      "\n",
      "_nsurlsessiond:*:242:242:NSURLSession Daemon:/var/db/nsurlsessiond:/usr/bin/false\n",
      "\n",
      "_displaypolicyd:*:244:244:Display Policy Daemon:/var/empty:/usr/bin/false\n",
      "\n",
      "_astris:*:245:245:Astris Services:/var/db/astris:/usr/bin/false\n",
      "\n",
      "_krbfast:*:246:-2:Kerberos FAST Account:/var/empty:/usr/bin/false\n",
      "\n",
      "_gamecontrollerd:*:247:247:Game Controller Daemon:/var/empty:/usr/bin/false\n",
      "\n",
      "_mbsetupuser:*:248:248:Setup User:/var/setup:/bin/bash\n",
      "\n",
      "_ondemand:*:249:249:On Demand Resource Daemon:/var/db/ondemand:/usr/bin/false\n",
      "\n",
      "_xserverdocs:*:251:251:macOS Server Documents Service:/var/empty:/usr/bin/false\n",
      "\n",
      "_wwwproxy:*:252:252:WWW Proxy:/var/empty:/usr/bin/false\n",
      "\n",
      "_mobileasset:*:253:253:MobileAsset User:/var/ma:/usr/bin/false\n",
      "\n",
      "_findmydevice:*:254:254:Find My Device Daemon:/var/db/findmydevice:/usr/bin/false\n",
      "\n",
      "_datadetectors:*:257:257:DataDetectors:/var/db/datadetectors:/usr/bin/false\n",
      "\n",
      "_captiveagent:*:258:258:captiveagent:/var/empty:/usr/bin/false\n",
      "\n",
      "_ctkd:*:259:259:ctkd Account:/var/empty:/usr/bin/false\n",
      "\n",
      "_applepay:*:260:260:applepay Account:/var/db/applepay:/usr/bin/false\n",
      "\n",
      "_hidd:*:261:261:HID Service User:/var/db/hidd:/usr/bin/false\n",
      "\n",
      "_cmiodalassistants:*:262:262:CoreMedia IO Assistants User:/var/db/cmiodalassistants:/usr/bin/false\n",
      "\n",
      "_analyticsd:*:263:263:Analytics Daemon:/var/db/analyticsd:/usr/bin/false\n",
      "\n",
      "_fpsd:*:265:265:FPS Daemon:/var/db/fpsd:/usr/bin/false\n",
      "\n",
      "_timed:*:266:266:Time Sync Daemon:/var/db/timed:/usr/bin/false\n",
      "\n",
      "_nearbyd:*:268:268:Proximity and Ranging Daemon:/var/db/nearbyd:/usr/bin/false\n",
      "\n",
      "_reportmemoryexception:*:269:269:ReportMemoryException:/var/db/reportmemoryexception:/usr/bin/false\n",
      "\n",
      "_driverkit:*:270:270:DriverKit:/var/empty:/usr/bin/false\n",
      "\n",
      "_diskimagesiod:*:271:271:DiskImages IO Daemon:/var/db/diskimagesiod:/usr/bin/false\n",
      "\n",
      "_logd:*:272:272:Log Daemon:/var/db/diagnostics:/usr/bin/false\n",
      "\n",
      "_appinstalld:*:273:273:App Install Daemon:/var/db/appinstalld:/usr/bin/false\n",
      "\n",
      "_installcoordinationd:*:274:274:Install Coordination Daemon:/var/db/installcoordinationd:/usr/bin/false\n",
      "\n",
      "_demod:*:275:275:Demo Daemon:/var/empty:/usr/bin/false\n",
      "\n",
      "_rmd:*:277:277:Remote Management Daemon:/var/db/rmd:/usr/bin/false\n",
      "\n",
      "_accessoryupdater:*:278:278:Accessory Update Daemon:/var/db/accessoryupdater:/usr/bin/false\n",
      "\n",
      "_knowledgegraphd:*:279:279:Knowledge Graph Daemon:/var/db/knowledgegraphd:/usr/bin/false\n",
      "\n",
      "_coreml:*:280:280:CoreML Services:/var/empty:/usr/bin/false\n",
      "\n",
      "_sntpd:*:281:281:SNTP Server Daemon:/var/empty:/usr/bin/false\n",
      "\n",
      "_trustd:*:282:282:trustd:/var/empty:/usr/bin/false\n",
      "\n",
      "_darwindaemon:*:284:284:Darwin Daemon:/var/db/darwindaemon:/usr/bin/false\n",
      "\n",
      "_notification_proxy:*:285:285:Notification Proxy:/var/empty:/usr/bin/false\n",
      "\n",
      "_oahd:*:441:441:OAH Daemon:/var/empty:/usr/bin/false\n",
      "\n"
     ]
    }
   ],
   "source": [
    "def read_n(filename, n):\n",
    "    with open(filename) as f:\n",
    "        while True:\n",
    "            output = f.readline()  # always get a string back -- ending with \\n or empty\n",
    "\n",
    "            if output:\n",
    "                yield output\n",
    "            else:\n",
    "                break\n",
    "                \n",
    "for one_chunk in read_n('/etc/passwd', 5):\n",
    "    print(one_chunk)"
   ]
  },
  {
   "cell_type": "code",
   "execution_count": 132,
   "id": "246686cd",
   "metadata": {
    "collapsed": true
   },
   "outputs": [
    {
     "name": "stdout",
     "output_type": "stream",
     "text": [
      "##\n",
      "# User Database\n",
      "# \n",
      "# Note that this file is consulted directly only when the system is running\n",
      "# in single-user mode.  At other times this information is provided by\n",
      "\n",
      "# Open Directory.\n",
      "#\n",
      "# See the opendirectoryd(8) man page for additional information about\n",
      "# Open Directory.\n",
      "##\n",
      "\n",
      "nobody:*:-2:-2:Unprivileged User:/var/empty:/usr/bin/false\n",
      "root:*:0:0:System Administrator:/var/root:/bin/sh\n",
      "daemon:*:1:1:System Services:/var/root:/usr/bin/false\n",
      "_uucp:*:4:4:Unix to Unix Copy Protocol:/var/spool/uucp:/usr/sbin/uucico\n",
      "_taskgated:*:13:13:Task Gate Daemon:/var/empty:/usr/bin/false\n",
      "\n",
      "_networkd:*:24:24:Network Services:/var/networkd:/usr/bin/false\n",
      "_installassistant:*:25:25:Install Assistant:/var/empty:/usr/bin/false\n",
      "_lp:*:26:26:Printing Services:/var/spool/cups:/usr/bin/false\n",
      "_postfix:*:27:27:Postfix Mail Server:/var/spool/postfix:/usr/bin/false\n",
      "_scsd:*:31:31:Service Configuration Service:/var/empty:/usr/bin/false\n",
      "\n",
      "_ces:*:32:32:Certificate Enrollment Service:/var/empty:/usr/bin/false\n",
      "_appstore:*:33:33:Mac App Store Service:/var/db/appstore:/usr/bin/false\n",
      "_mcxalr:*:54:54:MCX AppLaunch:/var/empty:/usr/bin/false\n",
      "_appleevents:*:55:55:AppleEvents Daemon:/var/empty:/usr/bin/false\n",
      "_geod:*:56:56:Geo Services Daemon:/var/db/geod:/usr/bin/false\n",
      "\n",
      "_devdocs:*:59:59:Developer Documentation:/var/empty:/usr/bin/false\n",
      "_sandbox:*:60:60:Seatbelt:/var/empty:/usr/bin/false\n",
      "_mdnsresponder:*:65:65:mDNSResponder:/var/empty:/usr/bin/false\n",
      "_ard:*:67:67:Apple Remote Desktop:/var/empty:/usr/bin/false\n",
      "_www:*:70:70:World Wide Web Server:/Library/WebServer:/usr/bin/false\n",
      "\n",
      "_eppc:*:71:71:Apple Events User:/var/empty:/usr/bin/false\n",
      "_cvs:*:72:72:CVS Server:/var/empty:/usr/bin/false\n",
      "_svn:*:73:73:SVN Server:/var/empty:/usr/bin/false\n",
      "_mysql:*:74:74:MySQL Server:/var/empty:/usr/bin/false\n",
      "_sshd:*:75:75:sshd Privilege separation:/var/empty:/usr/bin/false\n",
      "\n",
      "_qtss:*:76:76:QuickTime Streaming Server:/var/empty:/usr/bin/false\n",
      "_cyrus:*:77:6:Cyrus Administrator:/var/imap:/usr/bin/false\n",
      "_mailman:*:78:78:Mailman List Server:/var/empty:/usr/bin/false\n",
      "_appserver:*:79:79:Application Server:/var/empty:/usr/bin/false\n",
      "_clamav:*:82:82:ClamAV Daemon:/var/virusmails:/usr/bin/false\n",
      "\n",
      "_amavisd:*:83:83:AMaViS Daemon:/var/virusmails:/usr/bin/false\n",
      "_jabber:*:84:84:Jabber XMPP Server:/var/empty:/usr/bin/false\n",
      "_appowner:*:87:87:Application Owner:/var/empty:/usr/bin/false\n",
      "_windowserver:*:88:88:WindowServer:/var/empty:/usr/bin/false\n",
      "_spotlight:*:89:89:Spotlight:/var/empty:/usr/bin/false\n",
      "\n",
      "_tokend:*:91:91:Token Daemon:/var/empty:/usr/bin/false\n",
      "_securityagent:*:92:92:SecurityAgent:/var/db/securityagent:/usr/bin/false\n",
      "_calendar:*:93:93:Calendar:/var/empty:/usr/bin/false\n",
      "_teamsserver:*:94:94:TeamsServer:/var/teamsserver:/usr/bin/false\n",
      "_update_sharing:*:95:-2:Update Sharing:/var/empty:/usr/bin/false\n",
      "\n",
      "_installer:*:96:-2:Installer:/var/empty:/usr/bin/false\n",
      "_atsserver:*:97:97:ATS Server:/var/empty:/usr/bin/false\n",
      "_ftp:*:98:-2:FTP Daemon:/var/empty:/usr/bin/false\n",
      "_unknown:*:99:99:Unknown User:/var/empty:/usr/bin/false\n",
      "_softwareupdate:*:200:200:Software Update Service:/var/db/softwareupdate:/usr/bin/false\n",
      "\n",
      "_coreaudiod:*:202:202:Core Audio Daemon:/var/empty:/usr/bin/false\n",
      "_screensaver:*:203:203:Screensaver:/var/empty:/usr/bin/false\n",
      "_locationd:*:205:205:Location Daemon:/var/db/locationd:/usr/bin/false\n",
      "_trustevaluationagent:*:208:208:Trust Evaluation Agent:/var/empty:/usr/bin/false\n",
      "_timezone:*:210:210:AutoTimeZoneDaemon:/var/empty:/usr/bin/false\n",
      "\n",
      "_lda:*:211:211:Local Delivery Agent:/var/empty:/usr/bin/false\n",
      "_cvmsroot:*:212:212:CVMS Root:/var/empty:/usr/bin/false\n",
      "_usbmuxd:*:213:213:iPhone OS Device Helper:/var/db/lockdown:/usr/bin/false\n",
      "_dovecot:*:214:6:Dovecot Administrator:/var/empty:/usr/bin/false\n",
      "_dpaudio:*:215:215:DP Audio:/var/empty:/usr/bin/false\n",
      "\n",
      "_postgres:*:216:216:PostgreSQL Server:/var/empty:/usr/bin/false\n",
      "_krbtgt:*:217:-2:Kerberos Ticket Granting Ticket:/var/empty:/usr/bin/false\n",
      "_kadmin_admin:*:218:-2:Kerberos Admin Service:/var/empty:/usr/bin/false\n",
      "_kadmin_changepw:*:219:-2:Kerberos Change Password Service:/var/empty:/usr/bin/false\n",
      "_devicemgr:*:220:220:Device Management Server:/var/empty:/usr/bin/false\n",
      "\n",
      "_webauthserver:*:221:221:Web Auth Server:/var/empty:/usr/bin/false\n",
      "_netbios:*:222:222:NetBIOS:/var/empty:/usr/bin/false\n",
      "_warmd:*:224:224:Warm Daemon:/var/empty:/usr/bin/false\n",
      "_dovenull:*:227:227:Dovecot Authentication:/var/empty:/usr/bin/false\n",
      "_netstatistics:*:228:228:Network Statistics Daemon:/var/empty:/usr/bin/false\n",
      "\n",
      "_avbdeviced:*:229:-2:Ethernet AVB Device Daemon:/var/empty:/usr/bin/false\n",
      "_krb_krbtgt:*:230:-2:Open Directory Kerberos Ticket Granting Ticket:/var/empty:/usr/bin/false\n",
      "_krb_kadmin:*:231:-2:Open Directory Kerberos Admin Service:/var/empty:/usr/bin/false\n",
      "_krb_changepw:*:232:-2:Open Directory Kerberos Change Password Service:/var/empty:/usr/bin/false\n",
      "_krb_kerberos:*:233:-2:Open Directory Kerberos:/var/empty:/usr/bin/false\n",
      "\n",
      "_krb_anonymous:*:234:-2:Open Directory Kerberos Anonymous:/var/empty:/usr/bin/false\n",
      "_assetcache:*:235:235:Asset Cache Service:/var/empty:/usr/bin/false\n",
      "_coremediaiod:*:236:236:Core Media IO Daemon:/var/empty:/usr/bin/false\n",
      "_launchservicesd:*:239:239:_launchservicesd:/var/empty:/usr/bin/false\n",
      "_iconservices:*:240:240:IconServices:/var/empty:/usr/bin/false\n",
      "\n",
      "_distnote:*:241:241:DistNote:/var/empty:/usr/bin/false\n",
      "_nsurlsessiond:*:242:242:NSURLSession Daemon:/var/db/nsurlsessiond:/usr/bin/false\n",
      "_displaypolicyd:*:244:244:Display Policy Daemon:/var/empty:/usr/bin/false\n",
      "_astris:*:245:245:Astris Services:/var/db/astris:/usr/bin/false\n",
      "_krbfast:*:246:-2:Kerberos FAST Account:/var/empty:/usr/bin/false\n",
      "\n",
      "_gamecontrollerd:*:247:247:Game Controller Daemon:/var/empty:/usr/bin/false\n",
      "_mbsetupuser:*:248:248:Setup User:/var/setup:/bin/bash\n",
      "_ondemand:*:249:249:On Demand Resource Daemon:/var/db/ondemand:/usr/bin/false\n",
      "_xserverdocs:*:251:251:macOS Server Documents Service:/var/empty:/usr/bin/false\n",
      "_wwwproxy:*:252:252:WWW Proxy:/var/empty:/usr/bin/false\n",
      "\n",
      "_mobileasset:*:253:253:MobileAsset User:/var/ma:/usr/bin/false\n",
      "_findmydevice:*:254:254:Find My Device Daemon:/var/db/findmydevice:/usr/bin/false\n",
      "_datadetectors:*:257:257:DataDetectors:/var/db/datadetectors:/usr/bin/false\n",
      "_captiveagent:*:258:258:captiveagent:/var/empty:/usr/bin/false\n",
      "_ctkd:*:259:259:ctkd Account:/var/empty:/usr/bin/false\n",
      "\n",
      "_applepay:*:260:260:applepay Account:/var/db/applepay:/usr/bin/false\n",
      "_hidd:*:261:261:HID Service User:/var/db/hidd:/usr/bin/false\n",
      "_cmiodalassistants:*:262:262:CoreMedia IO Assistants User:/var/db/cmiodalassistants:/usr/bin/false\n",
      "_analyticsd:*:263:263:Analytics Daemon:/var/db/analyticsd:/usr/bin/false\n",
      "_fpsd:*:265:265:FPS Daemon:/var/db/fpsd:/usr/bin/false\n",
      "\n",
      "_timed:*:266:266:Time Sync Daemon:/var/db/timed:/usr/bin/false\n",
      "_nearbyd:*:268:268:Proximity and Ranging Daemon:/var/db/nearbyd:/usr/bin/false\n",
      "_reportmemoryexception:*:269:269:ReportMemoryException:/var/db/reportmemoryexception:/usr/bin/false\n",
      "_driverkit:*:270:270:DriverKit:/var/empty:/usr/bin/false\n",
      "_diskimagesiod:*:271:271:DiskImages IO Daemon:/var/db/diskimagesiod:/usr/bin/false\n",
      "\n",
      "_logd:*:272:272:Log Daemon:/var/db/diagnostics:/usr/bin/false\n",
      "_appinstalld:*:273:273:App Install Daemon:/var/db/appinstalld:/usr/bin/false\n",
      "_installcoordinationd:*:274:274:Install Coordination Daemon:/var/db/installcoordinationd:/usr/bin/false\n",
      "_demod:*:275:275:Demo Daemon:/var/empty:/usr/bin/false\n",
      "_rmd:*:277:277:Remote Management Daemon:/var/db/rmd:/usr/bin/false\n",
      "\n",
      "_accessoryupdater:*:278:278:Accessory Update Daemon:/var/db/accessoryupdater:/usr/bin/false\n",
      "_knowledgegraphd:*:279:279:Knowledge Graph Daemon:/var/db/knowledgegraphd:/usr/bin/false\n",
      "_coreml:*:280:280:CoreML Services:/var/empty:/usr/bin/false\n",
      "_sntpd:*:281:281:SNTP Server Daemon:/var/empty:/usr/bin/false\n",
      "_trustd:*:282:282:trustd:/var/empty:/usr/bin/false\n",
      "\n",
      "_darwindaemon:*:284:284:Darwin Daemon:/var/db/darwindaemon:/usr/bin/false\n",
      "_notification_proxy:*:285:285:Notification Proxy:/var/empty:/usr/bin/false\n",
      "_oahd:*:441:441:OAH Daemon:/var/empty:/usr/bin/false\n",
      "\n"
     ]
    }
   ],
   "source": [
    "def read_n(filename, n):\n",
    "    with open(filename) as f:\n",
    "        while True:\n",
    "            output = ''\n",
    "            \n",
    "            for i in range(n):\n",
    "                output += f.readline()\n",
    "\n",
    "            if output:\n",
    "                yield output\n",
    "            else:\n",
    "                break\n",
    "                \n",
    "for one_chunk in read_n('/etc/passwd', 5):\n",
    "    print(one_chunk)"
   ]
  },
  {
   "cell_type": "code",
   "execution_count": 133,
   "id": "299259a2",
   "metadata": {},
   "outputs": [],
   "source": [
    "g = read_n('/etc/passwd', 5)"
   ]
  },
  {
   "cell_type": "code",
   "execution_count": 134,
   "id": "f065b852",
   "metadata": {},
   "outputs": [
    {
     "data": {
      "text/plain": [
       "'##\\n# User Database\\n# \\n# Note that this file is consulted directly only when the system is running\\n# in single-user mode.  At other times this information is provided by\\n'"
      ]
     },
     "execution_count": 134,
     "metadata": {},
     "output_type": "execute_result"
    }
   ],
   "source": [
    "next(g)"
   ]
  },
  {
   "cell_type": "code",
   "execution_count": 135,
   "id": "32577b54",
   "metadata": {},
   "outputs": [
    {
     "data": {
      "text/plain": [
       "['__class__',\n",
       " '__del__',\n",
       " '__delattr__',\n",
       " '__dir__',\n",
       " '__doc__',\n",
       " '__eq__',\n",
       " '__format__',\n",
       " '__ge__',\n",
       " '__getattribute__',\n",
       " '__gt__',\n",
       " '__hash__',\n",
       " '__init__',\n",
       " '__init_subclass__',\n",
       " '__iter__',\n",
       " '__le__',\n",
       " '__lt__',\n",
       " '__name__',\n",
       " '__ne__',\n",
       " '__new__',\n",
       " '__next__',\n",
       " '__qualname__',\n",
       " '__reduce__',\n",
       " '__reduce_ex__',\n",
       " '__repr__',\n",
       " '__setattr__',\n",
       " '__sizeof__',\n",
       " '__str__',\n",
       " '__subclasshook__',\n",
       " 'close',\n",
       " 'gi_code',\n",
       " 'gi_frame',\n",
       " 'gi_running',\n",
       " 'gi_yieldfrom',\n",
       " 'send',\n",
       " 'throw']"
      ]
     },
     "execution_count": 135,
     "metadata": {},
     "output_type": "execute_result"
    }
   ],
   "source": [
    "dir(g)"
   ]
  },
  {
   "cell_type": "code",
   "execution_count": 137,
   "id": "fd73f260",
   "metadata": {},
   "outputs": [
    {
     "data": {
      "text/plain": [
       "{'filename': '/etc/passwd',\n",
       " 'n': 5,\n",
       " 'f': <_io.TextIOWrapper name='/etc/passwd' mode='r' encoding='UTF-8'>,\n",
       " 'output': '##\\n# User Database\\n# \\n# Note that this file is consulted directly only when the system is running\\n# in single-user mode.  At other times this information is provided by\\n',\n",
       " 'i': 4}"
      ]
     },
     "execution_count": 137,
     "metadata": {},
     "output_type": "execute_result"
    }
   ],
   "source": [
    "g.gi_frame.f_locals"
   ]
  },
  {
   "cell_type": "code",
   "execution_count": 138,
   "id": "1f77018f",
   "metadata": {},
   "outputs": [
    {
     "data": {
      "text/plain": [
       "'# Open Directory.\\n#\\n# See the opendirectoryd(8) man page for additional information about\\n# Open Directory.\\n##\\n'"
      ]
     },
     "execution_count": 138,
     "metadata": {},
     "output_type": "execute_result"
    }
   ],
   "source": [
    "next(g)"
   ]
  },
  {
   "cell_type": "code",
   "execution_count": 139,
   "id": "cddbc9e4",
   "metadata": {},
   "outputs": [
    {
     "data": {
      "text/plain": [
       "{'filename': '/etc/passwd',\n",
       " 'n': 5,\n",
       " 'f': <_io.TextIOWrapper name='/etc/passwd' mode='r' encoding='UTF-8'>,\n",
       " 'output': '# Open Directory.\\n#\\n# See the opendirectoryd(8) man page for additional information about\\n# Open Directory.\\n##\\n',\n",
       " 'i': 4}"
      ]
     },
     "execution_count": 139,
     "metadata": {},
     "output_type": "execute_result"
    }
   ],
   "source": [
    "g.gi_frame.f_locals"
   ]
  },
  {
   "cell_type": "markdown",
   "id": "5a9dbade",
   "metadata": {},
   "source": [
    "# Next up\n",
    "\n",
    "- Decorators\n",
    "- signals\n",
    "- Files + directories"
   ]
  },
  {
   "cell_type": "markdown",
   "id": "b58b9325",
   "metadata": {},
   "source": [
    "# Decorators"
   ]
  },
  {
   "cell_type": "code",
   "execution_count": 141,
   "id": "971c521f",
   "metadata": {},
   "outputs": [
    {
     "name": "stdout",
     "output_type": "stream",
     "text": [
      "A!\n",
      "\n",
      "B!\n",
      "\n"
     ]
    }
   ],
   "source": [
    "def a():\n",
    "    return 'A!\\n'\n",
    "\n",
    "def b():\n",
    "    return 'B!\\n'\n",
    "\n",
    "print(a())\n",
    "print(b())"
   ]
  },
  {
   "cell_type": "code",
   "execution_count": 142,
   "id": "7a5bf9d5",
   "metadata": {},
   "outputs": [
    {
     "name": "stdout",
     "output_type": "stream",
     "text": [
      "----------\n",
      "A!\n",
      "----------\n",
      "\n",
      "----------\n",
      "B!\n",
      "----------\n",
      "\n"
     ]
    }
   ],
   "source": [
    "# let's add dashed lines above and below each printout\n",
    "\n",
    "lines = '-' * 10 + '\\n'\n",
    "\n",
    "def a():\n",
    "    return f'{lines}A!\\n{lines}'\n",
    "\n",
    "def b():\n",
    "    return f'{lines}B!\\n{lines}'\n",
    "\n",
    "print(a())\n",
    "print(b())"
   ]
  },
  {
   "cell_type": "code",
   "execution_count": 143,
   "id": "17844b42",
   "metadata": {},
   "outputs": [
    {
     "name": "stdout",
     "output_type": "stream",
     "text": [
      "----------\n",
      "A!\n",
      "----------\n",
      "\n",
      "----------\n",
      "B!\n",
      "----------\n",
      "\n"
     ]
    }
   ],
   "source": [
    "# solution to the DRY problem: Write a function that does it for us\n",
    "\n",
    "lines = '-' * 10 + '\\n'\n",
    "\n",
    "def with_lines(func):\n",
    "    return f'{lines}{func()}{lines}'\n",
    "\n",
    "def a():\n",
    "    return f'A!\\n'\n",
    "\n",
    "def b():\n",
    "    return f'B!\\n'\n",
    "\n",
    "print(with_lines(a))\n",
    "print(with_lines(b))"
   ]
  },
  {
   "cell_type": "code",
   "execution_count": 144,
   "id": "ea8b7348",
   "metadata": {},
   "outputs": [
    {
     "name": "stdout",
     "output_type": "stream",
     "text": [
      "----------\n",
      "A!\n",
      "----------\n",
      "\n",
      "----------\n",
      "B!\n",
      "----------\n",
      "\n"
     ]
    }
   ],
   "source": [
    "# I want to keep the original API\n",
    "# on the way to doing that, I'll modify with_lines\n",
    "\n",
    "lines = '-' * 10 + '\\n'\n",
    "\n",
    "def with_lines(func):\n",
    "    def wrapper():\n",
    "        return f'{lines}{func()}{lines}'\n",
    "    return wrapper\n",
    "\n",
    "def a():\n",
    "    return f'A!\\n'\n",
    "with_lines_a = with_lines(a)\n",
    "\n",
    "def b():\n",
    "    return f'B!\\n'\n",
    "with_lines_b = with_lines(b)\n",
    "\n",
    "print(with_lines_a())\n",
    "print(with_lines_b())"
   ]
  },
  {
   "cell_type": "code",
   "execution_count": 145,
   "id": "905c9506",
   "metadata": {},
   "outputs": [
    {
     "name": "stdout",
     "output_type": "stream",
     "text": [
      "----------\n",
      "A!\n",
      "----------\n",
      "\n",
      "----------\n",
      "B!\n",
      "----------\n",
      "\n"
     ]
    }
   ],
   "source": [
    "# Assign the result of with_lines back to a/b\n",
    "\n",
    "lines = '-' * 10 + '\\n'\n",
    "\n",
    "def with_lines(func):\n",
    "    def wrapper():\n",
    "        return f'{lines}{func()}{lines}'\n",
    "    return wrapper\n",
    "\n",
    "def a():\n",
    "    return f'A!\\n'\n",
    "a = with_lines(a)\n",
    "\n",
    "def b():\n",
    "    return f'B!\\n'\n",
    "b = with_lines(b)\n",
    "\n",
    "print(a())\n",
    "print(b())"
   ]
  },
  {
   "cell_type": "code",
   "execution_count": 146,
   "id": "3ac3ed20",
   "metadata": {},
   "outputs": [
    {
     "name": "stdout",
     "output_type": "stream",
     "text": [
      "----------\n",
      "A!\n",
      "----------\n",
      "\n",
      "----------\n",
      "B!\n",
      "----------\n",
      "\n"
     ]
    }
   ],
   "source": [
    "# use the decorator syntax\n",
    "\n",
    "lines = '-' * 10 + '\\n'\n",
    "\n",
    "def with_lines(func):\n",
    "    def wrapper():\n",
    "        return f'{lines}{func()}{lines}'\n",
    "    return wrapper\n",
    "\n",
    "@with_lines\n",
    "def a():\n",
    "    return f'A!\\n'\n",
    "# a = with_lines(a)\n",
    "\n",
    "@with_lines\n",
    "def b():\n",
    "    return f'B!\\n'\n",
    "# b = with_lines(b)\n",
    "\n",
    "print(a())\n",
    "print(b())"
   ]
  },
  {
   "cell_type": "code",
   "execution_count": 147,
   "id": "27578010",
   "metadata": {},
   "outputs": [
    {
     "data": {
      "text/plain": [
       "'wrapper'"
      ]
     },
     "execution_count": 147,
     "metadata": {},
     "output_type": "execute_result"
    }
   ],
   "source": [
    "a.__name__"
   ]
  },
  {
   "cell_type": "code",
   "execution_count": null,
   "id": "da0e6ae8",
   "metadata": {},
   "outputs": [],
   "source": []
  }
 ],
 "metadata": {
  "kernelspec": {
   "display_name": "Python 3 (ipykernel)",
   "language": "python",
   "name": "python3"
  },
  "language_info": {
   "codemirror_mode": {
    "name": "ipython",
    "version": 3
   },
   "file_extension": ".py",
   "mimetype": "text/x-python",
   "name": "python",
   "nbconvert_exporter": "python",
   "pygments_lexer": "ipython3",
   "version": "3.10.6"
  }
 },
 "nbformat": 4,
 "nbformat_minor": 5
}
