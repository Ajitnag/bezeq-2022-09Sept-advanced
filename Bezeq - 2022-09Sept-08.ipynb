{
 "cells": [
  {
   "cell_type": "markdown",
   "id": "2d5f9840",
   "metadata": {},
   "source": [
    "# Agenda\n",
    "\n",
    "- Attributes (ICPO)\n",
    "- Magic methods\n",
    "- Context managers\n",
    "- Iterators\n",
    "- Generators\n",
    "- Decorators \n",
    "- signals"
   ]
  },
  {
   "cell_type": "code",
   "execution_count": 1,
   "id": "1524f67a",
   "metadata": {},
   "outputs": [
    {
     "name": "stdout",
     "output_type": "stream",
     "text": [
      "Hello, name1!\n",
      "Hello, name2!\n"
     ]
    }
   ],
   "source": [
    "class Person:\n",
    "    def __init__(self, name):\n",
    "        self.name = name\n",
    "        \n",
    "    def greet(self):\n",
    "        return f'Hello, {self.name}!'\n",
    "    \n",
    "p1 = Person('name1')    \n",
    "p2 = Person('name2')\n",
    "\n",
    "print(p1.greet())\n",
    "print(p2.greet())"
   ]
  },
  {
   "cell_type": "code",
   "execution_count": 2,
   "id": "6ea95c8c",
   "metadata": {},
   "outputs": [
    {
     "data": {
      "text/plain": [
       "__main__.Person"
      ]
     },
     "execution_count": 2,
     "metadata": {},
     "output_type": "execute_result"
    }
   ],
   "source": [
    "type(p1)"
   ]
  },
  {
   "cell_type": "code",
   "execution_count": 3,
   "id": "ff53c4bd",
   "metadata": {},
   "outputs": [
    {
     "data": {
      "text/plain": [
       "__main__.Person"
      ]
     },
     "execution_count": 3,
     "metadata": {},
     "output_type": "execute_result"
    }
   ],
   "source": [
    "type(p2)"
   ]
  },
  {
   "cell_type": "code",
   "execution_count": 5,
   "id": "95168fcd",
   "metadata": {},
   "outputs": [
    {
     "name": "stdout",
     "output_type": "stream",
     "text": [
      "Before, population = 0\n",
      "After, population = 2\n",
      "Hello, name1!\n",
      "Hello, name2!\n"
     ]
    }
   ],
   "source": [
    "# how many people have we created?\n",
    "# option 1: global variable\n",
    "\n",
    "population = 0\n",
    "\n",
    "class Person:\n",
    "    def __init__(self, name):\n",
    "        global population\n",
    "        self.name = name\n",
    "        population += 1\n",
    "        \n",
    "    def greet(self):\n",
    "        return f'Hello, {self.name}!'\n",
    "    \n",
    "print(f'Before, population = {population}')\n",
    "p1 = Person('name1')    \n",
    "p2 = Person('name2')\n",
    "print(f'After, population = {population}')\n",
    "\n",
    "print(p1.greet())\n",
    "print(p2.greet())"
   ]
  },
  {
   "cell_type": "code",
   "execution_count": 6,
   "id": "6d55cde2",
   "metadata": {},
   "outputs": [
    {
     "name": "stdout",
     "output_type": "stream",
     "text": [
      "Before, population = 0\n",
      "After, population = 2\n",
      "Hello, name1!\n",
      "Hello, name2!\n"
     ]
    }
   ],
   "source": [
    "# how many people have we created?\n",
    "# option 2: class attribute\n",
    "\n",
    "class Person:\n",
    "    def __init__(self, name):\n",
    "        self.name = name\n",
    "        Person.population += 1\n",
    "        \n",
    "    def greet(self):\n",
    "        return f'Hello, {self.name}!'\n",
    "    \n",
    "Person.population = 0\n",
    "\n",
    "print(f'Before, population = {Person.population}')\n",
    "p1 = Person('name1')    \n",
    "p2 = Person('name2')\n",
    "print(f'After, population = {Person.population}')\n",
    "\n",
    "print(p1.greet())\n",
    "print(p2.greet())"
   ]
  },
  {
   "cell_type": "code",
   "execution_count": 7,
   "id": "ca60cbaf",
   "metadata": {},
   "outputs": [
    {
     "name": "stdout",
     "output_type": "stream",
     "text": [
      "A\n",
      "B\n",
      "D\n",
      "E\n",
      "C\n",
      "C\n"
     ]
    }
   ],
   "source": [
    "print('A')\n",
    "class MyClass:\n",
    "    print('B')\n",
    "    def __init__(self, x):\n",
    "        print('C')\n",
    "        self.x = x\n",
    "    print('D')\n",
    "print('E')\n",
    "        \n",
    "m1 = MyClass(10)        \n",
    "m2 = MyClass(20)"
   ]
  },
  {
   "cell_type": "code",
   "execution_count": 3,
   "id": "cda51c49",
   "metadata": {},
   "outputs": [
    {
     "name": "stdout",
     "output_type": "stream",
     "text": [
      "Before, population = 0\n",
      "After, population = 2\n",
      "After, p1.population = 2\n",
      "After, p2.population = 2\n",
      "Hello, name1!\n",
      "Hello, name2!\n"
     ]
    }
   ],
   "source": [
    "# how many people have we created?\n",
    "# option 3: class attribute, defined in the class\n",
    "\n",
    "class Person:\n",
    "    population = 0   # defining Person.population a class attribute\n",
    "\n",
    "    def __init__(self, name):\n",
    "        self.name = name\n",
    "        Person.population += 1\n",
    "        \n",
    "    def greet(self):\n",
    "        return f'Hello, {self.name}!'\n",
    "    \n",
    "\n",
    "print(f'Before, population = {Person.population}')\n",
    "p1 = Person('name1')    \n",
    "p2 = Person('name2')\n",
    "print(f'After, population = {Person.population}')\n",
    "print(f'After, p1.population = {p1.population}')\n",
    "print(f'After, p2.population = {p2.population}')\n",
    "\n",
    "print(p1.greet()) \n",
    "print(p2.greet())"
   ]
  },
  {
   "cell_type": "markdown",
   "id": "9d34d43b",
   "metadata": {},
   "source": [
    "# Attribute search in Python\n",
    "\n",
    "- I  -- instance\n",
    "- C -- class\n",
    "- P  -- parent(s)\n",
    "- O -- `object`"
   ]
  },
  {
   "cell_type": "code",
   "execution_count": 4,
   "id": "774a8488",
   "metadata": {},
   "outputs": [
    {
     "data": {
      "text/plain": [
       "'abcd'"
      ]
     },
     "execution_count": 4,
     "metadata": {},
     "output_type": "execute_result"
    }
   ],
   "source": [
    "s = 'aBcD'\n",
    "\n",
    "s.lower()"
   ]
  },
  {
   "cell_type": "code",
   "execution_count": 5,
   "id": "7f2fd283",
   "metadata": {},
   "outputs": [
    {
     "data": {
      "text/plain": [
       "'ABCD'"
      ]
     },
     "execution_count": 5,
     "metadata": {},
     "output_type": "execute_result"
    }
   ],
   "source": [
    "s.upper()  # --> str.upper(s)"
   ]
  },
  {
   "cell_type": "code",
   "execution_count": 6,
   "id": "1edf7ffa",
   "metadata": {},
   "outputs": [
    {
     "data": {
      "text/plain": [
       "'abcd'"
      ]
     },
     "execution_count": 6,
     "metadata": {},
     "output_type": "execute_result"
    }
   ],
   "source": [
    "str.lower(s)"
   ]
  },
  {
   "cell_type": "code",
   "execution_count": 7,
   "id": "de29dbc6",
   "metadata": {},
   "outputs": [
    {
     "data": {
      "text/plain": [
       "'ABCD'"
      ]
     },
     "execution_count": 7,
     "metadata": {},
     "output_type": "execute_result"
    }
   ],
   "source": [
    "str.upper(s)"
   ]
  },
  {
   "cell_type": "code",
   "execution_count": 8,
   "id": "f129de4d",
   "metadata": {},
   "outputs": [
    {
     "name": "stdout",
     "output_type": "stream",
     "text": [
      "Before, population = 0\n",
      "After, population = 0\n",
      "After, p1.population = 1\n",
      "After, p2.population = 1\n",
      "Hello, name1!\n",
      "Hello, name2!\n"
     ]
    }
   ],
   "source": [
    "# what if I do this?\n",
    "\n",
    "class Person:\n",
    "    population = 0  \n",
    "\n",
    "    def __init__(self, name):\n",
    "        self.name = name\n",
    "        # self.population += 1    # will this work? What will happen?\n",
    "        self.population = self.population + 1\n",
    "    def greet(self):\n",
    "        return f'Hello, {self.name}!'\n",
    "    \n",
    "\n",
    "print(f'Before, population = {Person.population}')\n",
    "p1 = Person('name1')    \n",
    "p2 = Person('name2')\n",
    "print(f'After, population = {Person.population}')\n",
    "print(f'After, p1.population = {p1.population}')\n",
    "print(f'After, p2.population = {p2.population}')\n",
    "\n",
    "print(p1.greet()) \n",
    "print(p2.greet())"
   ]
  },
  {
   "cell_type": "markdown",
   "id": "c9afe95b",
   "metadata": {},
   "source": [
    "# Class attributes\n",
    "\n",
    "You can read class attributes from either the class, or from the instance.  \n",
    "\n",
    "Write class attributes *only* via the class.  (Or else!)"
   ]
  },
  {
   "cell_type": "markdown",
   "id": "1b967e10",
   "metadata": {},
   "source": [
    "# Inheritance"
   ]
  },
  {
   "cell_type": "code",
   "execution_count": 11,
   "id": "a55a14ab",
   "metadata": {},
   "outputs": [
    {
     "name": "stdout",
     "output_type": "stream",
     "text": [
      "Hello, name1!\n",
      "Hello, name2!\n",
      "Hello, emp1!\n",
      "Hello, emp2!\n"
     ]
    }
   ],
   "source": [
    "class Person:\n",
    "    def __init__(self, name):\n",
    "        self.name = name\n",
    "    def greet(self):\n",
    "        return f'Hello, {self.name}!'\n",
    "    \n",
    "\n",
    "p1 = Person('name1')    \n",
    "p2 = Person('name2')\n",
    "\n",
    "print(p1.greet()) \n",
    "print(p2.greet())\n",
    "\n",
    "class Employee(Person):\n",
    "    def __init__(self, name, id_number):\n",
    "        self.name = name\n",
    "        self.id_number = id_number\n",
    "    def greet(self):\n",
    "        return f'Hello, {self.name}!'\n",
    "    \n",
    "e1 = Employee('emp1', 1)    \n",
    "e2 = Employee('emp2', 2)\n",
    "\n",
    "print(e1.greet()) # does e1 have greet? NO. Does Employee have greet? YES.\n",
    "print(e2.greet()) # \"\" e2 \"\""
   ]
  },
  {
   "cell_type": "code",
   "execution_count": 13,
   "id": "52b45a08",
   "metadata": {},
   "outputs": [
    {
     "name": "stdout",
     "output_type": "stream",
     "text": [
      "Hello, name1!\n",
      "Hello, name2!\n",
      "Hello, emp1!\n",
      "Hello, emp2!\n"
     ]
    }
   ],
   "source": [
    "# let's remove Employee.greet.  Will things now work?\n",
    "\n",
    "class Person:\n",
    "    def __init__(self, name):\n",
    "        self.name = name\n",
    "    def greet(self):\n",
    "        return f'Hello, {self.name}!'\n",
    "    \n",
    "\n",
    "p1 = Person('name1')    \n",
    "p2 = Person('name2')\n",
    "\n",
    "print(p1.greet()) \n",
    "print(p2.greet())\n",
    "\n",
    "class Employee(Person):\n",
    "    def __init__(self, name, id_number):\n",
    "        self.name = name\n",
    "        self.id_number = id_number\n",
    "    \n",
    "e1 = Employee('emp1', 1)    \n",
    "e2 = Employee('emp2', 2)\n",
    "\n",
    "print(e1.greet()) \n",
    "print(e2.greet()) "
   ]
  },
  {
   "cell_type": "code",
   "execution_count": 20,
   "id": "3f531ea8",
   "metadata": {},
   "outputs": [
    {
     "name": "stdout",
     "output_type": "stream",
     "text": [
      "Hello, name1!\n",
      "Hello, name2!\n",
      "Hello, emp1!\n",
      "Hello, emp2!\n"
     ]
    }
   ],
   "source": [
    "# let's remove the assignment to name from Employee\n",
    "\n",
    "class Person:\n",
    "    def __init__(self, name):\n",
    "        self.name = name\n",
    "    def greet(self):\n",
    "        return f'Hello, {self.name}!'\n",
    "    \n",
    "\n",
    "p1 = Person('name1')    \n",
    "p2 = Person('name2')\n",
    "\n",
    "print(p1.greet()) \n",
    "print(p2.greet())\n",
    "\n",
    "class Employee(Person):\n",
    "    def __init__(self, name, id_number):\n",
    "        # Person.__init__(self, name)\n",
    "        super().__init__(name)   # better than calling Person.__init__\n",
    "        self.id_number = id_number\n",
    "    \n",
    "e1 = Employee('emp1', 1) # e1.__init__? No. Employee.__init__? YES   \n",
    "e2 = Employee('emp2', 2) \n",
    "\n",
    "print(e1.greet())   # e1.greet? NO. Employee.greet? NO. Person.greet? YES\n",
    "print(e2.greet()) "
   ]
  },
  {
   "cell_type": "code",
   "execution_count": 15,
   "id": "85637afe",
   "metadata": {},
   "outputs": [
    {
     "data": {
      "text/plain": [
       "{'name': 'name1'}"
      ]
     },
     "execution_count": 15,
     "metadata": {},
     "output_type": "execute_result"
    }
   ],
   "source": [
    "vars(p1)"
   ]
  },
  {
   "cell_type": "code",
   "execution_count": 16,
   "id": "d14012cd",
   "metadata": {},
   "outputs": [
    {
     "data": {
      "text/plain": [
       "{'name': 'name2'}"
      ]
     },
     "execution_count": 16,
     "metadata": {},
     "output_type": "execute_result"
    }
   ],
   "source": [
    "vars(p2)"
   ]
  },
  {
   "cell_type": "code",
   "execution_count": 17,
   "id": "2267c4da",
   "metadata": {},
   "outputs": [
    {
     "data": {
      "text/plain": [
       "{'id_number': 1}"
      ]
     },
     "execution_count": 17,
     "metadata": {},
     "output_type": "execute_result"
    }
   ],
   "source": [
    "vars(e1)"
   ]
  },
  {
   "cell_type": "code",
   "execution_count": 18,
   "id": "bffa0ff2",
   "metadata": {},
   "outputs": [
    {
     "data": {
      "text/plain": [
       "{'id_number': 2}"
      ]
     },
     "execution_count": 18,
     "metadata": {},
     "output_type": "execute_result"
    }
   ],
   "source": [
    "vars(e2)"
   ]
  },
  {
   "cell_type": "code",
   "execution_count": 21,
   "id": "dd21f383",
   "metadata": {},
   "outputs": [],
   "source": [
    "def hello():\n",
    "    return 'Hi!'\n",
    "\n",
    "def hello(name):\n",
    "    return f'Hello, {name}!'\n",
    "\n",
    "def hello(first, last):\n",
    "    return f'Hello, {first} {last}'"
   ]
  },
  {
   "cell_type": "code",
   "execution_count": 22,
   "id": "51ed5dba",
   "metadata": {},
   "outputs": [
    {
     "ename": "TypeError",
     "evalue": "hello() missing 2 required positional arguments: 'first' and 'last'",
     "output_type": "error",
     "traceback": [
      "\u001b[0;31m---------------------------------------------------------------------------\u001b[0m",
      "\u001b[0;31mTypeError\u001b[0m                                 Traceback (most recent call last)",
      "Input \u001b[0;32mIn [22]\u001b[0m, in \u001b[0;36m<cell line: 1>\u001b[0;34m()\u001b[0m\n\u001b[0;32m----> 1\u001b[0m \u001b[43mhello\u001b[49m\u001b[43m(\u001b[49m\u001b[43m)\u001b[49m\n",
      "\u001b[0;31mTypeError\u001b[0m: hello() missing 2 required positional arguments: 'first' and 'last'"
     ]
    }
   ],
   "source": [
    "hello()"
   ]
  },
  {
   "cell_type": "code",
   "execution_count": 23,
   "id": "d6be76af",
   "metadata": {},
   "outputs": [
    {
     "ename": "TypeError",
     "evalue": "hello() missing 1 required positional argument: 'last'",
     "output_type": "error",
     "traceback": [
      "\u001b[0;31m---------------------------------------------------------------------------\u001b[0m",
      "\u001b[0;31mTypeError\u001b[0m                                 Traceback (most recent call last)",
      "Input \u001b[0;32mIn [23]\u001b[0m, in \u001b[0;36m<cell line: 1>\u001b[0;34m()\u001b[0m\n\u001b[0;32m----> 1\u001b[0m \u001b[43mhello\u001b[49m\u001b[43m(\u001b[49m\u001b[38;5;124;43m'\u001b[39;49m\u001b[38;5;124;43mworld\u001b[39;49m\u001b[38;5;124;43m'\u001b[39;49m\u001b[43m)\u001b[49m\n",
      "\u001b[0;31mTypeError\u001b[0m: hello() missing 1 required positional argument: 'last'"
     ]
    }
   ],
   "source": [
    "hello('world')"
   ]
  },
  {
   "cell_type": "code",
   "execution_count": 24,
   "id": "c62e8d16",
   "metadata": {},
   "outputs": [],
   "source": [
    "hello = 5"
   ]
  },
  {
   "cell_type": "code",
   "execution_count": 25,
   "id": "915b3157",
   "metadata": {},
   "outputs": [
    {
     "ename": "TypeError",
     "evalue": "'int' object is not callable",
     "output_type": "error",
     "traceback": [
      "\u001b[0;31m---------------------------------------------------------------------------\u001b[0m",
      "\u001b[0;31mTypeError\u001b[0m                                 Traceback (most recent call last)",
      "Input \u001b[0;32mIn [25]\u001b[0m, in \u001b[0;36m<cell line: 1>\u001b[0;34m()\u001b[0m\n\u001b[0;32m----> 1\u001b[0m \u001b[43mhello\u001b[49m\u001b[43m(\u001b[49m\u001b[38;5;124;43m'\u001b[39;49m\u001b[38;5;124;43mworld\u001b[39;49m\u001b[38;5;124;43m'\u001b[39;49m\u001b[43m)\u001b[49m\n",
      "\u001b[0;31mTypeError\u001b[0m: 'int' object is not callable"
     ]
    }
   ],
   "source": [
    "hello('world')"
   ]
  },
  {
   "cell_type": "code",
   "execution_count": 26,
   "id": "cf6c48d6",
   "metadata": {},
   "outputs": [
    {
     "data": {
      "text/plain": [
       "['chocolate', 'vanilla', 'coffee']"
      ]
     },
     "execution_count": 26,
     "metadata": {},
     "output_type": "execute_result"
    }
   ],
   "source": [
    "class Scoop:\n",
    "    def __init__(self, flavor):\n",
    "        self.flavor = flavor\n",
    "\n",
    "s1 = Scoop('chocolate')\n",
    "s2 = Scoop('vanilla')\n",
    "s3 = Scoop('coffee')\n",
    "\n",
    "class Bowl:\n",
    "    def __init__(self):\n",
    "        self.scoops = []  \n",
    "    def add_scoops(self, *args):  # args is a tuple with all scoops\n",
    "        self.scoops += args\n",
    "    def flavors(self):\n",
    "        return [one_scoop.flavor\n",
    "               for one_scoop in self.scoops]\n",
    "\n",
    "b = Bowl()\n",
    "b.add_scoops(s1, s2)\n",
    "b.add_scoops(s3)\n",
    "b.flavors()"
   ]
  },
  {
   "cell_type": "markdown",
   "id": "7ac46c1e",
   "metadata": {},
   "source": [
    "# Exercise: Limited-size bowls\n",
    "\n",
    "1. Limit the number of scoops you can put in a `Bowl` to 3.  The first 3 are put in, the rest are ignored.  Use a class attribute.  \n",
    "2. Now define a new class, `BigBowl`.  We can put up to 5 scoops in an instance of `BigBowl`.\n",
    "\n",
    "```python\n",
    "s4 = Scoop('flavor 4')\n",
    "s5 = Scoop('flavor 5')\n",
    "s6 = Scoop('flavor 6')\n",
    "\n",
    "b.add_scoops(s1, s2, s3, s4, s5, s6)\n",
    "print(b.flavors())  # still three -- ['chocolate', 'vanilla', 'coffee']\n",
    "\n",
    "bb = BigBowl()\n",
    "bb.add_scoops(s1, s2, s3)\n",
    "bb.add_scoops(s4, s5)\n",
    "bb.add_scoops(s6)\n",
    "print(bb.flavors()) # ['chocolate', 'vanilla', 'coffee', 'flavor 4', 'flavor 5']\n",
    "```"
   ]
  },
  {
   "cell_type": "code",
   "execution_count": 27,
   "id": "7ebd146f",
   "metadata": {},
   "outputs": [],
   "source": [
    "# https://github.com/reuven/bezeq-2022-09Sept-advanced\n",
    "\n",
    "# github.com/reuven"
   ]
  },
  {
   "cell_type": "code",
   "execution_count": 37,
   "id": "cb7ec7d3",
   "metadata": {},
   "outputs": [
    {
     "name": "stdout",
     "output_type": "stream",
     "text": [
      "['chocolate', 'vanilla', 'coffee']\n",
      "['chocolate', 'vanilla', 'coffee', 'flavor 4', 'flavor 5']\n"
     ]
    }
   ],
   "source": [
    "class Scoop:\n",
    "    def __init__(self, flavor):\n",
    "        self.flavor = flavor\n",
    "\n",
    "s1 = Scoop('chocolate')\n",
    "s2 = Scoop('vanilla')\n",
    "s3 = Scoop('coffee')\n",
    "s4 = Scoop('flavor 4')\n",
    "s5 = Scoop('flavor 5')\n",
    "s6 = Scoop('flavor 6')\n",
    "\n",
    "class Bowl:\n",
    "    MAX_SCOOPS = 3\n",
    "\n",
    "    def __init__(self):\n",
    "        self.scoops = []  \n",
    "    def add_scoops(self, *args):  \n",
    "#         for one_scoop in args:\n",
    "#             if len(self.scoops) >= self.MAX_SCOOPS:\n",
    "#                 break\n",
    "#             self.scoops.append(one_scoop)\n",
    "\n",
    "         self.scoops += args[:self.MAX_SCOOPS - len(self.scoops)]\n",
    "\n",
    "         # args is (chocoloate, vanilla, coffee)\n",
    "        #                 0           1       2      \n",
    "        # args [:3] is (chocoloate, vanilla, coffee)  # up to, not including 3\n",
    "        \n",
    "\n",
    "    def flavors(self):\n",
    "        return [one_scoop.flavor\n",
    "               for one_scoop in self.scoops]\n",
    "\n",
    "class BigBowl(Bowl):\n",
    "    MAX_SCOOPS = 5\n",
    "\n",
    "b = Bowl()\n",
    "b.add_scoops(s1, s2)\n",
    "b.add_scoops(s3)\n",
    "b.add_scoops(s4, s5, s6)\n",
    "print(b.flavors())  # still three -- ['chocolate', 'vanilla', 'coffee']\n",
    "\n",
    "bb = BigBowl()\n",
    "bb.add_scoops(s1, s2, s3)\n",
    "bb.add_scoops(s4, s5)\n",
    "bb.add_scoops(s6)\n",
    "print(bb.flavors()) # ['chocolate', 'vanilla', 'coffee', 'flavor 4', 'flavor 5']\n"
   ]
  },
  {
   "cell_type": "code",
   "execution_count": 38,
   "id": "aacc1687",
   "metadata": {},
   "outputs": [
    {
     "name": "stdout",
     "output_type": "stream",
     "text": [
      "<__main__.Scoop object at 0x1113e0550>\n"
     ]
    }
   ],
   "source": [
    "print(s1)"
   ]
  },
  {
   "cell_type": "code",
   "execution_count": 39,
   "id": "789f37c0",
   "metadata": {},
   "outputs": [
    {
     "name": "stdout",
     "output_type": "stream",
     "text": [
      "<__main__.Bowl object at 0x110cac160>\n"
     ]
    }
   ],
   "source": [
    "print(b)"
   ]
  },
  {
   "cell_type": "code",
   "execution_count": 40,
   "id": "5570f8fb",
   "metadata": {},
   "outputs": [
    {
     "name": "stdout",
     "output_type": "stream",
     "text": [
      "<__main__.Bowl object at 0x110cac160>\n"
     ]
    }
   ],
   "source": [
    "print(b) # --> print(str(b)) --> print(b.__str__())\n",
    "#   does b have __str__? No\n",
    "#   does Bowl have __str__? No\n",
    "#   does object have __str__ YES"
   ]
  },
  {
   "cell_type": "code",
   "execution_count": 41,
   "id": "d3e00cf6",
   "metadata": {},
   "outputs": [
    {
     "data": {
      "text/plain": [
       "'<__main__.Bowl object at 0x110cac160>'"
      ]
     },
     "execution_count": 41,
     "metadata": {},
     "output_type": "execute_result"
    }
   ],
   "source": [
    "object.__str__(b)"
   ]
  },
  {
   "cell_type": "code",
   "execution_count": 49,
   "id": "9ba2b469",
   "metadata": {},
   "outputs": [
    {
     "name": "stdout",
     "output_type": "stream",
     "text": [
      "Hello, name1!\n",
      "Hello, name2!\n"
     ]
    }
   ],
   "source": [
    "# how many people have we created?\n",
    "# option 3: class attribute, defined in the class\n",
    "\n",
    "class Person:\n",
    "    def __init__(self, name):\n",
    "        self.name = name\n",
    "    def greet(self):\n",
    "        return f'Hello, {self.name}!'\n",
    "#     def __str__(self):   # meant for regular users\n",
    "#         return f'Person named {self.name}'\n",
    "    def __repr__(self):  # meant for programmers\n",
    "        return f'Person named {self.name}'\n",
    "\n",
    "\n",
    "p1 = Person('name1')    \n",
    "p2 = Person('name2')\n",
    "\n",
    "print(p1.greet()) \n",
    "print(p2.greet())"
   ]
  },
  {
   "cell_type": "code",
   "execution_count": 50,
   "id": "1dc74978",
   "metadata": {},
   "outputs": [
    {
     "name": "stdout",
     "output_type": "stream",
     "text": [
      "Person named name1\n"
     ]
    }
   ],
   "source": [
    "print(p1)"
   ]
  },
  {
   "cell_type": "code",
   "execution_count": 51,
   "id": "ca63e10e",
   "metadata": {},
   "outputs": [
    {
     "name": "stdout",
     "output_type": "stream",
     "text": [
      "Person named name2\n"
     ]
    }
   ],
   "source": [
    "print(p2)"
   ]
  },
  {
   "cell_type": "code",
   "execution_count": 52,
   "id": "20093f5f",
   "metadata": {},
   "outputs": [
    {
     "data": {
      "text/plain": [
       "Person named name1"
      ]
     },
     "execution_count": 52,
     "metadata": {},
     "output_type": "execute_result"
    }
   ],
   "source": [
    "p1"
   ]
  },
  {
   "cell_type": "code",
   "execution_count": 53,
   "id": "eed5611a",
   "metadata": {},
   "outputs": [],
   "source": [
    "# Return at 10:50"
   ]
  },
  {
   "cell_type": "code",
   "execution_count": 54,
   "id": "e5611b7f",
   "metadata": {},
   "outputs": [
    {
     "name": "stdout",
     "output_type": "stream",
     "text": [
      "Hello\n"
     ]
    }
   ],
   "source": [
    "print('Hello')"
   ]
  },
  {
   "cell_type": "markdown",
   "id": "b1cd3e62",
   "metadata": {},
   "source": [
    "# This is a test \n",
    "\n",
    "- One\n",
    "- Two \n",
    "    - 2.5\n",
    "    - 2.6\n",
    "    - 2.7\n",
    "- Three    \n",
    "\n",
    "This is in *italics* and in **boldface** and `computer_stuff`. etc."
   ]
  },
  {
   "cell_type": "markdown",
   "id": "37ea6f91",
   "metadata": {},
   "source": [
    "- ESC -- command mode, or click to the left of the cell\n",
    "    - `h` -- help\n",
    "    - `m` -- markdown mode\n",
    "    - `y` -- code mode\n",
    "- ENTER -- edit mode, or click in the cell."
   ]
  },
  {
   "cell_type": "code",
   "execution_count": 55,
   "id": "8ffae7df",
   "metadata": {},
   "outputs": [
    {
     "data": {
      "text/plain": [
       "5"
      ]
     },
     "execution_count": 55,
     "metadata": {},
     "output_type": "execute_result"
    }
   ],
   "source": [
    "# writing to files\n",
    "\n",
    "f = open('myfile.txt', 'w')   # open returns a file object, for writing ('w')\n",
    "\n",
    "f.write('abcd\\n')\n",
    "f.write('efgh\\n')\n",
    "f.write('ijkl\\n')"
   ]
  },
  {
   "cell_type": "code",
   "execution_count": 59,
   "id": "b28e08ad",
   "metadata": {},
   "outputs": [
    {
     "name": "stdout",
     "output_type": "stream",
     "text": [
      "abcd\r\n",
      "efgh\r\n",
      "ijkl\r\n"
     ]
    }
   ],
   "source": [
    "# !cat == show the file\n",
    "\n",
    "!cat myfile.txt"
   ]
  },
  {
   "cell_type": "code",
   "execution_count": 57,
   "id": "4fa27e48",
   "metadata": {},
   "outputs": [],
   "source": [
    "f.flush()   # write the buffer to the file"
   ]
  },
  {
   "cell_type": "code",
   "execution_count": 58,
   "id": "73b2effc",
   "metadata": {},
   "outputs": [
    {
     "name": "stdout",
     "output_type": "stream",
     "text": [
      "abcd\r\n",
      "efgh\r\n",
      "ijkl\r\n"
     ]
    }
   ],
   "source": [
    "!cat myfile.txt"
   ]
  },
  {
   "cell_type": "code",
   "execution_count": 60,
   "id": "02a42292",
   "metadata": {},
   "outputs": [],
   "source": [
    "f.close()    # stop writing to the file + flush, if we need"
   ]
  },
  {
   "cell_type": "code",
   "execution_count": 61,
   "id": "e6c83008",
   "metadata": {},
   "outputs": [
    {
     "name": "stdout",
     "output_type": "stream",
     "text": [
      "abcd\r\n",
      "efgh\r\n",
      "ijkl\r\n"
     ]
    }
   ],
   "source": [
    "!cat myfile.txt"
   ]
  },
  {
   "cell_type": "code",
   "execution_count": 64,
   "id": "6fae0368",
   "metadata": {},
   "outputs": [],
   "source": [
    "# we can use \"with\"\n",
    "\n",
    "with open('myfile.txt', 'w') as f:\n",
    "    # f.__enter__()\n",
    "    f.write('* abcd\\n')\n",
    "    f.write('* efgh\\n')\n",
    "    f.write('* ijkl\\n')\n",
    "    # f.__exit__()  # in the case of files, __exit__ flushes + closes"
   ]
  },
  {
   "cell_type": "code",
   "execution_count": 63,
   "id": "b2d62ded",
   "metadata": {},
   "outputs": [
    {
     "name": "stdout",
     "output_type": "stream",
     "text": [
      "* abcd\r\n",
      "* efgh\r\n",
      "* ijkl\r\n"
     ]
    }
   ],
   "source": [
    "!cat myfile.txt"
   ]
  },
  {
   "cell_type": "code",
   "execution_count": 65,
   "id": "9ebc0f38",
   "metadata": {},
   "outputs": [
    {
     "name": "stdout",
     "output_type": "stream",
     "text": [
      "Now in MyCM.__init__, x=10\n",
      "Now in MyCM.__enter__, self.x=10\n",
      "Hello!\n",
      "Now in MyCM.__exit__, self.x=10\n"
     ]
    }
   ],
   "source": [
    "# context manager == we support __enter__  and __exit__\n",
    "\n",
    "class MyCM:\n",
    "    def __init__(self, x):\n",
    "        print(f'Now in MyCM.__init__, {x=}')\n",
    "        self.x = x\n",
    "        \n",
    "    def __enter__(self):\n",
    "        print(f'Now in MyCM.__enter__, {self.x=}')\n",
    "        return self\n",
    "    \n",
    "    def __exit__(self, *args):\n",
    "        print(f'Now in MyCM.__exit__, {self.x=}')\n",
    "        return True\n",
    "        \n",
    "with MyCM(10) as m:\n",
    "    print('Hello!')"
   ]
  },
  {
   "cell_type": "code",
   "execution_count": null,
   "id": "6b7abbb5",
   "metadata": {},
   "outputs": [],
   "source": []
  }
 ],
 "metadata": {
  "kernelspec": {
   "display_name": "Python 3 (ipykernel)",
   "language": "python",
   "name": "python3"
  },
  "language_info": {
   "codemirror_mode": {
    "name": "ipython",
    "version": 3
   },
   "file_extension": ".py",
   "mimetype": "text/x-python",
   "name": "python",
   "nbconvert_exporter": "python",
   "pygments_lexer": "ipython3",
   "version": "3.10.6"
  }
 },
 "nbformat": 4,
 "nbformat_minor": 5
}
