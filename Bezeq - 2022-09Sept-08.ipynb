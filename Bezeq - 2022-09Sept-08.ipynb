{
 "cells": [
  {
   "cell_type": "markdown",
   "id": "e2307bca",
   "metadata": {},
   "source": [
    "# Agenda\n",
    "\n",
    "- Attributes (ICPO)\n",
    "- Magic methods\n",
    "- Context managers\n",
    "- Iterators\n",
    "- Generators\n",
    "- Decorators \n",
    "- signals"
   ]
  },
  {
   "cell_type": "code",
   "execution_count": 1,
   "id": "05d79ab2",
   "metadata": {},
   "outputs": [
    {
     "name": "stdout",
     "output_type": "stream",
     "text": [
      "Hello, name1!\n",
      "Hello, name2!\n"
     ]
    }
   ],
   "source": [
    "class Person:\n",
    "    def __init__(self, name):\n",
    "        self.name = name\n",
    "        \n",
    "    def greet(self):\n",
    "        return f'Hello, {self.name}!'\n",
    "    \n",
    "p1 = Person('name1')    \n",
    "p2 = Person('name2')\n",
    "\n",
    "print(p1.greet())\n",
    "print(p2.greet())"
   ]
  },
  {
   "cell_type": "code",
   "execution_count": 2,
   "id": "0720bd40",
   "metadata": {},
   "outputs": [
    {
     "data": {
      "text/plain": [
       "__main__.Person"
      ]
     },
     "execution_count": 2,
     "metadata": {},
     "output_type": "execute_result"
    }
   ],
   "source": [
    "type(p1)"
   ]
  },
  {
   "cell_type": "code",
   "execution_count": 3,
   "id": "724dd7d5",
   "metadata": {},
   "outputs": [
    {
     "data": {
      "text/plain": [
       "__main__.Person"
      ]
     },
     "execution_count": 3,
     "metadata": {},
     "output_type": "execute_result"
    }
   ],
   "source": [
    "type(p2)"
   ]
  },
  {
   "cell_type": "code",
   "execution_count": 5,
   "id": "385f2f60",
   "metadata": {},
   "outputs": [
    {
     "name": "stdout",
     "output_type": "stream",
     "text": [
      "Before, population = 0\n",
      "After, population = 2\n",
      "Hello, name1!\n",
      "Hello, name2!\n"
     ]
    }
   ],
   "source": [
    "# how many people have we created?\n",
    "# option 1: global variable\n",
    "\n",
    "population = 0\n",
    "\n",
    "class Person:\n",
    "    def __init__(self, name):\n",
    "        global population\n",
    "        self.name = name\n",
    "        population += 1\n",
    "        \n",
    "    def greet(self):\n",
    "        return f'Hello, {self.name}!'\n",
    "    \n",
    "print(f'Before, population = {population}')\n",
    "p1 = Person('name1')    \n",
    "p2 = Person('name2')\n",
    "print(f'After, population = {population}')\n",
    "\n",
    "print(p1.greet())\n",
    "print(p2.greet())"
   ]
  },
  {
   "cell_type": "code",
   "execution_count": 6,
   "id": "70e067aa",
   "metadata": {},
   "outputs": [
    {
     "name": "stdout",
     "output_type": "stream",
     "text": [
      "Before, population = 0\n",
      "After, population = 2\n",
      "Hello, name1!\n",
      "Hello, name2!\n"
     ]
    }
   ],
   "source": [
    "# how many people have we created?\n",
    "# option 2: class attribute\n",
    "\n",
    "class Person:\n",
    "    def __init__(self, name):\n",
    "        self.name = name\n",
    "        Person.population += 1\n",
    "        \n",
    "    def greet(self):\n",
    "        return f'Hello, {self.name}!'\n",
    "    \n",
    "Person.population = 0\n",
    "\n",
    "print(f'Before, population = {Person.population}')\n",
    "p1 = Person('name1')    \n",
    "p2 = Person('name2')\n",
    "print(f'After, population = {Person.population}')\n",
    "\n",
    "print(p1.greet())\n",
    "print(p2.greet())"
   ]
  },
  {
   "cell_type": "code",
   "execution_count": 7,
   "id": "f6a8b5f0",
   "metadata": {},
   "outputs": [
    {
     "name": "stdout",
     "output_type": "stream",
     "text": [
      "A\n",
      "B\n",
      "D\n",
      "E\n",
      "C\n",
      "C\n"
     ]
    }
   ],
   "source": [
    "print('A')\n",
    "class MyClass:\n",
    "    print('B')\n",
    "    def __init__(self, x):\n",
    "        print('C')\n",
    "        self.x = x\n",
    "    print('D')\n",
    "print('E')\n",
    "        \n",
    "m1 = MyClass(10)        \n",
    "m2 = MyClass(20)"
   ]
  },
  {
   "cell_type": "code",
   "execution_count": 3,
   "id": "383d8fc9",
   "metadata": {},
   "outputs": [
    {
     "name": "stdout",
     "output_type": "stream",
     "text": [
      "Before, population = 0\n",
      "After, population = 2\n",
      "After, p1.population = 2\n",
      "After, p2.population = 2\n",
      "Hello, name1!\n",
      "Hello, name2!\n"
     ]
    }
   ],
   "source": [
    "# how many people have we created?\n",
    "# option 3: class attribute, defined in the class\n",
    "\n",
    "class Person:\n",
    "    population = 0   # defining Person.population a class attribute\n",
    "\n",
    "    def __init__(self, name):\n",
    "        self.name = name\n",
    "        Person.population += 1\n",
    "        \n",
    "    def greet(self):\n",
    "        return f'Hello, {self.name}!'\n",
    "    \n",
    "\n",
    "print(f'Before, population = {Person.population}')\n",
    "p1 = Person('name1')    \n",
    "p2 = Person('name2')\n",
    "print(f'After, population = {Person.population}')\n",
    "print(f'After, p1.population = {p1.population}')\n",
    "print(f'After, p2.population = {p2.population}')\n",
    "\n",
    "print(p1.greet()) \n",
    "print(p2.greet())"
   ]
  },
  {
   "cell_type": "markdown",
   "id": "d041bab7",
   "metadata": {},
   "source": [
    "# Attribute search in Python\n",
    "\n",
    "- I  -- instance\n",
    "- C -- class\n",
    "- P  -- parent(s)\n",
    "- O -- `object`"
   ]
  },
  {
   "cell_type": "code",
   "execution_count": 4,
   "id": "e7791edb",
   "metadata": {},
   "outputs": [
    {
     "data": {
      "text/plain": [
       "'abcd'"
      ]
     },
     "execution_count": 4,
     "metadata": {},
     "output_type": "execute_result"
    }
   ],
   "source": [
    "s = 'aBcD'\n",
    "\n",
    "s.lower()"
   ]
  },
  {
   "cell_type": "code",
   "execution_count": 5,
   "id": "cf86cb85",
   "metadata": {},
   "outputs": [
    {
     "data": {
      "text/plain": [
       "'ABCD'"
      ]
     },
     "execution_count": 5,
     "metadata": {},
     "output_type": "execute_result"
    }
   ],
   "source": [
    "s.upper()  # --> str.upper(s)"
   ]
  },
  {
   "cell_type": "code",
   "execution_count": 6,
   "id": "3d69c146",
   "metadata": {},
   "outputs": [
    {
     "data": {
      "text/plain": [
       "'abcd'"
      ]
     },
     "execution_count": 6,
     "metadata": {},
     "output_type": "execute_result"
    }
   ],
   "source": [
    "str.lower(s)"
   ]
  },
  {
   "cell_type": "code",
   "execution_count": 7,
   "id": "61bc9168",
   "metadata": {},
   "outputs": [
    {
     "data": {
      "text/plain": [
       "'ABCD'"
      ]
     },
     "execution_count": 7,
     "metadata": {},
     "output_type": "execute_result"
    }
   ],
   "source": [
    "str.upper(s)"
   ]
  },
  {
   "cell_type": "code",
   "execution_count": 8,
   "id": "f6749d68",
   "metadata": {},
   "outputs": [
    {
     "name": "stdout",
     "output_type": "stream",
     "text": [
      "Before, population = 0\n",
      "After, population = 0\n",
      "After, p1.population = 1\n",
      "After, p2.population = 1\n",
      "Hello, name1!\n",
      "Hello, name2!\n"
     ]
    }
   ],
   "source": [
    "# what if I do this?\n",
    "\n",
    "class Person:\n",
    "    population = 0  \n",
    "\n",
    "    def __init__(self, name):\n",
    "        self.name = name\n",
    "        # self.population += 1    # will this work? What will happen?\n",
    "        self.population = self.population + 1\n",
    "    def greet(self):\n",
    "        return f'Hello, {self.name}!'\n",
    "    \n",
    "\n",
    "print(f'Before, population = {Person.population}')\n",
    "p1 = Person('name1')    \n",
    "p2 = Person('name2')\n",
    "print(f'After, population = {Person.population}')\n",
    "print(f'After, p1.population = {p1.population}')\n",
    "print(f'After, p2.population = {p2.population}')\n",
    "\n",
    "print(p1.greet()) \n",
    "print(p2.greet())"
   ]
  },
  {
   "cell_type": "markdown",
   "id": "d22cf0f1",
   "metadata": {},
   "source": [
    "# Class attributes\n",
    "\n",
    "You can read class attributes from either the class, or from the instance.  \n",
    "\n",
    "Write class attributes *only* via the class.  (Or else!)"
   ]
  },
  {
   "cell_type": "markdown",
   "id": "375c0ffc",
   "metadata": {},
   "source": [
    "# Inheritance"
   ]
  },
  {
   "cell_type": "code",
   "execution_count": 11,
   "id": "d8791a15",
   "metadata": {},
   "outputs": [
    {
     "name": "stdout",
     "output_type": "stream",
     "text": [
      "Hello, name1!\n",
      "Hello, name2!\n",
      "Hello, emp1!\n",
      "Hello, emp2!\n"
     ]
    }
   ],
   "source": [
    "class Person:\n",
    "    def __init__(self, name):\n",
    "        self.name = name\n",
    "    def greet(self):\n",
    "        return f'Hello, {self.name}!'\n",
    "    \n",
    "\n",
    "p1 = Person('name1')    \n",
    "p2 = Person('name2')\n",
    "\n",
    "print(p1.greet()) \n",
    "print(p2.greet())\n",
    "\n",
    "class Employee(Person):\n",
    "    def __init__(self, name, id_number):\n",
    "        self.name = name\n",
    "        self.id_number = id_number\n",
    "    def greet(self):\n",
    "        return f'Hello, {self.name}!'\n",
    "    \n",
    "e1 = Employee('emp1', 1)    \n",
    "e2 = Employee('emp2', 2)\n",
    "\n",
    "print(e1.greet()) # does e1 have greet? NO. Does Employee have greet? YES.\n",
    "print(e2.greet()) # \"\" e2 \"\""
   ]
  },
  {
   "cell_type": "code",
   "execution_count": 13,
   "id": "3675e90a",
   "metadata": {},
   "outputs": [
    {
     "name": "stdout",
     "output_type": "stream",
     "text": [
      "Hello, name1!\n",
      "Hello, name2!\n",
      "Hello, emp1!\n",
      "Hello, emp2!\n"
     ]
    }
   ],
   "source": [
    "# let's remove Employee.greet.  Will things now work?\n",
    "\n",
    "class Person:\n",
    "    def __init__(self, name):\n",
    "        self.name = name\n",
    "    def greet(self):\n",
    "        return f'Hello, {self.name}!'\n",
    "    \n",
    "\n",
    "p1 = Person('name1')    \n",
    "p2 = Person('name2')\n",
    "\n",
    "print(p1.greet()) \n",
    "print(p2.greet())\n",
    "\n",
    "class Employee(Person):\n",
    "    def __init__(self, name, id_number):\n",
    "        self.name = name\n",
    "        self.id_number = id_number\n",
    "    \n",
    "e1 = Employee('emp1', 1)    \n",
    "e2 = Employee('emp2', 2)\n",
    "\n",
    "print(e1.greet()) \n",
    "print(e2.greet()) "
   ]
  },
  {
   "cell_type": "code",
   "execution_count": 20,
   "id": "12a4f615",
   "metadata": {},
   "outputs": [
    {
     "name": "stdout",
     "output_type": "stream",
     "text": [
      "Hello, name1!\n",
      "Hello, name2!\n",
      "Hello, emp1!\n",
      "Hello, emp2!\n"
     ]
    }
   ],
   "source": [
    "# let's remove the assignment to name from Employee\n",
    "\n",
    "class Person:\n",
    "    def __init__(self, name):\n",
    "        self.name = name\n",
    "    def greet(self):\n",
    "        return f'Hello, {self.name}!'\n",
    "    \n",
    "\n",
    "p1 = Person('name1')    \n",
    "p2 = Person('name2')\n",
    "\n",
    "print(p1.greet()) \n",
    "print(p2.greet())\n",
    "\n",
    "class Employee(Person):\n",
    "    def __init__(self, name, id_number):\n",
    "        # Person.__init__(self, name)\n",
    "        super().__init__(name)   # better than calling Person.__init__\n",
    "        self.id_number = id_number\n",
    "    \n",
    "e1 = Employee('emp1', 1) # e1.__init__? No. Employee.__init__? YES   \n",
    "e2 = Employee('emp2', 2) \n",
    "\n",
    "print(e1.greet())   # e1.greet? NO. Employee.greet? NO. Person.greet? YES\n",
    "print(e2.greet()) "
   ]
  },
  {
   "cell_type": "code",
   "execution_count": 15,
   "id": "f4376695",
   "metadata": {},
   "outputs": [
    {
     "data": {
      "text/plain": [
       "{'name': 'name1'}"
      ]
     },
     "execution_count": 15,
     "metadata": {},
     "output_type": "execute_result"
    }
   ],
   "source": [
    "vars(p1)"
   ]
  },
  {
   "cell_type": "code",
   "execution_count": 16,
   "id": "ef3fd497",
   "metadata": {},
   "outputs": [
    {
     "data": {
      "text/plain": [
       "{'name': 'name2'}"
      ]
     },
     "execution_count": 16,
     "metadata": {},
     "output_type": "execute_result"
    }
   ],
   "source": [
    "vars(p2)"
   ]
  },
  {
   "cell_type": "code",
   "execution_count": 17,
   "id": "aae7fa77",
   "metadata": {},
   "outputs": [
    {
     "data": {
      "text/plain": [
       "{'id_number': 1}"
      ]
     },
     "execution_count": 17,
     "metadata": {},
     "output_type": "execute_result"
    }
   ],
   "source": [
    "vars(e1)"
   ]
  },
  {
   "cell_type": "code",
   "execution_count": 18,
   "id": "fb9ec638",
   "metadata": {},
   "outputs": [
    {
     "data": {
      "text/plain": [
       "{'id_number': 2}"
      ]
     },
     "execution_count": 18,
     "metadata": {},
     "output_type": "execute_result"
    }
   ],
   "source": [
    "vars(e2)"
   ]
  },
  {
   "cell_type": "code",
   "execution_count": 21,
   "id": "8e79b1d3",
   "metadata": {},
   "outputs": [],
   "source": [
    "def hello():\n",
    "    return 'Hi!'\n",
    "\n",
    "def hello(name):\n",
    "    return f'Hello, {name}!'\n",
    "\n",
    "def hello(first, last):\n",
    "    return f'Hello, {first} {last}'"
   ]
  },
  {
   "cell_type": "code",
   "execution_count": 22,
   "id": "cd439bef",
   "metadata": {},
   "outputs": [
    {
     "ename": "TypeError",
     "evalue": "hello() missing 2 required positional arguments: 'first' and 'last'",
     "output_type": "error",
     "traceback": [
      "\u001b[0;31m---------------------------------------------------------------------------\u001b[0m",
      "\u001b[0;31mTypeError\u001b[0m                                 Traceback (most recent call last)",
      "Input \u001b[0;32mIn [22]\u001b[0m, in \u001b[0;36m<cell line: 1>\u001b[0;34m()\u001b[0m\n\u001b[0;32m----> 1\u001b[0m \u001b[43mhello\u001b[49m\u001b[43m(\u001b[49m\u001b[43m)\u001b[49m\n",
      "\u001b[0;31mTypeError\u001b[0m: hello() missing 2 required positional arguments: 'first' and 'last'"
     ]
    }
   ],
   "source": [
    "hello()"
   ]
  },
  {
   "cell_type": "code",
   "execution_count": 23,
   "id": "ea44ac6e",
   "metadata": {},
   "outputs": [
    {
     "ename": "TypeError",
     "evalue": "hello() missing 1 required positional argument: 'last'",
     "output_type": "error",
     "traceback": [
      "\u001b[0;31m---------------------------------------------------------------------------\u001b[0m",
      "\u001b[0;31mTypeError\u001b[0m                                 Traceback (most recent call last)",
      "Input \u001b[0;32mIn [23]\u001b[0m, in \u001b[0;36m<cell line: 1>\u001b[0;34m()\u001b[0m\n\u001b[0;32m----> 1\u001b[0m \u001b[43mhello\u001b[49m\u001b[43m(\u001b[49m\u001b[38;5;124;43m'\u001b[39;49m\u001b[38;5;124;43mworld\u001b[39;49m\u001b[38;5;124;43m'\u001b[39;49m\u001b[43m)\u001b[49m\n",
      "\u001b[0;31mTypeError\u001b[0m: hello() missing 1 required positional argument: 'last'"
     ]
    }
   ],
   "source": [
    "hello('world')"
   ]
  },
  {
   "cell_type": "code",
   "execution_count": 24,
   "id": "ed6b258b",
   "metadata": {},
   "outputs": [],
   "source": [
    "hello = 5"
   ]
  },
  {
   "cell_type": "code",
   "execution_count": 25,
   "id": "043d879b",
   "metadata": {},
   "outputs": [
    {
     "ename": "TypeError",
     "evalue": "'int' object is not callable",
     "output_type": "error",
     "traceback": [
      "\u001b[0;31m---------------------------------------------------------------------------\u001b[0m",
      "\u001b[0;31mTypeError\u001b[0m                                 Traceback (most recent call last)",
      "Input \u001b[0;32mIn [25]\u001b[0m, in \u001b[0;36m<cell line: 1>\u001b[0;34m()\u001b[0m\n\u001b[0;32m----> 1\u001b[0m \u001b[43mhello\u001b[49m\u001b[43m(\u001b[49m\u001b[38;5;124;43m'\u001b[39;49m\u001b[38;5;124;43mworld\u001b[39;49m\u001b[38;5;124;43m'\u001b[39;49m\u001b[43m)\u001b[49m\n",
      "\u001b[0;31mTypeError\u001b[0m: 'int' object is not callable"
     ]
    }
   ],
   "source": [
    "hello('world')"
   ]
  },
  {
   "cell_type": "code",
   "execution_count": 26,
   "id": "d9126c24",
   "metadata": {},
   "outputs": [
    {
     "data": {
      "text/plain": [
       "['chocolate', 'vanilla', 'coffee']"
      ]
     },
     "execution_count": 26,
     "metadata": {},
     "output_type": "execute_result"
    }
   ],
   "source": [
    "class Scoop:\n",
    "    def __init__(self, flavor):\n",
    "        self.flavor = flavor\n",
    "\n",
    "s1 = Scoop('chocolate')\n",
    "s2 = Scoop('vanilla')\n",
    "s3 = Scoop('coffee')\n",
    "\n",
    "class Bowl:\n",
    "    def __init__(self):\n",
    "        self.scoops = []  \n",
    "    def add_scoops(self, *args):  # args is a tuple with all scoops\n",
    "        self.scoops += args\n",
    "    def flavors(self):\n",
    "        return [one_scoop.flavor\n",
    "               for one_scoop in self.scoops]\n",
    "\n",
    "b = Bowl()\n",
    "b.add_scoops(s1, s2)\n",
    "b.add_scoops(s3)\n",
    "b.flavors()"
   ]
  },
  {
   "cell_type": "markdown",
   "id": "3dcf16ff",
   "metadata": {},
   "source": [
    "# Exercise: Limited-size bowls\n",
    "\n",
    "1. Limit the number of scoops you can put in a `Bowl` to 3.  The first 3 are put in, the rest are ignored.  Use a class attribute.  \n",
    "2. Now define a new class, `BigBowl`.  We can put up to 5 scoops in an instance of `BigBowl`.\n",
    "\n",
    "```python\n",
    "s4 = Scoop('flavor 4')\n",
    "s5 = Scoop('flavor 5')\n",
    "s6 = Scoop('flavor 6')\n",
    "\n",
    "b.add_scoops(s1, s2, s3, s4, s5, s6)\n",
    "print(b.flavors())  # still three -- ['chocolate', 'vanilla', 'coffee']\n",
    "\n",
    "bb = BigBowl()\n",
    "bb.add_scoops(s1, s2, s3)\n",
    "bb.add_scoops(s4, s5)\n",
    "bb.add_scoops(s6)\n",
    "print(bb.flavors()) # ['chocolate', 'vanilla', 'coffee', 'flavor 4', 'flavor 5']\n",
    "```"
   ]
  },
  {
   "cell_type": "code",
   "execution_count": 27,
   "id": "66ab0d9d",
   "metadata": {},
   "outputs": [],
   "source": [
    "# https://github.com/reuven/bezeq-2022-09Sept-advanced\n",
    "\n",
    "# github.com/reuven"
   ]
  },
  {
   "cell_type": "code",
   "execution_count": 37,
   "id": "8defcbc0",
   "metadata": {},
   "outputs": [
    {
     "name": "stdout",
     "output_type": "stream",
     "text": [
      "['chocolate', 'vanilla', 'coffee']\n",
      "['chocolate', 'vanilla', 'coffee', 'flavor 4', 'flavor 5']\n"
     ]
    }
   ],
   "source": [
    "class Scoop:\n",
    "    def __init__(self, flavor):\n",
    "        self.flavor = flavor\n",
    "\n",
    "s1 = Scoop('chocolate')\n",
    "s2 = Scoop('vanilla')\n",
    "s3 = Scoop('coffee')\n",
    "s4 = Scoop('flavor 4')\n",
    "s5 = Scoop('flavor 5')\n",
    "s6 = Scoop('flavor 6')\n",
    "\n",
    "class Bowl:\n",
    "    MAX_SCOOPS = 3\n",
    "\n",
    "    def __init__(self):\n",
    "        self.scoops = []  \n",
    "    def add_scoops(self, *args):  \n",
    "#         for one_scoop in args:\n",
    "#             if len(self.scoops) >= self.MAX_SCOOPS:\n",
    "#                 break\n",
    "#             self.scoops.append(one_scoop)\n",
    "\n",
    "         self.scoops += args[:self.MAX_SCOOPS - len(self.scoops)]\n",
    "\n",
    "         # args is (chocoloate, vanilla, coffee)\n",
    "        #                 0           1       2      \n",
    "        # args [:3] is (chocoloate, vanilla, coffee)  # up to, not including 3\n",
    "        \n",
    "\n",
    "    def flavors(self):\n",
    "        return [one_scoop.flavor\n",
    "               for one_scoop in self.scoops]\n",
    "\n",
    "class BigBowl(Bowl):\n",
    "    MAX_SCOOPS = 5\n",
    "\n",
    "b = Bowl()\n",
    "b.add_scoops(s1, s2)\n",
    "b.add_scoops(s3)\n",
    "b.add_scoops(s4, s5, s6)\n",
    "print(b.flavors())  # still three -- ['chocolate', 'vanilla', 'coffee']\n",
    "\n",
    "bb = BigBowl()\n",
    "bb.add_scoops(s1, s2, s3)\n",
    "bb.add_scoops(s4, s5)\n",
    "bb.add_scoops(s6)\n",
    "print(bb.flavors()) # ['chocolate', 'vanilla', 'coffee', 'flavor 4', 'flavor 5']\n"
   ]
  },
  {
   "cell_type": "code",
   "execution_count": 38,
   "id": "4d26a179",
   "metadata": {},
   "outputs": [
    {
     "name": "stdout",
     "output_type": "stream",
     "text": [
      "<__main__.Scoop object at 0x1113e0550>\n"
     ]
    }
   ],
   "source": [
    "print(s1)"
   ]
  },
  {
   "cell_type": "code",
   "execution_count": 39,
   "id": "9437132f",
   "metadata": {},
   "outputs": [
    {
     "name": "stdout",
     "output_type": "stream",
     "text": [
      "<__main__.Bowl object at 0x110cac160>\n"
     ]
    }
   ],
   "source": [
    "print(b)"
   ]
  },
  {
   "cell_type": "code",
   "execution_count": 40,
   "id": "4deac517",
   "metadata": {},
   "outputs": [
    {
     "name": "stdout",
     "output_type": "stream",
     "text": [
      "<__main__.Bowl object at 0x110cac160>\n"
     ]
    }
   ],
   "source": [
    "print(b) # --> print(str(b)) --> print(b.__str__())\n",
    "#   does b have __str__? No\n",
    "#   does Bowl have __str__? No\n",
    "#   does object have __str__ YES"
   ]
  },
  {
   "cell_type": "code",
   "execution_count": 41,
   "id": "65b34fb8",
   "metadata": {},
   "outputs": [
    {
     "data": {
      "text/plain": [
       "'<__main__.Bowl object at 0x110cac160>'"
      ]
     },
     "execution_count": 41,
     "metadata": {},
     "output_type": "execute_result"
    }
   ],
   "source": [
    "object.__str__(b)"
   ]
  },
  {
   "cell_type": "code",
   "execution_count": 49,
   "id": "fb3c38d4",
   "metadata": {},
   "outputs": [
    {
     "name": "stdout",
     "output_type": "stream",
     "text": [
      "Hello, name1!\n",
      "Hello, name2!\n"
     ]
    }
   ],
   "source": [
    "# how many people have we created?\n",
    "# option 3: class attribute, defined in the class\n",
    "\n",
    "class Person:\n",
    "    def __init__(self, name):\n",
    "        self.name = name\n",
    "    def greet(self):\n",
    "        return f'Hello, {self.name}!'\n",
    "#     def __str__(self):   # meant for regular users\n",
    "#         return f'Person named {self.name}'\n",
    "    def __repr__(self):  # meant for programmers\n",
    "        return f'Person named {self.name}'\n",
    "\n",
    "\n",
    "p1 = Person('name1')    \n",
    "p2 = Person('name2')\n",
    "\n",
    "print(p1.greet()) \n",
    "print(p2.greet())"
   ]
  },
  {
   "cell_type": "code",
   "execution_count": 50,
   "id": "8cd932e2",
   "metadata": {},
   "outputs": [
    {
     "name": "stdout",
     "output_type": "stream",
     "text": [
      "Person named name1\n"
     ]
    }
   ],
   "source": [
    "print(p1)"
   ]
  },
  {
   "cell_type": "code",
   "execution_count": 51,
   "id": "60d9696f",
   "metadata": {},
   "outputs": [
    {
     "name": "stdout",
     "output_type": "stream",
     "text": [
      "Person named name2\n"
     ]
    }
   ],
   "source": [
    "print(p2)"
   ]
  },
  {
   "cell_type": "code",
   "execution_count": 52,
   "id": "4974a0dd",
   "metadata": {},
   "outputs": [
    {
     "data": {
      "text/plain": [
       "Person named name1"
      ]
     },
     "execution_count": 52,
     "metadata": {},
     "output_type": "execute_result"
    }
   ],
   "source": [
    "p1"
   ]
  },
  {
   "cell_type": "code",
   "execution_count": 53,
   "id": "b7bc1288",
   "metadata": {},
   "outputs": [],
   "source": [
    "# Return at 10:50"
   ]
  },
  {
   "cell_type": "code",
   "execution_count": 54,
   "id": "938ed20d",
   "metadata": {},
   "outputs": [
    {
     "name": "stdout",
     "output_type": "stream",
     "text": [
      "Hello\n"
     ]
    }
   ],
   "source": [
    "print('Hello')"
   ]
  },
  {
   "cell_type": "markdown",
   "id": "eda1801c",
   "metadata": {},
   "source": [
    "# This is a test \n",
    "\n",
    "- One\n",
    "- Two \n",
    "    - 2.5\n",
    "    - 2.6\n",
    "    - 2.7\n",
    "- Three    \n",
    "\n",
    "This is in *italics* and in **boldface** and `computer_stuff`. etc."
   ]
  },
  {
   "cell_type": "markdown",
   "id": "f075063d",
   "metadata": {},
   "source": [
    "- ESC -- command mode, or click to the left of the cell\n",
    "    - `h` -- help\n",
    "    - `m` -- markdown mode\n",
    "    - `y` -- code mode\n",
    "- ENTER -- edit mode, or click in the cell."
   ]
  },
  {
   "cell_type": "code",
   "execution_count": 55,
   "id": "d664b66a",
   "metadata": {},
   "outputs": [
    {
     "data": {
      "text/plain": [
       "5"
      ]
     },
     "execution_count": 55,
     "metadata": {},
     "output_type": "execute_result"
    }
   ],
   "source": [
    "# writing to files\n",
    "\n",
    "f = open('myfile.txt', 'w')   # open returns a file object, for writing ('w')\n",
    "\n",
    "f.write('abcd\\n')\n",
    "f.write('efgh\\n')\n",
    "f.write('ijkl\\n')"
   ]
  },
  {
   "cell_type": "code",
   "execution_count": 59,
   "id": "2c13f216",
   "metadata": {},
   "outputs": [
    {
     "name": "stdout",
     "output_type": "stream",
     "text": [
      "abcd\r\n",
      "efgh\r\n",
      "ijkl\r\n"
     ]
    }
   ],
   "source": [
    "# !cat == show the file\n",
    "\n",
    "!cat myfile.txt"
   ]
  },
  {
   "cell_type": "code",
   "execution_count": 57,
   "id": "6921a0e5",
   "metadata": {},
   "outputs": [],
   "source": [
    "f.flush()   # write the buffer to the file"
   ]
  },
  {
   "cell_type": "code",
   "execution_count": 58,
   "id": "a9c76c47",
   "metadata": {},
   "outputs": [
    {
     "name": "stdout",
     "output_type": "stream",
     "text": [
      "abcd\r\n",
      "efgh\r\n",
      "ijkl\r\n"
     ]
    }
   ],
   "source": [
    "!cat myfile.txt"
   ]
  },
  {
   "cell_type": "code",
   "execution_count": 60,
   "id": "5b7ebefe",
   "metadata": {},
   "outputs": [],
   "source": [
    "f.close()    # stop writing to the file + flush, if we need"
   ]
  },
  {
   "cell_type": "code",
   "execution_count": 61,
   "id": "978f7f0f",
   "metadata": {},
   "outputs": [
    {
     "name": "stdout",
     "output_type": "stream",
     "text": [
      "abcd\r\n",
      "efgh\r\n",
      "ijkl\r\n"
     ]
    }
   ],
   "source": [
    "!cat myfile.txt"
   ]
  },
  {
   "cell_type": "code",
   "execution_count": 64,
   "id": "f91c9d9c",
   "metadata": {},
   "outputs": [],
   "source": [
    "# we can use \"with\"\n",
    "\n",
    "with open('myfile.txt', 'w') as f:\n",
    "    # f.__enter__()\n",
    "    f.write('* abcd\\n')\n",
    "    f.write('* efgh\\n')\n",
    "    f.write('* ijkl\\n')\n",
    "    # f.__exit__()  # in the case of files, __exit__ flushes + closes"
   ]
  },
  {
   "cell_type": "code",
   "execution_count": 63,
   "id": "e86ff402",
   "metadata": {},
   "outputs": [
    {
     "name": "stdout",
     "output_type": "stream",
     "text": [
      "* abcd\r\n",
      "* efgh\r\n",
      "* ijkl\r\n"
     ]
    }
   ],
   "source": [
    "!cat myfile.txt"
   ]
  },
  {
   "cell_type": "code",
   "execution_count": 65,
   "id": "e6474c47",
   "metadata": {},
   "outputs": [
    {
     "name": "stdout",
     "output_type": "stream",
     "text": [
      "Now in MyCM.__init__, x=10\n",
      "Now in MyCM.__enter__, self.x=10\n",
      "Hello!\n",
      "Now in MyCM.__exit__, self.x=10\n"
     ]
    }
   ],
   "source": [
    "# context manager == we support __enter__  and __exit__\n",
    "\n",
    "class MyCM:\n",
    "    def __init__(self, x):\n",
    "        print(f'Now in MyCM.__init__, {x=}')\n",
    "        self.x = x\n",
    "        \n",
    "    def __enter__(self):\n",
    "        print(f'Now in MyCM.__enter__, {self.x=}')\n",
    "        return self\n",
    "    \n",
    "    def __exit__(self, *args):\n",
    "        print(f'Now in MyCM.__exit__, {self.x=}')\n",
    "        return True\n",
    "        \n",
    "with MyCM(10) as m:\n",
    "    print('Hello!')"
   ]
  },
  {
   "cell_type": "code",
   "execution_count": 66,
   "id": "3311bea8",
   "metadata": {},
   "outputs": [
    {
     "name": "stdout",
     "output_type": "stream",
     "text": [
      "Hello\n"
     ]
    }
   ],
   "source": [
    "print('Hello')"
   ]
  },
  {
   "cell_type": "code",
   "execution_count": 67,
   "id": "0e3c0ca3",
   "metadata": {},
   "outputs": [],
   "source": [
    "import sys\n"
   ]
  },
  {
   "cell_type": "code",
   "execution_count": 68,
   "id": "9287e4e3",
   "metadata": {},
   "outputs": [
    {
     "data": {
      "text/plain": [
       "<ipykernel.iostream.OutStream at 0x110c158a0>"
      ]
     },
     "execution_count": 68,
     "metadata": {},
     "output_type": "execute_result"
    }
   ],
   "source": [
    "sys.stdout"
   ]
  },
  {
   "cell_type": "code",
   "execution_count": 69,
   "id": "33b78086",
   "metadata": {},
   "outputs": [
    {
     "data": {
      "text/plain": [
       "<_io.TextIOWrapper name='<stdin>' mode='r' encoding='utf-8'>"
      ]
     },
     "execution_count": 69,
     "metadata": {},
     "output_type": "execute_result"
    }
   ],
   "source": [
    "sys.stdin"
   ]
  },
  {
   "cell_type": "code",
   "execution_count": 70,
   "id": "73e61ce9",
   "metadata": {},
   "outputs": [
    {
     "data": {
      "text/plain": [
       "<ipykernel.iostream.OutStream at 0x110c17790>"
      ]
     },
     "execution_count": 70,
     "metadata": {},
     "output_type": "execute_result"
    }
   ],
   "source": [
    "sys.stderr"
   ]
  },
  {
   "cell_type": "code",
   "execution_count": 71,
   "id": "feda2b3f",
   "metadata": {},
   "outputs": [],
   "source": [
    "f = open('myfile.txt', 'w')\n",
    "old_stdout = sys.stdout\n",
    "\n",
    "sys.stdout = f   \n",
    "print('Hello!')"
   ]
  },
  {
   "cell_type": "code",
   "execution_count": 72,
   "id": "64933cb5",
   "metadata": {},
   "outputs": [],
   "source": [
    "print('Hello?????')"
   ]
  },
  {
   "cell_type": "code",
   "execution_count": 73,
   "id": "39b641ec",
   "metadata": {},
   "outputs": [],
   "source": [
    "sys.stdout = old_stdout"
   ]
  },
  {
   "cell_type": "code",
   "execution_count": 74,
   "id": "c062822b",
   "metadata": {},
   "outputs": [],
   "source": [
    "f.close()"
   ]
  },
  {
   "cell_type": "code",
   "execution_count": 75,
   "id": "430492ce",
   "metadata": {},
   "outputs": [
    {
     "name": "stdout",
     "output_type": "stream",
     "text": [
      "Hello!\r\n",
      "Hello?????\r\n"
     ]
    }
   ],
   "source": [
    "!cat myfile.txt"
   ]
  },
  {
   "cell_type": "code",
   "execution_count": 76,
   "id": "da3fbe90",
   "metadata": {},
   "outputs": [],
   "source": [
    "class TempStdout:\n",
    "    def __init__(self, filename):\n",
    "        self.output = open(filename, 'w')\n",
    "        self.old_stdout = None\n",
    "        \n",
    "    def __enter__(self):\n",
    "        self.old_stdout = sys.stdout\n",
    "        sys.stdout = self.output    \n",
    "        \n",
    "    def __exit__(self, *args):\n",
    "        sys.stdout = self.old_stdout\n",
    "        self.output.close()\n",
    "\n",
    "with TempStdout('myfile.txt') as t:\n",
    "    print('Hello')\n",
    "    print('Hello again')\n",
    "    print('Hello one more time')"
   ]
  },
  {
   "cell_type": "code",
   "execution_count": 77,
   "id": "a1a410fa",
   "metadata": {},
   "outputs": [
    {
     "name": "stdout",
     "output_type": "stream",
     "text": [
      "Hello\r\n",
      "Hello again\r\n",
      "Hello one more time\r\n"
     ]
    }
   ],
   "source": [
    "!cat myfile.txt"
   ]
  },
  {
   "cell_type": "code",
   "execution_count": 78,
   "id": "20c56782",
   "metadata": {},
   "outputs": [],
   "source": [
    "print('Hello', file=open('output.txt', 'w'))"
   ]
  },
  {
   "cell_type": "code",
   "execution_count": 79,
   "id": "3f035dd3",
   "metadata": {},
   "outputs": [
    {
     "name": "stdout",
     "output_type": "stream",
     "text": [
      "Hello\r\n"
     ]
    }
   ],
   "source": [
    "!cat output.txt"
   ]
  },
  {
   "cell_type": "markdown",
   "id": "34ed96aa",
   "metadata": {},
   "source": [
    "# Loops! (Especially `for` loops)\n",
    "\n"
   ]
  },
  {
   "cell_type": "code",
   "execution_count": 80,
   "id": "92eb96fd",
   "metadata": {},
   "outputs": [
    {
     "name": "stdout",
     "output_type": "stream",
     "text": [
      "a\n",
      "b\n",
      "c\n",
      "d\n"
     ]
    }
   ],
   "source": [
    "for one_letter in 'abcd':\n",
    "    print(one_letter)"
   ]
  },
  {
   "cell_type": "markdown",
   "id": "42e72691",
   "metadata": {},
   "source": [
    "# How a loop works\n",
    "\n",
    "1. The `for` loop asks the object if it's iterable -- `iter`.\n",
    "     - If it's not iterable, the object raises a `TypeError` exception\n",
    "     - If it is iterable, then it returns it *iterator* object (which could be itself)\n",
    "2. The `for` loop asks the iterator for the next object -- `next`.\n",
    "    - If there are no more values to give, we get a `StopIteration` exception\n",
    "    - If we do get a value, we assign it to the loop variable, and execute the loop body\n",
    "3. After running the loop body, we return to step 2    "
   ]
  },
  {
   "cell_type": "code",
   "execution_count": 81,
   "id": "466f863c",
   "metadata": {},
   "outputs": [],
   "source": [
    "s = 'abcd'"
   ]
  },
  {
   "cell_type": "code",
   "execution_count": 82,
   "id": "ea8f1cf6",
   "metadata": {},
   "outputs": [
    {
     "data": {
      "text/plain": [
       "<str_iterator at 0x112017760>"
      ]
     },
     "execution_count": 82,
     "metadata": {},
     "output_type": "execute_result"
    }
   ],
   "source": [
    "iter(s)"
   ]
  },
  {
   "cell_type": "code",
   "execution_count": 83,
   "id": "2ce7a5ce",
   "metadata": {},
   "outputs": [
    {
     "data": {
      "text/plain": [
       "<str_iterator at 0x112016c80>"
      ]
     },
     "execution_count": 83,
     "metadata": {},
     "output_type": "execute_result"
    }
   ],
   "source": [
    "iter(s)"
   ]
  },
  {
   "cell_type": "code",
   "execution_count": 84,
   "id": "7fc83a50",
   "metadata": {},
   "outputs": [
    {
     "data": {
      "text/plain": [
       "<str_iterator at 0x112016980>"
      ]
     },
     "execution_count": 84,
     "metadata": {},
     "output_type": "execute_result"
    }
   ],
   "source": [
    "iter(s)"
   ]
  },
  {
   "cell_type": "code",
   "execution_count": 85,
   "id": "6f7aefff",
   "metadata": {},
   "outputs": [
    {
     "data": {
      "text/plain": [
       "<_io.TextIOWrapper name='/etc/passwd' mode='r' encoding='UTF-8'>"
      ]
     },
     "execution_count": 85,
     "metadata": {},
     "output_type": "execute_result"
    }
   ],
   "source": [
    "f = open('/etc/passwd')\n",
    "iter(f)"
   ]
  },
  {
   "cell_type": "code",
   "execution_count": 86,
   "id": "fe37e23d",
   "metadata": {},
   "outputs": [
    {
     "data": {
      "text/plain": [
       "<_io.TextIOWrapper name='/etc/passwd' mode='r' encoding='UTF-8'>"
      ]
     },
     "execution_count": 86,
     "metadata": {},
     "output_type": "execute_result"
    }
   ],
   "source": [
    "iter(f)"
   ]
  },
  {
   "cell_type": "code",
   "execution_count": 87,
   "id": "111a76ad",
   "metadata": {},
   "outputs": [
    {
     "data": {
      "text/plain": [
       "<_io.TextIOWrapper name='/etc/passwd' mode='r' encoding='UTF-8'>"
      ]
     },
     "execution_count": 87,
     "metadata": {},
     "output_type": "execute_result"
    }
   ],
   "source": [
    "iter(f)"
   ]
  },
  {
   "cell_type": "code",
   "execution_count": 88,
   "id": "04c66731",
   "metadata": {},
   "outputs": [
    {
     "data": {
      "text/plain": [
       "'a'"
      ]
     },
     "execution_count": 88,
     "metadata": {},
     "output_type": "execute_result"
    }
   ],
   "source": [
    "i = iter(s)\n",
    "next(i)"
   ]
  },
  {
   "cell_type": "code",
   "execution_count": 89,
   "id": "c8b01ec4",
   "metadata": {},
   "outputs": [
    {
     "data": {
      "text/plain": [
       "'b'"
      ]
     },
     "execution_count": 89,
     "metadata": {},
     "output_type": "execute_result"
    }
   ],
   "source": [
    "next(i)"
   ]
  },
  {
   "cell_type": "code",
   "execution_count": 90,
   "id": "06410d2e",
   "metadata": {},
   "outputs": [
    {
     "data": {
      "text/plain": [
       "'c'"
      ]
     },
     "execution_count": 90,
     "metadata": {},
     "output_type": "execute_result"
    }
   ],
   "source": [
    "next(i)"
   ]
  },
  {
   "cell_type": "code",
   "execution_count": 91,
   "id": "0ea49659",
   "metadata": {},
   "outputs": [
    {
     "data": {
      "text/plain": [
       "'d'"
      ]
     },
     "execution_count": 91,
     "metadata": {},
     "output_type": "execute_result"
    }
   ],
   "source": [
    "next(i)"
   ]
  },
  {
   "cell_type": "code",
   "execution_count": 92,
   "id": "2878db90",
   "metadata": {},
   "outputs": [
    {
     "ename": "StopIteration",
     "evalue": "",
     "output_type": "error",
     "traceback": [
      "\u001b[0;31m---------------------------------------------------------------------------\u001b[0m",
      "\u001b[0;31mStopIteration\u001b[0m                             Traceback (most recent call last)",
      "Input \u001b[0;32mIn [92]\u001b[0m, in \u001b[0;36m<cell line: 1>\u001b[0;34m()\u001b[0m\n\u001b[0;32m----> 1\u001b[0m \u001b[38;5;28;43mnext\u001b[39;49m\u001b[43m(\u001b[49m\u001b[43mi\u001b[49m\u001b[43m)\u001b[49m\n",
      "\u001b[0;31mStopIteration\u001b[0m: "
     ]
    }
   ],
   "source": [
    "next(i)"
   ]
  },
  {
   "cell_type": "code",
   "execution_count": 93,
   "id": "42eb6497",
   "metadata": {},
   "outputs": [
    {
     "ename": "TypeError",
     "evalue": "'int' object is not iterable",
     "output_type": "error",
     "traceback": [
      "\u001b[0;31m---------------------------------------------------------------------------\u001b[0m",
      "\u001b[0;31mTypeError\u001b[0m                                 Traceback (most recent call last)",
      "Input \u001b[0;32mIn [93]\u001b[0m, in \u001b[0;36m<cell line: 1>\u001b[0;34m()\u001b[0m\n\u001b[0;32m----> 1\u001b[0m \u001b[38;5;28;43miter\u001b[39;49m\u001b[43m(\u001b[49m\u001b[38;5;241;43m5\u001b[39;49m\u001b[43m)\u001b[49m\n",
      "\u001b[0;31mTypeError\u001b[0m: 'int' object is not iterable"
     ]
    }
   ],
   "source": [
    "\n",
    "iter(5)"
   ]
  },
  {
   "cell_type": "code",
   "execution_count": 94,
   "id": "09a6333b",
   "metadata": {},
   "outputs": [
    {
     "ename": "TypeError",
     "evalue": "'int' object is not iterable",
     "output_type": "error",
     "traceback": [
      "\u001b[0;31m---------------------------------------------------------------------------\u001b[0m",
      "\u001b[0;31mTypeError\u001b[0m                                 Traceback (most recent call last)",
      "Input \u001b[0;32mIn [94]\u001b[0m, in \u001b[0;36m<cell line: 1>\u001b[0;34m()\u001b[0m\n\u001b[0;32m----> 1\u001b[0m \u001b[38;5;28;01mfor\u001b[39;00m i \u001b[38;5;129;01min\u001b[39;00m \u001b[38;5;241m5\u001b[39m:\n\u001b[1;32m      2\u001b[0m     \u001b[38;5;28mprint\u001b[39m(i)\n",
      "\u001b[0;31mTypeError\u001b[0m: 'int' object is not iterable"
     ]
    }
   ],
   "source": [
    "for i in 5:\n",
    "    print(i)"
   ]
  },
  {
   "cell_type": "code",
   "execution_count": 98,
   "id": "e382e7ce",
   "metadata": {},
   "outputs": [
    {
     "ename": "TypeError",
     "evalue": "iter() returned non-iterator of type 'MyData'",
     "output_type": "error",
     "traceback": [
      "\u001b[0;31m---------------------------------------------------------------------------\u001b[0m",
      "\u001b[0;31mTypeError\u001b[0m                                 Traceback (most recent call last)",
      "Input \u001b[0;32mIn [98]\u001b[0m, in \u001b[0;36m<cell line: 12>\u001b[0;34m()\u001b[0m\n\u001b[1;32m      6\u001b[0m         \u001b[38;5;28;01mreturn\u001b[39;00m \u001b[38;5;28mself\u001b[39m\n\u001b[1;32m     10\u001b[0m m \u001b[38;5;241m=\u001b[39m MyData(\u001b[38;5;124m'\u001b[39m\u001b[38;5;124mabcd\u001b[39m\u001b[38;5;124m'\u001b[39m)\n\u001b[0;32m---> 12\u001b[0m \u001b[38;5;28;01mfor\u001b[39;00m one_item \u001b[38;5;129;01min\u001b[39;00m m:\n\u001b[1;32m     13\u001b[0m     \u001b[38;5;28mprint\u001b[39m(one_item)\n",
      "\u001b[0;31mTypeError\u001b[0m: iter() returned non-iterator of type 'MyData'"
     ]
    }
   ],
   "source": [
    "class MyData:\n",
    "    def __init__(self, data):\n",
    "        print(f'\\tNow in MyData.__init__, {data=}')\n",
    "        self.data = data\n",
    "        self.index = 0\n",
    "        \n",
    "    def __iter__(self):    # this is what the \"iter\" function runs\n",
    "        print(f'\\tNow in MyData.__iter__, {}')\n",
    "        return self\n",
    "    \n",
    "    def __next__(self):    # run by \"next\"\n",
    "\n",
    "        if self.index >= len(self.data):\n",
    "            raise StopIteration\n",
    "            \n",
    "        value = self.data[self.index]\n",
    "        self.index += 1\n",
    "        return value\n",
    "        \n",
    "\n",
    "m = MyData('abcd')\n",
    "\n",
    "for one_item in m:\n",
    "    print(one_item)"
   ]
  },
  {
   "cell_type": "code",
   "execution_count": null,
   "id": "29d6dd84",
   "metadata": {},
   "outputs": [],
   "source": []
  }
 ],
 "metadata": {
  "kernelspec": {
   "display_name": "Python 3 (ipykernel)",
   "language": "python",
   "name": "python3"
  },
  "language_info": {
   "codemirror_mode": {
    "name": "ipython",
    "version": 3
   },
   "file_extension": ".py",
   "mimetype": "text/x-python",
   "name": "python",
   "nbconvert_exporter": "python",
   "pygments_lexer": "ipython3",
   "version": "3.10.6"
  }
 },
 "nbformat": 4,
 "nbformat_minor": 5
}
