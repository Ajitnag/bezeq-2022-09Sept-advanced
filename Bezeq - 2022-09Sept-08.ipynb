{
 "cells": [
  {
   "cell_type": "markdown",
   "id": "bb50af7a",
   "metadata": {},
   "source": [
    "# Agenda\n",
    "\n",
    "- Attributes (ICPO)\n",
    "- Magic methods\n",
    "- Context managers\n",
    "- Iterators\n",
    "- Generators\n",
    "- Decorators \n",
    "- signals"
   ]
  },
  {
   "cell_type": "code",
   "execution_count": 1,
   "id": "6548d30e",
   "metadata": {},
   "outputs": [
    {
     "name": "stdout",
     "output_type": "stream",
     "text": [
      "Hello, name1!\n",
      "Hello, name2!\n"
     ]
    }
   ],
   "source": [
    "class Person:\n",
    "    def __init__(self, name):\n",
    "        self.name = name\n",
    "        \n",
    "    def greet(self):\n",
    "        return f'Hello, {self.name}!'\n",
    "    \n",
    "p1 = Person('name1')    \n",
    "p2 = Person('name2')\n",
    "\n",
    "print(p1.greet())\n",
    "print(p2.greet())"
   ]
  },
  {
   "cell_type": "code",
   "execution_count": 2,
   "id": "cd5c8baa",
   "metadata": {},
   "outputs": [
    {
     "data": {
      "text/plain": [
       "__main__.Person"
      ]
     },
     "execution_count": 2,
     "metadata": {},
     "output_type": "execute_result"
    }
   ],
   "source": [
    "type(p1)"
   ]
  },
  {
   "cell_type": "code",
   "execution_count": 3,
   "id": "a77ca762",
   "metadata": {},
   "outputs": [
    {
     "data": {
      "text/plain": [
       "__main__.Person"
      ]
     },
     "execution_count": 3,
     "metadata": {},
     "output_type": "execute_result"
    }
   ],
   "source": [
    "type(p2)"
   ]
  },
  {
   "cell_type": "code",
   "execution_count": null,
   "id": "406da41f",
   "metadata": {},
   "outputs": [],
   "source": []
  }
 ],
 "metadata": {
  "kernelspec": {
   "display_name": "Python 3 (ipykernel)",
   "language": "python",
   "name": "python3"
  },
  "language_info": {
   "codemirror_mode": {
    "name": "ipython",
    "version": 3
   },
   "file_extension": ".py",
   "mimetype": "text/x-python",
   "name": "python",
   "nbconvert_exporter": "python",
   "pygments_lexer": "ipython3",
   "version": "3.10.6"
  }
 },
 "nbformat": 4,
 "nbformat_minor": 5
}
