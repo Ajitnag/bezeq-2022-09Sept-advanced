{
 "cells": [
  {
   "cell_type": "markdown",
   "id": "66aa8b6a",
   "metadata": {},
   "source": [
    "# Agenda\n",
    "\n",
    "- Attributes (ICPO)\n",
    "- Magic methods\n",
    "- Context managers\n",
    "- Iterators\n",
    "- Generators\n",
    "- Decorators \n",
    "- signals"
   ]
  },
  {
   "cell_type": "code",
   "execution_count": 1,
   "id": "7d53e328",
   "metadata": {},
   "outputs": [
    {
     "name": "stdout",
     "output_type": "stream",
     "text": [
      "Hello, name1!\n",
      "Hello, name2!\n"
     ]
    }
   ],
   "source": [
    "class Person:\n",
    "    def __init__(self, name):\n",
    "        self.name = name\n",
    "        \n",
    "    def greet(self):\n",
    "        return f'Hello, {self.name}!'\n",
    "    \n",
    "p1 = Person('name1')    \n",
    "p2 = Person('name2')\n",
    "\n",
    "print(p1.greet())\n",
    "print(p2.greet())"
   ]
  },
  {
   "cell_type": "code",
   "execution_count": 2,
   "id": "896ce8bf",
   "metadata": {},
   "outputs": [
    {
     "data": {
      "text/plain": [
       "__main__.Person"
      ]
     },
     "execution_count": 2,
     "metadata": {},
     "output_type": "execute_result"
    }
   ],
   "source": [
    "type(p1)"
   ]
  },
  {
   "cell_type": "code",
   "execution_count": 3,
   "id": "4433136b",
   "metadata": {},
   "outputs": [
    {
     "data": {
      "text/plain": [
       "__main__.Person"
      ]
     },
     "execution_count": 3,
     "metadata": {},
     "output_type": "execute_result"
    }
   ],
   "source": [
    "type(p2)"
   ]
  },
  {
   "cell_type": "code",
   "execution_count": 5,
   "id": "cd4b733e",
   "metadata": {},
   "outputs": [
    {
     "name": "stdout",
     "output_type": "stream",
     "text": [
      "Before, population = 0\n",
      "After, population = 2\n",
      "Hello, name1!\n",
      "Hello, name2!\n"
     ]
    }
   ],
   "source": [
    "# how many people have we created?\n",
    "# option 1: global variable\n",
    "\n",
    "population = 0\n",
    "\n",
    "class Person:\n",
    "    def __init__(self, name):\n",
    "        global population\n",
    "        self.name = name\n",
    "        population += 1\n",
    "        \n",
    "    def greet(self):\n",
    "        return f'Hello, {self.name}!'\n",
    "    \n",
    "print(f'Before, population = {population}')\n",
    "p1 = Person('name1')    \n",
    "p2 = Person('name2')\n",
    "print(f'After, population = {population}')\n",
    "\n",
    "print(p1.greet())\n",
    "print(p2.greet())"
   ]
  },
  {
   "cell_type": "code",
   "execution_count": 6,
   "id": "845f956b",
   "metadata": {},
   "outputs": [
    {
     "name": "stdout",
     "output_type": "stream",
     "text": [
      "Before, population = 0\n",
      "After, population = 2\n",
      "Hello, name1!\n",
      "Hello, name2!\n"
     ]
    }
   ],
   "source": [
    "# how many people have we created?\n",
    "# option 2: class attribute\n",
    "\n",
    "class Person:\n",
    "    def __init__(self, name):\n",
    "        self.name = name\n",
    "        Person.population += 1\n",
    "        \n",
    "    def greet(self):\n",
    "        return f'Hello, {self.name}!'\n",
    "    \n",
    "Person.population = 0\n",
    "\n",
    "print(f'Before, population = {Person.population}')\n",
    "p1 = Person('name1')    \n",
    "p2 = Person('name2')\n",
    "print(f'After, population = {Person.population}')\n",
    "\n",
    "print(p1.greet())\n",
    "print(p2.greet())"
   ]
  },
  {
   "cell_type": "code",
   "execution_count": 7,
   "id": "b2415725",
   "metadata": {},
   "outputs": [
    {
     "name": "stdout",
     "output_type": "stream",
     "text": [
      "A\n",
      "B\n",
      "D\n",
      "E\n",
      "C\n",
      "C\n"
     ]
    }
   ],
   "source": [
    "print('A')\n",
    "class MyClass:\n",
    "    print('B')\n",
    "    def __init__(self, x):\n",
    "        print('C')\n",
    "        self.x = x\n",
    "    print('D')\n",
    "print('E')\n",
    "        \n",
    "m1 = MyClass(10)        \n",
    "m2 = MyClass(20)"
   ]
  },
  {
   "cell_type": "code",
   "execution_count": 3,
   "id": "afad5967",
   "metadata": {},
   "outputs": [
    {
     "name": "stdout",
     "output_type": "stream",
     "text": [
      "Before, population = 0\n",
      "After, population = 2\n",
      "After, p1.population = 2\n",
      "After, p2.population = 2\n",
      "Hello, name1!\n",
      "Hello, name2!\n"
     ]
    }
   ],
   "source": [
    "# how many people have we created?\n",
    "# option 3: class attribute, defined in the class\n",
    "\n",
    "class Person:\n",
    "    population = 0   # defining Person.population a class attribute\n",
    "\n",
    "    def __init__(self, name):\n",
    "        self.name = name\n",
    "        Person.population += 1\n",
    "        \n",
    "    def greet(self):\n",
    "        return f'Hello, {self.name}!'\n",
    "    \n",
    "\n",
    "print(f'Before, population = {Person.population}')\n",
    "p1 = Person('name1')    \n",
    "p2 = Person('name2')\n",
    "print(f'After, population = {Person.population}')\n",
    "print(f'After, p1.population = {p1.population}')\n",
    "print(f'After, p2.population = {p2.population}')\n",
    "\n",
    "print(p1.greet()) \n",
    "print(p2.greet())"
   ]
  },
  {
   "cell_type": "markdown",
   "id": "62ee8632",
   "metadata": {},
   "source": [
    "# Attribute search in Python\n",
    "\n",
    "- I  -- instance\n",
    "- C -- class\n",
    "- P  -- parent(s)\n",
    "- O -- `object`"
   ]
  },
  {
   "cell_type": "code",
   "execution_count": 4,
   "id": "9690a6f7",
   "metadata": {},
   "outputs": [
    {
     "data": {
      "text/plain": [
       "'abcd'"
      ]
     },
     "execution_count": 4,
     "metadata": {},
     "output_type": "execute_result"
    }
   ],
   "source": [
    "s = 'aBcD'\n",
    "\n",
    "s.lower()"
   ]
  },
  {
   "cell_type": "code",
   "execution_count": 5,
   "id": "8a2551bc",
   "metadata": {},
   "outputs": [
    {
     "data": {
      "text/plain": [
       "'ABCD'"
      ]
     },
     "execution_count": 5,
     "metadata": {},
     "output_type": "execute_result"
    }
   ],
   "source": [
    "s.upper()  # --> str.upper(s)"
   ]
  },
  {
   "cell_type": "code",
   "execution_count": 6,
   "id": "6b510415",
   "metadata": {},
   "outputs": [
    {
     "data": {
      "text/plain": [
       "'abcd'"
      ]
     },
     "execution_count": 6,
     "metadata": {},
     "output_type": "execute_result"
    }
   ],
   "source": [
    "str.lower(s)"
   ]
  },
  {
   "cell_type": "code",
   "execution_count": 7,
   "id": "e7639ee5",
   "metadata": {},
   "outputs": [
    {
     "data": {
      "text/plain": [
       "'ABCD'"
      ]
     },
     "execution_count": 7,
     "metadata": {},
     "output_type": "execute_result"
    }
   ],
   "source": [
    "str.upper(s)"
   ]
  },
  {
   "cell_type": "code",
   "execution_count": 8,
   "id": "8cfd07d0",
   "metadata": {},
   "outputs": [
    {
     "name": "stdout",
     "output_type": "stream",
     "text": [
      "Before, population = 0\n",
      "After, population = 0\n",
      "After, p1.population = 1\n",
      "After, p2.population = 1\n",
      "Hello, name1!\n",
      "Hello, name2!\n"
     ]
    }
   ],
   "source": [
    "# what if I do this?\n",
    "\n",
    "class Person:\n",
    "    population = 0  \n",
    "\n",
    "    def __init__(self, name):\n",
    "        self.name = name\n",
    "        # self.population += 1    # will this work? What will happen?\n",
    "        self.population = self.population + 1\n",
    "    def greet(self):\n",
    "        return f'Hello, {self.name}!'\n",
    "    \n",
    "\n",
    "print(f'Before, population = {Person.population}')\n",
    "p1 = Person('name1')    \n",
    "p2 = Person('name2')\n",
    "print(f'After, population = {Person.population}')\n",
    "print(f'After, p1.population = {p1.population}')\n",
    "print(f'After, p2.population = {p2.population}')\n",
    "\n",
    "print(p1.greet()) \n",
    "print(p2.greet())"
   ]
  },
  {
   "cell_type": "markdown",
   "id": "9b60b732",
   "metadata": {},
   "source": [
    "# Class attributes\n",
    "\n",
    "You can read class attributes from either the class, or from the instance.  \n",
    "\n",
    "Write class attributes *only* via the class.  (Or else!)"
   ]
  },
  {
   "cell_type": "markdown",
   "id": "895c1bd8",
   "metadata": {},
   "source": [
    "# Inheritance"
   ]
  },
  {
   "cell_type": "code",
   "execution_count": 11,
   "id": "4c407c85",
   "metadata": {},
   "outputs": [
    {
     "name": "stdout",
     "output_type": "stream",
     "text": [
      "Hello, name1!\n",
      "Hello, name2!\n",
      "Hello, emp1!\n",
      "Hello, emp2!\n"
     ]
    }
   ],
   "source": [
    "class Person:\n",
    "    def __init__(self, name):\n",
    "        self.name = name\n",
    "    def greet(self):\n",
    "        return f'Hello, {self.name}!'\n",
    "    \n",
    "\n",
    "p1 = Person('name1')    \n",
    "p2 = Person('name2')\n",
    "\n",
    "print(p1.greet()) \n",
    "print(p2.greet())\n",
    "\n",
    "class Employee(Person):\n",
    "    def __init__(self, name, id_number):\n",
    "        self.name = name\n",
    "        self.id_number = id_number\n",
    "    def greet(self):\n",
    "        return f'Hello, {self.name}!'\n",
    "    \n",
    "e1 = Employee('emp1', 1)    \n",
    "e2 = Employee('emp2', 2)\n",
    "\n",
    "print(e1.greet()) # does e1 have greet? NO. Does Employee have greet? YES.\n",
    "print(e2.greet()) # \"\" e2 \"\""
   ]
  },
  {
   "cell_type": "code",
   "execution_count": 13,
   "id": "b1139cb4",
   "metadata": {},
   "outputs": [
    {
     "name": "stdout",
     "output_type": "stream",
     "text": [
      "Hello, name1!\n",
      "Hello, name2!\n",
      "Hello, emp1!\n",
      "Hello, emp2!\n"
     ]
    }
   ],
   "source": [
    "# let's remove Employee.greet.  Will things now work?\n",
    "\n",
    "class Person:\n",
    "    def __init__(self, name):\n",
    "        self.name = name\n",
    "    def greet(self):\n",
    "        return f'Hello, {self.name}!'\n",
    "    \n",
    "\n",
    "p1 = Person('name1')    \n",
    "p2 = Person('name2')\n",
    "\n",
    "print(p1.greet()) \n",
    "print(p2.greet())\n",
    "\n",
    "class Employee(Person):\n",
    "    def __init__(self, name, id_number):\n",
    "        self.name = name\n",
    "        self.id_number = id_number\n",
    "    \n",
    "e1 = Employee('emp1', 1)    \n",
    "e2 = Employee('emp2', 2)\n",
    "\n",
    "print(e1.greet()) \n",
    "print(e2.greet()) "
   ]
  },
  {
   "cell_type": "code",
   "execution_count": 20,
   "id": "d1d18820",
   "metadata": {},
   "outputs": [
    {
     "name": "stdout",
     "output_type": "stream",
     "text": [
      "Hello, name1!\n",
      "Hello, name2!\n",
      "Hello, emp1!\n",
      "Hello, emp2!\n"
     ]
    }
   ],
   "source": [
    "# let's remove the assignment to name from Employee\n",
    "\n",
    "class Person:\n",
    "    def __init__(self, name):\n",
    "        self.name = name\n",
    "    def greet(self):\n",
    "        return f'Hello, {self.name}!'\n",
    "    \n",
    "\n",
    "p1 = Person('name1')    \n",
    "p2 = Person('name2')\n",
    "\n",
    "print(p1.greet()) \n",
    "print(p2.greet())\n",
    "\n",
    "class Employee(Person):\n",
    "    def __init__(self, name, id_number):\n",
    "        # Person.__init__(self, name)\n",
    "        super().__init__(name)   # better than calling Person.__init__\n",
    "        self.id_number = id_number\n",
    "    \n",
    "e1 = Employee('emp1', 1) # e1.__init__? No. Employee.__init__? YES   \n",
    "e2 = Employee('emp2', 2) \n",
    "\n",
    "print(e1.greet())   # e1.greet? NO. Employee.greet? NO. Person.greet? YES\n",
    "print(e2.greet()) "
   ]
  },
  {
   "cell_type": "code",
   "execution_count": 15,
   "id": "839f1404",
   "metadata": {},
   "outputs": [
    {
     "data": {
      "text/plain": [
       "{'name': 'name1'}"
      ]
     },
     "execution_count": 15,
     "metadata": {},
     "output_type": "execute_result"
    }
   ],
   "source": [
    "vars(p1)"
   ]
  },
  {
   "cell_type": "code",
   "execution_count": 16,
   "id": "d0b6914a",
   "metadata": {},
   "outputs": [
    {
     "data": {
      "text/plain": [
       "{'name': 'name2'}"
      ]
     },
     "execution_count": 16,
     "metadata": {},
     "output_type": "execute_result"
    }
   ],
   "source": [
    "vars(p2)"
   ]
  },
  {
   "cell_type": "code",
   "execution_count": 17,
   "id": "c1d0e91c",
   "metadata": {},
   "outputs": [
    {
     "data": {
      "text/plain": [
       "{'id_number': 1}"
      ]
     },
     "execution_count": 17,
     "metadata": {},
     "output_type": "execute_result"
    }
   ],
   "source": [
    "vars(e1)"
   ]
  },
  {
   "cell_type": "code",
   "execution_count": 18,
   "id": "12e881ea",
   "metadata": {},
   "outputs": [
    {
     "data": {
      "text/plain": [
       "{'id_number': 2}"
      ]
     },
     "execution_count": 18,
     "metadata": {},
     "output_type": "execute_result"
    }
   ],
   "source": [
    "vars(e2)"
   ]
  },
  {
   "cell_type": "code",
   "execution_count": 21,
   "id": "f9a3d33d",
   "metadata": {},
   "outputs": [],
   "source": [
    "def hello():\n",
    "    return 'Hi!'\n",
    "\n",
    "def hello(name):\n",
    "    return f'Hello, {name}!'\n",
    "\n",
    "def hello(first, last):\n",
    "    return f'Hello, {first} {last}'"
   ]
  },
  {
   "cell_type": "code",
   "execution_count": 22,
   "id": "1bd93105",
   "metadata": {},
   "outputs": [
    {
     "ename": "TypeError",
     "evalue": "hello() missing 2 required positional arguments: 'first' and 'last'",
     "output_type": "error",
     "traceback": [
      "\u001b[0;31m---------------------------------------------------------------------------\u001b[0m",
      "\u001b[0;31mTypeError\u001b[0m                                 Traceback (most recent call last)",
      "Input \u001b[0;32mIn [22]\u001b[0m, in \u001b[0;36m<cell line: 1>\u001b[0;34m()\u001b[0m\n\u001b[0;32m----> 1\u001b[0m \u001b[43mhello\u001b[49m\u001b[43m(\u001b[49m\u001b[43m)\u001b[49m\n",
      "\u001b[0;31mTypeError\u001b[0m: hello() missing 2 required positional arguments: 'first' and 'last'"
     ]
    }
   ],
   "source": [
    "hello()"
   ]
  },
  {
   "cell_type": "code",
   "execution_count": 23,
   "id": "22975af3",
   "metadata": {},
   "outputs": [
    {
     "ename": "TypeError",
     "evalue": "hello() missing 1 required positional argument: 'last'",
     "output_type": "error",
     "traceback": [
      "\u001b[0;31m---------------------------------------------------------------------------\u001b[0m",
      "\u001b[0;31mTypeError\u001b[0m                                 Traceback (most recent call last)",
      "Input \u001b[0;32mIn [23]\u001b[0m, in \u001b[0;36m<cell line: 1>\u001b[0;34m()\u001b[0m\n\u001b[0;32m----> 1\u001b[0m \u001b[43mhello\u001b[49m\u001b[43m(\u001b[49m\u001b[38;5;124;43m'\u001b[39;49m\u001b[38;5;124;43mworld\u001b[39;49m\u001b[38;5;124;43m'\u001b[39;49m\u001b[43m)\u001b[49m\n",
      "\u001b[0;31mTypeError\u001b[0m: hello() missing 1 required positional argument: 'last'"
     ]
    }
   ],
   "source": [
    "hello('world')"
   ]
  },
  {
   "cell_type": "code",
   "execution_count": 24,
   "id": "5df505a9",
   "metadata": {},
   "outputs": [],
   "source": [
    "hello = 5"
   ]
  },
  {
   "cell_type": "code",
   "execution_count": 25,
   "id": "54b568b2",
   "metadata": {},
   "outputs": [
    {
     "ename": "TypeError",
     "evalue": "'int' object is not callable",
     "output_type": "error",
     "traceback": [
      "\u001b[0;31m---------------------------------------------------------------------------\u001b[0m",
      "\u001b[0;31mTypeError\u001b[0m                                 Traceback (most recent call last)",
      "Input \u001b[0;32mIn [25]\u001b[0m, in \u001b[0;36m<cell line: 1>\u001b[0;34m()\u001b[0m\n\u001b[0;32m----> 1\u001b[0m \u001b[43mhello\u001b[49m\u001b[43m(\u001b[49m\u001b[38;5;124;43m'\u001b[39;49m\u001b[38;5;124;43mworld\u001b[39;49m\u001b[38;5;124;43m'\u001b[39;49m\u001b[43m)\u001b[49m\n",
      "\u001b[0;31mTypeError\u001b[0m: 'int' object is not callable"
     ]
    }
   ],
   "source": [
    "hello('world')"
   ]
  },
  {
   "cell_type": "code",
   "execution_count": 26,
   "id": "77d94763",
   "metadata": {},
   "outputs": [
    {
     "data": {
      "text/plain": [
       "['chocolate', 'vanilla', 'coffee']"
      ]
     },
     "execution_count": 26,
     "metadata": {},
     "output_type": "execute_result"
    }
   ],
   "source": [
    "class Scoop:\n",
    "    def __init__(self, flavor):\n",
    "        self.flavor = flavor\n",
    "\n",
    "s1 = Scoop('chocolate')\n",
    "s2 = Scoop('vanilla')\n",
    "s3 = Scoop('coffee')\n",
    "\n",
    "class Bowl:\n",
    "    def __init__(self):\n",
    "        self.scoops = []  \n",
    "    def add_scoops(self, *args):  # args is a tuple with all scoops\n",
    "        self.scoops += args\n",
    "    def flavors(self):\n",
    "        return [one_scoop.flavor\n",
    "               for one_scoop in self.scoops]\n",
    "\n",
    "b = Bowl()\n",
    "b.add_scoops(s1, s2)\n",
    "b.add_scoops(s3)\n",
    "b.flavors()"
   ]
  },
  {
   "cell_type": "markdown",
   "id": "11617254",
   "metadata": {},
   "source": [
    "# Exercise: Limited-size bowls\n",
    "\n",
    "1. Limit the number of scoops you can put in a `Bowl` to 3.  The first 3 are put in, the rest are ignored.  Use a class attribute.  \n",
    "2. Now define a new class, `BigBowl`.  We can put up to 5 scoops in an instance of `BigBowl`.\n",
    "\n",
    "```python\n",
    "s4 = Scoop('flavor 4')\n",
    "s5 = Scoop('flavor 5')\n",
    "s6 = Scoop('flavor 6')\n",
    "\n",
    "b.add_scoops(s1, s2, s3, s4, s5, s6)\n",
    "print(b.flavors())  # still three -- ['chocolate', 'vanilla', 'coffee']\n",
    "\n",
    "bb = BigBowl()\n",
    "bb.add_scoops(s1, s2, s3)\n",
    "bb.add_scoops(s4, s5)\n",
    "bb.add_scoops(s6)\n",
    "print(bb.flavors()) # ['chocolate', 'vanilla', 'coffee', 'flavor 4', 'flavor 5']\n",
    "```"
   ]
  },
  {
   "cell_type": "code",
   "execution_count": 27,
   "id": "76a28ff4",
   "metadata": {},
   "outputs": [],
   "source": [
    "# https://github.com/reuven/bezeq-2022-09Sept-advanced\n",
    "\n",
    "# github.com/reuven"
   ]
  },
  {
   "cell_type": "code",
   "execution_count": 37,
   "id": "2067c7aa",
   "metadata": {},
   "outputs": [
    {
     "name": "stdout",
     "output_type": "stream",
     "text": [
      "['chocolate', 'vanilla', 'coffee']\n",
      "['chocolate', 'vanilla', 'coffee', 'flavor 4', 'flavor 5']\n"
     ]
    }
   ],
   "source": [
    "class Scoop:\n",
    "    def __init__(self, flavor):\n",
    "        self.flavor = flavor\n",
    "\n",
    "s1 = Scoop('chocolate')\n",
    "s2 = Scoop('vanilla')\n",
    "s3 = Scoop('coffee')\n",
    "s4 = Scoop('flavor 4')\n",
    "s5 = Scoop('flavor 5')\n",
    "s6 = Scoop('flavor 6')\n",
    "\n",
    "class Bowl:\n",
    "    MAX_SCOOPS = 3\n",
    "\n",
    "    def __init__(self):\n",
    "        self.scoops = []  \n",
    "    def add_scoops(self, *args):  \n",
    "#         for one_scoop in args:\n",
    "#             if len(self.scoops) >= self.MAX_SCOOPS:\n",
    "#                 break\n",
    "#             self.scoops.append(one_scoop)\n",
    "\n",
    "         self.scoops += args[:self.MAX_SCOOPS - len(self.scoops)]\n",
    "\n",
    "         # args is (chocoloate, vanilla, coffee)\n",
    "        #                 0           1       2      \n",
    "        # args [:3] is (chocoloate, vanilla, coffee)  # up to, not including 3\n",
    "        \n",
    "\n",
    "    def flavors(self):\n",
    "        return [one_scoop.flavor\n",
    "               for one_scoop in self.scoops]\n",
    "\n",
    "class BigBowl(Bowl):\n",
    "    MAX_SCOOPS = 5\n",
    "\n",
    "b = Bowl()\n",
    "b.add_scoops(s1, s2)\n",
    "b.add_scoops(s3)\n",
    "b.add_scoops(s4, s5, s6)\n",
    "print(b.flavors())  # still three -- ['chocolate', 'vanilla', 'coffee']\n",
    "\n",
    "bb = BigBowl()\n",
    "bb.add_scoops(s1, s2, s3)\n",
    "bb.add_scoops(s4, s5)\n",
    "bb.add_scoops(s6)\n",
    "print(bb.flavors()) # ['chocolate', 'vanilla', 'coffee', 'flavor 4', 'flavor 5']\n"
   ]
  },
  {
   "cell_type": "code",
   "execution_count": 38,
   "id": "82b5a18e",
   "metadata": {},
   "outputs": [
    {
     "name": "stdout",
     "output_type": "stream",
     "text": [
      "<__main__.Scoop object at 0x1113e0550>\n"
     ]
    }
   ],
   "source": [
    "print(s1)"
   ]
  },
  {
   "cell_type": "code",
   "execution_count": 39,
   "id": "33a8db7b",
   "metadata": {},
   "outputs": [
    {
     "name": "stdout",
     "output_type": "stream",
     "text": [
      "<__main__.Bowl object at 0x110cac160>\n"
     ]
    }
   ],
   "source": [
    "print(b)"
   ]
  },
  {
   "cell_type": "code",
   "execution_count": 40,
   "id": "220a6640",
   "metadata": {},
   "outputs": [
    {
     "name": "stdout",
     "output_type": "stream",
     "text": [
      "<__main__.Bowl object at 0x110cac160>\n"
     ]
    }
   ],
   "source": [
    "print(b) # --> print(str(b)) --> print(b.__str__())\n",
    "#   does b have __str__? No\n",
    "#   does Bowl have __str__? No\n",
    "#   does object have __str__ YES"
   ]
  },
  {
   "cell_type": "code",
   "execution_count": 41,
   "id": "6a1a94e1",
   "metadata": {},
   "outputs": [
    {
     "data": {
      "text/plain": [
       "'<__main__.Bowl object at 0x110cac160>'"
      ]
     },
     "execution_count": 41,
     "metadata": {},
     "output_type": "execute_result"
    }
   ],
   "source": [
    "object.__str__(b)"
   ]
  },
  {
   "cell_type": "code",
   "execution_count": 49,
   "id": "aee808e9",
   "metadata": {},
   "outputs": [
    {
     "name": "stdout",
     "output_type": "stream",
     "text": [
      "Hello, name1!\n",
      "Hello, name2!\n"
     ]
    }
   ],
   "source": [
    "# how many people have we created?\n",
    "# option 3: class attribute, defined in the class\n",
    "\n",
    "class Person:\n",
    "    def __init__(self, name):\n",
    "        self.name = name\n",
    "    def greet(self):\n",
    "        return f'Hello, {self.name}!'\n",
    "#     def __str__(self):   # meant for regular users\n",
    "#         return f'Person named {self.name}'\n",
    "    def __repr__(self):  # meant for programmers\n",
    "        return f'Person named {self.name}'\n",
    "\n",
    "\n",
    "p1 = Person('name1')    \n",
    "p2 = Person('name2')\n",
    "\n",
    "print(p1.greet()) \n",
    "print(p2.greet())"
   ]
  },
  {
   "cell_type": "code",
   "execution_count": 50,
   "id": "483440ef",
   "metadata": {},
   "outputs": [
    {
     "name": "stdout",
     "output_type": "stream",
     "text": [
      "Person named name1\n"
     ]
    }
   ],
   "source": [
    "print(p1)"
   ]
  },
  {
   "cell_type": "code",
   "execution_count": 51,
   "id": "36193329",
   "metadata": {},
   "outputs": [
    {
     "name": "stdout",
     "output_type": "stream",
     "text": [
      "Person named name2\n"
     ]
    }
   ],
   "source": [
    "print(p2)"
   ]
  },
  {
   "cell_type": "code",
   "execution_count": 52,
   "id": "2b4f97e5",
   "metadata": {},
   "outputs": [
    {
     "data": {
      "text/plain": [
       "Person named name1"
      ]
     },
     "execution_count": 52,
     "metadata": {},
     "output_type": "execute_result"
    }
   ],
   "source": [
    "p1"
   ]
  },
  {
   "cell_type": "code",
   "execution_count": 53,
   "id": "3b83afc9",
   "metadata": {},
   "outputs": [],
   "source": [
    "# Return at 10:50"
   ]
  },
  {
   "cell_type": "code",
   "execution_count": 54,
   "id": "f850b082",
   "metadata": {},
   "outputs": [
    {
     "name": "stdout",
     "output_type": "stream",
     "text": [
      "Hello\n"
     ]
    }
   ],
   "source": [
    "print('Hello')"
   ]
  },
  {
   "cell_type": "markdown",
   "id": "be39b74a",
   "metadata": {},
   "source": [
    "# This is a test \n",
    "\n",
    "- One\n",
    "- Two \n",
    "    - 2.5\n",
    "    - 2.6\n",
    "    - 2.7\n",
    "- Three    \n",
    "\n",
    "This is in *italics* and in **boldface** and `computer_stuff`. etc."
   ]
  },
  {
   "cell_type": "markdown",
   "id": "04d9f615",
   "metadata": {},
   "source": [
    "- ESC -- command mode, or click to the left of the cell\n",
    "    - `h` -- help\n",
    "    - `m` -- markdown mode\n",
    "    - `y` -- code mode\n",
    "- ENTER -- edit mode, or click in the cell."
   ]
  },
  {
   "cell_type": "code",
   "execution_count": 55,
   "id": "def73105",
   "metadata": {},
   "outputs": [
    {
     "data": {
      "text/plain": [
       "5"
      ]
     },
     "execution_count": 55,
     "metadata": {},
     "output_type": "execute_result"
    }
   ],
   "source": [
    "# writing to files\n",
    "\n",
    "f = open('myfile.txt', 'w')   # open returns a file object, for writing ('w')\n",
    "\n",
    "f.write('abcd\\n')\n",
    "f.write('efgh\\n')\n",
    "f.write('ijkl\\n')"
   ]
  },
  {
   "cell_type": "code",
   "execution_count": 59,
   "id": "d4642a4e",
   "metadata": {},
   "outputs": [
    {
     "name": "stdout",
     "output_type": "stream",
     "text": [
      "abcd\r\n",
      "efgh\r\n",
      "ijkl\r\n"
     ]
    }
   ],
   "source": [
    "# !cat == show the file\n",
    "\n",
    "!cat myfile.txt"
   ]
  },
  {
   "cell_type": "code",
   "execution_count": 57,
   "id": "a46ee8da",
   "metadata": {},
   "outputs": [],
   "source": [
    "f.flush()   # write the buffer to the file"
   ]
  },
  {
   "cell_type": "code",
   "execution_count": 58,
   "id": "1db3f55e",
   "metadata": {},
   "outputs": [
    {
     "name": "stdout",
     "output_type": "stream",
     "text": [
      "abcd\r\n",
      "efgh\r\n",
      "ijkl\r\n"
     ]
    }
   ],
   "source": [
    "!cat myfile.txt"
   ]
  },
  {
   "cell_type": "code",
   "execution_count": 60,
   "id": "ae763023",
   "metadata": {},
   "outputs": [],
   "source": [
    "f.close()    # stop writing to the file + flush, if we need"
   ]
  },
  {
   "cell_type": "code",
   "execution_count": 61,
   "id": "d7939f2d",
   "metadata": {},
   "outputs": [
    {
     "name": "stdout",
     "output_type": "stream",
     "text": [
      "abcd\r\n",
      "efgh\r\n",
      "ijkl\r\n"
     ]
    }
   ],
   "source": [
    "!cat myfile.txt"
   ]
  },
  {
   "cell_type": "code",
   "execution_count": 64,
   "id": "d4076c24",
   "metadata": {},
   "outputs": [],
   "source": [
    "# we can use \"with\"\n",
    "\n",
    "with open('myfile.txt', 'w') as f:\n",
    "    # f.__enter__()\n",
    "    f.write('* abcd\\n')\n",
    "    f.write('* efgh\\n')\n",
    "    f.write('* ijkl\\n')\n",
    "    # f.__exit__()  # in the case of files, __exit__ flushes + closes"
   ]
  },
  {
   "cell_type": "code",
   "execution_count": 63,
   "id": "dff69bb0",
   "metadata": {},
   "outputs": [
    {
     "name": "stdout",
     "output_type": "stream",
     "text": [
      "* abcd\r\n",
      "* efgh\r\n",
      "* ijkl\r\n"
     ]
    }
   ],
   "source": [
    "!cat myfile.txt"
   ]
  },
  {
   "cell_type": "code",
   "execution_count": 65,
   "id": "97d54c07",
   "metadata": {},
   "outputs": [
    {
     "name": "stdout",
     "output_type": "stream",
     "text": [
      "Now in MyCM.__init__, x=10\n",
      "Now in MyCM.__enter__, self.x=10\n",
      "Hello!\n",
      "Now in MyCM.__exit__, self.x=10\n"
     ]
    }
   ],
   "source": [
    "# context manager == we support __enter__  and __exit__\n",
    "\n",
    "class MyCM:\n",
    "    def __init__(self, x):\n",
    "        print(f'Now in MyCM.__init__, {x=}')\n",
    "        self.x = x\n",
    "        \n",
    "    def __enter__(self):\n",
    "        print(f'Now in MyCM.__enter__, {self.x=}')\n",
    "        return self\n",
    "    \n",
    "    def __exit__(self, *args):\n",
    "        print(f'Now in MyCM.__exit__, {self.x=}')\n",
    "        return True\n",
    "        \n",
    "with MyCM(10) as m:\n",
    "    print('Hello!')"
   ]
  },
  {
   "cell_type": "code",
   "execution_count": 66,
   "id": "d9dbb69e",
   "metadata": {},
   "outputs": [
    {
     "name": "stdout",
     "output_type": "stream",
     "text": [
      "Hello\n"
     ]
    }
   ],
   "source": [
    "print('Hello')"
   ]
  },
  {
   "cell_type": "code",
   "execution_count": 67,
   "id": "0a8e4a55",
   "metadata": {},
   "outputs": [],
   "source": [
    "import sys\n"
   ]
  },
  {
   "cell_type": "code",
   "execution_count": 68,
   "id": "87a959a8",
   "metadata": {},
   "outputs": [
    {
     "data": {
      "text/plain": [
       "<ipykernel.iostream.OutStream at 0x110c158a0>"
      ]
     },
     "execution_count": 68,
     "metadata": {},
     "output_type": "execute_result"
    }
   ],
   "source": [
    "sys.stdout"
   ]
  },
  {
   "cell_type": "code",
   "execution_count": 69,
   "id": "23bb71e4",
   "metadata": {},
   "outputs": [
    {
     "data": {
      "text/plain": [
       "<_io.TextIOWrapper name='<stdin>' mode='r' encoding='utf-8'>"
      ]
     },
     "execution_count": 69,
     "metadata": {},
     "output_type": "execute_result"
    }
   ],
   "source": [
    "sys.stdin"
   ]
  },
  {
   "cell_type": "code",
   "execution_count": 70,
   "id": "39cbe49a",
   "metadata": {},
   "outputs": [
    {
     "data": {
      "text/plain": [
       "<ipykernel.iostream.OutStream at 0x110c17790>"
      ]
     },
     "execution_count": 70,
     "metadata": {},
     "output_type": "execute_result"
    }
   ],
   "source": [
    "sys.stderr"
   ]
  },
  {
   "cell_type": "code",
   "execution_count": 71,
   "id": "d3a94216",
   "metadata": {},
   "outputs": [],
   "source": [
    "f = open('myfile.txt', 'w')\n",
    "old_stdout = sys.stdout\n",
    "\n",
    "sys.stdout = f   \n",
    "print('Hello!')"
   ]
  },
  {
   "cell_type": "code",
   "execution_count": 72,
   "id": "8f8e55a5",
   "metadata": {},
   "outputs": [],
   "source": [
    "print('Hello?????')"
   ]
  },
  {
   "cell_type": "code",
   "execution_count": 73,
   "id": "9fa916bb",
   "metadata": {},
   "outputs": [],
   "source": [
    "sys.stdout = old_stdout"
   ]
  },
  {
   "cell_type": "code",
   "execution_count": 74,
   "id": "38b4174e",
   "metadata": {},
   "outputs": [],
   "source": [
    "f.close()"
   ]
  },
  {
   "cell_type": "code",
   "execution_count": 75,
   "id": "c5e888df",
   "metadata": {},
   "outputs": [
    {
     "name": "stdout",
     "output_type": "stream",
     "text": [
      "Hello!\r\n",
      "Hello?????\r\n"
     ]
    }
   ],
   "source": [
    "!cat myfile.txt"
   ]
  },
  {
   "cell_type": "code",
   "execution_count": 76,
   "id": "b50105f3",
   "metadata": {},
   "outputs": [],
   "source": [
    "class TempStdout:\n",
    "    def __init__(self, filename):\n",
    "        self.output = open(filename, 'w')\n",
    "        self.old_stdout = None\n",
    "        \n",
    "    def __enter__(self):\n",
    "        self.old_stdout = sys.stdout\n",
    "        sys.stdout = self.output    \n",
    "        \n",
    "    def __exit__(self, *args):\n",
    "        sys.stdout = self.old_stdout\n",
    "        self.output.close()\n",
    "\n",
    "with TempStdout('myfile.txt') as t:\n",
    "    print('Hello')\n",
    "    print('Hello again')\n",
    "    print('Hello one more time')"
   ]
  },
  {
   "cell_type": "code",
   "execution_count": 77,
   "id": "5d672200",
   "metadata": {},
   "outputs": [
    {
     "name": "stdout",
     "output_type": "stream",
     "text": [
      "Hello\r\n",
      "Hello again\r\n",
      "Hello one more time\r\n"
     ]
    }
   ],
   "source": [
    "!cat myfile.txt"
   ]
  },
  {
   "cell_type": "code",
   "execution_count": 78,
   "id": "ebadcff0",
   "metadata": {},
   "outputs": [],
   "source": [
    "print('Hello', file=open('output.txt', 'w'))"
   ]
  },
  {
   "cell_type": "code",
   "execution_count": 79,
   "id": "705819ec",
   "metadata": {},
   "outputs": [
    {
     "name": "stdout",
     "output_type": "stream",
     "text": [
      "Hello\r\n"
     ]
    }
   ],
   "source": [
    "!cat output.txt"
   ]
  },
  {
   "cell_type": "markdown",
   "id": "1b33d01e",
   "metadata": {},
   "source": [
    "# Loops! (Especially `for` loops)\n",
    "\n"
   ]
  },
  {
   "cell_type": "code",
   "execution_count": 80,
   "id": "01089ebc",
   "metadata": {},
   "outputs": [
    {
     "name": "stdout",
     "output_type": "stream",
     "text": [
      "a\n",
      "b\n",
      "c\n",
      "d\n"
     ]
    }
   ],
   "source": [
    "for one_letter in 'abcd':\n",
    "    print(one_letter)"
   ]
  },
  {
   "cell_type": "markdown",
   "id": "f5a75711",
   "metadata": {},
   "source": [
    "# How a loop works\n",
    "\n",
    "1. The `for` loop asks the object if it's iterable -- `iter`.\n",
    "     - If it's not iterable, the object raises a `TypeError` exception\n",
    "     - If it is iterable, then it returns it *iterator* object (which could be itself)\n",
    "2. The `for` loop asks the iterator for the next object -- `next`.\n",
    "    - If there are no more values to give, we get a `StopIteration` exception\n",
    "    - If we do get a value, we assign it to the loop variable, and execute the loop body\n",
    "3. After running the loop body, we return to step 2    "
   ]
  },
  {
   "cell_type": "code",
   "execution_count": 81,
   "id": "dd5abf03",
   "metadata": {},
   "outputs": [],
   "source": [
    "s = 'abcd'"
   ]
  },
  {
   "cell_type": "code",
   "execution_count": 82,
   "id": "b316812d",
   "metadata": {},
   "outputs": [
    {
     "data": {
      "text/plain": [
       "<str_iterator at 0x112017760>"
      ]
     },
     "execution_count": 82,
     "metadata": {},
     "output_type": "execute_result"
    }
   ],
   "source": [
    "iter(s)"
   ]
  },
  {
   "cell_type": "code",
   "execution_count": 83,
   "id": "c6245b19",
   "metadata": {},
   "outputs": [
    {
     "data": {
      "text/plain": [
       "<str_iterator at 0x112016c80>"
      ]
     },
     "execution_count": 83,
     "metadata": {},
     "output_type": "execute_result"
    }
   ],
   "source": [
    "iter(s)"
   ]
  },
  {
   "cell_type": "code",
   "execution_count": 84,
   "id": "1370f8ff",
   "metadata": {},
   "outputs": [
    {
     "data": {
      "text/plain": [
       "<str_iterator at 0x112016980>"
      ]
     },
     "execution_count": 84,
     "metadata": {},
     "output_type": "execute_result"
    }
   ],
   "source": [
    "iter(s)"
   ]
  },
  {
   "cell_type": "code",
   "execution_count": 85,
   "id": "4a30f434",
   "metadata": {},
   "outputs": [
    {
     "data": {
      "text/plain": [
       "<_io.TextIOWrapper name='/etc/passwd' mode='r' encoding='UTF-8'>"
      ]
     },
     "execution_count": 85,
     "metadata": {},
     "output_type": "execute_result"
    }
   ],
   "source": [
    "f = open('/etc/passwd')\n",
    "iter(f)"
   ]
  },
  {
   "cell_type": "code",
   "execution_count": 86,
   "id": "0d945c04",
   "metadata": {},
   "outputs": [
    {
     "data": {
      "text/plain": [
       "<_io.TextIOWrapper name='/etc/passwd' mode='r' encoding='UTF-8'>"
      ]
     },
     "execution_count": 86,
     "metadata": {},
     "output_type": "execute_result"
    }
   ],
   "source": [
    "iter(f)"
   ]
  },
  {
   "cell_type": "code",
   "execution_count": 87,
   "id": "bf3fe08c",
   "metadata": {},
   "outputs": [
    {
     "data": {
      "text/plain": [
       "<_io.TextIOWrapper name='/etc/passwd' mode='r' encoding='UTF-8'>"
      ]
     },
     "execution_count": 87,
     "metadata": {},
     "output_type": "execute_result"
    }
   ],
   "source": [
    "iter(f)"
   ]
  },
  {
   "cell_type": "code",
   "execution_count": 88,
   "id": "45b8d49d",
   "metadata": {},
   "outputs": [
    {
     "data": {
      "text/plain": [
       "'a'"
      ]
     },
     "execution_count": 88,
     "metadata": {},
     "output_type": "execute_result"
    }
   ],
   "source": [
    "i = iter(s)\n",
    "next(i)"
   ]
  },
  {
   "cell_type": "code",
   "execution_count": 89,
   "id": "d94fb20e",
   "metadata": {},
   "outputs": [
    {
     "data": {
      "text/plain": [
       "'b'"
      ]
     },
     "execution_count": 89,
     "metadata": {},
     "output_type": "execute_result"
    }
   ],
   "source": [
    "next(i)"
   ]
  },
  {
   "cell_type": "code",
   "execution_count": 90,
   "id": "5955500f",
   "metadata": {},
   "outputs": [
    {
     "data": {
      "text/plain": [
       "'c'"
      ]
     },
     "execution_count": 90,
     "metadata": {},
     "output_type": "execute_result"
    }
   ],
   "source": [
    "next(i)"
   ]
  },
  {
   "cell_type": "code",
   "execution_count": 91,
   "id": "8cb246eb",
   "metadata": {},
   "outputs": [
    {
     "data": {
      "text/plain": [
       "'d'"
      ]
     },
     "execution_count": 91,
     "metadata": {},
     "output_type": "execute_result"
    }
   ],
   "source": [
    "next(i)"
   ]
  },
  {
   "cell_type": "code",
   "execution_count": 92,
   "id": "7500c59b",
   "metadata": {},
   "outputs": [
    {
     "ename": "StopIteration",
     "evalue": "",
     "output_type": "error",
     "traceback": [
      "\u001b[0;31m---------------------------------------------------------------------------\u001b[0m",
      "\u001b[0;31mStopIteration\u001b[0m                             Traceback (most recent call last)",
      "Input \u001b[0;32mIn [92]\u001b[0m, in \u001b[0;36m<cell line: 1>\u001b[0;34m()\u001b[0m\n\u001b[0;32m----> 1\u001b[0m \u001b[38;5;28;43mnext\u001b[39;49m\u001b[43m(\u001b[49m\u001b[43mi\u001b[49m\u001b[43m)\u001b[49m\n",
      "\u001b[0;31mStopIteration\u001b[0m: "
     ]
    }
   ],
   "source": [
    "next(i)"
   ]
  },
  {
   "cell_type": "code",
   "execution_count": 93,
   "id": "10d49f33",
   "metadata": {},
   "outputs": [
    {
     "ename": "TypeError",
     "evalue": "'int' object is not iterable",
     "output_type": "error",
     "traceback": [
      "\u001b[0;31m---------------------------------------------------------------------------\u001b[0m",
      "\u001b[0;31mTypeError\u001b[0m                                 Traceback (most recent call last)",
      "Input \u001b[0;32mIn [93]\u001b[0m, in \u001b[0;36m<cell line: 1>\u001b[0;34m()\u001b[0m\n\u001b[0;32m----> 1\u001b[0m \u001b[38;5;28;43miter\u001b[39;49m\u001b[43m(\u001b[49m\u001b[38;5;241;43m5\u001b[39;49m\u001b[43m)\u001b[49m\n",
      "\u001b[0;31mTypeError\u001b[0m: 'int' object is not iterable"
     ]
    }
   ],
   "source": [
    "\n",
    "iter(5)"
   ]
  },
  {
   "cell_type": "code",
   "execution_count": 94,
   "id": "5eac74db",
   "metadata": {},
   "outputs": [
    {
     "ename": "TypeError",
     "evalue": "'int' object is not iterable",
     "output_type": "error",
     "traceback": [
      "\u001b[0;31m---------------------------------------------------------------------------\u001b[0m",
      "\u001b[0;31mTypeError\u001b[0m                                 Traceback (most recent call last)",
      "Input \u001b[0;32mIn [94]\u001b[0m, in \u001b[0;36m<cell line: 1>\u001b[0;34m()\u001b[0m\n\u001b[0;32m----> 1\u001b[0m \u001b[38;5;28;01mfor\u001b[39;00m i \u001b[38;5;129;01min\u001b[39;00m \u001b[38;5;241m5\u001b[39m:\n\u001b[1;32m      2\u001b[0m     \u001b[38;5;28mprint\u001b[39m(i)\n",
      "\u001b[0;31mTypeError\u001b[0m: 'int' object is not iterable"
     ]
    }
   ],
   "source": [
    "for i in 5:\n",
    "    print(i)"
   ]
  },
  {
   "cell_type": "code",
   "execution_count": 99,
   "id": "59f1ec28",
   "metadata": {},
   "outputs": [
    {
     "name": "stdout",
     "output_type": "stream",
     "text": [
      "\tNow in MyData.__init__, data='abcd'\n",
      "\tNow in MyData.__iter__, vars(self)={'data': 'abcd', 'index': 0}\n",
      "\tNow in MyData.__next__, vars(self)={'data': 'abcd', 'index': 0}\n",
      "\tIn MyData.__next__, about to return value='a'\n",
      "a\n",
      "\tNow in MyData.__next__, vars(self)={'data': 'abcd', 'index': 1}\n",
      "\tIn MyData.__next__, about to return value='b'\n",
      "b\n",
      "\tNow in MyData.__next__, vars(self)={'data': 'abcd', 'index': 2}\n",
      "\tIn MyData.__next__, about to return value='c'\n",
      "c\n",
      "\tNow in MyData.__next__, vars(self)={'data': 'abcd', 'index': 3}\n",
      "\tIn MyData.__next__, about to return value='d'\n",
      "d\n",
      "\tNow in MyData.__next__, vars(self)={'data': 'abcd', 'index': 4}\n",
      "\tRaising StopIteration\n"
     ]
    }
   ],
   "source": [
    "class MyData:\n",
    "    def __init__(self, data):\n",
    "        print(f'\\tNow in MyData.__init__, {data=}')\n",
    "        self.data = data\n",
    "        self.index = 0\n",
    "        \n",
    "    def __iter__(self):    # this is what the \"iter\" function runs\n",
    "        print(f'\\tNow in MyData.__iter__, {vars(self)=}')\n",
    "        return self\n",
    "    \n",
    "    def __next__(self):    # run by \"next\"\n",
    "        print(f'\\tNow in MyData.__next__, {vars(self)=}')\n",
    "\n",
    "        if self.index >= len(self.data):\n",
    "            print(f'\\tRaising StopIteration')\n",
    "            raise StopIteration\n",
    "            \n",
    "        value = self.data[self.index]\n",
    "        self.index += 1\n",
    "        print(f'\\tIn MyData.__next__, about to return {value=}')\n",
    "        return value\n",
    "        \n",
    "\n",
    "m = MyData('abcd')\n",
    "\n",
    "for one_item in m:\n",
    "    print(one_item)"
   ]
  },
  {
   "cell_type": "markdown",
   "id": "c9977b83",
   "metadata": {},
   "source": [
    "# Exercise: Circle\n",
    "\n",
    "1. Define `Circle`, a class that takes two arguments\n",
    "    - Sequence (string, list, tuple)\n",
    "    - Integer (number of times we'll iterate)\n",
    "2. If we iterate over the object, get to the end of the data, and still haven't returned the right number, we return to the start\n",
    "\n",
    "\n",
    "```python\n",
    "c = Circle('abcd', 7)  # two arguments -- a sequence and an integer\n",
    "\n",
    "for one_item in c:\n",
    "    print(one_item)   # a b c d a b c\n",
    "```"
   ]
  },
  {
   "cell_type": "code",
   "execution_count": 102,
   "id": "76cf946d",
   "metadata": {},
   "outputs": [
    {
     "name": "stdout",
     "output_type": "stream",
     "text": [
      "a\n",
      "b\n",
      "c\n",
      "d\n",
      "a\n",
      "b\n",
      "c\n"
     ]
    }
   ],
   "source": [
    "class Circle:\n",
    "    def __init__(self, data, maxtimes):\n",
    "        self.data = data\n",
    "        self.maxtimes = maxtimes\n",
    "        self.index = 0\n",
    "        \n",
    "    def __iter__(self):\n",
    "        return self\n",
    "    \n",
    "    def __next__(self):\n",
    "        if self.index >= self.maxtimes:\n",
    "            raise StopIteration\n",
    "            \n",
    "        value = self.data[self.index % len(self.data)]\n",
    "        self.index += 1\n",
    "        return value\n",
    "\n",
    "c = Circle('abcd', 7)  # two arguments -- a sequence and an integer\n",
    "\n",
    "for one_item in c:\n",
    "    print(one_item)   # a b c d a b c\n"
   ]
  },
  {
   "cell_type": "code",
   "execution_count": 103,
   "id": "1eef5fdc",
   "metadata": {},
   "outputs": [
    {
     "name": "stdout",
     "output_type": "stream",
     "text": [
      "** First\n",
      "a\n",
      "b\n",
      "c\n",
      "d\n",
      "a\n",
      "b\n",
      "c\n",
      "** Second\n"
     ]
    }
   ],
   "source": [
    "# what about this, when we try to iterate twice?\n",
    "\n",
    "class Circle:\n",
    "    def __init__(self, data, maxtimes):\n",
    "        self.data = data\n",
    "        self.maxtimes = maxtimes\n",
    "        self.index = 0\n",
    "        \n",
    "    def __iter__(self):\n",
    "        return self\n",
    "    \n",
    "    def __next__(self):\n",
    "        if self.index >= self.maxtimes:\n",
    "            raise StopIteration\n",
    "            \n",
    "        value = self.data[self.index % len(self.data)]\n",
    "        self.index += 1\n",
    "        return value\n",
    "\n",
    "c = Circle('abcd', 7)  # two arguments -- a sequence and an integer\n",
    "\n",
    "print('** First')\n",
    "for one_item in c:\n",
    "    print(one_item)   # a b c d a b c\n",
    "\n",
    "print('** Second')\n",
    "for one_item in c:\n",
    "    print(one_item)   # a b c d a b c\n",
    "    "
   ]
  },
  {
   "cell_type": "code",
   "execution_count": 104,
   "id": "e769c541",
   "metadata": {},
   "outputs": [],
   "source": [
    "s = 'abcd'\n",
    "i1 = iter(s)\n",
    "i2 = iter(s)"
   ]
  },
  {
   "cell_type": "code",
   "execution_count": 105,
   "id": "b2d06fd9",
   "metadata": {},
   "outputs": [
    {
     "data": {
      "text/plain": [
       "'a'"
      ]
     },
     "execution_count": 105,
     "metadata": {},
     "output_type": "execute_result"
    }
   ],
   "source": [
    "next(i1)"
   ]
  },
  {
   "cell_type": "code",
   "execution_count": 106,
   "id": "c7be7a4d",
   "metadata": {},
   "outputs": [
    {
     "data": {
      "text/plain": [
       "'b'"
      ]
     },
     "execution_count": 106,
     "metadata": {},
     "output_type": "execute_result"
    }
   ],
   "source": [
    "next(i1)"
   ]
  },
  {
   "cell_type": "code",
   "execution_count": 107,
   "id": "2b0fa086",
   "metadata": {},
   "outputs": [
    {
     "data": {
      "text/plain": [
       "'c'"
      ]
     },
     "execution_count": 107,
     "metadata": {},
     "output_type": "execute_result"
    }
   ],
   "source": [
    "next(i1)"
   ]
  },
  {
   "cell_type": "code",
   "execution_count": 108,
   "id": "c356bfb2",
   "metadata": {},
   "outputs": [
    {
     "data": {
      "text/plain": [
       "'a'"
      ]
     },
     "execution_count": 108,
     "metadata": {},
     "output_type": "execute_result"
    }
   ],
   "source": [
    "next(i2)"
   ]
  },
  {
   "cell_type": "code",
   "execution_count": 109,
   "id": "032d9f80",
   "metadata": {},
   "outputs": [
    {
     "name": "stdout",
     "output_type": "stream",
     "text": [
      "** First\n",
      "a\n",
      "b\n",
      "c\n",
      "d\n",
      "a\n",
      "b\n",
      "c\n",
      "** Second\n",
      "a\n",
      "b\n",
      "c\n",
      "d\n",
      "a\n",
      "b\n",
      "c\n"
     ]
    }
   ],
   "source": [
    "# Let's use another class as our iterator\n",
    "\n",
    "class CircleIterator:\n",
    "    def __init__(self, data, maxtimes):\n",
    "        self.data = data\n",
    "        self.maxtimes = maxtimes\n",
    "        self.index = 0\n",
    "\n",
    "    def __next__(self):\n",
    "        if self.index >= self.maxtimes:\n",
    "            raise StopIteration\n",
    "            \n",
    "        value = self.data[self.index % len(self.data)]\n",
    "        self.index += 1\n",
    "        return value\n",
    "\n",
    "class Circle:\n",
    "    def __init__(self, data, maxtimes):\n",
    "        self.data = data\n",
    "        self.maxtimes = maxtimes\n",
    "        \n",
    "    def __iter__(self):\n",
    "        return CircleIterator(self.data, self.maxtimes)\n",
    "\n",
    "c = Circle('abcd', 7)  # two arguments -- a sequence and an integer\n",
    "\n",
    "print('** First')\n",
    "for one_item in c:\n",
    "    print(one_item)   # a b c d a b c\n",
    "\n",
    "print('** Second')\n",
    "for one_item in c:\n",
    "    print(one_item)   # a b c d a b c\n",
    "    "
   ]
  },
  {
   "cell_type": "code",
   "execution_count": null,
   "id": "76450176",
   "metadata": {},
   "outputs": [],
   "source": []
  }
 ],
 "metadata": {
  "kernelspec": {
   "display_name": "Python 3 (ipykernel)",
   "language": "python",
   "name": "python3"
  },
  "language_info": {
   "codemirror_mode": {
    "name": "ipython",
    "version": 3
   },
   "file_extension": ".py",
   "mimetype": "text/x-python",
   "name": "python",
   "nbconvert_exporter": "python",
   "pygments_lexer": "ipython3",
   "version": "3.10.6"
  }
 },
 "nbformat": 4,
 "nbformat_minor": 5
}
