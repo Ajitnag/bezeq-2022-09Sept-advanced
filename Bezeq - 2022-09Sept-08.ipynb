{
 "cells": [
  {
   "cell_type": "markdown",
   "id": "30da9f45",
   "metadata": {},
   "source": [
    "# Agenda\n",
    "\n",
    "- Attributes (ICPO)\n",
    "- Magic methods\n",
    "- Context managers\n",
    "- Iterators\n",
    "- Generators\n",
    "- Decorators \n",
    "- signals"
   ]
  },
  {
   "cell_type": "code",
   "execution_count": 1,
   "id": "37cedff9",
   "metadata": {},
   "outputs": [
    {
     "name": "stdout",
     "output_type": "stream",
     "text": [
      "Hello, name1!\n",
      "Hello, name2!\n"
     ]
    }
   ],
   "source": [
    "class Person:\n",
    "    def __init__(self, name):\n",
    "        self.name = name\n",
    "        \n",
    "    def greet(self):\n",
    "        return f'Hello, {self.name}!'\n",
    "    \n",
    "p1 = Person('name1')    \n",
    "p2 = Person('name2')\n",
    "\n",
    "print(p1.greet())\n",
    "print(p2.greet())"
   ]
  },
  {
   "cell_type": "code",
   "execution_count": 2,
   "id": "909c9772",
   "metadata": {},
   "outputs": [
    {
     "data": {
      "text/plain": [
       "__main__.Person"
      ]
     },
     "execution_count": 2,
     "metadata": {},
     "output_type": "execute_result"
    }
   ],
   "source": [
    "type(p1)"
   ]
  },
  {
   "cell_type": "code",
   "execution_count": 3,
   "id": "0b1a8213",
   "metadata": {},
   "outputs": [
    {
     "data": {
      "text/plain": [
       "__main__.Person"
      ]
     },
     "execution_count": 3,
     "metadata": {},
     "output_type": "execute_result"
    }
   ],
   "source": [
    "type(p2)"
   ]
  },
  {
   "cell_type": "code",
   "execution_count": 5,
   "id": "63c13184",
   "metadata": {},
   "outputs": [
    {
     "name": "stdout",
     "output_type": "stream",
     "text": [
      "Before, population = 0\n",
      "After, population = 2\n",
      "Hello, name1!\n",
      "Hello, name2!\n"
     ]
    }
   ],
   "source": [
    "# how many people have we created?\n",
    "# option 1: global variable\n",
    "\n",
    "population = 0\n",
    "\n",
    "class Person:\n",
    "    def __init__(self, name):\n",
    "        global population\n",
    "        self.name = name\n",
    "        population += 1\n",
    "        \n",
    "    def greet(self):\n",
    "        return f'Hello, {self.name}!'\n",
    "    \n",
    "print(f'Before, population = {population}')\n",
    "p1 = Person('name1')    \n",
    "p2 = Person('name2')\n",
    "print(f'After, population = {population}')\n",
    "\n",
    "print(p1.greet())\n",
    "print(p2.greet())"
   ]
  },
  {
   "cell_type": "code",
   "execution_count": 6,
   "id": "0a2b4e3a",
   "metadata": {},
   "outputs": [
    {
     "name": "stdout",
     "output_type": "stream",
     "text": [
      "Before, population = 0\n",
      "After, population = 2\n",
      "Hello, name1!\n",
      "Hello, name2!\n"
     ]
    }
   ],
   "source": [
    "# how many people have we created?\n",
    "# option 2: class attribute\n",
    "\n",
    "class Person:\n",
    "    def __init__(self, name):\n",
    "        self.name = name\n",
    "        Person.population += 1\n",
    "        \n",
    "    def greet(self):\n",
    "        return f'Hello, {self.name}!'\n",
    "    \n",
    "Person.population = 0\n",
    "\n",
    "print(f'Before, population = {Person.population}')\n",
    "p1 = Person('name1')    \n",
    "p2 = Person('name2')\n",
    "print(f'After, population = {Person.population}')\n",
    "\n",
    "print(p1.greet())\n",
    "print(p2.greet())"
   ]
  },
  {
   "cell_type": "code",
   "execution_count": 7,
   "id": "daa19e1d",
   "metadata": {},
   "outputs": [
    {
     "name": "stdout",
     "output_type": "stream",
     "text": [
      "A\n",
      "B\n",
      "D\n",
      "E\n",
      "C\n",
      "C\n"
     ]
    }
   ],
   "source": [
    "print('A')\n",
    "class MyClass:\n",
    "    print('B')\n",
    "    def __init__(self, x):\n",
    "        print('C')\n",
    "        self.x = x\n",
    "    print('D')\n",
    "print('E')\n",
    "        \n",
    "m1 = MyClass(10)        \n",
    "m2 = MyClass(20)"
   ]
  },
  {
   "cell_type": "code",
   "execution_count": 3,
   "id": "c11d7d2d",
   "metadata": {},
   "outputs": [
    {
     "name": "stdout",
     "output_type": "stream",
     "text": [
      "Before, population = 0\n",
      "After, population = 2\n",
      "After, p1.population = 2\n",
      "After, p2.population = 2\n",
      "Hello, name1!\n",
      "Hello, name2!\n"
     ]
    }
   ],
   "source": [
    "# how many people have we created?\n",
    "# option 3: class attribute, defined in the class\n",
    "\n",
    "class Person:\n",
    "    population = 0   # defining Person.population a class attribute\n",
    "\n",
    "    def __init__(self, name):\n",
    "        self.name = name\n",
    "        Person.population += 1\n",
    "        \n",
    "    def greet(self):\n",
    "        return f'Hello, {self.name}!'\n",
    "    \n",
    "\n",
    "print(f'Before, population = {Person.population}')\n",
    "p1 = Person('name1')    \n",
    "p2 = Person('name2')\n",
    "print(f'After, population = {Person.population}')\n",
    "print(f'After, p1.population = {p1.population}')\n",
    "print(f'After, p2.population = {p2.population}')\n",
    "\n",
    "print(p1.greet()) \n",
    "print(p2.greet())"
   ]
  },
  {
   "cell_type": "markdown",
   "id": "52050051",
   "metadata": {},
   "source": [
    "# Attribute search in Python\n",
    "\n",
    "- I  -- instance\n",
    "- C -- class\n",
    "- P  -- parent(s)\n",
    "- O -- `object`"
   ]
  },
  {
   "cell_type": "code",
   "execution_count": 4,
   "id": "62f5aa13",
   "metadata": {},
   "outputs": [
    {
     "data": {
      "text/plain": [
       "'abcd'"
      ]
     },
     "execution_count": 4,
     "metadata": {},
     "output_type": "execute_result"
    }
   ],
   "source": [
    "s = 'aBcD'\n",
    "\n",
    "s.lower()"
   ]
  },
  {
   "cell_type": "code",
   "execution_count": 5,
   "id": "dee94889",
   "metadata": {},
   "outputs": [
    {
     "data": {
      "text/plain": [
       "'ABCD'"
      ]
     },
     "execution_count": 5,
     "metadata": {},
     "output_type": "execute_result"
    }
   ],
   "source": [
    "s.upper()  # --> str.upper(s)"
   ]
  },
  {
   "cell_type": "code",
   "execution_count": 6,
   "id": "e2c85a67",
   "metadata": {},
   "outputs": [
    {
     "data": {
      "text/plain": [
       "'abcd'"
      ]
     },
     "execution_count": 6,
     "metadata": {},
     "output_type": "execute_result"
    }
   ],
   "source": [
    "str.lower(s)"
   ]
  },
  {
   "cell_type": "code",
   "execution_count": 7,
   "id": "f7381e5b",
   "metadata": {},
   "outputs": [
    {
     "data": {
      "text/plain": [
       "'ABCD'"
      ]
     },
     "execution_count": 7,
     "metadata": {},
     "output_type": "execute_result"
    }
   ],
   "source": [
    "str.upper(s)"
   ]
  },
  {
   "cell_type": "code",
   "execution_count": 8,
   "id": "b6003d46",
   "metadata": {},
   "outputs": [
    {
     "name": "stdout",
     "output_type": "stream",
     "text": [
      "Before, population = 0\n",
      "After, population = 0\n",
      "After, p1.population = 1\n",
      "After, p2.population = 1\n",
      "Hello, name1!\n",
      "Hello, name2!\n"
     ]
    }
   ],
   "source": [
    "# what if I do this?\n",
    "\n",
    "class Person:\n",
    "    population = 0  \n",
    "\n",
    "    def __init__(self, name):\n",
    "        self.name = name\n",
    "        # self.population += 1    # will this work? What will happen?\n",
    "        self.population = self.population + 1\n",
    "    def greet(self):\n",
    "        return f'Hello, {self.name}!'\n",
    "    \n",
    "\n",
    "print(f'Before, population = {Person.population}')\n",
    "p1 = Person('name1')    \n",
    "p2 = Person('name2')\n",
    "print(f'After, population = {Person.population}')\n",
    "print(f'After, p1.population = {p1.population}')\n",
    "print(f'After, p2.population = {p2.population}')\n",
    "\n",
    "print(p1.greet()) \n",
    "print(p2.greet())"
   ]
  },
  {
   "cell_type": "markdown",
   "id": "202a0547",
   "metadata": {},
   "source": [
    "# Class attributes\n",
    "\n",
    "You can read class attributes from either the class, or from the instance.  \n",
    "\n",
    "Write class attributes *only* via the class.  (Or else!)"
   ]
  },
  {
   "cell_type": "markdown",
   "id": "79d021b6",
   "metadata": {},
   "source": [
    "# Inheritance"
   ]
  },
  {
   "cell_type": "code",
   "execution_count": 11,
   "id": "2fa78590",
   "metadata": {},
   "outputs": [
    {
     "name": "stdout",
     "output_type": "stream",
     "text": [
      "Hello, name1!\n",
      "Hello, name2!\n",
      "Hello, emp1!\n",
      "Hello, emp2!\n"
     ]
    }
   ],
   "source": [
    "class Person:\n",
    "    def __init__(self, name):\n",
    "        self.name = name\n",
    "    def greet(self):\n",
    "        return f'Hello, {self.name}!'\n",
    "    \n",
    "\n",
    "p1 = Person('name1')    \n",
    "p2 = Person('name2')\n",
    "\n",
    "print(p1.greet()) \n",
    "print(p2.greet())\n",
    "\n",
    "class Employee(Person):\n",
    "    def __init__(self, name, id_number):\n",
    "        self.name = name\n",
    "        self.id_number = id_number\n",
    "    def greet(self):\n",
    "        return f'Hello, {self.name}!'\n",
    "    \n",
    "e1 = Employee('emp1', 1)    \n",
    "e2 = Employee('emp2', 2)\n",
    "\n",
    "print(e1.greet()) # does e1 have greet? NO. Does Employee have greet? YES.\n",
    "print(e2.greet()) # \"\" e2 \"\""
   ]
  },
  {
   "cell_type": "code",
   "execution_count": 13,
   "id": "043ee3dd",
   "metadata": {},
   "outputs": [
    {
     "name": "stdout",
     "output_type": "stream",
     "text": [
      "Hello, name1!\n",
      "Hello, name2!\n",
      "Hello, emp1!\n",
      "Hello, emp2!\n"
     ]
    }
   ],
   "source": [
    "# let's remove Employee.greet.  Will things now work?\n",
    "\n",
    "class Person:\n",
    "    def __init__(self, name):\n",
    "        self.name = name\n",
    "    def greet(self):\n",
    "        return f'Hello, {self.name}!'\n",
    "    \n",
    "\n",
    "p1 = Person('name1')    \n",
    "p2 = Person('name2')\n",
    "\n",
    "print(p1.greet()) \n",
    "print(p2.greet())\n",
    "\n",
    "class Employee(Person):\n",
    "    def __init__(self, name, id_number):\n",
    "        self.name = name\n",
    "        self.id_number = id_number\n",
    "    \n",
    "e1 = Employee('emp1', 1)    \n",
    "e2 = Employee('emp2', 2)\n",
    "\n",
    "print(e1.greet()) \n",
    "print(e2.greet()) "
   ]
  },
  {
   "cell_type": "code",
   "execution_count": 20,
   "id": "3eac81bf",
   "metadata": {},
   "outputs": [
    {
     "name": "stdout",
     "output_type": "stream",
     "text": [
      "Hello, name1!\n",
      "Hello, name2!\n",
      "Hello, emp1!\n",
      "Hello, emp2!\n"
     ]
    }
   ],
   "source": [
    "# let's remove the assignment to name from Employee\n",
    "\n",
    "class Person:\n",
    "    def __init__(self, name):\n",
    "        self.name = name\n",
    "    def greet(self):\n",
    "        return f'Hello, {self.name}!'\n",
    "    \n",
    "\n",
    "p1 = Person('name1')    \n",
    "p2 = Person('name2')\n",
    "\n",
    "print(p1.greet()) \n",
    "print(p2.greet())\n",
    "\n",
    "class Employee(Person):\n",
    "    def __init__(self, name, id_number):\n",
    "        # Person.__init__(self, name)\n",
    "        super().__init__(name)   # better than calling Person.__init__\n",
    "        self.id_number = id_number\n",
    "    \n",
    "e1 = Employee('emp1', 1) # e1.__init__? No. Employee.__init__? YES   \n",
    "e2 = Employee('emp2', 2) \n",
    "\n",
    "print(e1.greet())   # e1.greet? NO. Employee.greet? NO. Person.greet? YES\n",
    "print(e2.greet()) "
   ]
  },
  {
   "cell_type": "code",
   "execution_count": 15,
   "id": "80f08076",
   "metadata": {},
   "outputs": [
    {
     "data": {
      "text/plain": [
       "{'name': 'name1'}"
      ]
     },
     "execution_count": 15,
     "metadata": {},
     "output_type": "execute_result"
    }
   ],
   "source": [
    "vars(p1)"
   ]
  },
  {
   "cell_type": "code",
   "execution_count": 16,
   "id": "2646054d",
   "metadata": {},
   "outputs": [
    {
     "data": {
      "text/plain": [
       "{'name': 'name2'}"
      ]
     },
     "execution_count": 16,
     "metadata": {},
     "output_type": "execute_result"
    }
   ],
   "source": [
    "vars(p2)"
   ]
  },
  {
   "cell_type": "code",
   "execution_count": 17,
   "id": "2f571a22",
   "metadata": {},
   "outputs": [
    {
     "data": {
      "text/plain": [
       "{'id_number': 1}"
      ]
     },
     "execution_count": 17,
     "metadata": {},
     "output_type": "execute_result"
    }
   ],
   "source": [
    "vars(e1)"
   ]
  },
  {
   "cell_type": "code",
   "execution_count": 18,
   "id": "af5e5ae0",
   "metadata": {},
   "outputs": [
    {
     "data": {
      "text/plain": [
       "{'id_number': 2}"
      ]
     },
     "execution_count": 18,
     "metadata": {},
     "output_type": "execute_result"
    }
   ],
   "source": [
    "vars(e2)"
   ]
  },
  {
   "cell_type": "code",
   "execution_count": 21,
   "id": "0da068ba",
   "metadata": {},
   "outputs": [],
   "source": [
    "def hello():\n",
    "    return 'Hi!'\n",
    "\n",
    "def hello(name):\n",
    "    return f'Hello, {name}!'\n",
    "\n",
    "def hello(first, last):\n",
    "    return f'Hello, {first} {last}'"
   ]
  },
  {
   "cell_type": "code",
   "execution_count": 22,
   "id": "e1f07357",
   "metadata": {},
   "outputs": [
    {
     "ename": "TypeError",
     "evalue": "hello() missing 2 required positional arguments: 'first' and 'last'",
     "output_type": "error",
     "traceback": [
      "\u001b[0;31m---------------------------------------------------------------------------\u001b[0m",
      "\u001b[0;31mTypeError\u001b[0m                                 Traceback (most recent call last)",
      "Input \u001b[0;32mIn [22]\u001b[0m, in \u001b[0;36m<cell line: 1>\u001b[0;34m()\u001b[0m\n\u001b[0;32m----> 1\u001b[0m \u001b[43mhello\u001b[49m\u001b[43m(\u001b[49m\u001b[43m)\u001b[49m\n",
      "\u001b[0;31mTypeError\u001b[0m: hello() missing 2 required positional arguments: 'first' and 'last'"
     ]
    }
   ],
   "source": [
    "hello()"
   ]
  },
  {
   "cell_type": "code",
   "execution_count": 23,
   "id": "71dd253f",
   "metadata": {},
   "outputs": [
    {
     "ename": "TypeError",
     "evalue": "hello() missing 1 required positional argument: 'last'",
     "output_type": "error",
     "traceback": [
      "\u001b[0;31m---------------------------------------------------------------------------\u001b[0m",
      "\u001b[0;31mTypeError\u001b[0m                                 Traceback (most recent call last)",
      "Input \u001b[0;32mIn [23]\u001b[0m, in \u001b[0;36m<cell line: 1>\u001b[0;34m()\u001b[0m\n\u001b[0;32m----> 1\u001b[0m \u001b[43mhello\u001b[49m\u001b[43m(\u001b[49m\u001b[38;5;124;43m'\u001b[39;49m\u001b[38;5;124;43mworld\u001b[39;49m\u001b[38;5;124;43m'\u001b[39;49m\u001b[43m)\u001b[49m\n",
      "\u001b[0;31mTypeError\u001b[0m: hello() missing 1 required positional argument: 'last'"
     ]
    }
   ],
   "source": [
    "hello('world')"
   ]
  },
  {
   "cell_type": "code",
   "execution_count": 24,
   "id": "3ab0a09b",
   "metadata": {},
   "outputs": [],
   "source": [
    "hello = 5"
   ]
  },
  {
   "cell_type": "code",
   "execution_count": 25,
   "id": "ce7ab6a7",
   "metadata": {},
   "outputs": [
    {
     "ename": "TypeError",
     "evalue": "'int' object is not callable",
     "output_type": "error",
     "traceback": [
      "\u001b[0;31m---------------------------------------------------------------------------\u001b[0m",
      "\u001b[0;31mTypeError\u001b[0m                                 Traceback (most recent call last)",
      "Input \u001b[0;32mIn [25]\u001b[0m, in \u001b[0;36m<cell line: 1>\u001b[0;34m()\u001b[0m\n\u001b[0;32m----> 1\u001b[0m \u001b[43mhello\u001b[49m\u001b[43m(\u001b[49m\u001b[38;5;124;43m'\u001b[39;49m\u001b[38;5;124;43mworld\u001b[39;49m\u001b[38;5;124;43m'\u001b[39;49m\u001b[43m)\u001b[49m\n",
      "\u001b[0;31mTypeError\u001b[0m: 'int' object is not callable"
     ]
    }
   ],
   "source": [
    "hello('world')"
   ]
  },
  {
   "cell_type": "code",
   "execution_count": 26,
   "id": "e405a3d3",
   "metadata": {},
   "outputs": [
    {
     "data": {
      "text/plain": [
       "['chocolate', 'vanilla', 'coffee']"
      ]
     },
     "execution_count": 26,
     "metadata": {},
     "output_type": "execute_result"
    }
   ],
   "source": [
    "class Scoop:\n",
    "    def __init__(self, flavor):\n",
    "        self.flavor = flavor\n",
    "\n",
    "s1 = Scoop('chocolate')\n",
    "s2 = Scoop('vanilla')\n",
    "s3 = Scoop('coffee')\n",
    "\n",
    "class Bowl:\n",
    "    def __init__(self):\n",
    "        self.scoops = []  \n",
    "    def add_scoops(self, *args):  # args is a tuple with all scoops\n",
    "        self.scoops += args\n",
    "    def flavors(self):\n",
    "        return [one_scoop.flavor\n",
    "               for one_scoop in self.scoops]\n",
    "\n",
    "b = Bowl()\n",
    "b.add_scoops(s1, s2)\n",
    "b.add_scoops(s3)\n",
    "b.flavors()"
   ]
  },
  {
   "cell_type": "markdown",
   "id": "e61cee89",
   "metadata": {},
   "source": [
    "# Exercise: Limited-size bowls\n",
    "\n",
    "1. "
   ]
  }
 ],
 "metadata": {
  "kernelspec": {
   "display_name": "Python 3 (ipykernel)",
   "language": "python",
   "name": "python3"
  },
  "language_info": {
   "codemirror_mode": {
    "name": "ipython",
    "version": 3
   },
   "file_extension": ".py",
   "mimetype": "text/x-python",
   "name": "python",
   "nbconvert_exporter": "python",
   "pygments_lexer": "ipython3",
   "version": "3.10.6"
  }
 },
 "nbformat": 4,
 "nbformat_minor": 5
}
